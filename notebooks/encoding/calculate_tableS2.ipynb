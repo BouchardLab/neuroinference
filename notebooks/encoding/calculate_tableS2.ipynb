{
 "cells": [
  {
   "cell_type": "markdown",
   "metadata": {
    "heading_collapsed": true
   },
   "source": [
    "# Supplementary Table S2"
   ]
  },
  {
   "cell_type": "code",
   "execution_count": 1,
   "metadata": {
    "hidden": true
   },
   "outputs": [],
   "source": [
    "import h5py\n",
    "import matplotlib\n",
    "import matplotlib.pyplot as plt\n",
    "import numpy as np\n",
    "import os\n",
    "import scipy.stats as ss\n",
    "\n",
    "from uoineuro.utils import (calculate_selection_ratio,\n",
    "                            cohens_d)\n",
    "\n",
    "%matplotlib inline"
   ]
  },
  {
   "cell_type": "markdown",
   "metadata": {
    "heading_collapsed": true,
    "hidden": true
   },
   "source": [
    "## Read in data"
   ]
  },
  {
   "cell_type": "code",
   "execution_count": 2,
   "metadata": {
    "hidden": true
   },
   "outputs": [],
   "source": [
    "ret1_path = os.path.join(os.environ['HOME'], 'fits/uoineuro/tuning/ret1')\n",
    "ac_path = os.path.join(os.environ['HOME'], 'fits/uoineuro/tuning/ecog/ecog_tuning.h5')"
   ]
  },
  {
   "cell_type": "code",
   "execution_count": 3,
   "metadata": {
    "hidden": true
   },
   "outputs": [],
   "source": [
    "retinas = {\n",
    "    '20080516_R1': ['cell0_recording0',\n",
    "                    'cell0_recording2',\n",
    "                    'cell2_recording0',\n",
    "                    'cell3_recording0',\n",
    "                    'cell4_recording0',\n",
    "                    'cell5_recording0'],\n",
    "    '20080628_R4': ['cell0_recording0',\n",
    "                    'cell2_recording0',\n",
    "                    'cell3_recording0',\n",
    "                    'cell5_recording0',\n",
    "                    'cell6_recording0',\n",
    "                    'cell7_recording0',\n",
    "                    'cell9_recording0',\n",
    "                    'cell12_recording0',\n",
    "                    'cell13_recording0'],\n",
    "    '20080628_R6': ['cell1_recording0',\n",
    "                    'cell2_recording0',\n",
    "                    'cell4_recording0',\n",
    "                    'cell5_recording0',\n",
    "                    'cell6_recording0',\n",
    "                    'cell7_recording0',\n",
    "                    'cell8_recording0',\n",
    "                    'cell10_recording0']\n",
    "}"
   ]
  },
  {
   "cell_type": "code",
   "execution_count": 4,
   "metadata": {
    "hidden": true
   },
   "outputs": [],
   "source": [
    "ret_baseline_srs = []\n",
    "ret_uoi_srs = []\n",
    "ret_baseline_r2s = []\n",
    "ret_uoi_r2s = []\n",
    "ret_baseline_bics = []\n",
    "ret_uoi_bics = []\n",
    "\n",
    "# iterate over retina files\n",
    "for retina, recordings in retinas.items():\n",
    "    results = h5py.File(os.path.join(ret1_path, retina + '.h5'), 'r')\n",
    "    # iterate over recordings\n",
    "    for cell_recording in recordings:\n",
    "        # calculate selection ratios\n",
    "        lasso_strf = results[cell_recording]['lasso/strfs'][:]\n",
    "        ret_baseline_srs.append(np.count_nonzero(lasso_strf) / lasso_strf.size)\n",
    "        uoi_strf = results[cell_recording]['uoi_lasso_bic/strfs'][:]\n",
    "        ret_uoi_srs.append(np.count_nonzero(uoi_strf) / uoi_strf.size)\n",
    "\n",
    "        # extract predictive performance\n",
    "        ret_baseline_r2s.append(results[cell_recording]['lasso/r2s_test'][:].max())\n",
    "        ret_uoi_r2s.append(results[cell_recording]['uoi_lasso_bic/r2s_test'][:].max())\n",
    "\n",
    "        # extract model parsimony\n",
    "        ret_baseline_bics.append(results[cell_recording]['lasso/bics'][:].min())\n",
    "        ret_uoi_bics.append(results[cell_recording]['uoi_lasso_bic/bics'][:].min())\n",
    "\n",
    "    results.close()\n",
    "    \n",
    "ret_baseline_srs = np.array(ret_baseline_srs)\n",
    "ret_uoi_srs = np.array(ret_uoi_srs)\n",
    "ret_baseline_r2s = np.array(ret_baseline_r2s)\n",
    "ret_uoi_r2s = np.array(ret_uoi_r2s)\n",
    "ret_baseline_bics = np.array(ret_baseline_bics)\n",
    "ret_uoi_bics = np.array(ret_uoi_bics)"
   ]
  },
  {
   "cell_type": "code",
   "execution_count": 5,
   "metadata": {
    "hidden": true
   },
   "outputs": [],
   "source": [
    "ac_fits = h5py.File(ac_path, 'r')\n",
    "ac_baseline = ac_fits['lasso']\n",
    "ac_uoi = ac_fits['uoi_lasso_bic']\n",
    "ac_baseline_srs = np.mean(calculate_selection_ratio(ac_baseline['tuning_coefs']), axis=0)\n",
    "ac_baseline_r2s = np.mean(ac_baseline['r2'], axis=0)\n",
    "ac_baseline_bics = np.mean(ac_baseline['BIC'], axis=0)\n",
    "ac_uoi_srs = np.mean(calculate_selection_ratio(ac_uoi['tuning_coefs']), axis=0)\n",
    "ac_uoi_r2s = np.mean(ac_uoi['r2'], axis=0)\n",
    "ac_uoi_bics = np.mean(ac_uoi['BIC'], axis=0)"
   ]
  },
  {
   "cell_type": "markdown",
   "metadata": {
    "heading_collapsed": true,
    "hidden": true
   },
   "source": [
    "## Selection Ratios"
   ]
  },
  {
   "cell_type": "code",
   "execution_count": 6,
   "metadata": {
    "hidden": true
   },
   "outputs": [
    {
     "name": "stdout",
     "output_type": "stream",
     "text": [
      "Retina\n",
      "------\n",
      "Baseline: 0.084 +/- 0.020\n",
      "UoI: 0.017 +/- 0.004\n",
      "Reduction Factor:  4.984615384615386\n",
      "p-value:  1.3507974243552756e-05\n",
      "Cohen's d:  3.0511322004969212\n"
     ]
    }
   ],
   "source": [
    "print('Retina')\n",
    "print('------')\n",
    "baseline_median = np.median(ret_baseline_srs)\n",
    "uoi_median = np.median(ret_uoi_srs)\n",
    "\n",
    "print('Baseline: %0.3f +/- %0.3f' %(baseline_median, ss.iqr(ret_baseline_srs) / 2))\n",
    "print('UoI: %0.3f +/- %0.3f' %(uoi_median, ss.iqr(ret_uoi_srs) / 2))\n",
    "print('Reduction Factor: ', baseline_median / uoi_median)\n",
    "print('p-value: ', ss.wilcoxon(ret_baseline_srs, ret_uoi_srs, alternative='greater').pvalue)\n",
    "print(\"Cohen's d: \", cohens_d(ret_baseline_srs, ret_uoi_srs))"
   ]
  },
  {
   "cell_type": "code",
   "execution_count": 7,
   "metadata": {
    "hidden": true
   },
   "outputs": [
    {
     "name": "stdout",
     "output_type": "stream",
     "text": [
      "AC\n",
      "--\n",
      "Baseline: 0.625 +/- 0.114\n",
      "UoI: 0.250 +/- 0.116\n",
      "Reduction Factor:  2.5\n",
      "p-value:  6.825887996701619e-23\n",
      "Cohen's d:  2.1911714273881033\n"
     ]
    }
   ],
   "source": [
    "print('AC')\n",
    "print('--')\n",
    "baseline_median = np.median(ac_baseline_srs)\n",
    "uoi_median = np.median(ac_uoi_srs)\n",
    "\n",
    "print('Baseline: %0.3f +/- %0.3f' %(baseline_median, ss.iqr(ac_uoi_srs) / 2))\n",
    "print('UoI: %0.3f +/- %0.3f' %(uoi_median, ss.iqr(ac_baseline_srs) / 2))\n",
    "print('Reduction Factor: ', baseline_median / uoi_median)\n",
    "print('p-value: ', ss.wilcoxon(ac_baseline_srs, ac_uoi_srs, alternative='greater').pvalue)\n",
    "print(\"Cohen's d: \", cohens_d(ac_baseline_srs, ac_uoi_srs))"
   ]
  },
  {
   "cell_type": "markdown",
   "metadata": {
    "heading_collapsed": true,
    "hidden": true
   },
   "source": [
    "## Predictive Performance"
   ]
  },
  {
   "cell_type": "code",
   "execution_count": 8,
   "metadata": {
    "hidden": true
   },
   "outputs": [
    {
     "name": "stdout",
     "output_type": "stream",
     "text": [
      "Retina\n",
      "------\n",
      "Baseline: 0.028 +/- 0.013\n",
      "UoI: 0.028 +/- 0.013\n",
      "Median Difference:  -0.0005507204601976623\n",
      "p-value:  0.0037196019658107394\n",
      "Cohen's d:  -0.04859165756986666\n"
     ]
    }
   ],
   "source": [
    "print('Retina')\n",
    "print('------')\n",
    "baseline_median = np.median(ret_baseline_r2s)\n",
    "uoi_median = np.median(ret_uoi_r2s)\n",
    "\n",
    "print('Baseline: %0.3f +/- %0.3f' %(baseline_median, ss.iqr(ret_baseline_r2s) / 2))\n",
    "print('UoI: %0.3f +/- %0.3f' %(uoi_median, ss.iqr(ret_uoi_r2s) / 2))\n",
    "print('Median Difference: ', np.median(baseline_median - uoi_median))\n",
    "print('p-value: ', ss.wilcoxon(ret_baseline_r2s, ret_uoi_r2s, alternative='less').pvalue)\n",
    "print(\"Cohen's d: \", cohens_d(ret_baseline_r2s, ret_uoi_r2s))"
   ]
  },
  {
   "cell_type": "code",
   "execution_count": 9,
   "metadata": {
    "hidden": true
   },
   "outputs": [
    {
     "name": "stdout",
     "output_type": "stream",
     "text": [
      "AC\n",
      "--\n",
      "Baseline: 0.042 +/- 0.034\n",
      "UoI: 0.041 +/- 0.033\n",
      "Median Delta:  0.00144526528523177\n",
      "p-value:  1.8001739881993552e-19\n",
      "Cohen's d:  0.04634772011377138\n"
     ]
    }
   ],
   "source": [
    "print('AC')\n",
    "print('--')\n",
    "baseline_median = np.median(ac_baseline_r2s)\n",
    "uoi_median = np.median(ac_uoi_r2s)\n",
    "\n",
    "print('Baseline: %0.3f +/- %0.3f' %(baseline_median, ss.iqr(ac_baseline_r2s) / 2))\n",
    "print('UoI: %0.3f +/- %0.3f' %(uoi_median, ss.iqr(ac_uoi_r2s) / 2))\n",
    "print('Median Delta: ', np.median(baseline_median - uoi_median))\n",
    "print('p-value: ', ss.wilcoxon(ac_baseline_r2s, ac_uoi_r2s, alternative='greater').pvalue)\n",
    "print(\"Cohen's d: \", cohens_d(ac_baseline_r2s, ac_uoi_r2s))"
   ]
  },
  {
   "cell_type": "markdown",
   "metadata": {
    "heading_collapsed": true,
    "hidden": true
   },
   "source": [
    "## Bayesian Information Criterion"
   ]
  },
  {
   "cell_type": "code",
   "execution_count": 10,
   "metadata": {
    "hidden": true
   },
   "outputs": [
    {
     "name": "stdout",
     "output_type": "stream",
     "text": [
      "Retina\n",
      "------\n",
      "Baseline: -1646606.843 +/- 44936.489\n",
      "UoI: -1647261.080 +/- 44857.249\n",
      "Median Delta:  654.237336314749\n"
     ]
    }
   ],
   "source": [
    "print('Retina')\n",
    "print('------')\n",
    "baseline_median = np.median(ret_baseline_bics)\n",
    "uoi_median = np.median(ret_uoi_bics)\n",
    "\n",
    "print('Baseline: %0.3f +/- %0.3f' %(baseline_median, ss.iqr(ret_baseline_bics) / 2))\n",
    "print('UoI: %0.3f +/- %0.3f' %(uoi_median, ss.iqr(ret_uoi_bics) / 2))\n",
    "print('Median Delta: ', np.median(baseline_median - uoi_median))"
   ]
  },
  {
   "cell_type": "code",
   "execution_count": 11,
   "metadata": {
    "hidden": true
   },
   "outputs": [
    {
     "name": "stdout",
     "output_type": "stream",
     "text": [
      "AC\n",
      "--\n",
      "Baseline: 4370.767 +/- 2495.118\n",
      "UoI: 4351.323 +/- 2493.153\n",
      "Median Delta:  19.444203214014124\n"
     ]
    }
   ],
   "source": [
    "print('AC')\n",
    "print('--')\n",
    "baseline_median = np.median(ac_baseline_bics)\n",
    "uoi_median = np.median(ac_uoi_bics)\n",
    "\n",
    "print('Baseline: %0.3f +/- %0.3f' %(baseline_median, ss.iqr(ac_baseline_bics) / 2))\n",
    "print('UoI: %0.3f +/- %0.3f' %(uoi_median, ss.iqr(ac_uoi_bics) / 2))\n",
    "print('Median Delta: ', np.median(baseline_median - uoi_median))"
   ]
  }
 ],
 "metadata": {
  "kernelspec": {
   "display_name": "neuro",
   "language": "python",
   "name": "neuro"
  },
  "language_info": {
   "codemirror_mode": {
    "name": "ipython",
    "version": 3
   },
   "file_extension": ".py",
   "mimetype": "text/x-python",
   "name": "python",
   "nbconvert_exporter": "python",
   "pygments_lexer": "ipython3",
   "version": "3.7.4"
  },
  "varInspector": {
   "cols": {
    "lenName": 16,
    "lenType": 16,
    "lenVar": 40
   },
   "kernels_config": {
    "python": {
     "delete_cmd_postfix": "",
     "delete_cmd_prefix": "del ",
     "library": "var_list.py",
     "varRefreshCmd": "print(var_dic_list())"
    },
    "r": {
     "delete_cmd_postfix": ") ",
     "delete_cmd_prefix": "rm(",
     "library": "var_list.r",
     "varRefreshCmd": "cat(var_dic_list()) "
    }
   },
   "types_to_exclude": [
    "module",
    "function",
    "builtin_function_or_method",
    "instance",
    "_Feature"
   ],
   "window_display": false
  }
 },
 "nbformat": 4,
 "nbformat_minor": 2
}
