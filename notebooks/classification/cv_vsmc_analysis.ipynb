{
 "cells": [
  {
   "cell_type": "code",
   "execution_count": 1,
   "metadata": {},
   "outputs": [],
   "source": [
    "import h5py\n",
    "import matplotlib.pyplot as plt\n",
    "import numpy as np\n",
    "import os\n",
    "\n",
    "from scipy.stats import iqr\n",
    "from scipy.stats import wilcoxon\n",
    "\n",
    "%matplotlib inline"
   ]
  },
  {
   "cell_type": "code",
   "execution_count": 2,
   "metadata": {},
   "outputs": [],
   "source": [
    "results_path = os.path.join(os.environ['HOME'], 'fits/uoineuro/classification/consonant_vowel_vsmc.h5')"
   ]
  },
  {
   "cell_type": "code",
   "execution_count": 3,
   "metadata": {},
   "outputs": [],
   "source": [
    "results = h5py.File(results_path, 'r')"
   ]
  },
  {
   "cell_type": "code",
   "execution_count": 4,
   "metadata": {},
   "outputs": [],
   "source": [
    "consonant = results['c_unshared_log_test']\n",
    "vowel = results['v_unshared_log_test']"
   ]
  },
  {
   "cell_type": "code",
   "execution_count": 6,
   "metadata": {},
   "outputs": [],
   "source": [
    "uoi_c_srs = consonant['uoi/srs'][:]\n",
    "uoi_v_srs = vowel['uoi/srs'][:]\n",
    "log_c_srs = consonant['logistic/srs'][:]\n",
    "log_v_srs = vowel['logistic/srs'][:]"
   ]
  },
  {
   "cell_type": "code",
   "execution_count": 7,
   "metadata": {},
   "outputs": [],
   "source": [
    "uoi_c_acc = consonant['uoi/scores'][:]\n",
    "uoi_v_acc = vowel['uoi/scores'][:]\n",
    "log_c_acc = consonant['logistic/scores'][:]\n",
    "log_v_acc = vowel['logistic/scores'][:]"
   ]
  },
  {
   "cell_type": "code",
   "execution_count": 17,
   "metadata": {},
   "outputs": [
    {
     "data": {
      "text/plain": [
       "WilcoxonResult(statistic=0.0, pvalue=0.005062032126267864)"
      ]
     },
     "execution_count": 17,
     "metadata": {},
     "output_type": "execute_result"
    }
   ],
   "source": [
    "wilcoxon(x=uoi_v_srs, y=log_v_srs, correction=False)"
   ]
  },
  {
   "cell_type": "code",
   "execution_count": 35,
   "metadata": {},
   "outputs": [
    {
     "data": {
      "image/png": "[encoded data removed]",
      "text/plain": [
       "<Figure size 864x360 with 2 Axes>"
      ]
     },
     "metadata": {
      "needs_background": "light"
     },
     "output_type": "display_data"
    }
   ],
   "source": [
    "fig, axes = plt.subplots(1, 2, figsize=(12, 5))\n",
    "\n",
    "# selection ratio plot\n",
    "axes[0].bar(\n",
    "    x=[0, 1, 2, 3],\n",
    "    height=[np.median(log_c_srs), np.median(uoi_c_srs), np.median(log_v_srs), np.median(uoi_v_srs)],\n",
    "    width=0.8,\n",
    "    color=['gray', 'red', 'gray', 'red'],\n",
    "    yerr=[iqr(log_c_srs) / 2., iqr(uoi_c_srs) / 2., iqr(log_v_srs) / 2., iqr(uoi_v_srs) / 2.],\n",
    "    error_kw={'capsize': 5, 'elinewidth': 2, 'capthick': 2}\n",
    ")\n",
    "\n",
    "# accuracy plot\n",
    "axes[1].bar(\n",
    "    x=[0, 1, 2, 3],\n",
    "    height=[np.median(log_c_acc), np.median(uoi_c_acc), np.median(log_v_acc), np.median(uoi_v_acc)],\n",
    "    width=0.8,\n",
    "    color=['gray', 'red', 'gray', 'red'],\n",
    "    yerr=[iqr(log_c_acc) / 2., iqr(uoi_c_acc) / 2., iqr(log_v_acc) / 2., iqr(uoi_v_acc) / 2.],\n",
    "    error_kw={'capsize': 5, 'elinewidth': 2, 'capthick': 2}\n",
    ")\n",
    "\n",
    "# chance\n",
    "axes[1].axhline(y=1./19, xmin=0, xmax=0.5, linestyle='--', color='k')\n",
    "axes[1].axhline(y=1./3, xmin=0.5, xmax=1, linestyle='--', color='k')\n",
    "\n",
    "# plot labels\n",
    "axes[0].set_ylabel(r'\\textbf{Selection Ratio}', fontsize=25)\n",
    "axes[1].set_ylabel(r'\\textbf{Accuracy}', fontsize=25)\n",
    "\n",
    "# cosmetic + legend\n",
    "for ax in axes:\n",
    "    # limits\n",
    "    ax.set_ylim([0, 1.0])\n",
    "    \n",
    "    # ticks\n",
    "    ax.set_xticks([0.5, 2.5])\n",
    "    ax.set_xticklabels([r'\\textbf{Consonant}', r'\\textbf{Vowel}'], fontsize=18)\n",
    "    ax.set_yticks([0, 0.25, 0.50, 0.75, 1.])\n",
    "    \n",
    "    # legend labels\n",
    "    ax.plot([], color='gray', label=r'\\textbf{L1-Logistic}')\n",
    "    ax.plot([], color='r', label=r'\\textbf{UoI}')\n",
    "    lgd = ax.legend(loc=2, prop={'size': 18},\n",
    "                    handletextpad=0.7,\n",
    "                    handlelength=1.3)\n",
    "    for line in lgd.get_lines():\n",
    "        line.set_linewidth(6.0)\n",
    "\n",
    "    # gridlines\n",
    "    ax.grid('on', axis='y')\n",
    "    ax.set_axisbelow(True)\n",
    "    \n",
    "    ax.tick_params(labelsize=18)\n",
    "    \n",
    "axes[1].axhline()\n",
    "\n",
    "plt.tight_layout()\n",
    "plt.savefig('vsmc_metrics.pdf', bbox_inches='tight')"
   ]
  },
  {
   "cell_type": "code",
   "execution_count": 33,
   "metadata": {},
   "outputs": [
    {
     "name": "stdout",
     "output_type": "stream",
     "text": [
      "Selection Ratio, Consonants: WilcoxonResult(statistic=5.0, pvalue=0.02182427562605354)\n",
      "Selection Ratio, Vowels: WilcoxonResult(statistic=0.0, pvalue=0.005062032126267864)\n",
      "Accuracy, Consonants: WilcoxonResult(statistic=23.0, pvalue=0.6464622026641696)\n",
      "Accuracy, Vowels: WilcoxonResult(statistic=21.0, pvalue=0.8587094295739482)\n"
     ]
    }
   ],
   "source": [
    "# statistical tests\n",
    "\n",
    "print('Selection Ratio, Consonants:', wilcoxon(x=log_c_srs, y=uoi_c_srs))\n",
    "print('Selection Ratio, Vowels:', wilcoxon(x=log_v_srs, y=uoi_v_srs))\n",
    "print('Accuracy, Consonants:', wilcoxon(x=log_c_acc, y=uoi_c_acc))\n",
    "print('Accuracy, Vowels:', wilcoxon(x=log_v_acc, y=uoi_v_acc))"
   ]
  },
  {
   "cell_type": "code",
   "execution_count": 36,
   "metadata": {},
   "outputs": [],
   "source": [
    "results.close()"
   ]
  }
 ],
 "metadata": {
  "kernelspec": {
   "display_name": "neuro",
   "language": "python",
   "name": "neuro"
  },
  "language_info": {
   "codemirror_mode": {
    "name": "ipython",
    "version": 3
   },
   "file_extension": ".py",
   "mimetype": "text/x-python",
   "name": "python",
   "nbconvert_exporter": "python",
   "pygments_lexer": "ipython3",
   "version": "3.7.5"
  },
  "varInspector": {
   "cols": {
    "lenName": 16,
    "lenType": 16,
    "lenVar": 40
   },
   "kernels_config": {
    "python": {
     "delete_cmd_postfix": "",
     "delete_cmd_prefix": "del ",
     "library": "var_list.py",
     "varRefreshCmd": "print(var_dic_list())"
    },
    "r": {
     "delete_cmd_postfix": ") ",
     "delete_cmd_prefix": "rm(",
     "library": "var_list.r",
     "varRefreshCmd": "cat(var_dic_list()) "
    }
   },
   "types_to_exclude": [
    "module",
    "function",
    "builtin_function_or_method",
    "instance",
    "_Feature"
   ],
   "window_display": false
  }
 },
 "nbformat": 4,
 "nbformat_minor": 2
}
