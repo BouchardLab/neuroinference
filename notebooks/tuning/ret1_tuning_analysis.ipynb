{
 "cells": [
  {
   "cell_type": "code",
   "execution_count": 1,
   "metadata": {},
   "outputs": [],
   "source": [
    "import h5py\n",
    "import matplotlib\n",
    "import matplotlib.pyplot as plt\n",
    "import numpy as np\n",
    "import os\n",
    "\n",
    "%matplotlib inline"
   ]
  },
  {
   "cell_type": "code",
   "execution_count": 2,
   "metadata": {},
   "outputs": [],
   "source": [
    "data_path = os.path.join(os.environ['HOME'],\n",
    "                         'fits/uoineuro/tuning/ret1/')"
   ]
  },
  {
   "cell_type": "markdown",
   "metadata": {
    "heading_collapsed": true
   },
   "source": [
    "# Plot Example STRF"
   ]
  },
  {
   "cell_type": "code",
   "execution_count": 3,
   "metadata": {
    "hidden": true
   },
   "outputs": [],
   "source": [
    "ret1 = '20080628_R4'"
   ]
  },
  {
   "cell_type": "code",
   "execution_count": 4,
   "metadata": {
    "hidden": true
   },
   "outputs": [],
   "source": [
    "results = h5py.File(data_path + ret1 + '.h5', 'r')"
   ]
  },
  {
   "cell_type": "code",
   "execution_count": 5,
   "metadata": {
    "hidden": true
   },
   "outputs": [],
   "source": [
    "cell = 2\n",
    "recording = 0\n",
    "cell_recording = results['cell' + str(cell) + '_recording' + str(recording)]"
   ]
  },
  {
   "cell_type": "code",
   "execution_count": 6,
   "metadata": {
    "hidden": true
   },
   "outputs": [
    {
     "data": {
      "image/png": "[encoded data removed]",
      "text/plain": [
       "<Figure size 288x288 with 3 Axes>"
      ]
     },
     "metadata": {
      "needs_background": "light"
     },
     "output_type": "display_data"
    }
   ],
   "source": [
    "fig, axes = plt.subplots(1, 2, figsize=(4, 4))\n",
    "\n",
    "lasso_strf = np.flip(cell_recording['lasso/strfs'][:].T,\n",
    "                     axis=(0, 1))\n",
    "uoi_strf = np.flip(cell_recording['uoi_lasso_bic/strfs'][:].T,\n",
    "                   axis=(0, 1))\n",
    "\n",
    "axes[0].imshow(\n",
    "    lasso_strf,\n",
    "    cmap=plt.get_cmap('RdGy'),\n",
    "    vmin=-1e-06, vmax=1e-06)\n",
    "\n",
    "img = axes[1].imshow(\n",
    "    uoi_strf,\n",
    "    cmap=plt.get_cmap('RdGy'),\n",
    "    vmin=-1e-06, vmax=1e-06)\n",
    "\n",
    "# create colorbar\n",
    "ax_bottom_right_x, ax_bottom_right_y = fig.transFigure.inverted().transform(axes[1].transAxes.transform([1.0, 0.]))\n",
    "ax_top_right_x, ax_top_right_y = fig.transFigure.inverted().transform(axes[1].transAxes.transform([1.0, 1.0]))\n",
    "cax = fig.add_axes([ax_bottom_right_x + 0.025, ax_bottom_right_y,\n",
    "                    0.05, ax_top_right_y - ax_bottom_right_y])\n",
    "cb = fig.colorbar(img, cax)\n",
    "cb.set_ticks([-1e-06, 0, 1e-06])\n",
    "cb.set_ticklabels([r'\\textbf{min}', 0, r'\\textbf{max}'])\n",
    "\n",
    "# titles\n",
    "axes[0].set_title(r'\\textbf{Lasso}', fontsize=18)\n",
    "axes[1].set_title(r'\\textbf{UoI}$_{\\normalsize\\textbf{Lasso}}$', fontsize=18)\n",
    "axes[0].set_ylabel(r'\\textbf{Positions (mm)}', fontsize=15)\n",
    "\n",
    "# set y ticks\n",
    "axes[0].set_yticks([320 * (5.312 - 3) / (5.312 - 0.0083),\n",
    "                    320 * (5.312 - 2.5) / (5.312 - 0.0083),\n",
    "                    320 * (5.312 - 2) / (5.312 - 0.0083)])\n",
    "axes[0].set_yticklabels([2.0, 2.5, 3.0])\n",
    "axes[1].set_yticks([])\n",
    "\n",
    "for ax in axes:\n",
    "    ax.set_aspect('auto')\n",
    "    ax.set_xticks([0, 24])\n",
    "    ax.set_xticklabels(['-0.4', '0'])\n",
    "    ax.set_ylim([125, 225])\n",
    "    ax.tick_params(labelsize=15)\n",
    "    ax.set_xlabel(r'\\textbf{Time (s)}', fontsize=15, labelpad=-3)\n",
    "    "
   ]
  },
  {
   "cell_type": "code",
   "execution_count": 7,
   "metadata": {
    "hidden": true
   },
   "outputs": [],
   "source": [
    "results.close()"
   ]
  },
  {
   "cell_type": "markdown",
   "metadata": {
    "heading_collapsed": true
   },
   "source": [
    "# Consolidate Selection Ratios and Predictive Performance"
   ]
  },
  {
   "cell_type": "code",
   "execution_count": 8,
   "metadata": {
    "hidden": true
   },
   "outputs": [],
   "source": [
    "retinas = {\n",
    "    '20080516_R1': ['cell0_recording0',\n",
    "                    'cell2_recording0',\n",
    "                    'cell3_recording0',\n",
    "                    'cell5_recording0'],\n",
    "    '20080628_R4': ['cell0_recording0',\n",
    "                    'cell2_recording0']\n",
    "}"
   ]
  },
  {
   "cell_type": "code",
   "execution_count": 9,
   "metadata": {
    "hidden": true,
    "hide_input": false
   },
   "outputs": [],
   "source": [
    "lasso_sr = []\n",
    "uoi_sr = []\n",
    "lasso_r2 = []\n",
    "uoi_r2 = []\n",
    "lasso_bic = []\n",
    "uoi_bic = []\n",
    "\n",
    "# iterate over retina files\n",
    "for retina, recordings in retinas.items():\n",
    "    results = h5py.File(data_path + retina + '.h5', 'r')\n",
    "    # iterate over recordings\n",
    "    for cell_recording in recordings:\n",
    "        # calculate selection ratios\n",
    "        lasso_strf = results[cell_recording]['lasso/strfs'][:]\n",
    "        lasso_sr.append(np.count_nonzero(lasso_strf) / lasso_strf.size)\n",
    "        uoi_strf = results[cell_recording]['uoi_lasso_bic/strfs'][:]\n",
    "        uoi_sr.append(np.count_nonzero(uoi_strf) / uoi_strf.size)\n",
    "\n",
    "        # extract predictive performance\n",
    "        lasso_r2.append(results[cell_recording]['lasso/r2s_test'][:].max())\n",
    "        uoi_r2.append(results[cell_recording]['uoi_lasso_bic/r2s_test'][:].max())\n",
    "\n",
    "        # extract model parsimony\n",
    "        lasso_bic.append(results[cell_recording]['lasso/bics'][:].min())\n",
    "        uoi_bic.append(results[cell_recording]['uoi_lasso_bic/bics'][:].min())\n",
    "\n",
    "    results.close()"
   ]
  },
  {
   "cell_type": "code",
   "execution_count": 10,
   "metadata": {
    "hidden": true
   },
   "outputs": [
    {
     "data": {
      "image/png": "[encoded data removed]",
      "text/plain": [
       "<Figure size 432x144 with 3 Axes>"
      ]
     },
     "metadata": {
      "needs_background": "light"
     },
     "output_type": "display_data"
    }
   ],
   "source": [
    "fig, axes = plt.subplots(1, 3, figsize=(6, 2))\n",
    "\n",
    "axes[0].scatter(lasso_sr, uoi_sr,\n",
    "                s=50,\n",
    "                color='k',\n",
    "                edgecolor='white')\n",
    "axes[0].set_xlim([0, 0.2])\n",
    "axes[0].set_xticks([0, 0.1, 0.2])\n",
    "\n",
    "axes[1].scatter(lasso_r2, uoi_r2,\n",
    "                s=50,\n",
    "                color='k',\n",
    "                edgecolor='white')\n",
    "axes[1].set_xlim([0, 0.1])\n",
    "axes[1].set_xticks([0, 0.05, 0.1])\n",
    "\n",
    "for ax in axes[:2]:\n",
    "    ax.set_ylim(ax.get_xlim())\n",
    "    ax.set_aspect('equal')\n",
    "    ax.plot(ax.get_xlim(), ax.get_ylim(),\n",
    "            color='gray',\n",
    "            linewidth=3)\n",
    "    ax.tick_params(labelsize=10)\n",
    "    ax.set_yticks(ax.get_xticks())\n",
    "    ax.grid('on')\n",
    "\n",
    "axes[2].hist(np.array(lasso_bic) - np.array(uoi_bic),\n",
    "             color='gray')\n",
    "axes[2].set_xlim([-1000, 1000])\n",
    "axes[2].axvline(0, color='r', linestyle='--')\n",
    "axes[2].tick_params(labelsize=10)\n",
    "\n",
    "plt.tight_layout()"
   ]
  }
 ],
 "metadata": {
  "kernelspec": {
   "display_name": "neuro",
   "language": "python",
   "name": "neuro"
  },
  "language_info": {
   "codemirror_mode": {
    "name": "ipython",
    "version": 3
   },
   "file_extension": ".py",
   "mimetype": "text/x-python",
   "name": "python",
   "nbconvert_exporter": "python",
   "pygments_lexer": "ipython3",
   "version": "3.7.5"
  },
  "varInspector": {
   "cols": {
    "lenName": 16,
    "lenType": 16,
    "lenVar": 40
   },
   "kernels_config": {
    "python": {
     "delete_cmd_postfix": "",
     "delete_cmd_prefix": "del ",
     "library": "var_list.py",
     "varRefreshCmd": "print(var_dic_list())"
    },
    "r": {
     "delete_cmd_postfix": ") ",
     "delete_cmd_prefix": "rm(",
     "library": "var_list.r",
     "varRefreshCmd": "cat(var_dic_list()) "
    }
   },
   "types_to_exclude": [
    "module",
    "function",
    "builtin_function_or_method",
    "instance",
    "_Feature"
   ],
   "window_display": false
  }
 },
 "nbformat": 4,
 "nbformat_minor": 2
}
