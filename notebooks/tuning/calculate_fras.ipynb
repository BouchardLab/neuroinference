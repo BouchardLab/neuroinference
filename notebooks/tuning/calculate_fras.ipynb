{
 "cells": [
  {
   "cell_type": "code",
   "execution_count": 2,
   "metadata": {},
   "outputs": [],
   "source": [
    "import h5py\n",
    "import matplotlib\n",
    "import matplotlib.pyplot as plt\n",
    "import numpy as np\n",
    "import os\n",
    "\n",
    "from neuropacks import ECOG\n",
    "\n",
    "%matplotlib inline"
   ]
  },
  {
   "cell_type": "code",
   "execution_count": 3,
   "metadata": {},
   "outputs": [],
   "source": [
    "data_path = os.path.join(os.environ['HOME'], 'data/ecog/r32_b7.mat')\n",
    "grid_path = os.path.join(os.environ['HOME'], 'data/ecog/grdid.mat')"
   ]
  },
  {
   "cell_type": "code",
   "execution_count": 4,
   "metadata": {},
   "outputs": [],
   "source": [
    "fits_path = os.path.join(os.environ['HOME'],\n",
    "                         'fits/uoineuro/tuning/ecog/ecog_tuning.h5')"
   ]
  },
  {
   "cell_type": "code",
   "execution_count": 5,
   "metadata": {},
   "outputs": [],
   "source": [
    "ecog = ECOG(data_path=data_path, grid_path=grid_path)\n",
    "fits = h5py.File(fits_path, 'r')"
   ]
  },
  {
   "cell_type": "code",
   "execution_count": 147,
   "metadata": {},
   "outputs": [],
   "source": [
    "zero_sel = np.array([44, 46, 47, 63, 76, 23])"
   ]
  },
  {
   "cell_type": "code",
   "execution_count": 127,
   "metadata": {},
   "outputs": [],
   "source": [
    "Y = ecog.get_response_matrix(bounds=[40, 60], band='HG')\n",
    "X = ecog.get_design_matrix(form='id', n_gaussians=8)"
   ]
  },
  {
   "cell_type": "code",
   "execution_count": 128,
   "metadata": {},
   "outputs": [],
   "source": [
    "n_amps = ecog.amp_set.size\n",
    "n_freqs = ecog.freq_set.size"
   ]
  },
  {
   "cell_type": "code",
   "execution_count": 123,
   "metadata": {},
   "outputs": [],
   "source": [
    "fras = np.zeros((zero_sel.size, n_amps, n_freqs))"
   ]
  },
  {
   "cell_type": "code",
   "execution_count": 176,
   "metadata": {},
   "outputs": [],
   "source": [
    "for e_idx, electrode in enumerate(zero_sel):\n",
    "    for amp_idx, amp in enumerate(ecog.amp_set):\n",
    "        for freq_idx, freq in enumerate(ecog.freq_set):\n",
    "            X_id = 100 * amp_idx + freq_idx\n",
    "            mean_resp = np.mean(Y[np.argwhere(X == X_id).ravel(), electrode])\n",
    "            fras[e_idx, amp_idx, freq_idx] = mean_resp"
   ]
  },
  {
   "cell_type": "code",
   "execution_count": 244,
   "metadata": {},
   "outputs": [
    {
     "data": {
      "image/png": "[encoded data removed]",
      "text/plain": [
       "<Figure size 684x288 with 9 Axes>"
      ]
     },
     "metadata": {
      "needs_background": "light"
     },
     "output_type": "display_data"
    }
   ],
   "source": [
    "fig, axes = plt.subplots(2, 4, figsize=(9.5, 4),\n",
    "                         gridspec_kw={'width_ratios': [1, 1, 0.001, 1]})\n",
    "\n",
    "axes[0, 0].imshow(fras[0] / np.abs(fras[0].max()), vmin=-0.02, vmax=1)\n",
    "axes[0, 1].imshow(fras[1] / np.abs(fras[1].max()), vmin=-0.02, vmax=1)\n",
    "axes[1, 0].imshow(fras[2] / np.abs(fras[2].max()), vmin=-0.02, vmax=1)\n",
    "axes[1, 1].imshow(fras[3] / np.abs(fras[3].max()), vmin=-0.02, vmax=1)\n",
    "axes[0, 2].axis('off')\n",
    "axes[1, 2].axis('off')\n",
    "img = axes[0, 3].imshow(fras[4] / np.abs(fras[4].max()), vmin=-0.02, vmax=1)\n",
    "axes[1, 3].imshow(fras[5] / np.abs(fras[5].max()), vmin=-0.02, vmax=1)\n",
    "\n",
    "for ax in axes.ravel():\n",
    "    ax.set_aspect(2.)\n",
    "    ax.set_xticks([5, 21])\n",
    "    ax.set_xticklabels([r'$10^3$', r'$10^4$'])\n",
    "    ax.tick_params(labelsize=12)\n",
    "    ax.set_xlabel(r'\\textbf{Frequency}', fontsize=13)\n",
    "    ax.set_ylabel(r'\\textbf{Attenuation}', fontsize=13)\n",
    "    ax.set_yticks([0, 6])\n",
    "    ax.set_yticklabels([r'\\textbf{min}', r'\\textbf{max}'], fontsize=10, rotation=90)\n",
    "\n",
    "fig.text(x=0.27, y=0.96, s=r'\\textbf{Non-tuned}', fontsize=16)\n",
    "fig.text(x=0.825, y=0.96, s=r'\\textbf{Tuned}', fontsize=16)    \n",
    "\n",
    "cax = fig.add_axes([1.01, 0.165, 0.02, 0.74])\n",
    "cb = fig.colorbar(img, cax=cax)\n",
    "cb.set_ticks([0, 1])\n",
    "cb.set_ticklabels([r'\\textbf{min}', r'\\textbf{max}'])\n",
    "cb.ax.tick_params(labelsize=15)\n",
    "cb.set_label(r'\\textbf{Response}', fontsize=16, rotation=270, labelpad=-15)\n",
    "plt.tight_layout()\n",
    "plt.savefig('FRAs.pdf', bbox_inches='tight')"
   ]
  },
  {
   "cell_type": "code",
   "execution_count": null,
   "metadata": {},
   "outputs": [],
   "source": []
  }
 ],
 "metadata": {
  "kernelspec": {
   "display_name": "neuro",
   "language": "python",
   "name": "neuro"
  },
  "language_info": {
   "codemirror_mode": {
    "name": "ipython",
    "version": 3
   },
   "file_extension": ".py",
   "mimetype": "text/x-python",
   "name": "python",
   "nbconvert_exporter": "python",
   "pygments_lexer": "ipython3",
   "version": "3.7.5"
  },
  "varInspector": {
   "cols": {
    "lenName": 16,
    "lenType": 16,
    "lenVar": 40
   },
   "kernels_config": {
    "python": {
     "delete_cmd_postfix": "",
     "delete_cmd_prefix": "del ",
     "library": "var_list.py",
     "varRefreshCmd": "print(var_dic_list())"
    },
    "r": {
     "delete_cmd_postfix": ") ",
     "delete_cmd_prefix": "rm(",
     "library": "var_list.r",
     "varRefreshCmd": "cat(var_dic_list()) "
    }
   },
   "types_to_exclude": [
    "module",
    "function",
    "builtin_function_or_method",
    "instance",
    "_Feature"
   ],
   "window_display": false
  }
 },
 "nbformat": 4,
 "nbformat_minor": 2
}
