{
 "cells": [
  {
   "cell_type": "code",
   "execution_count": 1,
   "metadata": {},
   "outputs": [],
   "source": [
    "import h5py\n",
    "import matplotlib.pyplot as plt\n",
    "import numpy as np\n",
    "import os\n",
    "import time\n",
    "\n",
    "from sklearn.linear_model import (LinearRegression,\n",
    "                                  RidgeCV,\n",
    "                                  LassoCV,\n",
    "                                  ElasticNetCV)\n",
    "from sklearn.metrics import r2_score\n",
    "from sklearn.model_selection import train_test_split\n",
    "from uoineuro.tuning_utils import create_strf_design\n",
    "\n",
    "%matplotlib inline"
   ]
  },
  {
   "cell_type": "code",
   "execution_count": 2,
   "metadata": {},
   "outputs": [],
   "source": [
    "data_path = os.path.join(os.environ['HOME'],\n",
    "                         'data/dmr/ecog_dmr.h5')"
   ]
  },
  {
   "cell_type": "code",
   "execution_count": 3,
   "metadata": {},
   "outputs": [],
   "source": [
    "data = h5py.File(data_path, 'r')"
   ]
  },
  {
   "cell_type": "code",
   "execution_count": 4,
   "metadata": {},
   "outputs": [],
   "source": [
    "stim = data['stim'][:]\n",
    "resp = data['resp'][:]"
   ]
  },
  {
   "cell_type": "code",
   "execution_count": 5,
   "metadata": {},
   "outputs": [],
   "source": [
    "n_samples, n_features = stim.shape\n",
    "n_electrodes = resp.shape[0]\n",
    "n_frames = 20\n",
    "train_frac = 0.9\n",
    "method = 'elasticnet'"
   ]
  },
  {
   "cell_type": "code",
   "execution_count": 6,
   "metadata": {},
   "outputs": [],
   "source": [
    "X, Y = create_strf_design(stim, resp, n_frames)"
   ]
  },
  {
   "cell_type": "code",
   "execution_count": 7,
   "metadata": {},
   "outputs": [],
   "source": [
    "strfs = np.zeros((n_electrodes, n_frames, n_features))\n",
    "train_scores = np.zeros(n_electrodes)\n",
    "test_scores = np.zeros(n_electrodes)"
   ]
  },
  {
   "cell_type": "code",
   "execution_count": null,
   "metadata": {},
   "outputs": [
    {
     "name": "stdout",
     "output_type": "stream",
     "text": [
      "Electrode:  0\n"
     ]
    }
   ],
   "source": [
    "for electrode in range(n_electrodes):\n",
    "    t = time.time()\n",
    "    print('Electrode: ', electrode)\n",
    "    X_train, X_test, y_train, y_test = \\\n",
    "        train_test_split(X, Y[electrode], train_size=train_frac)\n",
    "\n",
    "    centering = X_train.mean(axis=0, keepdims=True)\n",
    "    X_train -= centering\n",
    "    X_test -= centering\n",
    "\n",
    "    if method == 'ridge':\n",
    "        fitter = RidgeCV(alphas=np.logspace(3, 6, num=300),\n",
    "                         normalize=False,\n",
    "                         fit_intercept=False,\n",
    "                         cv=None).fit(X_train, y_train)\n",
    "    elif method == 'elasticnet':\n",
    "        fitter = ElasticNetCV(l1_ratio=np.array([0.1, 0.2, 0.3, 0.5]),\n",
    "                              eps=1e-5,\n",
    "                              n_alphas=100,\n",
    "                              fit_intercept=False,\n",
    "                              max_iter=5000,\n",
    "                              cv=5).fit(X_train, y_train)\n",
    "    strfs[electrode] = fitter.coef_.reshape((20, 96))\n",
    "    train_scores[electrode] = fitter.score(X_train, y_train)\n",
    "    test_scores[electrode] = fitter.score(X_test, y_test)\n",
    "    print('Alpha: ', fitter.alpha_)\n",
    "    print('L1 ratio: ', fitter.l1_ratio_)\n",
    "    print('Time: ', time.time() - t)\n",
    "    print('---')"
   ]
  }
 ],
 "metadata": {
  "kernelspec": {
   "display_name": "neuro",
   "language": "python",
   "name": "neuro"
  },
  "varInspector": {
   "cols": {
    "lenName": 16,
    "lenType": 16,
    "lenVar": 40
   },
   "kernels_config": {
    "python": {
     "delete_cmd_postfix": "",
     "delete_cmd_prefix": "del ",
     "library": "var_list.py",
     "varRefreshCmd": "print(var_dic_list())"
    },
    "r": {
     "delete_cmd_postfix": ") ",
     "delete_cmd_prefix": "rm(",
     "library": "var_list.r",
     "varRefreshCmd": "cat(var_dic_list()) "
    }
   },
   "types_to_exclude": [
    "module",
    "function",
    "builtin_function_or_method",
    "instance",
    "_Feature"
   ],
   "window_display": false
  }
 },
 "nbformat": 4,
 "nbformat_minor": 2
}
