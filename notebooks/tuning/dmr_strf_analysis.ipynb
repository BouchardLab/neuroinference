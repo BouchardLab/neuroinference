{
 "cells": [
  {
   "cell_type": "code",
   "execution_count": 5,
   "metadata": {},
   "outputs": [],
   "source": [
    "import h5py\n",
    "import matplotlib.pyplot as plt\n",
    "import numpy as np\n",
    "\n",
    "from sklearn.linear_model import (LinearRegression,\n",
    "                                  RidgeCV,\n",
    "                                  LassoCV,\n",
    "                                  ElasticNetCV)\n",
    "from sklearn.metrics import r2_score\n",
    "from sklearn.model_selection import train_test_split\n",
    "from uoineuro.tuning_utils import create_strf_design\n",
    "\n",
    "%matplotlib inline"
   ]
  },
  {
   "cell_type": "code",
   "execution_count": 2,
   "metadata": {},
   "outputs": [],
   "source": [
    "data = h5py.File('/storage/data/dmr/dmr_strf_data.h5', 'r')"
   ]
  },
  {
   "cell_type": "code",
   "execution_count": 3,
   "metadata": {},
   "outputs": [],
   "source": [
    "n_electrodes = len(data)\n",
    "stim = data['Wave1/stim'][:]\n",
    "n_samples, n_features = stim.shape\n",
    "resp = np.zeros((n_electrodes, n_samples))\n",
    "\n",
    "n_frames = 20\n",
    "train_frac = 0.9"
   ]
  },
  {
   "cell_type": "code",
   "execution_count": 4,
   "metadata": {},
   "outputs": [],
   "source": [
    "for electrode in range(n_electrodes):\n",
    "    group_name = 'Wave' + str(electrode + 1)\n",
    "    group = data[group_name]\n",
    "    resp[electrode] = np.squeeze(group['resp'][:])"
   ]
  },
  {
   "cell_type": "code",
   "execution_count": 7,
   "metadata": {},
   "outputs": [],
   "source": [
    "X, Y = create_strf_design(stim, resp, n_frames)"
   ]
  },
  {
   "cell_type": "code",
   "execution_count": 17,
   "metadata": {},
   "outputs": [],
   "source": [
    "strfs = np.zeros((n_electrodes, n_frames, n_features))\n",
    "train_scores = np.zeros(n_electrodes)\n",
    "test_scores = np.zeros(n_electrodes)"
   ]
  },
  {
   "cell_type": "code",
   "execution_count": null,
   "metadata": {},
   "outputs": [],
   "source": [
    "for electrode in range(n_electrodes):\n",
    "    print(electrode)\n",
    "    X_train, X_test, y_train, y_test = \\\n",
    "        train_test_split(X, Y[electrode], train_size=train_frac)\n",
    "\n",
    "    centering = X_train.mean(axis=0, keepdims=True)\n",
    "    X_train -= centering\n",
    "    X_test -= centering\n",
    "\n",
    "    ridge = RidgeCV(alphas=np.logspace(3, 6, num=300),\n",
    "                    normalize=False,\n",
    "                    fit_intercept=False,\n",
    "                    cv=None).fit(X_train, y_train)\n",
    "    print(ridge.alpha_)\n",
    "    strfs[electrode] = strfs.coef_.reshape((20, 96))\n",
    "    train_scores[electrode] = ridge.score(X_train, y_train)\n",
    "    test_scores[electrode] = ridge.score(X_test, y_test)\n",
    "    print('---')"
   ]
  }
 ],
 "metadata": {
  "kernelspec": {
   "display_name": "neuro",
   "language": "python",
   "name": "neuro"
  },
  "language_info": {
   "codemirror_mode": {
    "name": "ipython",
    "version": 3
   },
   "file_extension": ".py",
   "mimetype": "text/x-python",
   "name": "python",
   "nbconvert_exporter": "python",
   "pygments_lexer": "ipython3",
   "version": "3.7.5"
  }
 },
 "nbformat": 4,
 "nbformat_minor": 2
}
