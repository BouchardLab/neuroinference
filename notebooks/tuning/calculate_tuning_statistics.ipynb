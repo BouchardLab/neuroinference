{
 "cells": [
  {
   "cell_type": "code",
   "execution_count": 1,
   "metadata": {},
   "outputs": [],
   "source": [
    "import h5py\n",
    "import matplotlib\n",
    "import matplotlib.pyplot as plt\n",
    "import numpy as np\n",
    "import os\n",
    "import scipy.stats as ss\n",
    "\n",
    "from uoineuro.utils import calculate_selection_ratio\n",
    "\n",
    "%matplotlib inline"
   ]
  },
  {
   "cell_type": "code",
   "execution_count": 2,
   "metadata": {},
   "outputs": [],
   "source": [
    "ret1_path = os.path.join(os.environ['HOME'],\n",
    "                         'fits/uoineuro/tuning/ret1/')\n",
    "ecog_path = os.path.join(os.environ['HOME'],\n",
    "                         'fits/uoineuro/tuning/ecog/ecog_tuning.h5')"
   ]
  },
  {
   "cell_type": "code",
   "execution_count": 3,
   "metadata": {},
   "outputs": [],
   "source": [
    "retinas = {\n",
    "    '20080516_R1': ['cell0_recording0',\n",
    "                    'cell0_recording2',\n",
    "                    'cell2_recording0',\n",
    "                    'cell3_recording0',\n",
    "                    'cell4_recording0',\n",
    "                    'cell5_recording0'],\n",
    "    '20080628_R4': ['cell0_recording0',\n",
    "                    'cell2_recording0',\n",
    "                    'cell3_recording0',\n",
    "                    'cell5_recording0',\n",
    "                    'cell6_recording0',\n",
    "                    'cell7_recording0',\n",
    "                    'cell9_recording0',\n",
    "                    'cell12_recording0',\n",
    "                    'cell13_recording0'],\n",
    "    '20080628_R6': ['cell1_recording0',\n",
    "                    'cell2_recording0',\n",
    "                    'cell4_recording0',\n",
    "                    'cell5_recording0',\n",
    "                    'cell6_recording0',\n",
    "                    'cell7_recording0',\n",
    "                    'cell8_recording0',\n",
    "                    'cell10_recording0']\n",
    "}"
   ]
  },
  {
   "cell_type": "code",
   "execution_count": 4,
   "metadata": {},
   "outputs": [],
   "source": [
    "ret_baseline_srs = []\n",
    "ret_uoi_srs = []\n",
    "ret_baseline_r2s = []\n",
    "ret_uoi_r2s = []\n",
    "ret_baseline_bics = []\n",
    "ret_uoi_bics = []\n",
    "\n",
    "# iterate over retina files\n",
    "for retina, recordings in retinas.items():\n",
    "    results = h5py.File(ret1_path + retina + '.h5', 'r')\n",
    "    # iterate over recordings\n",
    "    for cell_recording in recordings:\n",
    "        # calculate selection ratios\n",
    "        lasso_strf = results[cell_recording]['lasso/strfs'][:]\n",
    "        ret_baseline_srs.append(np.count_nonzero(lasso_strf) / lasso_strf.size)\n",
    "        uoi_strf = results[cell_recording]['uoi_lasso_bic/strfs'][:]\n",
    "        ret_uoi_srs.append(np.count_nonzero(uoi_strf) / uoi_strf.size)\n",
    "\n",
    "        # extract predictive performance\n",
    "        ret_baseline_r2s.append(results[cell_recording]['lasso/r2s_test'][:].max())\n",
    "        ret_uoi_r2s.append(results[cell_recording]['uoi_lasso_bic/r2s_test'][:].max())\n",
    "\n",
    "        # extract model parsimony\n",
    "        ret_baseline_bics.append(results[cell_recording]['lasso/bics'][:].min())\n",
    "        ret_uoi_bics.append(results[cell_recording]['uoi_lasso_bic/bics'][:].min())\n",
    "\n",
    "    results.close()\n",
    "    \n",
    "ret_baseline_srs = np.array(ret_baseline_srs)\n",
    "ret_uoi_srs = np.array(ret_uoi_srs)\n",
    "ret_baseline_r2s = np.array(ret_baseline_r2s)\n",
    "ret_uoi_r2s = np.array(ret_uoi_r2s)\n",
    "ret_baseline_bics = np.array(ret_baseline_bics)\n",
    "ret_uoi_bics = np.array(ret_uoi_bics)"
   ]
  },
  {
   "cell_type": "code",
   "execution_count": 5,
   "metadata": {},
   "outputs": [],
   "source": [
    "ecog_fits = h5py.File(ecog_path, 'r')\n",
    "ecog_baseline = ecog_fits['lasso']\n",
    "ecog_uoi = ecog_fits['uoi_lasso_bic']\n",
    "ecog_baseline_srs = np.mean(calculate_selection_ratio(ecog_baseline['tuning_coefs']), axis=0)\n",
    "ecog_baseline_r2s = np.mean(ecog_baseline['r2'], axis=0)\n",
    "ecog_baseline_bics = np.mean(ecog_baseline['BIC'], axis=0)\n",
    "ecog_uoi_srs = np.mean(calculate_selection_ratio(ecog_uoi['tuning_coefs']), axis=0)\n",
    "ecog_uoi_r2s = np.mean(ecog_uoi['r2'], axis=0)\n",
    "ecog_uoi_bics = np.mean(ecog_uoi['BIC'], axis=0)"
   ]
  },
  {
   "cell_type": "markdown",
   "metadata": {},
   "source": [
    "## Selection Ratios"
   ]
  },
  {
   "cell_type": "code",
   "execution_count": 6,
   "metadata": {},
   "outputs": [
    {
     "name": "stdout",
     "output_type": "stream",
     "text": [
      "Retina\n",
      "------\n",
      "Baseline: 0.084 +/- 0.020\n",
      "UoI: 0.017 +/- 0.004\n",
      "Reduction Factor:  4.984615384615386\n",
      "WSRT:  WilcoxonResult(statistic=0.0, pvalue=2.7015948487105512e-05)\n",
      "Cohens d:  2.2062408532240037\n"
     ]
    }
   ],
   "source": [
    "print('Retina')\n",
    "print('------')\n",
    "baseline_median = np.median(ret_baseline_srs)\n",
    "uoi_median = np.median(ret_uoi_srs)\n",
    "\n",
    "print('Baseline: %0.3f +/- %0.3f' %(baseline_median, ss.iqr(ret_baseline_srs) / 2))\n",
    "print('UoI: %0.3f +/- %0.3f' %(uoi_median, ss.iqr(ret_uoi_srs) / 2))\n",
    "print('Reduction Factor: ', baseline_median / uoi_median)\n",
    "print('WSRT: ', ss.wilcoxon(ret_baseline_srs, ret_uoi_srs))\n",
    "print('Cohens d: ', np.mean(ret_baseline_srs - ret_uoi_srs) / np.std(ret_baseline_srs))"
   ]
  },
  {
   "cell_type": "code",
   "execution_count": 7,
   "metadata": {},
   "outputs": [
    {
     "name": "stdout",
     "output_type": "stream",
     "text": [
      "ECoG\n",
      "----\n",
      "Baseline: 0.625 +/- 0.116\n",
      "UoI: 0.250 +/- 0.114\n",
      "Reduction Factor:  2.5\n",
      "WSRT:  WilcoxonResult(statistic=0.0, pvalue=1.3651775993403239e-22)\n",
      "Cohens d:  1.9830660065038948\n"
     ]
    }
   ],
   "source": [
    "print('ECoG')\n",
    "print('----')\n",
    "baseline_median = np.median(ecog_baseline_srs)\n",
    "uoi_median = np.median(ecog_uoi_srs)\n",
    "print('Baseline: %0.3f +/- %0.3f' %(baseline_median, ss.iqr(ecog_baseline_srs) / 2))\n",
    "print('UoI: %0.3f +/- %0.3f' %(uoi_median, ss.iqr(ecog_uoi_srs) / 2))\n",
    "print('Reduction Factor: ', baseline_median / uoi_median)\n",
    "print('WSRT: ', ss.wilcoxon(ecog_baseline_srs, ecog_uoi_srs))\n",
    "print('Cohens d: ', np.mean(ecog_baseline_srs - ecog_uoi_srs) / np.std(ecog_baseline_srs))"
   ]
  },
  {
   "cell_type": "markdown",
   "metadata": {},
   "source": [
    "## Predictive Performance"
   ]
  },
  {
   "cell_type": "code",
   "execution_count": 8,
   "metadata": {},
   "outputs": [
    {
     "name": "stdout",
     "output_type": "stream",
     "text": [
      "Retina\n",
      "------\n",
      "Baseline: 0.028 +/- 0.013\n",
      "UoI: 0.028 +/- 0.013\n",
      "Median Delta:  -0.0005507204601976623\n",
      "WSRT:  WilcoxonResult(statistic=50.0, pvalue=0.007439203931621479)\n",
      "Cohens d:  -0.04884007062708874\n"
     ]
    }
   ],
   "source": [
    "print('Retina')\n",
    "print('------')\n",
    "baseline_median = np.median(ret_baseline_r2s)\n",
    "uoi_median = np.median(ret_uoi_r2s)\n",
    "\n",
    "print('Baseline: %0.3f +/- %0.3f' %(baseline_median, ss.iqr(ret_baseline_r2s) / 2))\n",
    "print('UoI: %0.3f +/- %0.3f' %(uoi_median, ss.iqr(ret_uoi_r2s) / 2))\n",
    "print('Median Delta: ', np.median(baseline_median - uoi_median))\n",
    "print('WSRT: ', ss.wilcoxon(ret_baseline_r2s, ret_uoi_r2s))\n",
    "print('Cohens d: ', np.mean(ret_baseline_r2s - ret_uoi_r2s) / np.std(ret_baseline_r2s))"
   ]
  },
  {
   "cell_type": "code",
   "execution_count": 9,
   "metadata": {},
   "outputs": [
    {
     "name": "stdout",
     "output_type": "stream",
     "text": [
      "ECoG\n",
      "----\n",
      "Baseline: 0.042 +/- 0.034\n",
      "UoI: 0.041 +/- 0.033\n",
      "Median Delta:  0.00144526528523177\n",
      "WSRT:  WilcoxonResult(statistic=345.0, pvalue=3.6003479763987104e-19)\n",
      "Cohens d:  0.04635893999089997\n"
     ]
    }
   ],
   "source": [
    "print('ECoG')\n",
    "print('----')\n",
    "baseline_median = np.median(ecog_baseline_r2s)\n",
    "uoi_median = np.median(ecog_uoi_r2s)\n",
    "\n",
    "print('Baseline: %0.3f +/- %0.3f' %(baseline_median, ss.iqr(ecog_baseline_r2s) / 2))\n",
    "print('UoI: %0.3f +/- %0.3f' %(uoi_median, ss.iqr(ecog_uoi_r2s) / 2))\n",
    "print('Median Delta: ', np.median(baseline_median - uoi_median))\n",
    "print('WSRT: ', ss.wilcoxon(ecog_baseline_r2s, ecog_uoi_r2s))\n",
    "print('Cohens d: ', np.mean(ecog_baseline_r2s - ecog_uoi_r2s) / np.std(ecog_baseline_r2s))"
   ]
  },
  {
   "cell_type": "markdown",
   "metadata": {},
   "source": [
    "## Bayesian Information Criterion"
   ]
  },
  {
   "cell_type": "code",
   "execution_count": 10,
   "metadata": {},
   "outputs": [
    {
     "name": "stdout",
     "output_type": "stream",
     "text": [
      "Retina\n",
      "------\n",
      "Baseline: -1646606.843 +/- 44936.489\n",
      "UoI: -1647261.080 +/- 44857.249\n",
      "Median Delta:  654.237336314749\n",
      "WSRT:  WilcoxonResult(statistic=0.0, pvalue=2.7015948487105512e-05)\n",
      "Cohens d:  0.005140666493852359\n"
     ]
    }
   ],
   "source": [
    "print('Retina')\n",
    "print('------')\n",
    "baseline_median = np.median(ret_baseline_bics)\n",
    "uoi_median = np.median(ret_uoi_bics)\n",
    "\n",
    "print('Baseline: %0.3f +/- %0.3f' %(baseline_median, ss.iqr(ret_baseline_bics) / 2))\n",
    "print('UoI: %0.3f +/- %0.3f' %(uoi_median, ss.iqr(ret_uoi_bics) / 2))\n",
    "print('Median Delta: ', np.median(baseline_median - uoi_median))\n",
    "print('WSRT: ', ss.wilcoxon(ret_baseline_bics, ret_uoi_bics))\n",
    "print('Cohens d: ', np.mean(ret_baseline_bics - ret_uoi_bics) / np.std(ret_baseline_bics))"
   ]
  },
  {
   "cell_type": "code",
   "execution_count": 11,
   "metadata": {},
   "outputs": [
    {
     "name": "stdout",
     "output_type": "stream",
     "text": [
      "ECoG\n",
      "----\n",
      "Baseline: 4370.767 +/- 2495.118\n",
      "UoI: 4351.323 +/- 2493.153\n",
      "Median Delta:  19.444203214014124\n",
      "WSRT:  WilcoxonResult(statistic=194.0, pvalue=8.309387284435575e-21)\n",
      "Cohens d:  0.0043749519583627374\n"
     ]
    }
   ],
   "source": [
    "print('ECoG')\n",
    "print('----')\n",
    "baseline_median = np.median(ecog_baseline_bics)\n",
    "uoi_median = np.median(ecog_uoi_bics)\n",
    "\n",
    "print('Baseline: %0.3f +/- %0.3f' %(baseline_median, ss.iqr(ecog_baseline_bics) / 2))\n",
    "print('UoI: %0.3f +/- %0.3f' %(uoi_median, ss.iqr(ecog_uoi_bics) / 2))\n",
    "print('Median Delta: ', np.median(baseline_median - uoi_median))\n",
    "print('WSRT: ', ss.wilcoxon(ecog_baseline_bics, ecog_uoi_bics))\n",
    "print('Cohens d: ', np.mean(ecog_baseline_bics - ecog_uoi_bics) / np.std(ecog_baseline_bics))"
   ]
  }
 ],
 "metadata": {
  "kernelspec": {
   "display_name": "neuro",
   "language": "python",
   "name": "neuro"
  },
  "language_info": {
   "codemirror_mode": {
    "name": "ipython",
    "version": 3
   },
   "file_extension": ".py",
   "mimetype": "text/x-python",
   "name": "python",
   "nbconvert_exporter": "python",
   "pygments_lexer": "ipython3",
   "version": "3.7.4"
  },
  "varInspector": {
   "cols": {
    "lenName": 16,
    "lenType": 16,
    "lenVar": 40
   },
   "kernels_config": {
    "python": {
     "delete_cmd_postfix": "",
     "delete_cmd_prefix": "del ",
     "library": "var_list.py",
     "varRefreshCmd": "print(var_dic_list())"
    },
    "r": {
     "delete_cmd_postfix": ") ",
     "delete_cmd_prefix": "rm(",
     "library": "var_list.r",
     "varRefreshCmd": "cat(var_dic_list()) "
    }
   },
   "types_to_exclude": [
    "module",
    "function",
    "builtin_function_or_method",
    "instance",
    "_Feature"
   ],
   "window_display": false
  }
 },
 "nbformat": 4,
 "nbformat_minor": 2
}
