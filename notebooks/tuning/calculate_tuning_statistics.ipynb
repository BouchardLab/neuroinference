{
 "cells": [
  {
   "cell_type": "code",
   "execution_count": 1,
   "metadata": {},
   "outputs": [],
   "source": [
    "import h5py\n",
    "import matplotlib\n",
    "import matplotlib.pyplot as plt\n",
    "import numpy as np\n",
    "import os\n",
    "\n",
    "%matplotlib inline"
   ]
  },
  {
   "cell_type": "code",
   "execution_count": 3,
   "metadata": {},
   "outputs": [],
   "source": [
    "ret1_path = os.path.join(os.environ['HOME'],\n",
    "                         'fits/uoineuro/tuning/ret1/')"
   ]
  },
  {
   "cell_type": "code",
   "execution_count": 4,
   "metadata": {},
   "outputs": [],
   "source": [
    "retinas = {\n",
    "    '20080516_R1': ['cell0_recording0',\n",
    "                    'cell0_recording2',\n",
    "                    'cell2_recording0',\n",
    "                    'cell3_recording0',\n",
    "                    'cell4_recording0',\n",
    "                    'cell5_recording0'],\n",
    "    '20080628_R4': ['cell0_recording0',\n",
    "                    'cell2_recording0',\n",
    "                    'cell3_recording0',\n",
    "                    'cell5_recording0',\n",
    "                    'cell6_recording0',\n",
    "                    'cell7_recording0',\n",
    "                    'cell9_recording0',\n",
    "                    'cell12_recording0',\n",
    "                    'cell13_recording0'],\n",
    "    '20080628_R6': ['cell1_recording0',\n",
    "                    'cell2_recording0',\n",
    "                    'cell4_recording0',\n",
    "                    'cell5_recording0',\n",
    "                    'cell6_recording0',\n",
    "                    'cell7_recording0',\n",
    "                    'cell8_recording0',\n",
    "                    'cell10_recording0']\n",
    "}"
   ]
  },
  {
   "cell_type": "code",
   "execution_count": 5,
   "metadata": {},
   "outputs": [],
   "source": [
    "lasso_sr = []\n",
    "uoi_sr = []\n",
    "lasso_r2 = []\n",
    "uoi_r2 = []\n",
    "lasso_bic = []\n",
    "uoi_bic = []\n",
    "\n",
    "# iterate over retina files\n",
    "for retina, recordings in retinas.items():\n",
    "    results = h5py.File(data_path + retina + '.h5', 'r')\n",
    "    # iterate over recordings\n",
    "    for cell_recording in recordings:\n",
    "        # calculate selection ratios\n",
    "        lasso_strf = results[cell_recording]['lasso/strfs'][:]\n",
    "        lasso_sr.append(np.count_nonzero(lasso_strf) / lasso_strf.size)\n",
    "        uoi_strf = results[cell_recording]['uoi_lasso_bic/strfs'][:]\n",
    "        uoi_sr.append(np.count_nonzero(uoi_strf) / uoi_strf.size)\n",
    "\n",
    "        # extract predictive performance\n",
    "        lasso_r2.append(results[cell_recording]['lasso/r2s_test'][:].max())\n",
    "        uoi_r2.append(results[cell_recording]['uoi_lasso_bic/r2s_test'][:].max())\n",
    "\n",
    "        # extract model parsimony\n",
    "        lasso_bic.append(results[cell_recording]['lasso/bics'][:].min())\n",
    "        uoi_bic.append(results[cell_recording]['uoi_lasso_bic/bics'][:].min())\n",
    "\n",
    "    results.close()"
   ]
  },
  {
   "cell_type": "code",
   "execution_count": null,
   "metadata": {},
   "outputs": [],
   "source": []
  }
 ],
 "metadata": {
  "kernelspec": {
   "display_name": "neuro",
   "language": "python",
   "name": "neuro"
  },
  "language_info": {
   "codemirror_mode": {
    "name": "ipython",
    "version": 3
   },
   "file_extension": ".py",
   "mimetype": "text/x-python",
   "name": "python",
   "nbconvert_exporter": "python",
   "pygments_lexer": "ipython3",
   "version": "3.7.5"
  }
 },
 "nbformat": 4,
 "nbformat_minor": 2
}
