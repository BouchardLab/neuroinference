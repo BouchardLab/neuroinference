{
 "cells": [
  {
   "cell_type": "code",
   "execution_count": 1,
   "metadata": {},
   "outputs": [],
   "source": [
    "import h5py\n",
    "import matplotlib.pyplot as plt\n",
    "import numpy as np\n",
    "import os\n",
    "\n",
    "from scipy.stats import iqr\n",
    "from scipy.stats import wilcoxon\n",
    "\n",
    "from uoineuro.classification_utils import plot_border\n",
    "\n",
    "%matplotlib inline"
   ]
  },
  {
   "cell_type": "code",
   "execution_count": 2,
   "metadata": {},
   "outputs": [],
   "source": [
    "results_path = os.path.join(os.environ['HOME'],\n",
    "                            'fits/uoineuro/classification',\n",
    "                            'cv_vsmc.h5')"
   ]
  },
  {
   "cell_type": "code",
   "execution_count": 3,
   "metadata": {},
   "outputs": [],
   "source": [
    "results = h5py.File(results_path, 'r')"
   ]
  },
  {
   "cell_type": "code",
   "execution_count": 4,
   "metadata": {},
   "outputs": [],
   "source": [
    "c_baseline = results['c_logistic']\n",
    "c_uoi = results['c_uoi_logistic_bic']\n",
    "v_baseline = results['v_logistic']\n",
    "v_uoi = results['v_uoi_logistic_bic']\n",
    "groups = [c_baseline, c_uoi, v_baseline, v_uoi]\n",
    "coefs = [group['coefs'][:] for group in groups]\n",
    "srs = [group['selection_ratios'][:] for group in groups]\n",
    "scores = [group['scores'][:] for group in groups]"
   ]
  },
  {
   "cell_type": "markdown",
   "metadata": {
    "heading_collapsed": true
   },
   "source": [
    "## Metric Summary"
   ]
  },
  {
   "cell_type": "code",
   "execution_count": 5,
   "metadata": {
    "hidden": true
   },
   "outputs": [
    {
     "data": {
      "image/png": "[encoded data removed]",
      "text/plain": [
       "<Figure size 864x360 with 2 Axes>"
      ]
     },
     "metadata": {
      "needs_background": "light"
     },
     "output_type": "display_data"
    }
   ],
   "source": [
    "fig, axes = plt.subplots(1, 2, figsize=(12, 5))\n",
    "\n",
    "# selection ratio plot\n",
    "axes[0].bar(\n",
    "    x=[0, 1, 2, 3],\n",
    "    height=[np.median(sr) for sr in srs],\n",
    "    width=0.8,\n",
    "    color=['gray', 'red', 'gray', 'red'],\n",
    "    yerr=[iqr(sr) / 2. for sr in srs],\n",
    "    error_kw={'capsize': 5, 'elinewidth': 2, 'capthick': 2}\n",
    ")\n",
    "\n",
    "# accuracy plot\n",
    "axes[1].bar(\n",
    "    x=[0, 1, 2, 3],\n",
    "    height=[np.median(score) for score in scores],\n",
    "    width=0.8,\n",
    "    color=['gray', 'red', 'gray', 'red'],\n",
    "    yerr=[iqr(score) / 2. for score in scores],\n",
    "    error_kw={'capsize': 5, 'elinewidth': 2, 'capthick': 2}\n",
    ")\n",
    "\n",
    "# chance\n",
    "axes[1].axhline(y=1./19, xmin=0, xmax=0.5, linestyle='--', color='k')\n",
    "axes[1].axhline(y=1./3, xmin=0.5, xmax=1, linestyle='--', color='k')\n",
    "\n",
    "# plot labels\n",
    "axes[0].set_ylabel(r'\\textbf{Selection Ratio}', fontsize=25)\n",
    "axes[1].set_ylabel(r'\\textbf{Accuracy (\\% correct)}', fontsize=25)\n",
    "\n",
    "# cosmetic + legend\n",
    "for ax in axes:\n",
    "    # limits\n",
    "    ax.set_ylim([0, 1.0])\n",
    "    \n",
    "    # ticks\n",
    "    ax.set_xticks([0.5, 2.5])\n",
    "    ax.set_xticklabels([r'\\textbf{Consonant}', r'\\textbf{Vowel}'], fontsize=18)\n",
    "    ax.set_yticks([0, 0.25, 0.50, 0.75, 1.])\n",
    "    \n",
    "    # legend labels\n",
    "    ax.plot([], color='gray', label=r'\\textbf{Baseline}')\n",
    "    ax.plot([], color='r', label=r'\\textbf{UoI}')\n",
    "    lgd = ax.legend(loc=2, prop={'size': 18},\n",
    "                    handletextpad=0.7,\n",
    "                    handlelength=1.3)\n",
    "    for line in lgd.get_lines():\n",
    "        line.set_linewidth(6.0)\n",
    "\n",
    "    # gridlines\n",
    "    ax.grid('on', axis='y')\n",
    "    ax.set_axisbelow(True)\n",
    "    \n",
    "    ax.tick_params(labelsize=18)\n",
    "    \n",
    "axes[1].set_yticklabels(['0', '25', '50', '75', '100'])\n",
    "    \n",
    "axes[1].axhline()\n",
    "\n",
    "plt.subplots_adjust(wspace=0.3)\n",
    "\n",
    "plt.savefig('vsmc_decoding.pdf', bbox_inches='tight')"
   ]
  },
  {
   "cell_type": "code",
   "execution_count": 25,
   "metadata": {
    "hidden": true
   },
   "outputs": [
    {
     "name": "stdout",
     "output_type": "stream",
     "text": [
      "Selection Ratio, Consonants: WilcoxonResult(statistic=0.0, pvalue=0.043114446783075355)\n",
      "Selection Ratio, Vowels: WilcoxonResult(statistic=0.0, pvalue=0.04216819709715596)\n",
      "Accuracy, Consonants: WilcoxonResult(statistic=1.0, pvalue=0.07961580146011343)\n",
      "Accuracy, Vowels: WilcoxonResult(statistic=3.0, pvalue=0.4652088184521418)\n"
     ]
    },
    {
     "name": "stderr",
     "output_type": "stream",
     "text": [
      "/home/psachdeva/anaconda3/envs/neuro/lib/python3.7/site-packages/scipy/stats/morestats.py:2863: UserWarning: Sample size too small for normal approximation.\n",
      "  warnings.warn(\"Sample size too small for normal approximation.\")\n"
     ]
    }
   ],
   "source": [
    "# statistical tests\n",
    "\n",
    "print('Selection Ratio, Consonants:', wilcoxon(x=srs[0], y=srs[1]))\n",
    "print('Selection Ratio, Vowels:', wilcoxon(x=srs[2], y=srs[3]))\n",
    "print('Accuracy, Consonants:', wilcoxon(x=scores[0], y=scores[1]))\n",
    "print('Accuracy, Vowels:', wilcoxon(x=scores[2], y=scores[3]))"
   ]
  },
  {
   "cell_type": "markdown",
   "metadata": {
    "heading_collapsed": true
   },
   "source": [
    "## Visualize Electrodes"
   ]
  },
  {
   "cell_type": "code",
   "execution_count": 6,
   "metadata": {
    "hidden": true
   },
   "outputs": [],
   "source": [
    "n_total_electrodes = 256\n",
    "grid_size = int(np.sqrt(n_total_electrodes))\n",
    "included_electrode_idx = [\n",
    "    56, 61, 62, 63, 71, 72, 73, 74, 75, 76,\n",
    "    77, 78, 79, 87, 88, 89, 90, 91, 92, 93,\n",
    "    94, 95, 102, 103, 104, 105, 106, 107, 108,\n",
    "    109, 110, 111, 117, 118, 119, 120, 121, 122,\n",
    "    124, 125, 126, 133, 134, 135, 136, 137, 138,\n",
    "    139, 140, 141, 142, 143, 149, 150, 151, 152,\n",
    "    153, 154, 155, 156, 157, 158, 159, 164, 165,\n",
    "    166, 167, 168, 169, 170, 171, 172, 173, 174,\n",
    "    175, 181, 182, 183, 184, 185, 186, 187, 188,\n",
    "    200, 201, 202\n",
    "]\n",
    "electrode_mask = np.zeros(n_total_electrodes, dtype=bool)\n",
    "electrode_mask[included_electrode_idx] = 1\n",
    "non_electrode_mask = np.invert(electrode_mask)"
   ]
  },
  {
   "cell_type": "code",
   "execution_count": 7,
   "metadata": {
    "hidden": true
   },
   "outputs": [],
   "source": [
    "non_electrode_mask_array = np.ma.masked_array(\n",
    "    data=np.zeros(n_total_electrodes),\n",
    "    mask=electrode_mask).reshape((grid_size, grid_size))"
   ]
  },
  {
   "cell_type": "code",
   "execution_count": 8,
   "metadata": {
    "hidden": true
   },
   "outputs": [],
   "source": [
    "examples = [0, 1, 5]\n",
    "n_examples = len(examples)\n",
    "log_grids = [np.zeros(n_total_electrodes) for _ in range(n_examples)]\n",
    "uoi_grids = [np.zeros(n_total_electrodes) for _ in range(n_examples)]\n",
    "\n",
    "for idx, example in enumerate(examples):\n",
    "    log_grids[idx][included_electrode_idx] = np.median(coefs[0], axis=0)[example]\n",
    "    uoi_grids[idx][included_electrode_idx] = np.median(coefs[1], axis=0)[example]\n",
    "\n",
    "log_grids_masked = [np.ma.masked_array(\n",
    "    data=log_grid,\n",
    "    mask=non_electrode_mask).reshape((grid_size, grid_size))\n",
    "    for log_grid in log_grids]\n",
    "uoi_grids_masked = [np.ma.masked_array(\n",
    "    data=uoi_grid,\n",
    "    mask=non_electrode_mask).reshape((grid_size, grid_size))\n",
    "    for uoi_grid in uoi_grids]"
   ]
  },
  {
   "cell_type": "code",
   "execution_count": 89,
   "metadata": {
    "hidden": true
   },
   "outputs": [
    {
     "data": {
      "image/png": "[encoded data removed]",
      "text/plain": [
       "<Figure size 648x432 with 7 Axes>"
      ]
     },
     "metadata": {
      "needs_background": "light"
     },
     "output_type": "display_data"
    }
   ],
   "source": [
    "fig, axes = plt.subplots(2, 3, figsize=(9, 6))\n",
    "\n",
    "    \n",
    "for example in range(n_examples):\n",
    "    img = axes[0][example].imshow(\n",
    "        np.flip(log_grids_masked[example].T, axis=(1)),\n",
    "        cmap='RdGy',\n",
    "        vmin=-2,\n",
    "        vmax=2)\n",
    "    axes[1][example].imshow(\n",
    "        np.flip(uoi_grids_masked[example].T, axis=(1)),\n",
    "        cmap='RdGy',\n",
    "        vmin=-2,\n",
    "        vmax=2)\n",
    "    \n",
    "for ax in axes.ravel():\n",
    "    ax.contourf(np.flip(non_electrode_mask_array.T, axis=(1)), 1, hatches=['//'], alpha=0)\n",
    "    ax.set_xticks([])\n",
    "    ax.set_yticks([])\n",
    "    plot_border(x=4, y=15, which='right', ax=ax)\n",
    "    plot_border(x=4, y=14, which='right', ax=ax)\n",
    "    plot_border(x=4, y=13, which='right', ax=ax)\n",
    "    plot_border(x=4, y=13, which='bottom', ax=ax)\n",
    "    plot_border(x=3, y=12, which='right', ax=ax)\n",
    "    plot_border(x=3, y=11, which='right', ax=ax)\n",
    "    plot_border(x=3, y=11, which='bottom', ax=ax)\n",
    "    plot_border(x=2, y=10, which='right', ax=ax)\n",
    "    plot_border(x=2, y=10, which='right', ax=ax)\n",
    "    plot_border(x=2, y=9, which='right', ax=ax)\n",
    "    plot_border(x=2, y=8, which='right', ax=ax)\n",
    "    plot_border(x=3, y=7, which='top', ax=ax)\n",
    "    plot_border(x=3, y=7, which='right', ax=ax)\n",
    "    plot_border(x=3, y=6, which='right', ax=ax)\n",
    "    plot_border(x=3, y=5, which='right', ax=ax)\n",
    "    plot_border(x=4, y=4, which='top', ax=ax)\n",
    "    plot_border(x=4, y=4, which='right', ax=ax)\n",
    "    plot_border(x=5, y=4, which='bottom', ax=ax)\n",
    "    plot_border(x=5, y=4, which='right', ax=ax)\n",
    "    plot_border(x=6, y=4, which='top', ax=ax)\n",
    "    plot_border(x=7, y=4, which='top', ax=ax)\n",
    "    plot_border(x=8, y=4, which='top', ax=ax)\n",
    "    plot_border(x=9, y=5, which='left', ax=ax)\n",
    "    plot_border(x=9, y=5, which='top', ax=ax)\n",
    "    plot_border(x=10, y=6, which='left', ax=ax)\n",
    "    plot_border(x=10, y=6, which='top', ax=ax)\n",
    "    plot_border(x=11, y=6, which='top', ax=ax)\n",
    "    plot_border(x=12, y=7, which='left', ax=ax)\n",
    "    plot_border(x=12, y=7, which='top', ax=ax)\n",
    "    plot_border(x=12, y=8, which='right', ax=ax)\n",
    "    plot_border(x=12, y=8, which='top', ax=ax)\n",
    "    plot_border(x=12, y=9, which='left', ax=ax)\n",
    "    plot_border(x=12, y=10, which='left', ax=ax)\n",
    "    plot_border(x=12, y=11, which='left', ax=ax)\n",
    "    plot_border(x=12, y=12, which='left', ax=ax)\n",
    "    plot_border(x=12, y=12, which='top', ax=ax)\n",
    "    plot_border(x=13, y=13, which='left', ax=ax)\n",
    "    plot_border(x=13, y=14, which='left', ax=ax)\n",
    "    plot_border(x=13, y=15, which='left', ax=ax)\n",
    "    plot_border(x=12, y=15, which='top', ax=ax)\n",
    "    plot_border(x=11, y=15, which='top', ax=ax)\n",
    "    plot_border(x=10, y=15, which='top', ax=ax)\n",
    "    plot_border(x=9, y=15, which='top', ax=ax)\n",
    "    plot_border(x=8, y=15, which='right', ax=ax)\n",
    "    plot_border(x=8, y=15, which='bottom', ax=ax)\n",
    "    plot_border(x=8, y=15, which='left', ax=ax)\n",
    "    plot_border(x=7, y=15, which='top', ax=ax)\n",
    "    plot_border(x=6, y=15, which='top', ax=ax)\n",
    "    plot_border(x=5, y=15, which='top', ax=ax)\n",
    "    plot_border(x=8, y=11, which='top', ax=ax)\n",
    "    plot_border(x=8, y=11, which='bottom', ax=ax)\n",
    "    plot_border(x=8, y=11, which='right', ax=ax)\n",
    "    plot_border(x=8, y=11, which='left', ax=ax)\n",
    "    ax.plot(np.linspace(7.5, 8.5, 1000), np.linspace(10.5, 11.5, 1000), color='k', linewidth=1)\n",
    "    ax.plot(np.linspace(7.5, 8.5, 1000), np.linspace(11.5, 10.5, 1000), color='k', linewidth=1)\n",
    "\n",
    "    ax.set_xlim([2, 14])\n",
    "    ax.set_ylim([3, 15.6])\n",
    "\n",
    "plt.tight_layout()\n",
    "\n",
    "axes[0, 0].set_ylabel(r'\\textbf{Baseline}', fontsize=18, labelpad=10)\n",
    "axes[1, 0].set_ylabel(r'\\textbf{UoI}', fontsize=18, labelpad=10)\n",
    "\n",
    "cax = fig.add_axes([0.99, 0.033, 0.03, 0.942])\n",
    "cb = fig.colorbar(img, cax=cax, orientation='vertical')\n",
    "cb.ax.tick_params(labelsize=12)\n",
    "cb.set_ticks([-2, -1, 0, 1, 2])\n",
    "cb.set_label(r'\\textbf{Coefficient Value}',\n",
    "             labelpad=25,\n",
    "             rotation=270,\n",
    "             fontsize=18)\n",
    "\n",
    "plt.savefig('vsmc_electrodes.pdf', bbox_inches='tight')"
   ]
  }
 ],
 "metadata": {
  "kernelspec": {
   "display_name": "neuro",
   "language": "python",
   "name": "neuro"
  },
  "language_info": {
   "codemirror_mode": {
    "name": "ipython",
    "version": 3
   },
   "file_extension": ".py",
   "mimetype": "text/x-python",
   "name": "python",
   "nbconvert_exporter": "python",
   "pygments_lexer": "ipython3",
   "version": "3.7.4"
  },
  "varInspector": {
   "cols": {
    "lenName": 16,
    "lenType": 16,
    "lenVar": 40
   },
   "kernels_config": {
    "python": {
     "delete_cmd_postfix": "",
     "delete_cmd_prefix": "del ",
     "library": "var_list.py",
     "varRefreshCmd": "print(var_dic_list())"
    },
    "r": {
     "delete_cmd_postfix": ") ",
     "delete_cmd_prefix": "rm(",
     "library": "var_list.r",
     "varRefreshCmd": "cat(var_dic_list()) "
    }
   },
   "types_to_exclude": [
    "module",
    "function",
    "builtin_function_or_method",
    "instance",
    "_Feature"
   ],
   "window_display": false
  }
 },
 "nbformat": 4,
 "nbformat_minor": 2
}
