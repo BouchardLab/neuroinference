{
 "cells": [
  {
   "cell_type": "code",
   "execution_count": null,
   "metadata": {},
   "outputs": [],
   "source": [
    "suppressMessages(suppressWarnings({\n",
    "    library(hdf5r)\n",
    "    library(dplyr)\n",
    "    library(glmnet)\n",
    "}))"
   ]
  },
  {
   "cell_type": "code",
   "execution_count": null,
   "metadata": {},
   "outputs": [],
   "source": [
    "base_path = \"/Volumes/pss/fits/neuroinference/synthetic/poisson\""
   ]
  },
  {
   "cell_type": "code",
   "execution_count": null,
   "metadata": {},
   "outputs": [],
   "source": [
    "for (file in list.files(base_path)) {\n",
    "    message(file)\n",
    "    path <- file.path(base_path, file)\n",
    "    results <- H5File$new(path, mode=\"a\")\n",
    "    X <- t(results[[\"X\"]][c(1:300), ])\n",
    "    y <- results[[\"y\"]][c(1:1200)]\n",
    "    fit <- cv.glmnet(X, y, family = \"poisson\")\n",
    "    coef <- coef(fit, s = \"lambda.min\")\n",
    "    intercept <- coef[1]\n",
    "    beta <- coef[2:301]\n",
    "    results[[\"beta_glmnet\"]] <- beta\n",
    "    results[[\"intercept_glmnet\"]] <- intercept\n",
    "    results$close_all()\n",
    "}"
   ]
  }
 ],
 "metadata": {
  "kernelspec": {
   "display_name": "dssg",
   "language": "R",
   "name": "dssg"
  },
  "language_info": {
   "codemirror_mode": "r",
   "file_extension": ".r",
   "mimetype": "text/x-r-source",
   "name": "R",
   "pygments_lexer": "r",
   "version": "4.0.2"
  }
 },
 "nbformat": 4,
 "nbformat_minor": 4
}
