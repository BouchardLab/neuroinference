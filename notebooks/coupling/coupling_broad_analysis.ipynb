{
 "cells": [
  {
   "cell_type": "markdown",
   "metadata": {
    "heading_collapsed": true
   },
   "source": [
    "# Additional coupling model visualizations"
   ]
  },
  {
   "cell_type": "code",
   "execution_count": 1,
   "metadata": {
    "hidden": true
   },
   "outputs": [],
   "source": [
    "import h5py\n",
    "import matplotlib\n",
    "import matplotlib.pyplot as plt\n",
    "import numpy as np\n",
    "import os\n",
    "\n",
    "from neuroinference.utils import (calculate_selection_ratio,\n",
    "                                  plot_difference_distribution,\n",
    "                                  tighten_scatter_plot)\n",
    "from neuroinference.coupling_utils import check_metrics\n",
    "%matplotlib inline"
   ]
  },
  {
   "cell_type": "code",
   "execution_count": 2,
   "metadata": {
    "hidden": true
   },
   "outputs": [],
   "source": [
    "base_path = os.path.join(os.environ['HOME'],\n",
    "                         'fits/uoineuro/coupling')"
   ]
  },
  {
   "cell_type": "code",
   "execution_count": 3,
   "metadata": {
    "hidden": true
   },
   "outputs": [],
   "source": [
    "# consolidate A1 results\n",
    "ac_results_path = os.path.join(base_path, 'ecog/ecog_coupling.h5')\n",
    "ac_results = h5py.File(ac_results_path, 'r')\n",
    "# extract coupling coefficients\n",
    "ac_baseline_ccs = np.median(ac_results['lasso/coupling_coefs'], axis=0)\n",
    "ac_uoi_ccs = np.median(ac_results['uoi_lasso_bic/coupling_coefs'], axis=0)"
   ]
  },
  {
   "cell_type": "code",
   "execution_count": 4,
   "metadata": {
    "hidden": true
   },
   "outputs": [],
   "source": [
    "# consolidate V1 results\n",
    "v1_results_paths = [os.path.join(base_path, 'pvc11/pvc11_monkey1_coupling.h5'),\n",
    "                    os.path.join(base_path, 'pvc11/pvc11_monkey2_coupling.h5'),\n",
    "                    os.path.join(base_path, 'pvc11/pvc11_monkey3_coupling.h5')]\n",
    "n_v1_fits = len(v1_results_paths)\n",
    "v1_results = [h5py.File(v1_results_path, 'r')\n",
    "              for v1_results_path in v1_results_paths]\n",
    "# extract coupling coefficients\n",
    "v1_baseline_ccs = [np.median(v1_result['glmnet_poisson/coupling_coefs'], axis=0)\n",
    "                for v1_result in v1_results]\n",
    "v1_uoi_ccs = [np.median(v1_result['uoi_poisson_bic/coupling_coefs'], axis=0)\n",
    "              for v1_result in v1_results]"
   ]
  },
  {
   "cell_type": "code",
   "execution_count": 5,
   "metadata": {
    "hidden": true
   },
   "outputs": [],
   "source": [
    "# consolidate M1 results\n",
    "m1_results_paths = [os.path.join(base_path, 'nhp/nhp_indy_20160407_02_coupling.h5'),\n",
    "                    os.path.join(base_path, 'nhp/nhp_indy_20160411_01_coupling.h5'),\n",
    "                    os.path.join(base_path, 'nhp/nhp_indy_20160411_02_coupling.h5')]\n",
    "n_m1_fits = len(m1_results_paths)\n",
    "m1_results = [h5py.File(m1_results_path, 'r')\n",
    "              for m1_results_path in m1_results_paths]\n",
    "# extract coupling coefficients\n",
    "m1_baseline_ccs = [np.median(m1_result['glmnet_poisson/coupling_coefs'], axis=0)\n",
    "                for m1_result in m1_results]\n",
    "m1_uoi_ccs = [np.median(m1_result['uoi_poisson_bic/coupling_coefs'], axis=0)\n",
    "              for m1_result in m1_results]"
   ]
  },
  {
   "cell_type": "code",
   "execution_count": 6,
   "metadata": {
    "hidden": true
   },
   "outputs": [],
   "source": [
    "colors = ['#4986ae', '#ff800e', '#78b26d']"
   ]
  },
  {
   "cell_type": "markdown",
   "metadata": {
    "heading_collapsed": true,
    "hidden": true
   },
   "source": [
    "## Distribution of Coefficients: Histograms"
   ]
  },
  {
   "cell_type": "code",
   "execution_count": 7,
   "metadata": {
    "hidden": true
   },
   "outputs": [
    {
     "data": {
      "image/png": "[encoded data removed]",
      "text/plain": [
       "<Figure size 432x432 with 6 Axes>"
      ]
     },
     "metadata": {
      "needs_background": "light"
     },
     "output_type": "display_data"
    }
   ],
   "source": [
    "fig, axes = plt.subplots(3, 2, figsize=(6, 6))\n",
    "\n",
    "ac_baseline_nz_ccs = ac_baseline_ccs.ravel()\n",
    "ac_baseline_nz_ccs = ac_baseline_nz_ccs[ac_baseline_nz_ccs != 0]\n",
    "ac_uoi_nz_ccs = ac_uoi_ccs.ravel()\n",
    "ac_uoi_nz_ccs = ac_uoi_nz_ccs[ac_uoi_nz_ccs != 0]\n",
    "\n",
    "# auditory cortex\n",
    "bins_a1 = np.linspace(-1.1, 1.1, 81)\n",
    "axes[0, 0].hist(ac_baseline_nz_ccs,\n",
    "             color='gray',\n",
    "             bins=bins_a1)\n",
    "axes[0, 0].hist(ac_uoi_nz_ccs,\n",
    "             color='red',\n",
    "             bins=bins_a1,\n",
    "             alpha=0.25)\n",
    "axes[0, 0].set_yscale('log', nonposy='clip')\n",
    "axes[0, 0].set_xlim([-1.2, 1.2])\n",
    "\n",
    "bins_a1 = np.linspace(-0.05, 0.05, 81)\n",
    "axes[0, 1].hist(ac_baseline_nz_ccs,\n",
    "             color='gray',\n",
    "             bins=bins_a1)\n",
    "axes[0, 1].hist(ac_uoi_nz_ccs,\n",
    "             color='red',\n",
    "             bins=bins_a1,\n",
    "             alpha=0.25)\n",
    "axes[0, 1].set_yscale('log', nonposy='clip')\n",
    "\n",
    "# visual cortex\n",
    "v1_baseline_nz_ccs = v1_baseline_ccs[0].ravel()\n",
    "v1_baseline_nz_ccs = v1_baseline_nz_ccs[v1_baseline_nz_ccs != 0]\n",
    "v1_uoi_nz_ccs = v1_uoi_ccs[0].ravel()\n",
    "v1_uoi_nz_ccs = v1_uoi_nz_ccs[v1_uoi_nz_ccs != 0]\n",
    "\n",
    "bins_v1 = np.linspace(-0.23, 0.23, 81)\n",
    "axes[1, 0].hist(v1_baseline_nz_ccs,\n",
    "             color='gray',\n",
    "             bins=bins_v1)\n",
    "axes[1, 0].hist(v1_uoi_nz_ccs,\n",
    "             color='red',\n",
    "             bins=bins_v1,\n",
    "             alpha=0.25)\n",
    "axes[1, 0].set_yscale('log', nonposy='clip')\n",
    "\n",
    "bins_v1 = np.linspace(-0.01, 0.01, 81)\n",
    "axes[1, 1].hist(v1_baseline_nz_ccs,\n",
    "             color='gray',\n",
    "             bins=bins_v1)\n",
    "axes[1, 1].hist(v1_uoi_nz_ccs,\n",
    "             color='red',\n",
    "             bins=bins_v1,\n",
    "             alpha=0.25)\n",
    "axes[1, 1].set_yscale('log', nonposy='clip')\n",
    "\n",
    "# motor cortex\n",
    "m1_baseline_nz_ccs = m1_baseline_ccs[0].ravel()\n",
    "m1_baseline_nz_ccs = m1_baseline_nz_ccs[m1_baseline_nz_ccs != 0]\n",
    "m1_uoi_nz_ccs = m1_uoi_ccs[0].ravel()\n",
    "m1_uoi_nz_ccs = m1_uoi_nz_ccs[m1_uoi_nz_ccs != 0]\n",
    "\n",
    "bins_m1 = np.linspace(-1.2, 1.2, 81)\n",
    "axes[2, 0].hist(m1_baseline_nz_ccs,\n",
    "             color='gray',\n",
    "             bins=bins_m1)\n",
    "axes[2, 0].hist(m1_uoi_nz_ccs,\n",
    "             color='red',\n",
    "             bins=bins_m1,\n",
    "             alpha=0.25)\n",
    "axes[2, 0].set_yscale('log', nonposy='clip')\n",
    "\n",
    "bins_m1 = np.linspace(-0.1, 0.1, 81)\n",
    "axes[2, 1].hist(m1_baseline_nz_ccs,\n",
    "             color='gray',\n",
    "             bins=bins_m1)\n",
    "axes[2, 1].hist(m1_uoi_nz_ccs,\n",
    "             color='red',\n",
    "             bins=bins_m1,\n",
    "             alpha=0.25)\n",
    "axes[2, 1].set_yscale('log', nonposy='clip')\n",
    "\n",
    "for ax in axes.ravel():\n",
    "    ax.set_yticks([10, 100, 1000])\n",
    "    ax.tick_params(labelsize=13)\n",
    "    ax.grid('on')\n",
    "    ax.yaxis.set_label_position('right')\n",
    "\n",
    "# metric labels\n",
    "axes[0, 1].set_ylabel(\n",
    "    r'\\textbf{A1}',\n",
    "    fontsize=18,\n",
    "    labelpad=20,\n",
    "    rotation=270)\n",
    "axes[1, 1].set_ylabel(\n",
    "    r'\\textbf{V1}',\n",
    "    fontsize=18,\n",
    "    labelpad=20,\n",
    "    rotation=270)\n",
    "axes[2, 1].set_ylabel(\n",
    "    r'\\textbf{M1}',\n",
    "    fontsize=18,\n",
    "    labelpad=20,\n",
    "    rotation=270)\n",
    "\n",
    "for ax in axes.ravel():\n",
    "    ax.set_axisbelow(True)\n",
    "\n",
    "fig.text(\n",
    "    x=-0.02, y=0.5,\n",
    "    s=r'\\textbf{Frequency}',\n",
    "    fontsize=18,\n",
    "    rotation=90,\n",
    "    horizontalalignment='center',\n",
    "    verticalalignment='center')\n",
    "\n",
    "fig.text(\n",
    "    x=0.5, y=-0.01,\n",
    "    s=r'\\textbf{Coupling Coefficient Value}',\n",
    "    fontsize=18,\n",
    "    horizontalalignment='center',\n",
    "    verticalalignment='center')\n",
    "\n",
    "plt.tight_layout()\n",
    "# plt.savefig('coupling_coef_histogram.pdf', bbox_inches='tight')"
   ]
  },
  {
   "cell_type": "markdown",
   "metadata": {
    "heading_collapsed": true,
    "hidden": true
   },
   "source": [
    "## Distribution of Coefficients: Scatter Plots"
   ]
  },
  {
   "cell_type": "code",
   "execution_count": 8,
   "metadata": {
    "hidden": true
   },
   "outputs": [
    {
     "data": {
      "image/png": "[encoded data removed]",
      "text/plain": [
       "<Figure size 432x288 with 6 Axes>"
      ]
     },
     "metadata": {
      "needs_background": "light"
     },
     "output_type": "display_data"
    }
   ],
   "source": [
    "fig, axes = plt.subplots(2, 3, figsize=(6, 4))\n",
    "ax_list = axes.ravel()\n",
    "\n",
    "baseline_coefs = \\\n",
    "    [ac_baseline_ccs.ravel()] + \\\n",
    "    [v1_baseline_ccs[idx].ravel() for idx in range(n_v1_fits)] + \\\n",
    "    [m1_baseline_ccs[idx].ravel() for idx in range(n_m1_fits)]\n",
    "uoi_coefs = \\\n",
    "    [ac_uoi_ccs.ravel()] + \\\n",
    "    [v1_uoi_ccs[idx].ravel() for idx in range(n_v1_fits)] + \\\n",
    "    [m1_uoi_ccs[idx].ravel() for idx in range(n_m1_fits)]\n",
    "\n",
    "for idx, ax in enumerate(ax_list):\n",
    "    ax.scatter(\n",
    "        baseline_coefs[idx], uoi_coefs[idx],\n",
    "        color='k',\n",
    "        edgecolor='w',\n",
    "        s=50,\n",
    "        alpha=0.40)\n",
    "    ax.grid('on')\n",
    "    ax.tick_params(labelsize=10)\n",
    "    \n",
    "tighten_scatter_plot(axes[0, 0], [-1., 1.])\n",
    "tighten_scatter_plot(axes[0, 1], [-0.3, 0.3])\n",
    "tighten_scatter_plot(axes[0, 2], [-0.60, 0.60])\n",
    "tighten_scatter_plot(axes[1, 0], [-0.15, 0.15])\n",
    "tighten_scatter_plot(axes[1, 1], [-1.5, 1.5])\n",
    "tighten_scatter_plot(axes[1, 2], [-2.5, 2.5])\n",
    "\n",
    "axes[0, 0].set_xticks([-1, -0.5, 0, 0.5, 1.])\n",
    "axes[0, 0].set_yticks(axes[0, 0].get_xticks())\n",
    "axes[0, 1].set_xticks([-0.2, -0.1, 0, 0.1, 0.2])\n",
    "axes[0, 1].set_yticks(axes[0, 1].get_xticks())\n",
    "axes[0, 2].set_xticks([-0.5, -0.25, 0, 0.25, 0.5])\n",
    "axes[0, 2].set_yticks(axes[0, 2].get_xticks())\n",
    "axes[1, 0].set_xticks([-0.1, 0, 0.1])\n",
    "axes[1, 0].set_yticks(axes[1, 0].get_xticks())\n",
    "axes[1, 1].set_xticks([-1,  0, 1.])\n",
    "axes[1, 1].set_yticks(axes[1, 1].get_xticks())\n",
    "axes[1, 2].set_xticks([-2, -1, 0, 1, 2.])\n",
    "axes[1, 2].set_yticks(axes[1, 2].get_xticks())\n",
    "\n",
    "labels = [r'\\textbf{A1}', r'\\textbf{V1}', r'\\textbf{V1}',\n",
    "          r'\\textbf{V1}', r'\\textbf{M1}', r'\\textbf{M1}']\n",
    "\n",
    "for idx, label in enumerate(labels):\n",
    "    ax_list[idx].text(\n",
    "        x=0.15, y=0.87,\n",
    "        s=label,\n",
    "        fontsize=15,\n",
    "        horizontalalignment='center',\n",
    "        verticalalignment='center',\n",
    "        transform=ax_list[idx].transAxes)   \n",
    "\n",
    "fig.text(\n",
    "    x=-0.0, y=0.53,\n",
    "    s=r'\\textbf{UoI Coupling Coefficient}',\n",
    "    fontsize=18,\n",
    "    rotation=90,\n",
    "    horizontalalignment='center',\n",
    "    verticalalignment='center')\n",
    "\n",
    "fig.text(\n",
    "    x=0.5, y=-0.01,\n",
    "    s=r'\\textbf{Baseline Coupling Coefficient}',\n",
    "    fontsize=18,\n",
    "    horizontalalignment='center',\n",
    "    verticalalignment='center')\n",
    "\n",
    "plt.tight_layout()\n",
    "# plt.savefig('coupling_coefficient_scatter_plots.pdf', bbox_inches='tight')"
   ]
  }
 ],
 "metadata": {
  "kernelspec": {
   "display_name": "neuro",
   "language": "python",
   "name": "neuro"
  },
  "language_info": {
   "codemirror_mode": {
    "name": "ipython",
    "version": 3
   },
   "file_extension": ".py",
   "mimetype": "text/x-python",
   "name": "python",
   "nbconvert_exporter": "python",
   "pygments_lexer": "ipython3",
   "version": "3.7.4"
  },
  "varInspector": {
   "cols": {
    "lenName": 16,
    "lenType": 16,
    "lenVar": 40
   },
   "kernels_config": {
    "python": {
     "delete_cmd_postfix": "",
     "delete_cmd_prefix": "del ",
     "library": "var_list.py",
     "varRefreshCmd": "print(var_dic_list())"
    },
    "r": {
     "delete_cmd_postfix": ") ",
     "delete_cmd_prefix": "rm(",
     "library": "var_list.r",
     "varRefreshCmd": "cat(var_dic_list()) "
    }
   },
   "types_to_exclude": [
    "module",
    "function",
    "builtin_function_or_method",
    "instance",
    "_Feature"
   ],
   "window_display": false
  }
 },
 "nbformat": 4,
 "nbformat_minor": 2
}
