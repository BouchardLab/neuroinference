{
 "cells": [
  {
   "cell_type": "code",
   "execution_count": 62,
   "metadata": {},
   "outputs": [],
   "source": [
    "import glob\n",
    "import h5py\n",
    "import matplotlib.pyplot as plt\n",
    "import numpy as np\n",
    "import os\n",
    "import scipy\n",
    "\n",
    "from neuropacks import NHP, PVC11\n",
    "from sklearn.linear_model import LinearRegression\n",
    "\n",
    "%matplotlib inline"
   ]
  },
  {
   "cell_type": "markdown",
   "metadata": {},
   "source": [
    "# V1"
   ]
  },
  {
   "cell_type": "code",
   "execution_count": 11,
   "metadata": {},
   "outputs": [],
   "source": [
    "base_path = os.path.join(os.environ['HOME'],\n",
    "                         'data/pvc11/data/spikes_gratings')\n",
    "monkey_paths = glob.glob(os.path.join(base_path, '*.mat'))"
   ]
  },
  {
   "cell_type": "code",
   "execution_count": 12,
   "metadata": {},
   "outputs": [],
   "source": [
    "pvcs = [PVC11(data_path=monkey_path)\n",
    "        for monkey_path in monkey_paths]"
   ]
  },
  {
   "cell_type": "code",
   "execution_count": 13,
   "metadata": {},
   "outputs": [],
   "source": [
    "Xs = [pvc.get_design_matrix(form='cosine2')\n",
    "      for pvc in pvcs]\n",
    "Ys = [pvc.get_response_matrix(transform='square_root')\n",
    "      for pvc in pvcs]"
   ]
  },
  {
   "cell_type": "code",
   "execution_count": 14,
   "metadata": {},
   "outputs": [],
   "source": [
    "preferences_list = []"
   ]
  },
  {
   "cell_type": "code",
   "execution_count": 15,
   "metadata": {},
   "outputs": [],
   "source": [
    "for pvc, X, Y in zip(pvcs, Xs, Ys):\n",
    "    ols = LinearRegression()\n",
    "    ols.fit(X, Y)\n",
    "    _, preferences = pvc.get_tuning_modulation_and_preference(form='cosine2',\n",
    "                                                              tuning_coefs=ols.coef_)\n",
    "    preferences_list.append(preferences)"
   ]
  },
  {
   "cell_type": "code",
   "execution_count": 18,
   "metadata": {},
   "outputs": [],
   "source": [
    "np.save('v1_preferences.npy', preferences)"
   ]
  },
  {
   "cell_type": "markdown",
   "metadata": {},
   "source": [
    "# M1"
   ]
  },
  {
   "cell_type": "code",
   "execution_count": 19,
   "metadata": {},
   "outputs": [],
   "source": [
    "base_path = os.path.join(os.environ['HOME'], 'data/nhp')\n",
    "monkey_paths = glob.glob(os.path.join(base_path, '*.mat'))"
   ]
  },
  {
   "cell_type": "code",
   "execution_count": 20,
   "metadata": {},
   "outputs": [],
   "source": [
    "nhps = [NHP(data_path=monkey_path)\n",
    "        for monkey_path in monkey_paths]"
   ]
  },
  {
   "cell_type": "code",
   "execution_count": 29,
   "metadata": {},
   "outputs": [],
   "source": [
    "positions = nhps[0].get_binned_positions(bin_width=0.15)\n",
    "Y = nhps[0].get_response_matrix(bin_width=0.15)\n",
    "x = positions[:, 0]\n",
    "y = positions[:, 1]"
   ]
  },
  {
   "cell_type": "code",
   "execution_count": 48,
   "metadata": {},
   "outputs": [],
   "source": [
    "angles = np.rad2deg(np.arctan2(np.ediff1d(y), np.ediff1d(x)))"
   ]
  },
  {
   "cell_type": "code",
   "execution_count": 64,
   "metadata": {},
   "outputs": [
    {
     "data": {
      "text/plain": [
       "(5867, 192)"
      ]
     },
     "execution_count": 64,
     "metadata": {},
     "output_type": "execute_result"
    }
   ],
   "source": [
    "Y.shape"
   ]
  },
  {
   "cell_type": "code",
   "execution_count": 40,
   "metadata": {},
   "outputs": [
    {
     "data": {
      "text/plain": [
       "135.0"
      ]
     },
     "execution_count": 40,
     "metadata": {},
     "output_type": "execute_result"
    }
   ],
   "source": [
    "np.rad2deg(np.arctan2(1, -1))"
   ]
  },
  {
   "cell_type": "code",
   "execution_count": 43,
   "metadata": {},
   "outputs": [
    {
     "data": {
      "text/plain": [
       "135.0"
      ]
     },
     "execution_count": 43,
     "metadata": {},
     "output_type": "execute_result"
    }
   ],
   "source": [
    "np.rad2deg(np.arctan2(1, -1))"
   ]
  },
  {
   "cell_type": "code",
   "execution_count": 56,
   "metadata": {},
   "outputs": [
    {
     "data": {
      "text/plain": [
       "array([-114.40909985, -113.32296137, -112.23247527, ...,  -57.24131965,\n",
       "        -57.24218896,  -57.24295368])"
      ]
     },
     "execution_count": 56,
     "metadata": {},
     "output_type": "execute_result"
    }
   ],
   "source": [
    "woof.cursor_pos[0]"
   ]
  },
  {
   "cell_type": "code",
   "execution_count": 58,
   "metadata": {},
   "outputs": [
    {
     "data": {
      "text/plain": [
       "array([66.18872713, 66.28512398, 66.38599637, ..., 58.95097488,\n",
       "       58.95150602, 58.95201324])"
      ]
     },
     "execution_count": 58,
     "metadata": {},
     "output_type": "execute_result"
    }
   ],
   "source": [
    "woof.cursor_pos[1]"
   ]
  },
  {
   "cell_type": "code",
   "execution_count": 63,
   "metadata": {},
   "outputs": [],
   "source": [
    "angles = np.rad2deg(np.arctan2(np.ediff1d(nhps[0].cursor_pos[1]), np.ediff1d(nhps[0].cursor_pos[0])))"
   ]
  },
  {
   "cell_type": "code",
   "execution_count": 70,
   "metadata": {},
   "outputs": [
    {
     "data": {
      "text/plain": [
       "BinnedStatisticResult(statistic=array([-179.96983896, -179.9073926 , -179.84736327, ...,  179.84406723,\n",
       "        179.90700221,  179.96987307]), bin_edges=array([-179.99880226, -179.93744239, -179.87608252, ...,  179.87682314,\n",
       "        179.93818301,  179.99954287]), binnumber=array([3017, 3020, 3024, ..., 5381, 5355, 5321]))"
      ]
     },
     "execution_count": 70,
     "metadata": {},
     "output_type": "execute_result"
    }
   ],
   "source": [
    "scipy.stats.binned_statistic(\n",
    "    angles,\n",
    "    angles,\n",
    "    statistic='mean',\n",
    "    bins=5867\n",
    ")"
   ]
  },
  {
   "cell_type": "code",
   "execution_count": 73,
   "metadata": {},
   "outputs": [
    {
     "data": {
      "text/plain": [
       "array([ 5.07182009,  5.28494731,  5.54492172,  5.86053496,  6.2418526 ,\n",
       "        6.70042137,  7.24898493,  7.90066732,  8.66793383,  9.56089449,\n",
       "       10.58437722, 11.73430831, 12.99415699, 14.33196291, 15.69816265,\n",
       "       17.02492641, 18.22878488, 19.21744655, 19.90110345, 20.2075514 ,\n",
       "       20.09732737, 19.574703  , 18.68963141, 17.52682579, 16.18666349,\n",
       "       14.76677943, 13.35079213, 12.00324384, 10.76659666,  9.66316888,\n",
       "        8.70183676,  7.88266277,  7.19899454,  6.64031277,  6.19482108,\n",
       "        5.85015235,  5.59335358,  5.41118968,  5.29026896,  5.2169991 ,\n",
       "        5.17785109,  5.15983081,  5.15093977,  5.14054948,  5.11968087,\n",
       "        5.0812216 ,  5.02006885,  4.93318227,  4.81951801,  4.67983724,\n",
       "        4.51636028,  4.33205872,  4.12981113,  3.91214083,  3.68122789,\n",
       "        3.43843657,  3.18388821,  2.91663681,  2.63509982,  2.33748605,\n",
       "        2.0221616 ,  1.68779043,  1.33330692,  0.95799185,  0.56161788,\n",
       "        0.14449051, -0.29255931, -0.74792361, -1.21873262, -1.70113632,\n",
       "       -2.19145615, -2.68652232, -3.18256908, -3.67426759, -4.15497069,\n",
       "       -4.61694172, -5.05114289, -5.44750565, -5.79516332, -6.08297532,\n",
       "       -6.30080989, -6.44042314, -6.49648574, -6.46801142, -6.35846507,\n",
       "       -6.17433856, -5.92385426, -5.61676296, -5.26425359, -4.87843706,\n",
       "       -4.47196563, -4.05753136, -3.64703198, -3.2503352 , -2.87356352,\n",
       "       -2.51796823, -2.17998557, -1.85149996, -1.5194039 , -1.16431165])"
      ]
     },
     "execution_count": 73,
     "metadata": {},
     "output_type": "execute_result"
    }
   ],
   "source": [
    "plt.plot(nhps[0].cursor_pos[0][:20], nhps[0].cursor_p)"
   ]
  },
  {
   "cell_type": "code",
   "execution_count": null,
   "metadata": {},
   "outputs": [],
   "source": []
  }
 ],
 "metadata": {
  "kernelspec": {
   "display_name": "neuro",
   "language": "python",
   "name": "neuro"
  },
  "language_info": {
   "codemirror_mode": {
    "name": "ipython",
    "version": 3
   },
   "file_extension": ".py",
   "mimetype": "text/x-python",
   "name": "python",
   "nbconvert_exporter": "python",
   "pygments_lexer": "ipython3",
   "version": "3.7.4"
  },
  "varInspector": {
   "cols": {
    "lenName": 16,
    "lenType": 16,
    "lenVar": 40
   },
   "kernels_config": {
    "python": {
     "delete_cmd_postfix": "",
     "delete_cmd_prefix": "del ",
     "library": "var_list.py",
     "varRefreshCmd": "print(var_dic_list())"
    },
    "r": {
     "delete_cmd_postfix": ") ",
     "delete_cmd_prefix": "rm(",
     "library": "var_list.r",
     "varRefreshCmd": "cat(var_dic_list()) "
    }
   },
   "types_to_exclude": [
    "module",
    "function",
    "builtin_function_or_method",
    "instance",
    "_Feature"
   ],
   "window_display": false
  }
 },
 "nbformat": 4,
 "nbformat_minor": 2
}
