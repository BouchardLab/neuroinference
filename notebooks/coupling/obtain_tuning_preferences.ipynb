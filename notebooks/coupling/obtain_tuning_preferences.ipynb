{
 "cells": [
  {
   "cell_type": "code",
   "execution_count": 1,
   "metadata": {},
   "outputs": [],
   "source": [
    "import glob\n",
    "import h5py\n",
    "import matplotlib.pyplot as plt\n",
    "import numpy as np\n",
    "import os\n",
    "import scipy\n",
    "\n",
    "from neuropacks import NHP, PVC11, DREAM\n",
    "from sklearn.linear_model import LinearRegression\n",
    "\n",
    "%matplotlib inline"
   ]
  },
  {
   "cell_type": "markdown",
   "metadata": {
    "heading_collapsed": true
   },
   "source": [
    "# V1"
   ]
  },
  {
   "cell_type": "code",
   "execution_count": 11,
   "metadata": {
    "hidden": true
   },
   "outputs": [],
   "source": [
    "base_path = os.path.join(os.environ['HOME'],\n",
    "                         'data/pvc11/data/spikes_gratings')\n",
    "monkey_paths = glob.glob(os.path.join(base_path, '*.mat'))"
   ]
  },
  {
   "cell_type": "code",
   "execution_count": 12,
   "metadata": {
    "hidden": true
   },
   "outputs": [],
   "source": [
    "pvcs = [PVC11(data_path=monkey_path)\n",
    "        for monkey_path in monkey_paths]"
   ]
  },
  {
   "cell_type": "code",
   "execution_count": 13,
   "metadata": {
    "hidden": true
   },
   "outputs": [],
   "source": [
    "Xs = [pvc.get_design_matrix(form='cosine2')\n",
    "      for pvc in pvcs]\n",
    "Ys = [pvc.get_response_matrix(transform='square_root')\n",
    "      for pvc in pvcs]"
   ]
  },
  {
   "cell_type": "code",
   "execution_count": 14,
   "metadata": {
    "hidden": true
   },
   "outputs": [],
   "source": [
    "preferences_list = []"
   ]
  },
  {
   "cell_type": "code",
   "execution_count": 15,
   "metadata": {
    "hidden": true
   },
   "outputs": [],
   "source": [
    "for pvc, X, Y in zip(pvcs, Xs, Ys):\n",
    "    ols = LinearRegression()\n",
    "    ols.fit(X, Y)\n",
    "    _, preferences = pvc.get_tuning_modulation_and_preference(form='cosine2',\n",
    "                                                              tuning_coefs=ols.coef_)\n",
    "    preferences_list.append(preferences)"
   ]
  },
  {
   "cell_type": "code",
   "execution_count": 18,
   "metadata": {
    "hidden": true
   },
   "outputs": [],
   "source": [
    "np.save('v1_preferences.npy', preferences)"
   ]
  },
  {
   "cell_type": "markdown",
   "metadata": {
    "heading_collapsed": true
   },
   "source": [
    "# M1"
   ]
  },
  {
   "cell_type": "code",
   "execution_count": 2,
   "metadata": {
    "hidden": true
   },
   "outputs": [],
   "source": [
    "base_path = '/storage/data/nhp'\n",
    "#base_path = os.path.join(os.environ['HOME'], 'data/nhp')\n",
    "monkey_paths = glob.glob(os.path.join(base_path, '*.mat'))"
   ]
  },
  {
   "cell_type": "code",
   "execution_count": 3,
   "metadata": {
    "hidden": true
   },
   "outputs": [],
   "source": [
    "nhps = [NHP(data_path=monkey_path)\n",
    "        for monkey_path in monkey_paths]"
   ]
  },
  {
   "cell_type": "code",
   "execution_count": 6,
   "metadata": {
    "hidden": true
   },
   "outputs": [],
   "source": [
    "preferences = []\n",
    "\n",
    "for nhp in nhps:\n",
    "    Y = nhp.get_response_matrix(bin_width=0.15,  transform='square_root')\n",
    "    Y = Y[:, np.sum(Y, axis=0) != 0]\n",
    "    \n",
    "    x = nhp.cursor_pos[0]\n",
    "    y = nhp.cursor_pos[1]\n",
    "    t = nhp.timestamps\n",
    "\n",
    "    dx = np.ediff1d(x)\n",
    "    dy = np.ediff1d(y)\n",
    "    dt = np.ediff1d(t)\n",
    "\n",
    "    vx = dx / dt\n",
    "    vy = dy / dt\n",
    "    \n",
    "    x_binned = scipy.stats.binned_statistic(\n",
    "        np.arange(x.size),\n",
    "        x,\n",
    "        statistic='mean',\n",
    "        bins=Y.shape[0]).statistic\n",
    "\n",
    "    y_binned = scipy.stats.binned_statistic(\n",
    "        np.arange(y.size),\n",
    "        y,\n",
    "        statistic='mean',\n",
    "        bins=Y.shape[0]).statistic\n",
    "\n",
    "    angles = np.rad2deg(np.arctan2(y_binned, x_binned))\n",
    "\n",
    "    vx_binned = scipy.stats.binned_statistic(\n",
    "        np.arange(vx.size),\n",
    "        vx,\n",
    "        statistic='mean',\n",
    "        bins=Y.shape[0]).statistic\n",
    "\n",
    "    vy_binned = scipy.stats.binned_statistic(\n",
    "        np.arange(vy.size),\n",
    "        vy,\n",
    "        statistic='mean',\n",
    "        bins=Y.shape[0]).statistic\n",
    "    \n",
    "    X = np.vstack((np.cos(angles), np.sin(angles), vx_binned, vy_binned)).T\n",
    "    \n",
    "    ols = LinearRegression()\n",
    "    ols.fit(X, Y)\n",
    "    \n",
    "    _, prefs = DREAM.get_tuning_modulation_and_preference(\n",
    "        form='cosine',\n",
    "        tuning_coefs=ols.coef_[:, :2])\n",
    "    \n",
    "    preferences.append(prefs)"
   ]
  },
  {
   "cell_type": "code",
   "execution_count": null,
   "metadata": {
    "hidden": true
   },
   "outputs": [],
   "source": [
    "np.save('m1_preferences.npy', preferences)"
   ]
  }
 ],
 "metadata": {
  "kernelspec": {
   "display_name": "neuro",
   "language": "python",
   "name": "neuro"
  },
  "language_info": {
   "codemirror_mode": {
    "name": "ipython",
    "version": 3
   },
   "file_extension": ".py",
   "mimetype": "text/x-python",
   "name": "python",
   "nbconvert_exporter": "python",
   "pygments_lexer": "ipython3",
   "version": "3.7.5"
  },
  "varInspector": {
   "cols": {
    "lenName": 16,
    "lenType": 16,
    "lenVar": 40
   },
   "kernels_config": {
    "python": {
     "delete_cmd_postfix": "",
     "delete_cmd_prefix": "del ",
     "library": "var_list.py",
     "varRefreshCmd": "print(var_dic_list())"
    },
    "r": {
     "delete_cmd_postfix": ") ",
     "delete_cmd_prefix": "rm(",
     "library": "var_list.r",
     "varRefreshCmd": "cat(var_dic_list()) "
    }
   },
   "types_to_exclude": [
    "module",
    "function",
    "builtin_function_or_method",
    "instance",
    "_Feature"
   ],
   "window_display": false
  }
 },
 "nbformat": 4,
 "nbformat_minor": 2
}
