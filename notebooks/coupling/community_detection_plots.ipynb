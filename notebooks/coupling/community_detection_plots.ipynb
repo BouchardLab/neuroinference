{
 "cells": [
  {
   "cell_type": "code",
   "execution_count": 1,
   "metadata": {},
   "outputs": [],
   "source": [
    "from graph_tool.all import *\n",
    "import matplotlib\n",
    "import matplotlib.pyplot as plt\n",
    "import numpy as np\n",
    "import os\n",
    "import pickle\n",
    "\n",
    "%matplotlib inline"
   ]
  },
  {
   "cell_type": "code",
   "execution_count": 2,
   "metadata": {},
   "outputs": [],
   "source": [
    "graphs_path = os.path.join(os.environ['HOME'],\n",
    "                             'fits/uoineuro/coupling/graphs')"
   ]
  },
  {
   "cell_type": "markdown",
   "metadata": {
    "heading_collapsed": true
   },
   "source": [
    "# V1 Community Detection"
   ]
  },
  {
   "cell_type": "code",
   "execution_count": 10,
   "metadata": {
    "hidden": true
   },
   "outputs": [],
   "source": [
    "v1_baseline_graph_path = os.path.join(graphs_path, 'v1_glmnet_1.graphml')\n",
    "v1_uoi_graph_path = os.path.join(graphs_path, 'v1_uoi_poisson_1.graphml')\n",
    "v1_preferences_path = os.path.join(graphs_path, 'vc_monkey1_preferences.npy')"
   ]
  },
  {
   "cell_type": "code",
   "execution_count": 11,
   "metadata": {
    "hidden": true
   },
   "outputs": [],
   "source": [
    "v1_glmnet = load_graph(v1_baseline_graph_path)\n",
    "v1_uoi_poisson = load_graph(v1_uoi_graph_path)\n",
    "v1_preferences = np.load(v1_preferences_path)"
   ]
  },
  {
   "cell_type": "code",
   "execution_count": 12,
   "metadata": {
    "hidden": true
   },
   "outputs": [],
   "source": [
    "v1_color_scalings = 2 * 255 * (v1_preferences / np.max(v1_preferences))\n",
    "v1_color_scalings = v1_color_scalings.astype('int')\n",
    "v1_colors = plt.get_cmap('twilight')(v1_color_scalings)"
   ]
  },
  {
   "cell_type": "code",
   "execution_count": 13,
   "metadata": {
    "hidden": true
   },
   "outputs": [],
   "source": [
    "baseline_state = minimize_nested_blockmodel_dl(v1_glmnet, B_min=10)\n",
    "uoi_state = minimize_nested_blockmodel_dl(v1_uoi_poisson, B_min=10)"
   ]
  },
  {
   "cell_type": "code",
   "execution_count": 35,
   "metadata": {
    "hidden": true
   },
   "outputs": [],
   "source": [
    "# save baseline state\n",
    "with open('vc_monkey1_baseline.pkl', 'wb') as output:\n",
    "    pickle.dump([v1_glmnet, baseline_state], output, pickle.HIGHEST_PROTOCOL)\n",
    "# save uoi state\n",
    "with open('vc_monkey1_uoi.pkl', 'wb') as output:\n",
    "    pickle.dump([v1_uoi_poisson, uoi_state], output, pickle.HIGHEST_PROTOCOL)"
   ]
  },
  {
   "cell_type": "code",
   "execution_count": 36,
   "metadata": {
    "hidden": true
   },
   "outputs": [],
   "source": [
    "baseline_colors = v1_glmnet.new_vertex_property(\"vector<float>\") \n",
    "for idx, vertex in enumerate(v1_glmnet.vertices()):\n",
    "    baseline_colors[vertex] = v1_colors[idx]\n",
    "    \n",
    "uoi_colors = v1_uoi_poisson.new_vertex_property(\"vector<float>\") \n",
    "for idx, vertex in enumerate(v1_uoi_poisson.vertices()):\n",
    "    uoi_colors[vertex] = v1_colors[idx]"
   ]
  },
  {
   "cell_type": "code",
   "execution_count": 38,
   "metadata": {
    "code_folding": [],
    "hidden": true
   },
   "outputs": [
    {
     "data": {
      "text/plain": [
       "(<VertexPropertyMap object with value type 'vector<double>', for Graph 0x10714db10, at 0x1071c4310>,\n",
       " <Graph object, directed, with 119 vertices and 118 edges at 0x142869690>,\n",
       " <VertexPropertyMap object with value type 'vector<double>', for Graph 0x142869690, at 0x142869f90>)"
      ]
     },
     "execution_count": 38,
     "metadata": {},
     "output_type": "execute_result"
    }
   ],
   "source": [
    "baseline_state.draw(vertex_fill_color=baseline_colors,\n",
    "                    vertex_color=baseline_colors,\n",
    "                    output='v1_baseline.png')\n",
    "baseline_state.draw(vertex_fill_color=baseline_colors,\n",
    "                    vertex_color=baseline_colors,\n",
    "                    output='v1_baseline.pdf')"
   ]
  },
  {
   "cell_type": "code",
   "execution_count": 39,
   "metadata": {
    "hidden": true
   },
   "outputs": [
    {
     "data": {
      "text/plain": [
       "(<VertexPropertyMap object with value type 'vector<double>', for Graph 0x123a21390, at 0x141bd3c50>,\n",
       " <Graph object, directed, with 119 vertices and 118 edges at 0x14253e110>,\n",
       " <VertexPropertyMap object with value type 'vector<double>', for Graph 0x14253e110, at 0x141bd3350>)"
      ]
     },
     "execution_count": 39,
     "metadata": {},
     "output_type": "execute_result"
    }
   ],
   "source": [
    "uoi_state.draw(vertex_fill_color=uoi_colors,\n",
    "               vertex_color=uoi_colors,\n",
    "               output='v1_uoi.png')\n",
    "uoi_state.draw(vertex_fill_color=uoi_colors,\n",
    "               vertex_color=uoi_colors,\n",
    "               output='v1_uoi.pdf')"
   ]
  },
  {
   "cell_type": "markdown",
   "metadata": {
    "heading_collapsed": true
   },
   "source": [
    "# M1 Community Detection"
   ]
  },
  {
   "cell_type": "code",
   "execution_count": 67,
   "metadata": {
    "hidden": true
   },
   "outputs": [],
   "source": [
    "m1_baseline_graph_path = os.path.join(graphs_path, 'm1_glmnet_2.graphml')\n",
    "m1_uoi_graph_path = os.path.join(graphs_path, 'm1_uoi_poisson_2.graphml')\n",
    "m1_preferences_path = os.path.join(graphs_path, 'm1_preferences.npy')"
   ]
  },
  {
   "cell_type": "code",
   "execution_count": 68,
   "metadata": {
    "hidden": true
   },
   "outputs": [],
   "source": [
    "m1_baseline = load_graph(m1_baseline_graph_path)\n",
    "m1_uoi_poisson = load_graph(m1_uoi_graph_path)\n",
    "m1_preferences = np.load(m1_preferences_path, allow_pickle=True)"
   ]
  },
  {
   "cell_type": "code",
   "execution_count": 69,
   "metadata": {
    "hidden": true
   },
   "outputs": [],
   "source": [
    "m1_color_scalings = 2 * 255 * (m1_preferences[1] / np.max(m1_preferences[1]))\n",
    "m1_color_scalings = m1_color_scalings.astype('int')\n",
    "m1_colors = plt.get_cmap('twilight')(m1_color_scalings)"
   ]
  },
  {
   "cell_type": "code",
   "execution_count": 70,
   "metadata": {
    "hidden": true
   },
   "outputs": [],
   "source": [
    "m1_baseline_state = minimize_nested_blockmodel_dl(m1_baseline, B_min=8)\n",
    "m1_uoi_state = minimize_nested_blockmodel_dl(m1_uoi_poisson, B_min=8)"
   ]
  },
  {
   "cell_type": "code",
   "execution_count": 71,
   "metadata": {
    "hidden": true
   },
   "outputs": [],
   "source": [
    "m1_baseline_colors = m1_baseline.new_vertex_property(\"vector<float>\") \n",
    "for idx, vertex in enumerate(m1_baseline.vertices()):\n",
    "    m1_baseline_colors[vertex] = m1_colors[idx]\n",
    "    \n",
    "m1_uoi_colors = m1_uoi_poisson.new_vertex_property(\"vector<float>\") \n",
    "for idx, vertex in enumerate(m1_uoi_poisson.vertices()):\n",
    "    m1_uoi_colors[vertex] = m1_colors[idx]"
   ]
  },
  {
   "cell_type": "code",
   "execution_count": 73,
   "metadata": {
    "hidden": true
   },
   "outputs": [
    {
     "data": {
      "text/plain": [
       "(<VertexPropertyMap object with value type 'vector<double>', for Graph 0x143219610, at 0x143185590>,\n",
       " <Graph object, directed, with 158 vertices and 157 edges at 0x143334a10>,\n",
       " <VertexPropertyMap object with value type 'vector<double>', for Graph 0x143334a10, at 0x1433349d0>)"
      ]
     },
     "execution_count": 73,
     "metadata": {},
     "output_type": "execute_result"
    }
   ],
   "source": [
    "m1_baseline_state.draw(vertex_fill_color=m1_baseline_colors,\n",
    "                       vertex_color=m1_baseline_colors,\n",
    "                       output='m1_baseline.png')\n",
    "m1_baseline_state.draw(vertex_fill_color=m1_baseline_colors,\n",
    "                       vertex_color=m1_baseline_colors,\n",
    "                       output='m1_baseline.pdf')"
   ]
  },
  {
   "cell_type": "code",
   "execution_count": 74,
   "metadata": {
    "hidden": true
   },
   "outputs": [
    {
     "data": {
      "text/plain": [
       "(<VertexPropertyMap object with value type 'vector<double>', for Graph 0x143219c90, at 0x142c01710>,\n",
       " <Graph object, directed, with 157 vertices and 156 edges at 0x142c01f90>,\n",
       " <VertexPropertyMap object with value type 'vector<double>', for Graph 0x142c01f90, at 0x143201210>)"
      ]
     },
     "execution_count": 74,
     "metadata": {},
     "output_type": "execute_result"
    }
   ],
   "source": [
    "m1_uoi_state.draw(vertex_fill_color=m1_uoi_colors,\n",
    "                  vertex_color=m1_uoi_colors,\n",
    "                  output='m1_uoi.png')\n",
    "m1_uoi_state.draw(vertex_fill_color=m1_uoi_colors,\n",
    "                  vertex_color=m1_uoi_colors,\n",
    "                  output='m1_uoi.pdf')"
   ]
  },
  {
   "cell_type": "code",
   "execution_count": 75,
   "metadata": {
    "hidden": true
   },
   "outputs": [],
   "source": [
    "# save baseline state\n",
    "with open('mc_monkey2_baseline.pkl', 'wb') as output:\n",
    "    pickle.dump([m1_baseline, m1_baseline_state], output, pickle.HIGHEST_PROTOCOL)\n",
    "# save uoi state\n",
    "with open('mc_monkey2_uoi.pkl', 'wb') as output:\n",
    "    pickle.dump([m1_uoi_poisson, m1_uoi_state], output, pickle.HIGHEST_PROTOCOL)"
   ]
  }
 ],
 "metadata": {
  "kernelspec": {
   "display_name": "Python 3",
   "language": "python",
   "name": "python3"
  },
  "language_info": {
   "codemirror_mode": {
    "name": "ipython",
    "version": 3
   },
   "file_extension": ".py",
   "mimetype": "text/x-python",
   "name": "python",
   "nbconvert_exporter": "python",
   "pygments_lexer": "ipython3",
   "version": "3.7.3"
  },
  "varInspector": {
   "cols": {
    "lenName": 16,
    "lenType": 16,
    "lenVar": 40
   },
   "kernels_config": {
    "python": {
     "delete_cmd_postfix": "",
     "delete_cmd_prefix": "del ",
     "library": "var_list.py",
     "varRefreshCmd": "print(var_dic_list())"
    },
    "r": {
     "delete_cmd_postfix": ") ",
     "delete_cmd_prefix": "rm(",
     "library": "var_list.r",
     "varRefreshCmd": "cat(var_dic_list()) "
    }
   },
   "types_to_exclude": [
    "module",
    "function",
    "builtin_function_or_method",
    "instance",
    "_Feature"
   ],
   "window_display": false
  }
 },
 "nbformat": 4,
 "nbformat_minor": 2
}
