{
 "cells": [
  {
   "cell_type": "code",
   "execution_count": 1,
   "metadata": {},
   "outputs": [],
   "source": [
    "from graph_tool.all import *\n",
    "import matplotlib\n",
    "import matplotlib.pyplot as plt\n",
    "import numpy as np\n",
    "\n",
    "%matplotlib inline"
   ]
  },
  {
   "cell_type": "code",
   "execution_count": 2,
   "metadata": {},
   "outputs": [],
   "source": [
    "v1_glmnet_2 = load_graph('graphs/v1_glmnet_2.graphml')\n",
    "v1_uoi_poisson_2 = load_graph('graphs/v1_uoi_poisson_2.graphml')"
   ]
  },
  {
   "cell_type": "code",
   "execution_count": 3,
   "metadata": {},
   "outputs": [],
   "source": [
    "baseline_state = minimize_nested_blockmodel_dl(v1_glmnet_2, B_min=10)\n",
    "uoi_state = minimize_nested_blockmodel_dl(v1_uoi_poisson_2, B_min=10)"
   ]
  },
  {
   "cell_type": "code",
   "execution_count": 4,
   "metadata": {},
   "outputs": [],
   "source": [
    "preferences = np.load('graphs/prefs.npy')\n",
    "colors = np.load('graphs/colors.npy')"
   ]
  },
  {
   "cell_type": "code",
   "execution_count": 5,
   "metadata": {},
   "outputs": [],
   "source": [
    "baseline_colors = v1_glmnet_2.new_vertex_property(\"vector<float>\") \n",
    "for idx, vertex in enumerate(v1_glmnet_2.vertices()):\n",
    "    baseline_colors[vertex] = colors[idx]\n",
    "    \n",
    "uoi_colors = v1_uoi_poisson_2.new_vertex_property(\"vector<float>\") \n",
    "for idx, vertex in enumerate(v1_uoi_poisson_2.vertices()):\n",
    "    uoi_colors[vertex] = colors[idx]"
   ]
  },
  {
   "cell_type": "code",
   "execution_count": 6,
   "metadata": {},
   "outputs": [
    {
     "data": {
      "text/plain": [
       "(<VertexPropertyMap object with value type 'vector<double>', for Graph 0x14a8e3cd0, at 0x14a985290>,\n",
       " <Graph object, directed, with 101 vertices and 100 edges at 0x110b57490>,\n",
       " <VertexPropertyMap object with value type 'vector<double>', for Graph 0x110b57490, at 0x110b57c10>)"
      ]
     },
     "execution_count": 6,
     "metadata": {},
     "output_type": "execute_result"
    }
   ],
   "source": [
    "baseline_state.draw(vertex_fill_color=baseline_colors,\n",
    "                    vertex_color=baseline_colors,\n",
    "                    output='baseline.png')"
   ]
  },
  {
   "cell_type": "code",
   "execution_count": 9,
   "metadata": {},
   "outputs": [
    {
     "data": {
      "text/plain": [
       "(<VertexPropertyMap object with value type 'vector<double>', for Graph 0x14a73ad10, at 0x14a7b2e90>,\n",
       " <Graph object, directed, with 101 vertices and 100 edges at 0x14a7b2350>,\n",
       " <VertexPropertyMap object with value type 'vector<double>', for Graph 0x14a7b2350, at 0x11091bad0>)"
      ]
     },
     "execution_count": 9,
     "metadata": {},
     "output_type": "execute_result"
    }
   ],
   "source": [
    "uoi_state.draw(vertex_fill_color=uoi_colors,\n",
    "               vertex_color=uoi_colors,\n",
    "               output='uoi.png')"
   ]
  }
 ],
 "metadata": {
  "kernelspec": {
   "display_name": "Python 3",
   "language": "python",
   "name": "python3"
  },
  "language_info": {
   "codemirror_mode": {
    "name": "ipython",
    "version": 3
   },
   "file_extension": ".py",
   "mimetype": "text/x-python",
   "name": "python",
   "nbconvert_exporter": "python",
   "pygments_lexer": "ipython3",
   "version": "3.7.5"
  },
  "varInspector": {
   "cols": {
    "lenName": 16,
    "lenType": 16,
    "lenVar": 40
   },
   "kernels_config": {
    "python": {
     "delete_cmd_postfix": "",
     "delete_cmd_prefix": "del ",
     "library": "var_list.py",
     "varRefreshCmd": "print(var_dic_list())"
    },
    "r": {
     "delete_cmd_postfix": ") ",
     "delete_cmd_prefix": "rm(",
     "library": "var_list.r",
     "varRefreshCmd": "cat(var_dic_list()) "
    }
   },
   "types_to_exclude": [
    "module",
    "function",
    "builtin_function_or_method",
    "instance",
    "_Feature"
   ],
   "window_display": false
  }
 },
 "nbformat": 4,
 "nbformat_minor": 2
}
