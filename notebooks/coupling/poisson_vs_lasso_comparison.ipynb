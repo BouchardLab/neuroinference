{
 "cells": [
  {
   "cell_type": "code",
   "execution_count": null,
   "metadata": {},
   "outputs": [],
   "source": [
    "import h5py\n",
    "import matplotlib.pyplot as plt\n",
    "import networkx as nx\n",
    "import numpy as np\n",
    "import os\n",
    "\n",
    "from uoineuro.coupling_utils import *\n",
    "\n",
    "%matplotlib inline"
   ]
  },
  {
   "cell_type": "code",
   "execution_count": null,
   "metadata": {},
   "outputs": [],
   "source": [
    "results_path = os.path.join(os.environ['HOME'],\n",
    "                            'fits/uoineuro/coupling/nhp/nhp_indy_20160411_01_coupling.h5')"
   ]
  },
  {
   "cell_type": "code",
   "execution_count": null,
   "metadata": {},
   "outputs": [],
   "source": [
    "results = h5py.File(results_path, 'r')"
   ]
  },
  {
   "cell_type": "markdown",
   "metadata": {},
   "source": [
    "# Compare UoI Poisson / UoI Lasso"
   ]
  },
  {
   "cell_type": "code",
   "execution_count": null,
   "metadata": {},
   "outputs": [],
   "source": [
    "uoi_poisson_coefs = np.median(results['uoi_poisson_bic/coupling_coefs'][:], axis=0)\n",
    "uoi_lasso_coefs = np.median(results['uoi_lasso_bic/coupling_coefs'][:], axis=0)\n",
    "glmnet_coefs = np.median(results['glmnet_poisson/coupling_coefs'][:], axis=0)\n",
    "lasso_coefs = np.median(results['lasso/coupling_coefs'][:], axis=0)"
   ]
  },
  {
   "cell_type": "code",
   "execution_count": null,
   "metadata": {},
   "outputs": [],
   "source": [
    "np.unique(uoi_poisson_coefs[8])"
   ]
  },
  {
   "cell_type": "code",
   "execution_count": null,
   "metadata": {},
   "outputs": [],
   "source": [
    "correlations_uoi = coupling_coef_corrs(\n",
    "    uoi_poisson_coefs,\n",
    "    uoi_lasso_coefs\n",
    ")"
   ]
  },
  {
   "cell_type": "code",
   "execution_count": null,
   "metadata": {},
   "outputs": [],
   "source": [
    "correlations_baseline = coupling_coef_corrs(\n",
    "    glmnet_coefs,\n",
    "    lasso_coefs\n",
    ")"
   ]
  },
  {
   "cell_type": "code",
   "execution_count": null,
   "metadata": {},
   "outputs": [],
   "source": [
    "plt.hist(correlations_baseline, alpha=0.5, color='gray')\n",
    "plt.hist(correlations_uoi, alpha=0.5, color='red')"
   ]
  },
  {
   "cell_type": "code",
   "execution_count": null,
   "metadata": {},
   "outputs": [],
   "source": [
    "plt.scatter(correlations_baseline, correlations_uoi)\n",
    "plt.xlim([0, 1])\n",
    "plt.ylim([0, 1])\n",
    "plt.plot([0, 1], [0, 1], color='k')"
   ]
  },
  {
   "cell_type": "code",
   "execution_count": null,
   "metadata": {},
   "outputs": [],
   "source": [
    "probs_uoi = selection_profiles_by_chance(\n",
    "    uoi_poisson_coefs,\n",
    "    uoi_lasso_coefs \n",
    ")"
   ]
  },
  {
   "cell_type": "code",
   "execution_count": null,
   "metadata": {},
   "outputs": [],
   "source": [
    "probs_baseline = selection_profiles_by_chance(\n",
    "    glmnet_coefs,\n",
    "    lasso_coefs \n",
    ")"
   ]
  },
  {
   "cell_type": "code",
   "execution_count": null,
   "metadata": {},
   "outputs": [],
   "source": [
    "probs_uoi[probs_uoi == 0] = 1e-16\n",
    "probs_baseline[probs_baseline == 0] = 1e-16\n",
    "\n",
    "plt.hist(np.log(probs_baseline), alpha=0.5, color='gray')\n",
    "plt.hist(np.log(probs_uoi), alpha=0.5, color='red')"
   ]
  },
  {
   "cell_type": "code",
   "execution_count": null,
   "metadata": {},
   "outputs": [],
   "source": [
    "fig, axes = plt.subplots(2, 1, figsize=(8, 5))\n",
    "axes[0].hist(corrs, color='gray')\n",
    "axes[0].set_xlim([0, 1])\n",
    "axes[0].set_title(r'\\textbf{Correlation between UoI}$_{\\textbf{Poisson}}$\\textbf{ and UoI}$_{\\textbf{Lasso}}$', fontsize=23)\n",
    "\n",
    "probs1[probs1 == 0] = 1e-16\n",
    "axes[1].hist(np.log(probs1), color='gray', bins=np.arange(-40, 0, 5))\n",
    "axes[1].axvline(np.log(0.1), color='r')\n",
    "axes[1].axvline(np.log(0.001), color='b')\n",
    "axes[1].set_xlim([0, -40])\n",
    "axes[1].set_title(r'\\textbf{Log-probabilities of Matching Sel. Profile}', fontsize=23)\n",
    "plt.tight_layout()\n",
    "#plt.savefig('poisson_graph_comp.pdf', bbox_inches='tight')"
   ]
  },
  {
   "cell_type": "code",
   "execution_count": null,
   "metadata": {},
   "outputs": [],
   "source": [
    "probs1 = selection_profiles_by_chance(\n",
    "    fits_path=fits_path,\n",
    "    dataset1='UoI_Poisson_log',\n",
    "    dataset2='UoI_Lasso_r2'\n",
    ")\n",
    "\n",
    "probs2 = selection_profiles_by_chance(\n",
    "    fits_path=fits_path,\n",
    "    dataset1='UoI_Lasso_r2',\n",
    "    dataset2='UoI_Poisson_log'\n",
    ")"
   ]
  },
  {
   "cell_type": "code",
   "execution_count": null,
   "metadata": {},
   "outputs": [],
   "source": [
    "G_uoi_poisson = create_graph(fits_path, dataset='UoI_Poisson_log', directed=True)\n",
    "G_uoi_lasso = create_graph(fits_path, dataset='UoI_Lasso_r2', directed=True)\n",
    "G_lasso = create_graph(fits_path, dataset='Lasso', directed=True)"
   ]
  },
  {
   "cell_type": "code",
   "execution_count": null,
   "metadata": {},
   "outputs": [],
   "source": [
    "Gs = [G_uoi_poisson, G_uoi_lasso, G_lasso]\n",
    "closeness = [np.array(list(nx.algorithms.centrality.closeness_centrality(G).values())) for G in Gs]\n",
    "eigenvec = [np.array(list(nx.algorithms.centrality.eigenvector_centrality_numpy(G).values())) for G in Gs]\n",
    "betweenness = [np.array(list(nx.algorithms.centrality.betweenness_centrality(G).values())) for G in Gs]\n",
    "katz = [np.array(list(nx.algorithms.centrality.katz_centrality_numpy(G, alpha=0.02).values())) for G in Gs]\n",
    "indeg = [np.array(list(dict(G.in_degree()).values())) for G in Gs]\n",
    "outdeg = [np.array(list(dict(G.out_degree()).values())) for G in Gs]\n",
    "measures = [closeness, betweenness, indeg, eigenvec, katz, outdeg]"
   ]
  },
  {
   "cell_type": "code",
   "execution_count": null,
   "metadata": {},
   "outputs": [],
   "source": [
    "from scipy.stats import mannwhitneyu"
   ]
  },
  {
   "cell_type": "code",
   "execution_count": null,
   "metadata": {},
   "outputs": [],
   "source": [
    "fig, axes = plt.subplots(2, 3, figsize=(12, 8))\n",
    "\n",
    "axes[0, 0].scatter(closeness[0], closeness[1], color='r', alpha=0.5)\n",
    "axes[0, 0].scatter(closeness[2], closeness[1], color='gray', alpha=0.5)\n",
    "axes[0, 0].plot([0.5, 0.7], [0.5, 0.70], color='k')\n",
    "axes[0, 0].set_xlim([0.5, 0.7])\n",
    "axes[0, 0].set_ylim([0.5, 0.7])\n",
    "axes[0, 0].set_xticks([0.5, 0.6, 0.7])\n",
    "axes[0, 0].set_yticks([0.5, 0.6, 0.7])\n",
    "axes[0, 0].set_title(r'\\textbf{Closeness Centrality}', fontsize=20)\n",
    "\n",
    "\n",
    "axes[1, 0].scatter(eigenvec[0], eigenvec[1], color='r', alpha=0.5)\n",
    "axes[1, 0].scatter(eigenvec[2], eigenvec[1], color='gray', alpha=0.5)\n",
    "axes[1, 0].plot([0, 0.2], [0, 0.2], color='k')\n",
    "axes[1, 0].set_xlim([0, 0.2])\n",
    "axes[1, 0].set_ylim([0, 0.2])\n",
    "axes[1, 0].set_xticks([0, 0.1, 0.2])\n",
    "axes[1, 0].set_yticks([0, 0.1, 0.2])\n",
    "axes[1, 0].set_title(r'\\textbf{Eigenvector Centrality}', fontsize=20)\n",
    "\n",
    "\n",
    "axes[0, 1].scatter(betweenness[0], betweenness[1], color='r', alpha=0.5)\n",
    "axes[0, 1].scatter(betweenness[2], betweenness[1], color='gray', alpha=0.5)\n",
    "axes[0, 1].plot([0, 0.03], [0, 0.03], color='k')\n",
    "axes[0, 1].set_xlim([0, 0.03])\n",
    "axes[0, 1].set_ylim([0, 0.03])\n",
    "axes[0, 1].set_xticks([0, 0.01, 0.02, 0.03])\n",
    "axes[0, 1].set_yticks([0, 0.01, 0.02, 0.03])\n",
    "axes[0, 1].set_xticklabels(['0.0', '.01', '.02', '.03'])\n",
    "axes[0, 1].set_yticklabels(['0.0', '.01', '.02', '.03'])\n",
    "axes[0, 1].set_title(r'\\textbf{Betweeness Centrality}', fontsize=20)\n",
    "\n",
    "\n",
    "axes[1, 1].scatter(katz[0], katz[1], color='r', alpha=0.5)\n",
    "axes[1, 1].scatter(katz[2], katz[1], color='gray', alpha=0.5)\n",
    "axes[1, 1].plot([0, 0.2], [0, 0.2], color='k')\n",
    "axes[1, 1].set_xlim([0, 0.2])\n",
    "axes[1, 1].set_ylim([0, 0.2])\n",
    "axes[1, 1].set_xticks([0, 0.1, 0.2])\n",
    "axes[1, 1].set_yticks([0, 0.1, 0.2])\n",
    "axes[1, 1].set_title(r'\\textbf{Katz Centrality}', fontsize=20)\n",
    "\n",
    "\n",
    "axes[0, 2].scatter(indeg[0], indeg[1], color='r', alpha=0.5)\n",
    "axes[0, 2].scatter(indeg[2], indeg[1], color='gray', alpha=0.5)\n",
    "axes[0, 2].plot([0, 100], [0, 100], color='k')\n",
    "axes[0, 2].set_xlim([0, 100])\n",
    "axes[0, 2].set_ylim([0, 100])\n",
    "axes[0, 2].set_xticks([0, 25, 50, 75, 100])\n",
    "axes[0, 2].set_yticks([0, 25, 50, 75, 100])\n",
    "axes[0, 2].set_title(r'\\textbf{In-Degree Distribution}', fontsize=20)\n",
    "\n",
    "axes[1, 2].scatter(outdeg[0], outdeg[1], color='r', alpha=0.5)\n",
    "axes[1, 2].scatter(outdeg[2], outdeg[1], color='gray', alpha=0.5)\n",
    "axes[1, 2].plot([0, 100], [0, 100], color='k')\n",
    "axes[1, 2].set_xlim([0, 100])\n",
    "axes[1, 2].set_ylim([0, 100])\n",
    "axes[1, 2].set_xticks([0, 25, 50, 75, 100])\n",
    "axes[1, 2].set_yticks([0, 25, 50, 75, 100])\n",
    "axes[1, 2].set_title(r'\\textbf{Out-Degree Distribution}', fontsize=20)\n",
    "\n",
    "for idx, ax in enumerate(axes.ravel()):\n",
    "    ax.set_aspect('equal')\n",
    "    corr1 = np.corrcoef(measures[idx][0], measures[idx][1])[0, 1]\n",
    "    corr2 = np.corrcoef(measures[idx][1], measures[idx][2])[0, 1]\n",
    "    fig.text(x=0.68, y=0.15, s=r'$r=%0.2f$' %corr1, color='red', transform=ax.transAxes, fontsize=20)\n",
    "    fig.text(x=0.68, y=0.05, s=r'$r=%0.2f$' %corr2, color='gray', transform=ax.transAxes, fontsize=20)\n",
    "    \n",
    "plt.tight_layout()\n",
    "fig.text(\n",
    "    x=0.52, y=-0.02, s=r'\\textbf{UoI}$_{\\text{Poisson}}$\\textbf{ (red) / Lasso (Gray)}', fontsize=30,\n",
    "    horizontalalignment='center', verticalalignment='center')\n",
    "\n",
    "fig.text(\n",
    "    x=-0.02, y=0.5, s=r'\\textbf{UoI}$_{\\text{Lasso}}$', fontsize=30,\n",
    "    horizontalalignment='center', verticalalignment='center', rotation=90\n",
    ")\n",
    "\n",
    "plt.savefig('graph_metrics.pdf', bbox_inches='tight')"
   ]
  },
  {
   "cell_type": "code",
   "execution_count": null,
   "metadata": {},
   "outputs": [],
   "source": []
  }
 ],
 "metadata": {
  "kernelspec": {
   "display_name": "neuro",
   "language": "python",
   "name": "neuro"
  },
  "language_info": {
   "codemirror_mode": {
    "name": "ipython",
    "version": 3
   },
   "file_extension": ".py",
   "mimetype": "text/x-python",
   "name": "python",
   "nbconvert_exporter": "python",
   "pygments_lexer": "ipython3",
   "version": "3.7.5"
  },
  "varInspector": {
   "cols": {
    "lenName": 16,
    "lenType": 16,
    "lenVar": 40
   },
   "kernels_config": {
    "python": {
     "delete_cmd_postfix": "",
     "delete_cmd_prefix": "del ",
     "library": "var_list.py",
     "varRefreshCmd": "print(var_dic_list())"
    },
    "r": {
     "delete_cmd_postfix": ") ",
     "delete_cmd_prefix": "rm(",
     "library": "var_list.r",
     "varRefreshCmd": "cat(var_dic_list()) "
    }
   },
   "types_to_exclude": [
    "module",
    "function",
    "builtin_function_or_method",
    "instance",
    "_Feature"
   ],
   "window_display": false
  }
 },
 "nbformat": 4,
 "nbformat_minor": 2
}
