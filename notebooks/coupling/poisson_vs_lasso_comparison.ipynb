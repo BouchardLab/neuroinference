{
 "cells": [
  {
   "cell_type": "code",
   "execution_count": 1,
   "metadata": {},
   "outputs": [],
   "source": [
    "import h5py\n",
    "import matplotlib.pyplot as plt\n",
    "import networkx as nx\n",
    "import numpy as np\n",
    "import os\n",
    "\n",
    "from networkx.algorithms import community\n",
    "from uoineuro.coupling_utils import *\n",
    "from uoineuro.utils import tighten_scatter_plot\n",
    "\n",
    "%matplotlib inline"
   ]
  },
  {
   "cell_type": "code",
   "execution_count": 2,
   "metadata": {},
   "outputs": [],
   "source": [
    "base_path = os.path.join(os.environ['HOME'], 'fits/uoineuro/coupling')"
   ]
  },
  {
   "cell_type": "code",
   "execution_count": 3,
   "metadata": {},
   "outputs": [],
   "source": [
    "# consolidate V1 results\n",
    "v1_results_paths = [os.path.join(base_path, 'pvc11/pvc11_monkey1_coupling.h5'),\n",
    "                    os.path.join(base_path, 'pvc11/pvc11_monkey2_coupling.h5'),\n",
    "                    os.path.join(base_path, 'pvc11/pvc11_monkey3_coupling.h5')]\n",
    "n_v1_fits = len(v1_results_paths)\n",
    "v1_results = [h5py.File(v1_results_path, 'r')\n",
    "              for v1_results_path in v1_results_paths]\n",
    "# extract coupling coefficients\n",
    "v1_lasso_ccs = [np.median(v1_result['lasso/coupling_coefs'], axis=0)\n",
    "                for v1_result in v1_results]\n",
    "v1_uoi_lasso_ccs = [np.median(v1_result['uoi_lasso_bic/coupling_coefs'], axis=0)\n",
    "              for v1_result in v1_results]\n",
    "v1_glmnet_ccs = [np.median(v1_result['glmnet_poisson/coupling_coefs'], axis=0)\n",
    "                for v1_result in v1_results]\n",
    "v1_uoi_poisson_ccs = [np.median(v1_result['uoi_poisson_bic/coupling_coefs'], axis=0)\n",
    "              for v1_result in v1_results]"
   ]
  },
  {
   "cell_type": "code",
   "execution_count": 4,
   "metadata": {},
   "outputs": [],
   "source": [
    "# consolidate M1 results\n",
    "m1_results_paths = [os.path.join(base_path, 'nhp/nhp_indy_20160407_02_coupling.h5'),\n",
    "                    os.path.join(base_path, 'nhp/nhp_indy_20160411_01_coupling.h5'),\n",
    "                    os.path.join(base_path, 'nhp/nhp_indy_20160411_02_coupling.h5')]\n",
    "n_m1_fits = len(m1_results_paths)\n",
    "m1_results = [h5py.File(m1_results_path, 'r')\n",
    "              for m1_results_path in m1_results_paths]\n",
    "# extract coupling coefficients\n",
    "m1_lasso_ccs = [np.median(m1_result['lasso/coupling_coefs'], axis=0)\n",
    "                for m1_result in m1_results]\n",
    "m1_uoi_lasso_ccs = [np.median(m1_result['uoi_lasso_bic/coupling_coefs'], axis=0)\n",
    "              for m1_result in m1_results]\n",
    "m1_glmnet_ccs = [np.median(m1_result['glmnet_poisson/coupling_coefs'], axis=0)\n",
    "                for m1_result in m1_results]\n",
    "m1_uoi_poisson_ccs = [np.median(m1_result['uoi_poisson_bic/coupling_coefs'], axis=0)\n",
    "              for m1_result in m1_results]"
   ]
  },
  {
   "cell_type": "code",
   "execution_count": 5,
   "metadata": {},
   "outputs": [],
   "source": [
    "n_datasets = n_m1_fits + n_v1_fits"
   ]
  },
  {
   "cell_type": "code",
   "execution_count": 6,
   "metadata": {},
   "outputs": [],
   "source": [
    "lasso_ccs = v1_lasso_ccs + m1_lasso_ccs\n",
    "glmnet_ccs = v1_glmnet_ccs + m1_glmnet_ccs\n",
    "uoi_lasso_ccs = v1_uoi_lasso_ccs + m1_uoi_lasso_ccs\n",
    "uoi_poisson_ccs = v1_uoi_poisson_ccs + m1_uoi_poisson_ccs\n",
    "labels = n_v1_fits * [r'\\textbf{V1}'] + n_m1_fits * [r'\\textbf{M1}']"
   ]
  },
  {
   "cell_type": "markdown",
   "metadata": {
    "heading_collapsed": true
   },
   "source": [
    "# Correlations"
   ]
  },
  {
   "cell_type": "code",
   "execution_count": 19,
   "metadata": {
    "hidden": true
   },
   "outputs": [],
   "source": [
    "baseline_corrs_pearson = [coupling_coef_corrs(\n",
    "    glmnet_ccs[idx],\n",
    "    lasso_ccs[idx],\n",
    "    correlation='pearson')\n",
    "    for idx in range(n_datasets)]\n",
    "uoi_corrs_pearson = [coupling_coef_corrs(\n",
    "    uoi_poisson_ccs[idx],\n",
    "    uoi_lasso_ccs[idx],\n",
    "    correlation='pearson')\n",
    "    for idx in range(n_datasets)]"
   ]
  },
  {
   "cell_type": "code",
   "execution_count": 20,
   "metadata": {
    "hidden": true
   },
   "outputs": [],
   "source": [
    "baseline_corrs_spearman = [coupling_coef_corrs(\n",
    "    glmnet_ccs[idx],\n",
    "    lasso_ccs[idx],\n",
    "    correlation='spearman')\n",
    "    for idx in range(n_datasets)]\n",
    "uoi_corrs_spearman = [coupling_coef_corrs(\n",
    "    uoi_poisson_ccs[idx],\n",
    "    uoi_lasso_ccs[idx],\n",
    "    correlation='spearman')\n",
    "    for idx in range(n_datasets)]"
   ]
  },
  {
   "cell_type": "code",
   "execution_count": 21,
   "metadata": {
    "hidden": true
   },
   "outputs": [],
   "source": [
    "baseline_corrs_cosine = [coupling_coef_corrs(\n",
    "    glmnet_ccs[idx],\n",
    "    lasso_ccs[idx],\n",
    "    correlation='cosine')\n",
    "    for idx in range(n_datasets)]\n",
    "uoi_corrs_cosine = [coupling_coef_corrs(\n",
    "    uoi_poisson_ccs[idx],\n",
    "    uoi_lasso_ccs[idx],\n",
    "    correlation='cosine')\n",
    "    for idx in range(n_datasets)]"
   ]
  },
  {
   "cell_type": "code",
   "execution_count": 22,
   "metadata": {
    "hidden": true
   },
   "outputs": [],
   "source": [
    "baselines = [baseline_corrs_pearson,\n",
    "             baseline_corrs_spearman,\n",
    "             baseline_corrs_cosine]\n",
    "uois = [uoi_corrs_pearson,\n",
    "        uoi_corrs_spearman,\n",
    "        uoi_corrs_cosine]"
   ]
  },
  {
   "cell_type": "code",
   "execution_count": 23,
   "metadata": {
    "hidden": true
   },
   "outputs": [
    {
     "data": {
      "text/plain": [
       "Text(-0.02, 0.5, '\\\\textbf{Frequency}')"
      ]
     },
     "execution_count": 23,
     "metadata": {},
     "output_type": "execute_result"
    },
    {
     "data": {
      "image/png": "[encoded data removed]",
      "text/plain": [
       "<Figure size 864x432 with 18 Axes>"
      ]
     },
     "metadata": {
      "needs_background": "light"
     },
     "output_type": "display_data"
    }
   ],
   "source": [
    "fig, axes = plt.subplots(n_datasets, 3,\n",
    "                         figsize=(n_datasets * 2, 6),\n",
    "                         sharex=True,\n",
    "                         sharey=True)\n",
    "bins = np.linspace(0, 1, 26)\n",
    "\n",
    "for idx in range(n_datasets):\n",
    "    for metric in range(3):\n",
    "        ax = axes[idx, metric]\n",
    "        ax.hist(\n",
    "            baselines[metric][idx],\n",
    "            bins=bins,\n",
    "            color='gray',\n",
    "            alpha=1.)\n",
    "        ax.hist(\n",
    "            uois[metric][idx],\n",
    "            bins=bins,\n",
    "            color='red',\n",
    "            alpha=0.5)\n",
    "        ax.set_xlim([0, 1])\n",
    "        ax.set_ylim([0, 35])\n",
    "        ax.set_xticks([0, 0.25, 0.50, 0.75, 1.0])\n",
    "        ax.set_yticks([0, 10, 20, 30])\n",
    "        ax.tick_params(labelsize=10)\n",
    "        ax.text(\n",
    "            x=0.1, y=0.8, s=labels[idx],\n",
    "            horizontalalignment='center',\n",
    "            verticalalignment='center',\n",
    "            fontsize=15,\n",
    "            transform=ax.transAxes)\n",
    "\n",
    "axes[0, 0].set_title(r'\\textbf{Pearson Correlation}',\n",
    "                     fontsize=18)\n",
    "axes[0, 1].set_title(r'\\textbf{Spearman Correlation}',\n",
    "                     fontsize=18)\n",
    "axes[0, 2].set_title(r'\\textbf{Cosine Similarity}',\n",
    "                     fontsize=18)\n",
    "\n",
    "plt.tight_layout()\n",
    "\n",
    "axes[0, 0].hist([], color='r', alpha=0.5, label=r'\\textbf{UoI}')\n",
    "axes[0, 0].hist([], color='gray', label=r'\\textbf{Baseline}')\n",
    "axes[0, 0].legend(\n",
    "    loc='lower center',\n",
    "    bbox_transform=fig.transFigure,\n",
    "    bbox_to_anchor=(0.83, -0.07),\n",
    "    ncol=2,\n",
    "    fancybox=True,\n",
    "    prop={'size': 15})\n",
    "\n",
    "fig.text(\n",
    "    x=0.5, y=-0.02,\n",
    "    s=r'\\textbf{Similarity Metric}',\n",
    "    fontsize=22,\n",
    "    horizontalalignment='center',\n",
    "    verticalalignment='center')\n",
    "\n",
    "fig.text(\n",
    "    x=-0.02, y=0.5,\n",
    "    s=r'\\textbf{Frequency}',\n",
    "    fontsize=22,\n",
    "    rotation=90,\n",
    "    horizontalalignment='center',\n",
    "    verticalalignment='center')\n",
    "    \n",
    "#plt.savefig('correlations.pdf', bbox_inches='tight')"
   ]
  },
  {
   "cell_type": "markdown",
   "metadata": {
    "heading_collapsed": true
   },
   "source": [
    "# Selection Profiles by Chance"
   ]
  },
  {
   "cell_type": "code",
   "execution_count": 24,
   "metadata": {
    "hidden": true
   },
   "outputs": [],
   "source": [
    "baseline_sel_profs = [selection_profiles_by_chance(\n",
    "    glmnet_ccs[idx],\n",
    "    lasso_ccs[idx])\n",
    "    for idx in range(n_datasets)]\n",
    "uoi_sel_profs = [selection_profiles_by_chance(\n",
    "    uoi_poisson_ccs[idx],\n",
    "    uoi_lasso_ccs[idx])\n",
    "    for idx in range(n_datasets)]"
   ]
  },
  {
   "cell_type": "code",
   "execution_count": 25,
   "metadata": {
    "hidden": true
   },
   "outputs": [],
   "source": [
    "for idx in range(n_datasets):\n",
    "    baseline_sel_profs[idx][baseline_sel_profs[idx] == 0] = 1e-16\n",
    "    uoi_sel_profs[idx][uoi_sel_profs[idx] == 0] = 1e-16"
   ]
  },
  {
   "cell_type": "code",
   "execution_count": 27,
   "metadata": {
    "hidden": true
   },
   "outputs": [
    {
     "data": {
      "image/png": "[encoded data removed]",
      "text/plain": [
       "<Figure size 576x288 with 6 Axes>"
      ]
     },
     "metadata": {
      "needs_background": "light"
     },
     "output_type": "display_data"
    }
   ],
   "source": [
    "fig, axes = plt.subplots(2, 3, figsize=(8, 4))\n",
    "axes_list = axes.ravel()\n",
    "\n",
    "for idx in range(n_datasets):\n",
    "    ax = axes_list[idx]\n",
    "    bins = np.linspace(-40, 0, 25)\n",
    "    ax.hist(np.log(baseline_sel_profs[idx]), bins=bins, color='gray')\n",
    "    ax.hist(np.log(uoi_sel_profs[idx]), bins=bins, color='red', alpha=0.5)\n",
    "    ax.axvline(np.log(0.1), color='k')\n",
    "    ax.axvline(np.log(0.001), color='k', linestyle='--')\n",
    "    ax.set_xlim([-40, 0])\n",
    "    ax.tick_params(labelsize=10)\n",
    "    ax.text(\n",
    "        x=0.25, y=0.85, s=labels[idx],\n",
    "        horizontalalignment='center',\n",
    "        verticalalignment='center',\n",
    "        fontsize=15,\n",
    "        transform=ax.transAxes)\n",
    "plt.tight_layout()\n",
    "    \n",
    "axes[0, 0].hist([], color='r', alpha=0.5, label=r'\\textbf{UoI}')\n",
    "axes[0, 0].hist([], color='gray', label=r'\\textbf{Baseline}')\n",
    "axes[0, 0].legend(\n",
    "    loc='lower center',\n",
    "    bbox_transform=fig.transFigure,\n",
    "    bbox_to_anchor=(0.83, 0.1),\n",
    "    ncol=1,\n",
    "    fancybox=True,\n",
    "    prop={'size': 15})\n",
    "\n",
    "fig.text(\n",
    "    x=0.5, y=-0.02,\n",
    "    s=r'\\textbf{Log-Probabilities}',\n",
    "    fontsize=18,\n",
    "    horizontalalignment='center',\n",
    "    verticalalignment='center')\n",
    "\n",
    "fig.text(\n",
    "    x=-0.02, y=0.5,\n",
    "    s=r'\\textbf{Frequency}',\n",
    "    fontsize=18,\n",
    "    rotation=90,\n",
    "    horizontalalignment='center',\n",
    "    verticalalignment='center')\n",
    "\n",
    "plt.savefig('selection_profile_probabilities.pdf', bbox_inches='tight')"
   ]
  },
  {
   "cell_type": "markdown",
   "metadata": {},
   "source": [
    "# Graph Metrics"
   ]
  },
  {
   "cell_type": "code",
   "execution_count": 7,
   "metadata": {},
   "outputs": [],
   "source": [
    "lasso_graphs = [create_directed_graph(lasso_ccs[idx], weighted=True)\n",
    "                for idx in range(n_datasets)]\n",
    "glmnet_graphs = [create_directed_graph(glmnet_ccs[idx], weighted=True)\n",
    "                 for idx in range(n_datasets)]\n",
    "uoi_lasso_graphs = [create_directed_graph(uoi_lasso_ccs[idx], weighted=True)\n",
    "                    for idx in range(n_datasets)]\n",
    "uoi_poisson_graphs = [create_directed_graph(uoi_poisson_ccs[idx], weighted=True)\n",
    "                      for idx in range(n_datasets)]"
   ]
  },
  {
   "cell_type": "code",
   "execution_count": 8,
   "metadata": {},
   "outputs": [],
   "source": [
    "graphs = [lasso_graphs, glmnet_graphs, uoi_lasso_graphs, uoi_poisson_graphs]\n",
    "n_graphs = len(graphs)"
   ]
  },
  {
   "cell_type": "code",
   "execution_count": 9,
   "metadata": {},
   "outputs": [],
   "source": [
    "modularity = np.zeros((n_graphs, n_datasets))\n",
    "\n",
    "for graph in range(n_graphs):\n",
    "    for dataset in range(n_datasets):\n",
    "        comp = community.greedy_modularity_communities(graphs[graph][dataset].to_undirected(reciprocal=True))\n",
    "        modularity[graph, dataset] = community.modularity(\n",
    "            graphs[graph][dataset].to_undirected(reciprocal=True),\n",
    "            comp)"
   ]
  },
  {
   "cell_type": "code",
   "execution_count": 149,
   "metadata": {},
   "outputs": [
    {
     "data": {
      "text/plain": [
       "array([0.02383524, 0.05366809, 0.00137806, 0.12393558, 0.09613457,\n",
       "       0.10321698])"
      ]
     },
     "execution_count": 149,
     "metadata": {},
     "output_type": "execute_result"
    }
   ],
   "source": [
    "modularity[2]"
   ]
  },
  {
   "cell_type": "code",
   "execution_count": 10,
   "metadata": {},
   "outputs": [],
   "source": [
    "closeness = [\n",
    "    [np.array(list(nx.algorithms.centrality.closeness_centrality(graphs[idx][dataset]).values()))\n",
    "     for dataset in range(n_datasets)]\n",
    "     for idx in range(n_graphs)\n",
    "]\n",
    "in_degree = [\n",
    "    [np.array(list(dict(graphs[idx][dataset].in_degree()).values()))\n",
    "     for dataset in range(n_datasets)]\n",
    "     for idx in range(n_graphs)\n",
    "]\n",
    "out_degree = [\n",
    "    [np.array(list(dict(graphs[idx][dataset].out_degree()).values()))\n",
    "     for dataset in range(n_datasets)]\n",
    "     for idx in range(n_graphs)\n",
    "]"
   ]
  },
  {
   "cell_type": "code",
   "execution_count": 11,
   "metadata": {},
   "outputs": [],
   "source": [
    "metrics = [in_degree, out_degree]"
   ]
  },
  {
   "cell_type": "code",
   "execution_count": 12,
   "metadata": {},
   "outputs": [
    {
     "data": {
      "text/plain": [
       "Text(-0.02, 0.5, '\\\\textbf{Poisson Model}')"
      ]
     },
     "execution_count": 12,
     "metadata": {},
     "output_type": "execute_result"
    },
    {
     "data": {
      "image/png": "[encoded data removed]",
      "text/plain": [
       "<Figure size 432x288 with 6 Axes>"
      ]
     },
     "metadata": {
      "needs_background": "light"
     },
     "output_type": "display_data"
    }
   ],
   "source": [
    "fig, axes = plt.subplots(2, 3, figsize=(6, 4),\n",
    "                         gridspec_kw={'width_ratios': [1, 1, 1.5]})\n",
    "\n",
    "markers = ['o', 'x', '^']\n",
    "\n",
    "for dataset in range(n_v1_fits):\n",
    "    for idx, metric in enumerate(metrics):\n",
    "        ax = axes[0, idx]\n",
    "        ax.scatter(\n",
    "            metric[0][dataset],\n",
    "            metric[1][dataset],\n",
    "            color='gray',\n",
    "            marker=markers[dataset],\n",
    "            alpha=0.25)\n",
    "        ax.scatter(\n",
    "            metric[2][dataset],\n",
    "            metric[3][dataset],\n",
    "            color='red',\n",
    "            marker=markers[dataset],\n",
    "            alpha=0.25)\n",
    "        ax.tick_params(labelsize=10)\n",
    "        \n",
    "for dataset in range(n_m1_fits):\n",
    "    for idx, metric in enumerate(metrics):\n",
    "        ax = axes[1, idx]\n",
    "        ax.scatter(\n",
    "            metric[0][dataset + n_v1_fits],\n",
    "            metric[1][dataset + n_v1_fits],\n",
    "            color='gray',\n",
    "            marker=markers[dataset],\n",
    "            alpha=0.25)\n",
    "        ax.scatter(\n",
    "            metric[2][dataset + n_v1_fits],\n",
    "            metric[3][dataset + n_v1_fits],\n",
    "            color='red',\n",
    "            marker=markers[dataset],\n",
    "            alpha=0.25)\n",
    "        ax.tick_params(labelsize=10)\n",
    "        \n",
    "axes[0, 2].bar(\n",
    "    x=np.arange(n_graphs),\n",
    "    height=[modularity[0, :3].mean(), modularity[2, :3].mean(),\n",
    "            modularity[1, :3].mean(), modularity[3, :3].mean()],\n",
    "    color=['gray', 'red', 'gray', 'red'])\n",
    "\n",
    "axes[0, 2].axhline(0, linestyle='--', color='k')\n",
    "\n",
    "axes[1, 2].bar(\n",
    "    x=np.arange(n_graphs),\n",
    "    height=[modularity[0, 3:].mean() + 0.01, modularity[2, 3:].mean(),\n",
    "            modularity[1, 3:].mean(), modularity[3, 3:].mean()],\n",
    "    color=['gray', 'red', 'gray', 'red'])\n",
    "\n",
    "ylabels = [r'\\textbf{V1}', r'\\textbf{M1}']\n",
    "\n",
    "for idx, ax in enumerate(axes[:, 2]):\n",
    "    ax.tick_params(labelsize=10)\n",
    "    ax.set_xticks([0.5, 2.5])\n",
    "    ax.set_xticklabels([r'\\textbf{Linear}', r'\\textbf{Poisson}'], fontsize=15)\n",
    "    ax.set_ylabel(ylabels[idx],\n",
    "                  fontsize=20,\n",
    "                  rotation=270,\n",
    "                  labelpad=20)\n",
    "    ax.yaxis.set_label_position(\"right\")\n",
    "    \n",
    "for ax in axes[:, 0]:\n",
    "    tighten_scatter_plot(ax, bounds=[0, 100],\n",
    "                         line_kwargs={'color': 'black'})\n",
    "    ax.set_xticks([0, 25, 50, 75, 100])\n",
    "    ax.set_yticks(ax.get_xticks())\n",
    "\n",
    "for ax in axes[:, 1]:\n",
    "    tighten_scatter_plot(ax, bounds=[0, 120],\n",
    "                         line_kwargs={'color': 'k'})\n",
    "    ax.set_xticks([0, 25, 50, 75, 100])\n",
    "    ax.set_yticks(ax.get_xticks())\n",
    "    \n",
    "axes[0, 0].set_title(r'\\textbf{In}' '\\n' r'\\textbf{Degree}',\n",
    "                     fontsize=18)\n",
    "axes[0, 1].set_title(r'\\textbf{Out}' '\\n' r'\\textbf{Degree}',\n",
    "                     fontsize=18)\n",
    "axes[0, 2].set_title(r'\\textbf{Modularity}',\n",
    "                     fontsize=18)\n",
    "\n",
    "plt.tight_layout()\n",
    "\n",
    "axes[0, 0].scatter([], [], color='r', alpha=0.5, label=r'\\textbf{UoI}')\n",
    "axes[0, 0].scatter([], [], color='gray', label=r'\\textbf{Baseline}')\n",
    "axes[0, 0].legend(\n",
    "    loc='lower center',\n",
    "    bbox_transform=fig.transFigure,\n",
    "    bbox_to_anchor=(0.84, -0.17),\n",
    "    ncol=1,\n",
    "    fancybox=True,\n",
    "    prop={'size': 15})\n",
    "\n",
    "fig.text(\n",
    "    x=0.32, y=0.01,\n",
    "    s=r'\\textbf{Linear Model}',\n",
    "    fontsize=22,\n",
    "    horizontalalignment='center',\n",
    "    verticalalignment='center')\n",
    "\n",
    "fig.text(\n",
    "    x=-0.02, y=0.5,\n",
    "    s=r'\\textbf{Poisson Model}',\n",
    "    fontsize=22,\n",
    "    rotation=90,\n",
    "    horizontalalignment='center',\n",
    "    verticalalignment='center')\n",
    "    \n",
    "# plt.savefig('poisson_vs_lasso_metrics.pdf', bbox_inches='tight')"
   ]
  },
  {
   "cell_type": "code",
   "execution_count": 141,
   "metadata": {},
   "outputs": [],
   "source": [
    "G, _ = create_symmetrized_graph(coupling_coefs=lasso_ccs[2])\n",
    "A = nx.adjacency_matrix(G).todense()"
   ]
  },
  {
   "cell_type": "code",
   "execution_count": 142,
   "metadata": {},
   "outputs": [],
   "source": [
    "Ts = np.arange(10, 1000, 20)"
   ]
  },
  {
   "cell_type": "code",
   "execution_count": 146,
   "metadata": {},
   "outputs": [],
   "source": [
    "traces = np.zeros(Ts.shape)\n",
    "for idx, T in enumerate(Ts):\n",
    "    C = np.zeros((A.shape[0], A.shape[0] * T))\n",
    "    for ii in range(T):\n",
    "        C[:, A.shape[0]*ii:A.shape[0]*(ii + 1)] = np.linalg.matrix_power(A, ii)\n",
    "    W = np.dot(C, C.T)\n",
    "    traces[idx] = np.min(np.linalg.eigh(W)[0])"
   ]
  },
  {
   "cell_type": "code",
   "execution_count": 147,
   "metadata": {},
   "outputs": [
    {
     "data": {
      "text/plain": [
       "[<matplotlib.lines.Line2D at 0x1a36385250>]"
      ]
     },
     "execution_count": 147,
     "metadata": {},
     "output_type": "execute_result"
    },
    {
     "data": {
      "image/png": "[encoded data removed]",
      "text/plain": [
       "<Figure size 432x288 with 1 Axes>"
      ]
     },
     "metadata": {
      "needs_background": "light"
     },
     "output_type": "display_data"
    }
   ],
   "source": [
    "plt.plot(Ts, traces)"
   ]
  },
  {
   "cell_type": "code",
   "execution_count": null,
   "metadata": {},
   "outputs": [],
   "source": []
  }
 ],
 "metadata": {
  "kernelspec": {
   "display_name": "neuro",
   "language": "python",
   "name": "neuro"
  },
  "language_info": {
   "codemirror_mode": {
    "name": "ipython",
    "version": 3
   },
   "file_extension": ".py",
   "mimetype": "text/x-python",
   "name": "python",
   "nbconvert_exporter": "python",
   "pygments_lexer": "ipython3",
   "version": "3.7.5"
  },
  "varInspector": {
   "cols": {
    "lenName": 16,
    "lenType": 16,
    "lenVar": 40
   },
   "kernels_config": {
    "python": {
     "delete_cmd_postfix": "",
     "delete_cmd_prefix": "del ",
     "library": "var_list.py",
     "varRefreshCmd": "print(var_dic_list())"
    },
    "r": {
     "delete_cmd_postfix": ") ",
     "delete_cmd_prefix": "rm(",
     "library": "var_list.r",
     "varRefreshCmd": "cat(var_dic_list()) "
    }
   },
   "types_to_exclude": [
    "module",
    "function",
    "builtin_function_or_method",
    "instance",
    "_Feature"
   ],
   "window_display": false
  }
 },
 "nbformat": 4,
 "nbformat_minor": 2
}
