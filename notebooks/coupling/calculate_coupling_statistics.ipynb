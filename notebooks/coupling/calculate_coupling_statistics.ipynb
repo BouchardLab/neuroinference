{
 "cells": [
  {
   "cell_type": "code",
   "execution_count": 1,
   "metadata": {},
   "outputs": [],
   "source": [
    "import h5py\n",
    "import matplotlib\n",
    "import matplotlib.pyplot as plt\n",
    "import numpy as np\n",
    "import os\n",
    "import scipy.stats as ss\n",
    "\n",
    "from uoineuro.utils import calculate_selection_ratio\n",
    "\n",
    "%matplotlib inline"
   ]
  },
  {
   "cell_type": "code",
   "execution_count": 2,
   "metadata": {},
   "outputs": [],
   "source": [
    "base_path = os.path.join(os.environ['HOME'],\n",
    "                         'fits/uoineuro/coupling')"
   ]
  },
  {
   "cell_type": "code",
   "execution_count": 3,
   "metadata": {},
   "outputs": [],
   "source": [
    "# consolidate A1 results\n",
    "a1_results_path = os.path.join(base_path, 'ecog/ecog_coupling.h5')\n",
    "a1_results = h5py.File(a1_results_path, 'r')\n",
    "# extract coupling coefficients\n",
    "a1_lasso_ccs = np.median(a1_results['lasso/coupling_coefs'], axis=0)\n",
    "a1_uoi_ccs = np.median(a1_results['uoi_lasso_bic/coupling_coefs'], axis=0)"
   ]
  },
  {
   "cell_type": "code",
   "execution_count": 32,
   "metadata": {},
   "outputs": [],
   "source": [
    "# consolidate V1 results\n",
    "v1_results_paths = [os.path.join(base_path, 'pvc11/pvc11_monkey1_coupling.h5'),\n",
    "                    os.path.join(base_path, 'pvc11/pvc11_monkey2_coupling.h5'),\n",
    "                    os.path.join(base_path, 'pvc11/pvc11_monkey3_coupling.h5')]\n",
    "n_v1_fits = len(v1_results_paths)\n",
    "v1_results = [h5py.File(v1_results_path, 'r')\n",
    "              for v1_results_path in v1_results_paths]\n",
    "# extract coupling coefficients\n",
    "v1_lasso_ccs = [np.median(v1_result['glmnet_poisson/coupling_coefs'], axis=0)\n",
    "                for v1_result in v1_results]\n",
    "v1_uoi_ccs = [np.median(v1_result['uoi_poisson_bic/coupling_coefs'], axis=0)\n",
    "              for v1_result in v1_results]"
   ]
  },
  {
   "cell_type": "code",
   "execution_count": 5,
   "metadata": {},
   "outputs": [],
   "source": [
    "# consolidate M1 results\n",
    "m1_results_paths = [os.path.join(base_path, 'nhp/nhp_indy_20160407_02_coupling.h5'),\n",
    "                    os.path.join(base_path, 'nhp/nhp_indy_20160411_01_coupling.h5'),\n",
    "                    os.path.join(base_path, 'nhp/nhp_indy_20160411_02_coupling.h5')]\n",
    "n_m1_fits = len(m1_results_paths)\n",
    "m1_results = [h5py.File(m1_results_path, 'r')\n",
    "              for m1_results_path in m1_results_paths]\n",
    "# extract coupling coefficients\n",
    "m1_lasso_ccs = [np.median(m1_result['glmnet_poisson/coupling_coefs'], axis=0)\n",
    "                for m1_result in m1_results]\n",
    "m1_uoi_ccs = [np.median(m1_result['uoi_poisson_bic/coupling_coefs'], axis=0)\n",
    "              for m1_result in m1_results]"
   ]
  },
  {
   "cell_type": "markdown",
   "metadata": {},
   "source": [
    "## Selection Ratios"
   ]
  },
  {
   "cell_type": "code",
   "execution_count": 92,
   "metadata": {},
   "outputs": [
    {
     "name": "stdout",
     "output_type": "stream",
     "text": [
      "Auditory Cortex\n",
      "---------------\n",
      "Baseline:  0.2992 +/- 0.0679\n",
      "UoI:  0.1339 +/- 0.0285\n",
      "Fraction of Reduction: 2.2353\n",
      "WSRT:  WilcoxonResult(statistic=6.0, pvalue=1.0880339977134602e-22)\n",
      "Cohens d:  1.354441416455575\n"
     ]
    }
   ],
   "source": [
    "print('Auditory Cortex')\n",
    "print('---------------')\n",
    "\n",
    "ac_baseline_srs = calculate_selection_ratio(a1_lasso_ccs)\n",
    "ac_uoi_srs = calculate_selection_ratio(a1_uoi_ccs)\n",
    "\n",
    "# calculate medians and IQRs\n",
    "ac_median_baseline_sr = np.median(ac_baseline_srs)\n",
    "ac_iqr_baseline_sr = ss.iqr(ac_baseline_srs)\n",
    "ac_median_uoi_sr = np.median(ac_uoi_srs)\n",
    "ac_iqr_uoi_sr = ss.iqr(ac_uoi_srs)\n",
    "\n",
    "# print out summary stats\n",
    "print('Baseline: ', format(ac_median_baseline_sr, '0.4f'), '+/-', format(ac_iqr_baseline_sr / 2, '0.4f'))\n",
    "print('UoI: ', format(ac_median_uoi_sr, '0.4f'), '+/-', format(ac_iqr_uoi_sr / 2, '0.4f'))\n",
    "print('Fraction of Reduction:', format(ac_median_baseline_sr / ac_median_uoi_sr, '0.4f'))\n",
    "print('WSRT: ', ss.wilcoxon(ac_baseline_srs, ac_uoi_srs))\n",
    "print('Cohens d: ', np.mean(ac_baseline_srs - ac_uoi_srs) / np.std(ac_baseline_srs))"
   ]
  },
  {
   "cell_type": "code",
   "execution_count": 96,
   "metadata": {},
   "outputs": [
    {
     "name": "stdout",
     "output_type": "stream",
     "text": [
      "Dataset 0:\n",
      "-----------\n",
      "Baseline:  0.5905 +/- 0.1071\n",
      "UoI:  0.2667 +/- 0.0667\n",
      "Reduction in features:  2.2142857142857144\n",
      "WSRT:  WilcoxonResult(statistic=1.0, pvalue=4.078866893907982e-19)\n",
      "Cohens d:  1.9346601684828189\n",
      "\n",
      "\n",
      "Dataset 1:\n",
      "-----------\n",
      "Baseline:  0.6609 +/- 0.1710\n",
      "UoI:  0.2586 +/- 0.1149\n",
      "Reduction in features:  2.5555555555555554\n",
      "WSRT:  WilcoxonResult(statistic=1.0, pvalue=3.845459358460536e-16)\n",
      "Cohens d:  1.5752158138870465\n",
      "\n",
      "\n",
      "Dataset 2:\n",
      "-----------\n",
      "Baseline:  0.5946 +/- 0.1002\n",
      "UoI:  0.2793 +/- 0.0732\n",
      "Reduction in features:  2.1290322580645165\n",
      "WSRT:  WilcoxonResult(statistic=0.0, pvalue=4.0686381320283395e-20)\n",
      "Cohens d:  2.408849343951098\n",
      "\n",
      "\n"
     ]
    }
   ],
   "source": [
    "vc_baseline_srs = [calculate_selection_ratio(v1_lasso_cc)\n",
    "                   for v1_lasso_cc in v1_lasso_ccs]\n",
    "vc_uoi_srs = [calculate_selection_ratio(v1_uoi_cc)\n",
    "              for v1_uoi_cc in v1_uoi_ccs]\n",
    "\n",
    "for idx in range(n_v1_fits):\n",
    "    baseline = vc_baseline_srs[idx]\n",
    "    uoi = vc_uoi_srs[idx]\n",
    "    print('Dataset %s:' %idx)\n",
    "    print('-----------')\n",
    "    print('Baseline: ', format(np.median(baseline), '0.4f'), '+/-', format(ss.iqr(baseline) / 2, '0.4f'))\n",
    "    print('UoI: ', format(np.median(uoi), '0.4f'), '+/-', format(ss.iqr(uoi) / 2, '0.4f'))\n",
    "    print('Reduction in features: ', np.median(baseline) / np.median(uoi))\n",
    "    print('WSRT: ', ss.wilcoxon(baseline, uoi))\n",
    "    print('Cohens d: ', np.mean(baseline - uoi) / np.std(baseline))\n",
    "    print('\\n')"
   ]
  },
  {
   "cell_type": "code",
   "execution_count": 97,
   "metadata": {},
   "outputs": [
    {
     "name": "stdout",
     "output_type": "stream",
     "text": [
      "Dataset 0:\n",
      "-----------\n",
      "Baseline:  0.4333 +/- 0.1222\n",
      "UoI:  0.0741 +/- 0.0380\n",
      "Reduction in features:  5.8500000000000005\n",
      "WSRT:  WilcoxonResult(statistic=0.0, pvalue=6.669083051880734e-24)\n",
      "Cohens d:  1.8698271148250885\n",
      "\n",
      "\n",
      "Dataset 1:\n",
      "-----------\n",
      "Baseline:  0.4552 +/- 0.1198\n",
      "UoI:  0.0828 +/- 0.0414\n",
      "Reduction in features:  5.5\n",
      "WSRT:  WilcoxonResult(statistic=0.0, pvalue=6.878272638964072e-25)\n",
      "Cohens d:  1.764650488003609\n",
      "\n",
      "\n",
      "Dataset 2:\n",
      "-----------\n",
      "Baseline:  0.4589 +/- 0.1062\n",
      "UoI:  0.0890 +/- 0.0411\n",
      "Reduction in features:  5.153846153846154\n",
      "WSRT:  WilcoxonResult(statistic=0.0, pvalue=2.2069942157533432e-25)\n",
      "Cohens d:  1.9309963615229062\n",
      "\n",
      "\n"
     ]
    }
   ],
   "source": [
    "mc_baseline_srs = [calculate_selection_ratio(m1_lasso_cc)\n",
    "                   for m1_lasso_cc in m1_lasso_ccs]\n",
    "mc_uoi_srs = [calculate_selection_ratio(m1_uoi_cc)\n",
    "              for m1_uoi_cc in m1_uoi_ccs]\n",
    "\n",
    "for idx in range(n_m1_fits):\n",
    "    baseline = mc_baseline_srs[idx]\n",
    "    uoi = mc_uoi_srs[idx]\n",
    "    print('Dataset %s:' %idx)\n",
    "    print('-----------')\n",
    "    print('Baseline: ', format(np.median(baseline), '0.4f'), '+/-', format(ss.iqr(baseline) / 2, '0.4f'))\n",
    "    print('UoI: ', format(np.median(uoi), '0.4f'), '+/-', format(ss.iqr(uoi) / 2, '0.4f'))\n",
    "    print('Reduction in features: ', np.median(baseline) / np.median(uoi))\n",
    "    print('WSRT: ', ss.wilcoxon(baseline, uoi))\n",
    "    print('Cohens d: ', np.mean(baseline - uoi) / np.std(baseline))\n",
    "    print('\\n')"
   ]
  },
  {
   "cell_type": "markdown",
   "metadata": {},
   "source": [
    "## Predictive Performance"
   ]
  },
  {
   "cell_type": "code",
   "execution_count": 98,
   "metadata": {},
   "outputs": [
    {
     "name": "stdout",
     "output_type": "stream",
     "text": [
      "Baseline PP:  0.9769597427791629 +/- 0.04153534270144987\n",
      "UoI PP:  0.9768421413247849 +/- 0.04264205212336036\n",
      "Median del PP:  4.630757180323908e-05\n",
      "Wilcoxon Sign Rank Test:  WilcoxonResult(statistic=2746.0, pvalue=0.0010140364137717843)\n",
      "Cohens D:  0.004911669739322192\n"
     ]
    }
   ],
   "source": [
    "ac_baseline_pp = np.median(a1_results['lasso/r2s_test'][:], axis=0)\n",
    "ac_uoi_pp = np.median(a1_results['uoi_lasso_bic/r2s_test'][:], axis=0)\n",
    "\n",
    "print('Baseline PP: ', np.median(ac_baseline_pp), '+/-', ss.iqr(ac_baseline_pp))\n",
    "print('UoI PP: ', np.median(ac_uoi_pp), '+/-', ss.iqr(ac_uoi_pp))\n",
    "print('Median del PP: ', np.median(ac_baseline_pp - ac_uoi_pp))\n",
    "print('Wilcoxon Sign Rank Test: ', ss.wilcoxon(x=ac_baseline_pp,\n",
    "                                               y=ac_uoi_pp))\n",
    "print('Cohens D: ', np.mean(ac_baseline_pp - ac_uoi_pp) / np.std(ac_baseline_pp))"
   ]
  },
  {
   "cell_type": "code",
   "execution_count": 82,
   "metadata": {},
   "outputs": [
    {
     "name": "stdout",
     "output_type": "stream",
     "text": [
      "Dataset 0:\n",
      "-----------\n",
      "Baseline BIC:  202.89 +/- 69.39\n",
      "UoI BIC:  205.06 +/- 71.04\n",
      "Median del BIC:  -2.99\n",
      "Wilcoxon Sign Rank Test:  WilcoxonResult(statistic=0.0, pvalue=4.096357955947718e-20)\n",
      "Cohens D:  -0.04625702029560614\n",
      "\n",
      "\n",
      "Dataset 1:\n",
      "-----------\n",
      "Baseline BIC:  165.69 +/- 87.04\n",
      "UoI BIC:  167.87 +/- 86.81\n",
      "Median del BIC:  -1.97\n",
      "Wilcoxon Sign Rank Test:  WilcoxonResult(statistic=0.0, pvalue=4.096357955947718e-20)\n",
      "Cohens D:  -0.03283287013248259\n",
      "\n",
      "\n",
      "Dataset 2:\n",
      "-----------\n",
      "Baseline BIC:  212.86 +/- 82.95\n",
      "UoI BIC:  217.40 +/- 82.40\n",
      "Median del BIC:  -3.31\n",
      "Wilcoxon Sign Rank Test:  WilcoxonResult(statistic=0.0, pvalue=4.096357955947718e-20)\n",
      "Cohens D:  -0.0472620057877084\n",
      "\n",
      "\n"
     ]
    }
   ],
   "source": [
    "vc_baseline_pp = [np.median(v1_results[idx]['glmnet_poisson/deviances_test'][:], axis=0) for idx in range(n_v1_fits)]\n",
    "vc_uoi_pp = [np.median(v1_results[idx]['uoi_poisson_log/deviances_test'][:], axis=0) for idx in range(n_v1_fits)]\n",
    "\n",
    "for dataset in range(n_v1_fits):\n",
    "    baseline = vc_baseline_pp[dataset]\n",
    "    uoi = vc_uoi_pp[dataset]\n",
    "    \n",
    "    print('Dataset %s:' %dataset)\n",
    "    print('-----------')\n",
    "    print('Baseline BIC: ', format(np.median(baseline), '0.2f'), '+/-', format(ss.iqr(baseline), '0.2f'))\n",
    "    print('UoI BIC: ', format(np.median(uoi), '0.2f'), '+/-', format(ss.iqr(uoi), '0.2f'))\n",
    "    print('Median del BIC: ', format(np.median(baseline - uoi), '0.2f'))\n",
    "    print('Wilcoxon Sign Rank Test: ',\n",
    "          ss.wilcoxon(x=vc_baseline_bics[idx],\n",
    "                      y=vc_uoi_bics[idx]))\n",
    "    print('Cohens D: ', np.mean(baseline - uoi) / np.std(baseline))\n",
    "    print('\\n')"
   ]
  },
  {
   "cell_type": "code",
   "execution_count": 88,
   "metadata": {},
   "outputs": [
    {
     "name": "stdout",
     "output_type": "stream",
     "text": [
      "Dataset 0:\n",
      "-----------\n",
      "Baseline BIC:  231.66 +/- 129.12\n",
      "UoI BIC:  233.28 +/- 129.16\n",
      "Median del BIC:  -2.47\n",
      "Wilcoxon Sign Rank Test:  WilcoxonResult(statistic=0.0, pvalue=4.096357955947718e-20)\n",
      "Cohens D:  -0.03009294933633112\n",
      "\n",
      "\n",
      "Dataset 1:\n",
      "-----------\n",
      "Baseline BIC:  263.01 +/- 120.06\n",
      "UoI BIC:  266.26 +/- 117.27\n",
      "Median del BIC:  -2.27\n",
      "Wilcoxon Sign Rank Test:  WilcoxonResult(statistic=0.0, pvalue=4.096357955947718e-20)\n",
      "Cohens D:  -0.025037853371152427\n",
      "\n",
      "\n",
      "Dataset 2:\n",
      "-----------\n",
      "Baseline BIC:  248.21 +/- 113.79\n",
      "UoI BIC:  249.80 +/- 115.33\n",
      "Median del BIC:  -2.72\n",
      "Wilcoxon Sign Rank Test:  WilcoxonResult(statistic=0.0, pvalue=4.096357955947718e-20)\n",
      "Cohens D:  -0.0298387990130159\n",
      "\n",
      "\n"
     ]
    }
   ],
   "source": [
    "mc_baseline_pp = [np.median(m1_results[idx]['glmnet_poisson/deviances_test'][:], axis=0) for idx in range(n_m1_fits)]\n",
    "mc_uoi_pp = [np.median(m1_results[idx]['uoi_poisson_log/deviances_test'][:], axis=0) for idx in range(n_m1_fits)]\n",
    "\n",
    "for dataset in range(n_m1_fits):\n",
    "    baseline = np.nan_to_num(mc_baseline_pp[dataset])\n",
    "    uoi = np.nan_to_num(mc_uoi_pp[dataset])\n",
    "    \n",
    "    print('Dataset %s:' %dataset)\n",
    "    print('-----------')\n",
    "    print('Baseline BIC: ', format(np.median(baseline), '0.2f'), '+/-', format(ss.iqr(baseline), '0.2f'))\n",
    "    print('UoI BIC: ', format(np.median(uoi), '0.2f'), '+/-', format(ss.iqr(uoi), '0.2f'))\n",
    "    print('Median del BIC: ', format(np.median(baseline - uoi), '0.2f'))\n",
    "    print('Wilcoxon Sign Rank Test: ',\n",
    "          ss.wilcoxon(x=vc_baseline_bics[idx],\n",
    "                      y=vc_uoi_bics[idx]))\n",
    "    print('Cohens D: ', np.mean(baseline - uoi) / np.std(baseline))\n",
    "    print('\\n')"
   ]
  },
  {
   "cell_type": "markdown",
   "metadata": {},
   "source": [
    "## Bayesian Information Criterion"
   ]
  },
  {
   "cell_type": "code",
   "execution_count": 71,
   "metadata": {},
   "outputs": [
    {
     "name": "stdout",
     "output_type": "stream",
     "text": [
      "Baseline BIC:  -6239.96 +/- 3768.85\n",
      "UoI BIC:  -6490.60 +/- 3718.17\n",
      "Median del BIC:  170.01\n",
      "Wilcoxon Sign Rank Test:  WilcoxonResult(statistic=0.0, pvalue=9.513002484100111e-23)\n"
     ]
    }
   ],
   "source": [
    "ac_baseline_bics = np.median(a1_results['lasso/bics'][:], axis=0)\n",
    "ac_uoi_bics = np.median(a1_results['uoi_lasso_bic/bics'][:], axis=0)\n",
    "\n",
    "print('Baseline BIC: ', format(np.median(ac_baseline_bics), '0.2f'), '+/-', format(ss.iqr(ac_baseline_bics), '0.2f'))\n",
    "print('UoI BIC: ', format(np.median(ac_uoi_bics), '0.2f'), '+/-', format(ss.iqr(ac_uoi_bics), '0.2f'))\n",
    "print('Median del BIC: ', format(np.median(ac_baseline_bics - ac_uoi_bics), '0.2f'))\n",
    "print('Wilcoxon Sign Rank Test: ',\n",
    "      ss.wilcoxon(x=ac_baseline_bics,\n",
    "                  y=ac_uoi_bics))"
   ]
  },
  {
   "cell_type": "code",
   "execution_count": 65,
   "metadata": {},
   "outputs": [
    {
     "name": "stdout",
     "output_type": "stream",
     "text": [
      "Dataset 0:\n",
      "-----------\n",
      "Baseline BIC:  -15349.34 +/- 41893.35\n",
      "UoI BIC:  -15516.19 +/- 41941.48\n",
      "Median del BIC:  149.14\n",
      "Wilcoxon Sign Rank Test:  WilcoxonResult(statistic=0.0, pvalue=4.096357955947718e-20)\n",
      "\n",
      "\n",
      "Dataset 1:\n",
      "-----------\n",
      "Baseline BIC:  -2864.02 +/- 22093.74\n",
      "UoI BIC:  -3007.10 +/- 22174.05\n",
      "Median del BIC:  131.25\n",
      "Wilcoxon Sign Rank Test:  WilcoxonResult(statistic=0.0, pvalue=4.096357955947718e-20)\n",
      "\n",
      "\n",
      "Dataset 2:\n",
      "-----------\n",
      "Baseline BIC:  -35164.55 +/- 68138.67\n",
      "UoI BIC:  -35309.01 +/- 68132.88\n",
      "Median del BIC:  161.33\n",
      "Wilcoxon Sign Rank Test:  WilcoxonResult(statistic=0.0, pvalue=4.096357955947718e-20)\n",
      "\n",
      "\n"
     ]
    }
   ],
   "source": [
    "vc_baseline_bics = [np.median(v1_results[idx]['glmnet_poisson/bics'][:], axis=0) for idx in range(n_v1_fits)]\n",
    "vc_uoi_bics = [np.median(v1_results[idx]['uoi_poisson_log/bics'][:], axis=0) for idx in range(n_v1_fits)]\n",
    "\n",
    "for dataset in range(n_v1_fits):\n",
    "    baseline = vc_baseline_bics[dataset]\n",
    "    uoi = vc_uoi_bics[dataset]\n",
    "    \n",
    "    print('Dataset %s:' %dataset)\n",
    "    print('-----------')\n",
    "    print('Baseline BIC: ', format(np.median(baseline), '0.2f'), '+/-', format(ss.iqr(baseline), '0.2f'))\n",
    "    print('UoI BIC: ', format(np.median(uoi), '0.2f'), '+/-', format(ss.iqr(uoi), '0.2f'))\n",
    "    print('Median del BIC: ', format(np.median(baseline - uoi), '0.2f'))\n",
    "    print('Wilcoxon Sign Rank Test: ',\n",
    "          ss.wilcoxon(x=vc_baseline_bics[idx],\n",
    "                      y=vc_uoi_bics[idx]))\n",
    "    print('\\n')"
   ]
  },
  {
   "cell_type": "code",
   "execution_count": 66,
   "metadata": {},
   "outputs": [
    {
     "name": "stdout",
     "output_type": "stream",
     "text": [
      "Dataset 0:\n",
      "-----------\n",
      "Baseline BIC:  480.98 +/- 248.10\n",
      "UoI BIC:  321.75 +/- 118.98\n",
      "Median del BIC:  162.17\n",
      "Wilcoxon Sign Rank Test:  WilcoxonResult(statistic=180.0, pvalue=6.058087006705419e-24)\n",
      "\n",
      "\n",
      "Dataset 1:\n",
      "-----------\n",
      "Baseline BIC:  542.79 +/- 300.33\n",
      "UoI BIC:  354.80 +/- 150.70\n",
      "Median del BIC:  186.10\n",
      "Wilcoxon Sign Rank Test:  WilcoxonResult(statistic=180.0, pvalue=6.058087006705419e-24)\n",
      "\n",
      "\n",
      "Dataset 2:\n",
      "-----------\n",
      "Baseline BIC:  564.84 +/- 240.77\n",
      "UoI BIC:  362.11 +/- 134.84\n",
      "Median del BIC:  190.53\n",
      "Wilcoxon Sign Rank Test:  WilcoxonResult(statistic=180.0, pvalue=6.058087006705419e-24)\n",
      "\n",
      "\n"
     ]
    }
   ],
   "source": [
    "mc_baseline_bics = [np.median(m1_results[idx]['glmnet_poisson/bics'][:], axis=0) for idx in range(n_m1_fits)]\n",
    "mc_uoi_bics = [np.median(m1_results[idx]['uoi_poisson_log/bics'][:], axis=0) for idx in range(n_m1_fits)]\n",
    "\n",
    "for dataset in range(n_m1_fits):\n",
    "    baseline = mc_baseline_bics[dataset]\n",
    "    uoi = mc_uoi_bics[dataset]\n",
    "    \n",
    "    print('Dataset %s:' %dataset)\n",
    "    print('-----------')\n",
    "    print('Baseline BIC: ', format(np.median(baseline), '0.2f'), '+/-', format(ss.iqr(baseline), '0.2f'))\n",
    "    print('UoI BIC: ', format(np.median(uoi), '0.2f'), '+/-', format(ss.iqr(uoi), '0.2f'))\n",
    "    print('Median del BIC: ', format(np.median(baseline - uoi), '0.2f'))\n",
    "    print('Wilcoxon Sign Rank Test: ',\n",
    "          ss.wilcoxon(x=mc_baseline_bics[idx],\n",
    "                      y=mc_uoi_bics[idx]))\n",
    "    print('\\n')"
   ]
  },
  {
   "cell_type": "markdown",
   "metadata": {},
   "source": [
    "## Non-zero Parameters"
   ]
  },
  {
   "cell_type": "code",
   "execution_count": 16,
   "metadata": {},
   "outputs": [
    {
     "name": "stdout",
     "output_type": "stream",
     "text": [
      "Auditory Cortex\n",
      "---------------\n",
      "KS 2-sample test:  5.88596274373403e-69\n"
     ]
    }
   ],
   "source": [
    "print('Auditory Cortex')\n",
    "print('---------------')\n",
    "\n",
    "# unravel all coefficients\n",
    "a1_baseline_ccs_all = a1_lasso_ccs.ravel()\n",
    "a1_uoi_ccs_all = a1_uoi_ccs.ravel()\n",
    "\n",
    "# calculate non-zero coefficients\n",
    "a1_baseline_nz_ccs = a1_baseline_ccs_all[a1_baseline_ccs_all != 0]\n",
    "a1_uoi_nz_ccs = a1_uoi_ccs_all[a1_uoi_ccs_all != 0]\n",
    "\n",
    "# perform KS test\n",
    "print('KS 2-sample test: ', ss.ks_2samp(a1_baseline_nz_ccs, a1_uoi_nz_ccs).pvalue)"
   ]
  },
  {
   "cell_type": "code",
   "execution_count": 42,
   "metadata": {},
   "outputs": [
    {
     "name": "stdout",
     "output_type": "stream",
     "text": [
      "Visual Cortex\n",
      "-------------\n",
      "Dataset 0: 1.0\n",
      "Dataset 1: 7.052979493638599e-60\n",
      "Dataset 2: 1.0\n"
     ]
    }
   ],
   "source": [
    "print('Visual Cortex')\n",
    "print('-------------')\n",
    "\n",
    "\n",
    "for dataset in range(n_v1_fits):\n",
    "    v1_baseline_ccs_all = v1_lasso_ccs[dataset].ravel()\n",
    "    v1_uoi_ccs_all = v1_uoi_ccs[dataset].ravel()\n",
    "    \n",
    "    v1_baseline_nz_ccs = v1_baseline_ccs_all[v1_baseline_ccs_all != 0]\n",
    "    v1_uoi_nz_ccs = v1_uoi_ccs_all[v1_uoi_ccs_all != 0]\n",
    "\n",
    "    print('Dataset %s:' %dataset,\n",
    "          ss.ks_2samp(v1_baseline_nz_ccs, v1_uoi_nz_ccs).pvalue)"
   ]
  },
  {
   "cell_type": "code",
   "execution_count": 41,
   "metadata": {},
   "outputs": [
    {
     "name": "stdout",
     "output_type": "stream",
     "text": [
      "Ks_2sampResult(statistic=0.23965492673534994, pvalue=6.013057238389484e-293)\n"
     ]
    }
   ],
   "source": [
    "v1_baseline_ccs_all = np.concatenate(\n",
    "    [v1_lasso_ccs[idx].ravel()\n",
    "     for idx in range(n_v1_fits)])\n",
    "v1_uoi_ccs_all = np.concatenate(\n",
    "    [v1_uoi_ccs[idx].ravel()\n",
    "     for idx in range(n_v1_fits)])\n",
    "\n",
    "v1_baseline_nz_ccs = v1_baseline_ccs_all[v1_baseline_ccs_all != 0]\n",
    "v1_uoi_nz_ccs = v1_uoi_ccs_all[v1_uoi_ccs_all != 0]\n",
    "\n",
    "print(ss.ks_2samp(v1_baseline_nz_ccs, v1_uoi_nz_ccs))"
   ]
  },
  {
   "cell_type": "code",
   "execution_count": 40,
   "metadata": {},
   "outputs": [
    {
     "name": "stdout",
     "output_type": "stream",
     "text": [
      "Motor Cortex\n",
      "-------------\n",
      "Dataset 0: Ks_2sampResult(statistic=0.42818217002104114, pvalue=1.9329147863565506e-204)\n",
      "Dataset 1: Ks_2sampResult(statistic=0.39066074887674807, pvalue=2.570866913273217e-204)\n",
      "Dataset 2: Ks_2sampResult(statistic=0.3827707226791267, pvalue=1.1356087074758565e-203)\n"
     ]
    }
   ],
   "source": [
    "print('Motor Cortex')\n",
    "print('-------------')\n",
    "\n",
    "for dataset in range(n_m1_fits):\n",
    "    m1_baseline_ccs_all = m1_lasso_ccs[dataset].ravel()\n",
    "    m1_uoi_ccs_all = m1_uoi_ccs[dataset].ravel()\n",
    "    \n",
    "    m1_baseline_nz_ccs = m1_baseline_ccs_all[m1_baseline_ccs_all != 0]\n",
    "    m1_uoi_nz_ccs = m1_uoi_ccs_all[m1_uoi_ccs_all != 0]\n",
    "\n",
    "    print('Dataset %s:' %dataset,\n",
    "          ss.ks_2samp(m1_baseline_nz_ccs, m1_uoi_nz_ccs))"
   ]
  },
  {
   "cell_type": "code",
   "execution_count": 39,
   "metadata": {},
   "outputs": [
    {
     "name": "stdout",
     "output_type": "stream",
     "text": [
      "Ks_2sampResult(statistic=0.38891828386778193, pvalue=0.0)\n"
     ]
    }
   ],
   "source": [
    "m1_baseline_ccs_all = np.concatenate(\n",
    "    [m1_lasso_ccs[idx].ravel()\n",
    "     for idx in range(n_v1_fits)])\n",
    "m1_uoi_ccs_all = np.concatenate(\n",
    "    [m1_uoi_ccs[idx].ravel()\n",
    "     for idx in range(n_v1_fits)])\n",
    "\n",
    "m1_baseline_nz_ccs = m1_baseline_ccs_all[m1_baseline_ccs_all != 0]\n",
    "m1_uoi_nz_ccs = m1_uoi_ccs_all[m1_uoi_ccs_all != 0]\n",
    "\n",
    "print(ss.ks_2samp(m1_baseline_nz_ccs, m1_uoi_nz_ccs))"
   ]
  },
  {
   "cell_type": "code",
   "execution_count": null,
   "metadata": {},
   "outputs": [],
   "source": []
  }
 ],
 "metadata": {
  "kernelspec": {
   "display_name": "neuro",
   "language": "python",
   "name": "neuro"
  },
  "varInspector": {
   "cols": {
    "lenName": 16,
    "lenType": 16,
    "lenVar": 40
   },
   "kernels_config": {
    "python": {
     "delete_cmd_postfix": "",
     "delete_cmd_prefix": "del ",
     "library": "var_list.py",
     "varRefreshCmd": "print(var_dic_list())"
    },
    "r": {
     "delete_cmd_postfix": ") ",
     "delete_cmd_prefix": "rm(",
     "library": "var_list.r",
     "varRefreshCmd": "cat(var_dic_list()) "
    }
   },
   "types_to_exclude": [
    "module",
    "function",
    "builtin_function_or_method",
    "instance",
    "_Feature"
   ],
   "window_display": false
  }
 },
 "nbformat": 4,
 "nbformat_minor": 2
}
