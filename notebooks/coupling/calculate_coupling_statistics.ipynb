{
 "cells": [
  {
   "cell_type": "code",
   "execution_count": 1,
   "metadata": {},
   "outputs": [],
   "source": [
    "import h5py\n",
    "import matplotlib\n",
    "import matplotlib.pyplot as plt\n",
    "import numpy as np\n",
    "import os\n",
    "import scipy.stats as ss\n",
    "\n",
    "from uoineuro.utils import calculate_selection_ratio\n",
    "\n",
    "%matplotlib inline"
   ]
  },
  {
   "cell_type": "code",
   "execution_count": 2,
   "metadata": {},
   "outputs": [],
   "source": [
    "base_path = os.path.join(os.environ['HOME'],\n",
    "                         'fits/uoineuro/coupling')"
   ]
  },
  {
   "cell_type": "code",
   "execution_count": 3,
   "metadata": {},
   "outputs": [],
   "source": [
    "# consolidate A1 results\n",
    "a1_results_path = os.path.join(base_path, 'ecog/ecog_coupling.h5')\n",
    "a1_results = h5py.File(a1_results_path, 'r')\n",
    "# extract coupling coefficients\n",
    "a1_lasso_ccs = np.median(a1_results['lasso/coupling_coefs'], axis=0)\n",
    "a1_uoi_ccs = np.median(a1_results['uoi_lasso_bic/coupling_coefs'], axis=0)"
   ]
  },
  {
   "cell_type": "code",
   "execution_count": 4,
   "metadata": {},
   "outputs": [],
   "source": [
    "# consolidate V1 results\n",
    "v1_results_paths = [os.path.join(base_path, 'pvc11/pvc11_monkey1_coupling.h5'),\n",
    "                    os.path.join(base_path, 'pvc11/pvc11_monkey2_coupling.h5'),\n",
    "                    os.path.join(base_path, 'pvc11/pvc11_monkey3_coupling.h5')]\n",
    "n_v1_fits = len(v1_results_paths)\n",
    "v1_results = [h5py.File(v1_results_path, 'r')\n",
    "              for v1_results_path in v1_results_paths]\n",
    "# extract coupling coefficients\n",
    "v1_lasso_ccs = [np.median(v1_result['glmnet_poisson/coupling_coefs'], axis=0)\n",
    "                for v1_result in v1_results]\n",
    "v1_uoi_ccs = [np.median(v1_result['uoi_poisson_bic/coupling_coefs'], axis=0)\n",
    "              for v1_result in v1_results]"
   ]
  },
  {
   "cell_type": "code",
   "execution_count": 5,
   "metadata": {},
   "outputs": [],
   "source": [
    "# consolidate M1 results\n",
    "m1_results_paths = [os.path.join(base_path, 'nhp/nhp_indy_20160407_02_coupling.h5'),\n",
    "                    os.path.join(base_path, 'nhp/nhp_indy_20160411_01_coupling.h5'),\n",
    "                    os.path.join(base_path, 'nhp/nhp_indy_20160411_02_coupling.h5')]\n",
    "n_m1_fits = len(m1_results_paths)\n",
    "m1_results = [h5py.File(m1_results_path, 'r')\n",
    "              for m1_results_path in m1_results_paths]\n",
    "# extract coupling coefficients\n",
    "m1_lasso_ccs = [np.median(m1_result['glmnet_poisson/coupling_coefs'], axis=0)\n",
    "                for m1_result in m1_results]\n",
    "m1_uoi_ccs = [np.median(m1_result['uoi_poisson_bic/coupling_coefs'], axis=0)\n",
    "              for m1_result in m1_results]"
   ]
  },
  {
   "cell_type": "markdown",
   "metadata": {},
   "source": [
    "## Selection Ratios"
   ]
  },
  {
   "cell_type": "code",
   "execution_count": 6,
   "metadata": {},
   "outputs": [
    {
     "name": "stdout",
     "output_type": "stream",
     "text": [
      "Auditory Cortex\n",
      "---------------\n",
      "Baseline:  0.2992 +/- 0.0679\n",
      "UoI:  0.1339 +/- 0.0285\n",
      "Fraction of Reduction: 2.2353\n",
      "WSRT:  WilcoxonResult(statistic=6.0, pvalue=1.0880339977134602e-22)\n",
      "Cohens d:  1.354441416455575\n"
     ]
    }
   ],
   "source": [
    "print('Auditory Cortex')\n",
    "print('---------------')\n",
    "\n",
    "ac_baseline_srs = calculate_selection_ratio(a1_lasso_ccs)\n",
    "ac_uoi_srs = calculate_selection_ratio(a1_uoi_ccs)\n",
    "\n",
    "# calculate medians and IQRs\n",
    "ac_median_baseline_sr = np.median(ac_baseline_srs)\n",
    "ac_iqr_baseline_sr = ss.iqr(ac_baseline_srs)\n",
    "ac_median_uoi_sr = np.median(ac_uoi_srs)\n",
    "ac_iqr_uoi_sr = ss.iqr(ac_uoi_srs)\n",
    "\n",
    "# print out summary stats\n",
    "print('Baseline: ', format(ac_median_baseline_sr, '0.4f'), '+/-', format(ac_iqr_baseline_sr / 2, '0.4f'))\n",
    "print('UoI: ', format(ac_median_uoi_sr, '0.4f'), '+/-', format(ac_iqr_uoi_sr / 2, '0.4f'))\n",
    "print('Fraction of Reduction:', format(ac_median_baseline_sr / ac_median_uoi_sr, '0.4f'))\n",
    "print('WSRT: ', ss.wilcoxon(ac_baseline_srs, ac_uoi_srs))\n",
    "print('Cohens d: ', np.mean(ac_baseline_srs - ac_uoi_srs) / np.std(ac_baseline_srs))"
   ]
  },
  {
   "cell_type": "code",
   "execution_count": 9,
   "metadata": {},
   "outputs": [
    {
     "name": "stdout",
     "output_type": "stream",
     "text": [
      "Dataset 0:\n",
      "-----------\n",
      "Baseline:  0.5905 +/- 0.1071\n",
      "UoI:  0.2667 +/- 0.0667\n",
      "Reduction in features:  2.2142857142857144\n",
      "WSRT:  WilcoxonResult(statistic=1.0, pvalue=4.078866893907982e-19)\n",
      "Cohens d:  1.9346601684828189\n",
      "\n",
      "Dataset 1:\n",
      "-----------\n",
      "Baseline:  0.6609 +/- 0.1710\n",
      "UoI:  0.2586 +/- 0.1149\n",
      "Reduction in features:  2.5555555555555554\n",
      "WSRT:  WilcoxonResult(statistic=1.0, pvalue=3.845459358460536e-16)\n",
      "Cohens d:  1.5752158138870465\n",
      "\n",
      "Dataset 2:\n",
      "-----------\n",
      "Baseline:  0.5946 +/- 0.1002\n",
      "UoI:  0.2793 +/- 0.0732\n",
      "Reduction in features:  2.1290322580645165\n",
      "WSRT:  WilcoxonResult(statistic=0.0, pvalue=4.0686381320283395e-20)\n",
      "Cohens d:  2.408849343951098\n",
      "\n"
     ]
    }
   ],
   "source": [
    "vc_baseline_srs = [calculate_selection_ratio(v1_lasso_cc)\n",
    "                   for v1_lasso_cc in v1_lasso_ccs]\n",
    "vc_uoi_srs = [calculate_selection_ratio(v1_uoi_cc)\n",
    "              for v1_uoi_cc in v1_uoi_ccs]\n",
    "\n",
    "for idx in range(n_v1_fits):\n",
    "    baseline = vc_baseline_srs[idx]\n",
    "    uoi = vc_uoi_srs[idx]\n",
    "    print('Dataset %s:' %idx)\n",
    "    print('-----------')\n",
    "    print('Baseline: ', format(np.median(baseline), '0.4f'), '+/-', format(ss.iqr(baseline) / 2, '0.4f'))\n",
    "    print('UoI: ', format(np.median(uoi), '0.4f'), '+/-', format(ss.iqr(uoi) / 2, '0.4f'))\n",
    "    print('Reduction in features: ', np.median(baseline) / np.median(uoi))\n",
    "    print('WSRT: ', ss.wilcoxon(baseline, uoi))\n",
    "    print('Cohens d: ', np.mean(baseline - uoi) / np.std(baseline))\n",
    "    print('')"
   ]
  },
  {
   "cell_type": "code",
   "execution_count": 10,
   "metadata": {},
   "outputs": [
    {
     "name": "stdout",
     "output_type": "stream",
     "text": [
      "Dataset 0:\n",
      "-----------\n",
      "Baseline:  0.4333 +/- 0.1222\n",
      "UoI:  0.0741 +/- 0.0380\n",
      "Reduction in features:  5.8500000000000005\n",
      "WSRT:  WilcoxonResult(statistic=0.0, pvalue=6.669083051880734e-24)\n",
      "Cohens d:  1.8698271148250885\n",
      "\n",
      "Dataset 1:\n",
      "-----------\n",
      "Baseline:  0.4552 +/- 0.1198\n",
      "UoI:  0.0828 +/- 0.0414\n",
      "Reduction in features:  5.5\n",
      "WSRT:  WilcoxonResult(statistic=0.0, pvalue=6.878272638964072e-25)\n",
      "Cohens d:  1.764650488003609\n",
      "\n",
      "Dataset 2:\n",
      "-----------\n",
      "Baseline:  0.4589 +/- 0.1062\n",
      "UoI:  0.0890 +/- 0.0411\n",
      "Reduction in features:  5.153846153846154\n",
      "WSRT:  WilcoxonResult(statistic=0.0, pvalue=2.2069942157533432e-25)\n",
      "Cohens d:  1.9309963615229062\n",
      "\n"
     ]
    }
   ],
   "source": [
    "mc_baseline_srs = [calculate_selection_ratio(m1_lasso_cc)\n",
    "                   for m1_lasso_cc in m1_lasso_ccs]\n",
    "mc_uoi_srs = [calculate_selection_ratio(m1_uoi_cc)\n",
    "              for m1_uoi_cc in m1_uoi_ccs]\n",
    "\n",
    "for idx in range(n_m1_fits):\n",
    "    baseline = mc_baseline_srs[idx]\n",
    "    uoi = mc_uoi_srs[idx]\n",
    "    print('Dataset %s:' %idx)\n",
    "    print('-----------')\n",
    "    print('Baseline: ', format(np.median(baseline), '0.4f'), '+/-', format(ss.iqr(baseline) / 2, '0.4f'))\n",
    "    print('UoI: ', format(np.median(uoi), '0.4f'), '+/-', format(ss.iqr(uoi) / 2, '0.4f'))\n",
    "    print('Reduction in features: ', np.median(baseline) / np.median(uoi))\n",
    "    print('WSRT: ', ss.wilcoxon(baseline, uoi))\n",
    "    print('Cohens d: ', np.mean(baseline - uoi) / np.std(baseline))\n",
    "    print('')"
   ]
  },
  {
   "cell_type": "markdown",
   "metadata": {},
   "source": [
    "## Predictive Performance"
   ]
  },
  {
   "cell_type": "code",
   "execution_count": 38,
   "metadata": {},
   "outputs": [
    {
     "name": "stdout",
     "output_type": "stream",
     "text": [
      "Baseline:  0.9769597427791629 +/- 0.020767671350724937\n",
      "UoI:  0.9768421413247849 +/- 0.02132102606168018\n",
      "Median del PP:  4.630757180323908e-05\n",
      "Wilcoxon Sign Rank Test:  WilcoxonResult(statistic=2746.0, pvalue=0.0010140364137717843)\n",
      "Cohens D:  0.004911669739322192\n"
     ]
    }
   ],
   "source": [
    "ac_baseline_pp = np.median(a1_results['lasso/r2s_test'][:], axis=0)\n",
    "ac_uoi_pp = np.median(a1_results['uoi_lasso_bic/r2s_test'][:], axis=0)\n",
    "\n",
    "print('Baseline: ', np.median(ac_baseline_pp), '+/-', ss.iqr(ac_baseline_pp) / 2)\n",
    "print('UoI: ', np.median(ac_uoi_pp), '+/-', ss.iqr(ac_uoi_pp) / 2)\n",
    "print('Median del PP: ', np.median(ac_baseline_pp - ac_uoi_pp))\n",
    "print('Wilcoxon Sign Rank Test: ', ss.wilcoxon(x=ac_baseline_pp,\n",
    "                                               y=ac_uoi_pp))\n",
    "print('Cohens D: ', np.mean(ac_baseline_pp - ac_uoi_pp) / np.std(ac_baseline_pp))"
   ]
  },
  {
   "cell_type": "code",
   "execution_count": 39,
   "metadata": {},
   "outputs": [
    {
     "name": "stdout",
     "output_type": "stream",
     "text": [
      "Dataset 0:\n",
      "-----------\n",
      "Baseline:  202.89 +/- 34.69\n",
      "UoI:  205.06 +/- 35.52\n",
      "Median del PP:  -2.99\n",
      "Wilcoxon Sign Rank Test:  WilcoxonResult(statistic=270.0, pvalue=6.156882917188932e-16)\n",
      "Cohens D:  -0.04625702029560614\n",
      "\n",
      "Dataset 1:\n",
      "-----------\n",
      "Baseline:  165.69 +/- 43.52\n",
      "UoI:  167.87 +/- 43.40\n",
      "Median del PP:  -1.97\n",
      "Wilcoxon Sign Rank Test:  WilcoxonResult(statistic=286.0, pvalue=3.4771674181856445e-12)\n",
      "Cohens D:  -0.03283287013248259\n",
      "\n",
      "Dataset 2:\n",
      "-----------\n",
      "Baseline:  212.86 +/- 41.48\n",
      "UoI:  217.40 +/- 41.20\n",
      "Median del PP:  -3.31\n",
      "Wilcoxon Sign Rank Test:  WilcoxonResult(statistic=138.0, pvalue=1.5655355039634033e-18)\n",
      "Cohens D:  -0.0472620057877084\n",
      "\n"
     ]
    }
   ],
   "source": [
    "vc_baseline_pp = [np.median(v1_results[idx]['glmnet_poisson/deviances_test'][:], axis=0) for idx in range(n_v1_fits)]\n",
    "vc_uoi_pp = [np.median(v1_results[idx]['uoi_poisson_log/deviances_test'][:], axis=0) for idx in range(n_v1_fits)]\n",
    "\n",
    "for dataset in range(n_v1_fits):\n",
    "    baseline = vc_baseline_pp[dataset]\n",
    "    uoi = vc_uoi_pp[dataset]\n",
    "    \n",
    "    print('Dataset %s:' %dataset)\n",
    "    print('-----------')\n",
    "    print('Baseline: ', format(np.median(baseline), '0.2f'), '+/-', format(ss.iqr(baseline) / 2, '0.2f'))\n",
    "    print('UoI: ', format(np.median(uoi), '0.2f'), '+/-', format(ss.iqr(uoi) / 2, '0.2f'))\n",
    "    print('Median del PP: ', format(np.median(baseline - uoi), '0.2f'))\n",
    "    print('Wilcoxon Sign Rank Test: ',\n",
    "          ss.wilcoxon(x=baseline,\n",
    "                      y=uoi))\n",
    "    print('Cohens D: ', np.mean(baseline - uoi) / np.std(baseline))\n",
    "    print('')"
   ]
  },
  {
   "cell_type": "code",
   "execution_count": 40,
   "metadata": {},
   "outputs": [
    {
     "name": "stdout",
     "output_type": "stream",
     "text": [
      "Dataset 0:\n",
      "-----------\n",
      "Baseline:  231.66 +/- 64.56\n",
      "UoI:  233.28 +/- 64.58\n",
      "Median del PP:  -2.47\n",
      "Wilcoxon Sign Rank Test:  WilcoxonResult(statistic=66.0, pvalue=1.9684990810593737e-23)\n",
      "Cohens D:  -0.03009294933633112\n",
      "\n",
      "Dataset 1:\n",
      "-----------\n",
      "Baseline:  263.01 +/- 60.03\n",
      "UoI:  266.26 +/- 58.64\n",
      "Median del PP:  -2.27\n",
      "Wilcoxon Sign Rank Test:  WilcoxonResult(statistic=239.0, pvalue=2.9723257528125254e-23)\n",
      "Cohens D:  -0.025037853371152427\n",
      "\n",
      "Dataset 2:\n",
      "-----------\n",
      "Baseline:  248.21 +/- 56.89\n",
      "UoI:  249.80 +/- 57.66\n",
      "Median del PP:  -2.72\n",
      "Wilcoxon Sign Rank Test:  WilcoxonResult(statistic=61.0, pvalue=3.6571555482461566e-25)\n",
      "Cohens D:  -0.0298387990130159\n",
      "\n"
     ]
    }
   ],
   "source": [
    "mc_baseline_pp = [np.median(m1_results[idx]['glmnet_poisson/deviances_test'][:], axis=0) for idx in range(n_m1_fits)]\n",
    "mc_uoi_pp = [np.median(m1_results[idx]['uoi_poisson_log/deviances_test'][:], axis=0) for idx in range(n_m1_fits)]\n",
    "\n",
    "for dataset in range(n_m1_fits):\n",
    "    baseline = np.nan_to_num(mc_baseline_pp[dataset])\n",
    "    uoi = np.nan_to_num(mc_uoi_pp[dataset])\n",
    "    \n",
    "    print('Dataset %s:' %dataset)\n",
    "    print('-----------')\n",
    "    print('Baseline: ', format(np.median(baseline), '0.2f'), '+/-', format(ss.iqr(baseline) / 2, '0.2f'))\n",
    "    print('UoI: ', format(np.median(uoi), '0.2f'), '+/-', format(ss.iqr(uoi) / 2, '0.2f'))\n",
    "    print('Median del PP: ', format(np.median(baseline - uoi), '0.2f'))\n",
    "    print('Wilcoxon Sign Rank Test: ',\n",
    "          ss.wilcoxon(x=baseline,\n",
    "                      y=uoi))\n",
    "    print('Cohens D: ', np.mean(baseline - uoi) / np.std(baseline))\n",
    "    print('')"
   ]
  },
  {
   "cell_type": "markdown",
   "metadata": {},
   "source": [
    "## Bayesian Information Criterion"
   ]
  },
  {
   "cell_type": "code",
   "execution_count": 31,
   "metadata": {
    "hide_input": false
   },
   "outputs": [
    {
     "name": "stdout",
     "output_type": "stream",
     "text": [
      "Baseline:  -6239.96 +/- 1884.42\n",
      "UoI:  -6490.60 +/- 1859.09\n",
      "Median del BIC:  170.01\n",
      "Wilcoxon Sign Rank Test:  WilcoxonResult(statistic=0.0, pvalue=9.513002484100111e-23)\n",
      "Cohens d:  0.03218667165689526\n"
     ]
    }
   ],
   "source": [
    "ac_baseline_bics = np.median(a1_results['lasso/bics'][:], axis=0)\n",
    "ac_uoi_bics = np.median(a1_results['uoi_lasso_bic/bics'][:], axis=0)\n",
    "\n",
    "print('Baseline: ', format(np.median(ac_baseline_bics), '0.2f'), '+/-', format(ss.iqr(ac_baseline_bics) / 2, '0.2f'))\n",
    "print('UoI: ', format(np.median(ac_uoi_bics), '0.2f'), '+/-', format(ss.iqr(ac_uoi_bics) / 2, '0.2f'))\n",
    "print('Median del BIC: ', format(np.median(ac_baseline_bics - ac_uoi_bics), '0.2f'))\n",
    "print('Wilcoxon Sign Rank Test: ',\n",
    "      ss.wilcoxon(x=ac_baseline_bics,\n",
    "                  y=ac_uoi_bics))\n",
    "print('Cohens d: ', np.mean(ac_baseline_bics - ac_uoi_bics) / np.std(ac_baseline_bics))"
   ]
  },
  {
   "cell_type": "code",
   "execution_count": 32,
   "metadata": {},
   "outputs": [
    {
     "name": "stdout",
     "output_type": "stream",
     "text": [
      "Dataset 0:\n",
      "-----------\n",
      "Baseline:  -15349.34 +/- 20946.67\n",
      "UoI:  -15516.19 +/- 20970.74\n",
      "Median del BIC:  149.14\n",
      "Wilcoxon Sign Rank Test:  WilcoxonResult(statistic=1.0, pvalue=4.1076187673350575e-19)\n",
      "Cohens D:  0.0019137602447543097\n",
      "\n",
      "Dataset 1:\n",
      "-----------\n",
      "Baseline:  -2864.02 +/- 11046.87\n",
      "UoI:  -3007.10 +/- 11087.03\n",
      "Median del BIC:  131.25\n",
      "Wilcoxon Sign Rank Test:  WilcoxonResult(statistic=7.0, pvalue=4.745954786077352e-16)\n",
      "Cohens D:  0.001898029981888442\n",
      "\n",
      "Dataset 2:\n",
      "-----------\n",
      "Baseline:  -35164.55 +/- 34069.33\n",
      "UoI:  -35309.01 +/- 34066.44\n",
      "Median del BIC:  161.33\n",
      "Wilcoxon Sign Rank Test:  WilcoxonResult(statistic=0.0, pvalue=4.096357955947718e-20)\n",
      "Cohens D:  0.0023814826867078515\n",
      "\n"
     ]
    }
   ],
   "source": [
    "vc_baseline_bics = [np.median(v1_results[idx]['glmnet_poisson/bics'][:], axis=0) for idx in range(n_v1_fits)]\n",
    "vc_uoi_bics = [np.median(v1_results[idx]['uoi_poisson_log/bics'][:], axis=0) for idx in range(n_v1_fits)]\n",
    "\n",
    "for dataset in range(n_v1_fits):\n",
    "    baseline = vc_baseline_bics[dataset]\n",
    "    uoi = vc_uoi_bics[dataset]\n",
    "    \n",
    "    print('Dataset %s:' %dataset)\n",
    "    print('-----------')\n",
    "    print('Baseline: ', format(np.median(baseline), '0.2f'), '+/-', format(ss.iqr(baseline) / 2, '0.2f'))\n",
    "    print('UoI: ', format(np.median(uoi), '0.2f'), '+/-', format(ss.iqr(uoi) / 2, '0.2f'))\n",
    "    print('Median del BIC: ', format(np.median(baseline - uoi), '0.2f'))\n",
    "    print('Wilcoxon Sign Rank Test: ',\n",
    "          ss.wilcoxon(x=baseline,\n",
    "                      y=uoi))\n",
    "    print('Cohens D: ', np.mean(baseline - uoi) / np.std(baseline))\n",
    "    print('')"
   ]
  },
  {
   "cell_type": "code",
   "execution_count": 37,
   "metadata": {},
   "outputs": [
    {
     "name": "stdout",
     "output_type": "stream",
     "text": [
      "Dataset 0:\n",
      "-----------\n",
      "Baseline BIC:  480.98 +/- 124.05\n",
      "UoI BIC:  321.75 +/- 59.49\n",
      "Median del BIC:  162.17\n",
      "Wilcoxon Sign Rank Test:  WilcoxonResult(statistic=422.0, pvalue=3.535529653947251e-20)\n",
      "Cohens D:  0.7248418316419467\n",
      "\n",
      "Dataset 1:\n",
      "-----------\n",
      "Baseline BIC:  542.79 +/- 150.17\n",
      "UoI BIC:  354.80 +/- 75.35\n",
      "Median del BIC:  186.10\n",
      "Wilcoxon Sign Rank Test:  WilcoxonResult(statistic=355.0, pvalue=2.948033801789911e-22)\n",
      "Cohens D:  0.7246654657934493\n",
      "\n",
      "Dataset 2:\n",
      "-----------\n",
      "Baseline BIC:  564.84 +/- 120.39\n",
      "UoI BIC:  362.11 +/- 67.42\n",
      "Median del BIC:  190.53\n",
      "Wilcoxon Sign Rank Test:  WilcoxonResult(statistic=180.0, pvalue=6.058087006705419e-24)\n",
      "Cohens D:  0.8389497875457887\n",
      "\n"
     ]
    }
   ],
   "source": [
    "mc_baseline_bics = [np.median(m1_results[idx]['glmnet_poisson/bics'][:], axis=0) for idx in range(n_m1_fits)]\n",
    "mc_uoi_bics = [np.median(m1_results[idx]['uoi_poisson_log/bics'][:], axis=0) for idx in range(n_m1_fits)]\n",
    "\n",
    "for dataset in range(n_m1_fits):\n",
    "    baseline = mc_baseline_bics[dataset]\n",
    "    uoi = mc_uoi_bics[dataset]\n",
    "    \n",
    "    print('Dataset %s:' %dataset)\n",
    "    print('-----------')\n",
    "    print('Baseline BIC: ', format(np.median(baseline), '0.2f'), '+/-', format(ss.iqr(baseline) / 2, '0.2f'))\n",
    "    print('UoI BIC: ', format(np.median(uoi), '0.2f'), '+/-', format(ss.iqr(uoi) / 2, '0.2f'))\n",
    "    print('Median del BIC: ', format(np.median(baseline - uoi), '0.2f'))\n",
    "    print('Wilcoxon Sign Rank Test: ',\n",
    "          ss.wilcoxon(x=baseline,\n",
    "                      y=uoi))\n",
    "    print('Cohens D: ', np.mean(baseline - uoi) / np.std(baseline))\n",
    "    print('')"
   ]
  },
  {
   "cell_type": "markdown",
   "metadata": {},
   "source": [
    "## Non-zero Parameters"
   ]
  },
  {
   "cell_type": "code",
   "execution_count": 25,
   "metadata": {},
   "outputs": [
    {
     "name": "stdout",
     "output_type": "stream",
     "text": [
      "Auditory Cortex\n",
      "---------------\n",
      "KS 2-sample test:  2.09716531577991e-69\n"
     ]
    }
   ],
   "source": [
    "print('Auditory Cortex')\n",
    "print('---------------')\n",
    "\n",
    "# unravel all coefficients\n",
    "a1_baseline_ccs_all = a1_lasso_ccs.ravel()\n",
    "a1_uoi_ccs_all = a1_uoi_ccs.ravel()\n",
    "\n",
    "# calculate non-zero coefficients\n",
    "a1_baseline_nz_ccs = a1_baseline_ccs_all[a1_baseline_ccs_all != 0]\n",
    "a1_uoi_nz_ccs = a1_uoi_ccs_all[a1_uoi_ccs_all != 0]\n",
    "\n",
    "# perform KS test\n",
    "print('KS 2-sample test: ', ss.ks_2samp(a1_baseline_nz_ccs, a1_uoi_nz_ccs).pvalue)"
   ]
  },
  {
   "cell_type": "code",
   "execution_count": 27,
   "metadata": {},
   "outputs": [
    {
     "name": "stdout",
     "output_type": "stream",
     "text": [
      "Ks_2sampResult(statistic=0.23965492673534994, pvalue=7.088669870853976e-294)\n"
     ]
    }
   ],
   "source": [
    "v1_baseline_ccs_all = np.concatenate(\n",
    "    [v1_lasso_ccs[idx].ravel()\n",
    "     for idx in range(n_v1_fits)])\n",
    "v1_uoi_ccs_all = np.concatenate(\n",
    "    [v1_uoi_ccs[idx].ravel()\n",
    "     for idx in range(n_v1_fits)])\n",
    "\n",
    "v1_baseline_nz_ccs = v1_baseline_ccs_all[v1_baseline_ccs_all != 0]\n",
    "v1_uoi_nz_ccs = v1_uoi_ccs_all[v1_uoi_ccs_all != 0]\n",
    "\n",
    "print(ss.ks_2samp(v1_baseline_nz_ccs, v1_uoi_nz_ccs))"
   ]
  },
  {
   "cell_type": "code",
   "execution_count": 28,
   "metadata": {},
   "outputs": [
    {
     "name": "stdout",
     "output_type": "stream",
     "text": [
      "Ks_2sampResult(statistic=0.38891828386778193, pvalue=0.0)\n"
     ]
    }
   ],
   "source": [
    "m1_baseline_ccs_all = np.concatenate(\n",
    "    [m1_lasso_ccs[idx].ravel()\n",
    "     for idx in range(n_v1_fits)])\n",
    "m1_uoi_ccs_all = np.concatenate(\n",
    "    [m1_uoi_ccs[idx].ravel()\n",
    "     for idx in range(n_v1_fits)])\n",
    "\n",
    "m1_baseline_nz_ccs = m1_baseline_ccs_all[m1_baseline_ccs_all != 0]\n",
    "m1_uoi_nz_ccs = m1_uoi_ccs_all[m1_uoi_ccs_all != 0]\n",
    "\n",
    "print(ss.ks_2samp(m1_baseline_nz_ccs, m1_uoi_nz_ccs))"
   ]
  },
  {
   "cell_type": "code",
   "execution_count": null,
   "metadata": {},
   "outputs": [],
   "source": []
  }
 ],
 "metadata": {
  "kernelspec": {
   "display_name": "neuro",
   "language": "python",
   "name": "neuro"
  },
  "language_info": {
   "codemirror_mode": {
    "name": "ipython",
    "version": 3
   },
   "file_extension": ".py",
   "mimetype": "text/x-python",
   "name": "python",
   "nbconvert_exporter": "python",
   "pygments_lexer": "ipython3",
   "version": "3.7.5"
  },
  "varInspector": {
   "cols": {
    "lenName": 16,
    "lenType": 16,
    "lenVar": 40
   },
   "kernels_config": {
    "python": {
     "delete_cmd_postfix": "",
     "delete_cmd_prefix": "del ",
     "library": "var_list.py",
     "varRefreshCmd": "print(var_dic_list())"
    },
    "r": {
     "delete_cmd_postfix": ") ",
     "delete_cmd_prefix": "rm(",
     "library": "var_list.r",
     "varRefreshCmd": "cat(var_dic_list()) "
    }
   },
   "types_to_exclude": [
    "module",
    "function",
    "builtin_function_or_method",
    "instance",
    "_Feature"
   ],
   "window_display": false
  }
 },
 "nbformat": 4,
 "nbformat_minor": 2
}
