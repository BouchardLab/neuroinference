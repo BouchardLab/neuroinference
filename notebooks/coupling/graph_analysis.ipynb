{
 "cells": [
  {
   "cell_type": "code",
   "execution_count": 1,
   "metadata": {},
   "outputs": [],
   "source": [
    "import h5py\n",
    "import matplotlib.pyplot as plt\n",
    "import networkx as nx\n",
    "import numpy as np\n",
    "import os\n",
    "\n",
    "from networkx.algorithms import community\n",
    "from uoineuro.coupling_utils import *\n",
    "\n",
    "%matplotlib inline"
   ]
  },
  {
   "cell_type": "code",
   "execution_count": 2,
   "metadata": {},
   "outputs": [],
   "source": [
    "base_path = os.path.join(os.environ['HOME'], 'fits/uoineuro/coupling')"
   ]
  },
  {
   "cell_type": "code",
   "execution_count": 3,
   "metadata": {},
   "outputs": [],
   "source": [
    "# consolidate AC results\n",
    "ac_results_path = os.path.join(base_path, 'ecog/ecog_coupling.h5')\n",
    "ac_results = h5py.File(ac_results_path, 'r')\n",
    "ac_lasso_ccs = np.median(ac_results['lasso/coupling_coefs'], axis=0)\n",
    "ac_uoi_lasso_ccs = np.median(ac_results['uoi_lasso_bic/coupling_coefs'], axis=0)"
   ]
  },
  {
   "cell_type": "code",
   "execution_count": 4,
   "metadata": {},
   "outputs": [],
   "source": [
    "# consolidate VC results\n",
    "vc_results_paths = [os.path.join(base_path, 'pvc11/pvc11_monkey1_coupling.h5'),\n",
    "                    os.path.join(base_path, 'pvc11/pvc11_monkey2_coupling.h5'),\n",
    "                    os.path.join(base_path, 'pvc11/pvc11_monkey3_coupling.h5')]\n",
    "n_vc_fits = len(vc_results_paths)\n",
    "vc_results = [h5py.File(vc_results_path, 'r')\n",
    "              for vc_results_path in vc_results_paths]\n",
    "# extract coupling coefficients\n",
    "vc_lasso_ccs = [np.median(vc_result['lasso/coupling_coefs'], axis=0)\n",
    "                for vc_result in vc_results]\n",
    "vc_uoi_lasso_ccs = [np.median(vc_result['uoi_lasso_bic/coupling_coefs'], axis=0)\n",
    "              for vc_result in vc_results]\n",
    "vc_glmnet_ccs = [np.median(vc_result['glmnet_poisson/coupling_coefs'], axis=0)\n",
    "                for vc_result in vc_results]\n",
    "vc_uoi_poisson_ccs = [np.median(vc_result['uoi_poisson_bic/coupling_coefs'], axis=0)\n",
    "              for vc_result in vc_results]"
   ]
  },
  {
   "cell_type": "code",
   "execution_count": 5,
   "metadata": {},
   "outputs": [],
   "source": [
    "# consolidate MC results\n",
    "mc_results_paths = [os.path.join(base_path, 'nhp/nhp_indy_20160407_02_coupling.h5'),\n",
    "                    os.path.join(base_path, 'nhp/nhp_indy_20160411_01_coupling.h5'),\n",
    "                    os.path.join(base_path, 'nhp/nhp_indy_20160411_02_coupling.h5')]\n",
    "n_mc_fits = len(mc_results_paths)\n",
    "mc_results = [h5py.File(mc_results_path, 'r')\n",
    "              for mc_results_path in mc_results_paths]\n",
    "# extract coupling coefficients\n",
    "mc_lasso_ccs = [np.median(mc_result['lasso/coupling_coefs'], axis=0)\n",
    "                for mc_result in mc_results]\n",
    "mc_uoi_lasso_ccs = [np.median(mc_result['uoi_lasso_bic/coupling_coefs'], axis=0)\n",
    "              for mc_result in mc_results]\n",
    "mc_glmnet_ccs = [np.median(mc_result['glmnet_poisson/coupling_coefs'], axis=0)\n",
    "                for mc_result in mc_results]\n",
    "mc_uoi_poisson_ccs = [np.median(mc_result['uoi_poisson_bic/coupling_coefs'], axis=0)\n",
    "              for mc_result in mc_results]"
   ]
  },
  {
   "cell_type": "code",
   "execution_count": 6,
   "metadata": {},
   "outputs": [],
   "source": [
    "lasso_ccs = [ac_lasso_ccs] + vc_lasso_ccs + mc_lasso_ccs\n",
    "uoi_lasso_ccs = [ac_uoi_lasso_ccs] + vc_uoi_lasso_ccs + mc_uoi_lasso_ccs\n",
    "glmnet_ccs = vc_glmnet_ccs + mc_glmnet_ccs\n",
    "uoi_poisson_ccs = vc_uoi_poisson_ccs + mc_uoi_poisson_ccs"
   ]
  },
  {
   "cell_type": "code",
   "execution_count": 7,
   "metadata": {},
   "outputs": [],
   "source": [
    "lasso_sgraphs = [create_symmetrized_graph(lasso_ccs[idx])[0]\n",
    "                for idx in range(len(lasso_ccs))]\n",
    "uoi_lasso_sgraphs = [create_symmetrized_graph(uoi_lasso_ccs[idx])[0]\n",
    "                    for idx in range(len(uoi_lasso_ccs))]\n",
    "glmnet_sgraphs = [create_symmetrized_graph(glmnet_ccs[idx])[0]\n",
    "                 for idx in range(len(glmnet_ccs))]\n",
    "uoi_poisson_sgraphs = [create_symmetrized_graph(uoi_poisson_ccs[idx])[0]\n",
    "                      for idx in range(len(uoi_poisson_ccs))]"
   ]
  },
  {
   "cell_type": "code",
   "execution_count": 8,
   "metadata": {},
   "outputs": [],
   "source": [
    "lasso_dgraphs = [create_directed_graph(lasso_ccs[idx], weighted=True)\n",
    "                for idx in range(len(lasso_ccs))]\n",
    "uoi_lasso_dgraphs = [create_directed_graph(uoi_lasso_ccs[idx], weighted=True)\n",
    "                    for idx in range(len(uoi_lasso_ccs))]\n",
    "glmnet_dgraphs = [create_directed_graph(glmnet_ccs[idx], weighted=True)\n",
    "                 for idx in range(len(glmnet_ccs))]\n",
    "uoi_poisson_dgraphs = [create_directed_graph(uoi_poisson_ccs[idx], weighted=True)\n",
    "                      for idx in range(len(uoi_poisson_ccs))]"
   ]
  },
  {
   "cell_type": "code",
   "execution_count": 9,
   "metadata": {},
   "outputs": [],
   "source": [
    "d_graphs = {\n",
    "    'ac_baseline': lasso_dgraphs[0],\n",
    "    'ac_uoi': uoi_lasso_dgraphs[0],\n",
    "    'vc_monkey1_baseline': glmnet_dgraphs[0],\n",
    "    'vc_monkey2_baseline': glmnet_dgraphs[1],\n",
    "    'vc_monkey3_baseline': glmnet_dgraphs[2],\n",
    "    'mc_monkey1_baseline': glmnet_dgraphs[3],\n",
    "    'mc_monkey2_baseline': glmnet_dgraphs[4],\n",
    "    'mc_monkey3_baseline': glmnet_dgraphs[5],\n",
    "    'vc_monkey1_uoi': uoi_poisson_dgraphs[0],\n",
    "    'vc_monkey2_uoi': uoi_poisson_dgraphs[1],\n",
    "    'vc_monkey3_uoi': uoi_poisson_dgraphs[2],\n",
    "    'mc_monkey1_uoi': uoi_poisson_dgraphs[3],\n",
    "    'mc_monkey2_uoi': uoi_poisson_dgraphs[4],\n",
    "    'mc_monkey3_uoi': uoi_poisson_dgraphs[5],\n",
    "}"
   ]
  },
  {
   "cell_type": "code",
   "execution_count": 10,
   "metadata": {},
   "outputs": [],
   "source": [
    "s_graphs = {\n",
    "    'ac_baseline': lasso_sgraphs[0],\n",
    "    'ac_uoi': uoi_lasso_sgraphs[0],\n",
    "    'vc_monkey1_baseline': glmnet_sgraphs[0],\n",
    "    'vc_monkey2_baseline': glmnet_sgraphs[1],\n",
    "    'vc_monkey3_baseline': glmnet_sgraphs[2],\n",
    "    'mc_monkey1_baseline': glmnet_sgraphs[3],\n",
    "    'mc_monkey2_baseline': glmnet_sgraphs[4],\n",
    "    'mc_monkey3_baseline': glmnet_sgraphs[5],\n",
    "    'vc_monkey1_uoi': uoi_poisson_sgraphs[0],\n",
    "    'vc_monkey2_uoi': uoi_poisson_sgraphs[1],\n",
    "    'vc_monkey3_uoi': uoi_poisson_sgraphs[2],\n",
    "    'mc_monkey1_uoi': uoi_poisson_sgraphs[3],\n",
    "    'mc_monkey2_uoi': uoi_poisson_sgraphs[4],\n",
    "    'mc_monkey3_uoi': uoi_poisson_sgraphs[5],\n",
    "}"
   ]
  },
  {
   "cell_type": "code",
   "execution_count": 90,
   "metadata": {},
   "outputs": [
    {
     "data": {
      "text/plain": [
       "True"
      ]
     },
     "execution_count": 90,
     "metadata": {},
     "output_type": "execute_result"
    }
   ],
   "source": [
    "nx.is_connected(s_graphs['vc_monkey1_uoi'])"
   ]
  },
  {
   "cell_type": "code",
   "execution_count": 91,
   "metadata": {},
   "outputs": [
    {
     "data": {
      "text/plain": [
       "0.0735449616317031"
      ]
     },
     "execution_count": 91,
     "metadata": {},
     "output_type": "execute_result"
    }
   ],
   "source": [
    "nx.algorithms.smallworld.omega(s_graphs['vc_monkey1_uoi'],\n",
    "                               nrand=1)"
   ]
  },
  {
   "cell_type": "code",
   "execution_count": 95,
   "metadata": {},
   "outputs": [
    {
     "data": {
      "text/plain": [
       "True"
      ]
     },
     "execution_count": 95,
     "metadata": {},
     "output_type": "execute_result"
    }
   ],
   "source": [
    "nx.is_connected(create_symmetrized_graph(coupling_coefs=ac_uoi_lasso_ccs)[0])"
   ]
  },
  {
   "cell_type": "code",
   "execution_count": 98,
   "metadata": {},
   "outputs": [
    {
     "data": {
      "text/plain": [
       "(array([-1.61267948e+00, -1.40544269e+00, -1.33651210e+00, -1.27296837e+00,\n",
       "        -1.24043931e+00, -1.19188979e+00, -1.15188227e+00, -1.12521288e+00,\n",
       "        -1.07452962e+00, -1.05844107e+00, -1.04292287e+00, -1.02216593e+00,\n",
       "        -1.01911398e+00, -1.00908119e+00, -1.00643594e+00, -9.98469271e-01,\n",
       "        -9.92090189e-01, -9.85745229e-01, -9.51849744e-01, -9.27781058e-01,\n",
       "        -9.16691531e-01, -9.11582087e-01, -8.78388963e-01, -7.78066113e-01,\n",
       "        -7.61371227e-01, -7.41147851e-01, -7.28189824e-01, -7.15565122e-01,\n",
       "        -7.00296782e-01, -6.91047600e-01, -6.65867788e-01, -6.47625310e-01,\n",
       "        -6.12259051e-01, -5.97310527e-01, -5.68904906e-01, -5.40689906e-01,\n",
       "        -5.13499369e-01, -4.87962798e-01, -4.67594521e-01, -4.53127436e-01,\n",
       "        -4.37915604e-01, -4.24038405e-01, -4.02907749e-01, -4.02060064e-01,\n",
       "        -3.76950899e-01, -3.50079094e-01, -3.35013402e-01, -3.03483363e-01,\n",
       "        -2.90262211e-01, -2.70532510e-01, -2.59620189e-01, -2.22394015e-01,\n",
       "        -2.20561876e-01, -2.06192226e-01, -1.80558692e-01, -1.67114598e-01,\n",
       "        -1.37699201e-01, -1.26082408e-01, -9.02873477e-02, -8.13919009e-02,\n",
       "        -7.72302050e-02, -6.71523123e-02, -6.19543637e-02, -4.57080672e-02,\n",
       "        -3.34132568e-02, -1.90743625e-02, -2.73715619e-04,  2.75474483e-02,\n",
       "         4.77419717e-02,  5.79285274e-02,  7.81631709e-02,  8.98042452e-02,\n",
       "         1.27985076e-01,  1.94122081e-01,  2.20236408e-01,  2.34020332e-01,\n",
       "         2.63451318e-01,  3.04364117e-01,  3.24347109e-01,  3.43685801e-01,\n",
       "         3.51750372e-01,  3.75482899e-01,  4.16411269e-01,  4.33712055e-01,\n",
       "         4.46006551e-01,  4.72545750e-01,  4.91928550e-01,  5.26755689e-01,\n",
       "         5.44701438e-01,  5.87129238e-01,  6.02674207e-01,  6.30891546e-01,\n",
       "         6.51520287e-01,  6.64625709e-01,  6.99643948e-01,  7.19796080e-01,\n",
       "         7.60939205e-01,  7.77911384e-01,  7.95310436e-01,  8.21124631e-01,\n",
       "         8.32585917e-01,  8.35730384e-01,  8.68511501e-01,  8.76733796e-01,\n",
       "         8.90756112e-01,  9.07807956e-01,  9.18910489e-01,  9.43154904e-01,\n",
       "         9.43845067e-01,  9.65266239e-01,  9.71943713e-01,  9.79453504e-01,\n",
       "         9.86205552e-01,  9.90481181e-01,  9.93924699e-01,  9.99536382e-01,\n",
       "         1.00206290e+00,  1.01224068e+00,  1.01504523e+00,  1.01749965e+00,\n",
       "         1.02243985e+00,  1.02754578e+00,  1.03098528e+00,  1.03456269e+00,\n",
       "         1.04407098e+00,  1.05843195e+00,  1.06425184e+00,  1.07455065e+00]),\n",
       " matrix([[ 0.0025325 ,  0.01838715, -0.00351536, ...,  0.08343291,\n",
       "          -0.22350429,  0.0074073 ],\n",
       "         [ 0.12132044, -0.09315048,  0.02225254, ..., -0.02287372,\n",
       "          -0.02151942, -0.01656612],\n",
       "         [-0.23803071,  0.001774  ,  0.02223235, ..., -0.00391735,\n",
       "          -0.05327631,  0.00538079],\n",
       "         ...,\n",
       "         [ 0.01542273,  0.01686267,  0.00531148, ...,  0.00049847,\n",
       "          -0.06821287,  0.00408707],\n",
       "         [ 0.04901309, -0.19711239, -0.00296719, ..., -0.0084123 ,\n",
       "          -0.00312599,  0.01272422],\n",
       "         [-0.05194991,  0.11429537, -0.01702342, ..., -0.02095317,\n",
       "          -0.00545758,  0.01731556]]))"
      ]
     },
     "execution_count": 98,
     "metadata": {},
     "output_type": "execute_result"
    }
   ],
   "source": [
    "np.linalg.eigh(A)"
   ]
  },
  {
   "cell_type": "code",
   "execution_count": 338,
   "metadata": {},
   "outputs": [],
   "source": [
    "A = nx.adjacency_matrix(create_symmetrized_graph(coupling_coefs=vc_lasso_ccs[1])[0]).todense()\n",
    "B = np.zeros((A.shape[0], A.shape[0]))\n",
    "# B = np.identity(A.shape[0])\n",
    "B[0, 0] = 1\n",
    "\n",
    "W = np.zeros(A.shape)\n",
    "T = 500\n",
    "Apow2 = np.zeros(A.shape)\n",
    "\n",
    "for ii in range(T):\n",
    "    Apow2 += np.linalg.matrix_power(A, 2*ii)\n",
    "    \n",
    "for ii in range(T):\n",
    "    Apow = np.linalg.matrix_power(A, ii)\n",
    "    W += Apow @ B @ Apow"
   ]
  },
  {
   "cell_type": "code",
   "execution_count": 339,
   "metadata": {},
   "outputs": [
    {
     "data": {
      "text/plain": [
       "8861270.200165296"
      ]
     },
     "execution_count": 339,
     "metadata": {},
     "output_type": "execute_result"
    }
   ],
   "source": [
    "np.trace(W)"
   ]
  },
  {
   "cell_type": "code",
   "execution_count": 340,
   "metadata": {},
   "outputs": [
    {
     "data": {
      "text/plain": [
       "(array([-6.10526135e-10, -3.49095858e-10, -3.02036730e-10, -2.79905168e-10,\n",
       "        -2.74930896e-10, -2.50076234e-10, -1.72380811e-10, -1.45541039e-10,\n",
       "        -1.34355454e-10, -1.30521020e-10, -1.15841053e-10, -9.63855930e-11,\n",
       "        -9.23785958e-11, -8.24790650e-11, -5.49244560e-11, -3.54278117e-11,\n",
       "        -3.21678484e-11, -3.16524612e-11, -2.67212197e-11, -2.32188741e-11,\n",
       "        -1.77359920e-11, -1.48944653e-11, -1.26589563e-11, -9.40083263e-12,\n",
       "        -6.59764562e-12, -5.88335628e-12, -4.80442013e-12, -3.45830637e-12,\n",
       "        -3.38608194e-12, -2.16043607e-12, -1.80528560e-12, -1.45439990e-12,\n",
       "        -8.29703922e-13, -5.13646284e-13, -1.15441419e-13,  8.61054371e-14,\n",
       "         1.85256548e-13,  2.73175979e-13,  3.81132350e-13,  7.90916444e-13,\n",
       "         1.00857621e-12,  1.18670866e-12,  1.60400868e-12,  2.44792550e-12,\n",
       "         2.86975751e-12,  3.09658649e-12,  3.80333892e-12,  6.90870749e-12,\n",
       "         7.65116154e-12,  7.81116620e-12,  1.18414301e-11,  1.39184743e-11,\n",
       "         1.95040296e-11,  2.08320785e-11,  2.44108226e-11,  3.12636101e-11,\n",
       "         3.90240476e-11,  5.31060632e-11,  5.70438619e-11,  7.44777490e-11,\n",
       "         7.79476632e-11,  8.71511241e-11,  1.05113849e-10,  1.37224804e-10,\n",
       "         1.55036818e-10,  1.75748077e-10,  2.27504912e-10,  2.62140709e-10,\n",
       "         2.74867005e-10,  3.56617341e-10,  4.37516973e-10,  4.77377398e-10,\n",
       "         2.24346322e-09,  2.88415977e-09,  1.70668071e-08,  1.07053842e-07,\n",
       "         1.04698356e-06,  7.66759665e-06,  2.84905623e-05,  1.18718474e-04,\n",
       "         3.59833818e-04,  1.52478918e-03,  5.98937349e-03,  3.09498669e-02,\n",
       "         8.16891605e-02,  2.73560709e-01,  1.05786706e+00,  8.86126875e+06]),\n",
       " array([[-2.75621154e-12,  0.00000000e+00, -1.32381919e-10, ...,\n",
       "         -4.62269342e-02, -9.96676778e-01,  4.33456547e-02],\n",
       "        [ 1.75148283e-01,  4.08613052e-02, -9.38124517e-02, ...,\n",
       "          1.01766862e-02, -3.50958619e-03,  1.32838555e-02],\n",
       "        [ 2.13836214e-02,  6.33058701e-02, -6.18525920e-02, ...,\n",
       "          3.44665285e-02, -3.00234369e-03, -3.59508592e-03],\n",
       "        ...,\n",
       "        [ 4.76585145e-02, -2.17338356e-01, -3.05750527e-01, ...,\n",
       "          9.80766093e-02, -2.45889460e-03,  1.46835956e-01],\n",
       "        [-2.46077743e-02, -1.56873999e-01,  2.19924967e-01, ...,\n",
       "         -2.61419800e-02, -3.22930762e-04, -1.07276360e-01],\n",
       "        [ 2.00517938e-01, -3.48513644e-01,  1.91312670e-01, ...,\n",
       "         -9.51635524e-02, -1.95804520e-02, -2.11370901e-01]]))"
      ]
     },
     "execution_count": 340,
     "metadata": {},
     "output_type": "execute_result"
    }
   ],
   "source": [
    "np.linalg.eigh(W)"
   ]
  },
  {
   "cell_type": "code",
   "execution_count": 328,
   "metadata": {},
   "outputs": [],
   "source": [
    "G1 = create_symmetrized_graph(coupling_coefs=mc_lasso_ccs[1])[0]\n",
    "G2 = create_symmetrized_graph(coupling_coefs=mc_uoi_lasso_ccs[1])[0]\n",
    "\n",
    "A1 = nx.adjacency_matrix(G1).todense()\n",
    "A2 = nx.adjacency_matrix(G2).todense()\n",
    "\n",
    "u1, v1 = np.linalg.eigh(A1)\n",
    "u2, v2 = np.linalg.eigh(A2)\n",
    "\n",
    "mc1 = np.sum((1 - u1**2)[np.newaxis] * np.array(v1)**2, axis=1)\n",
    "mc2 = np.sum(((1 - u2**2)[np.newaxis] * np.array(v2).T**2), axis=1)\n",
    "\n",
    "dd1 = np.array([d for n,d in G1.degree()])\n",
    "dd2 = np.array([d for n,d in G2.degree()])"
   ]
  },
  {
   "cell_type": "code",
   "execution_count": 332,
   "metadata": {},
   "outputs": [
    {
     "data": {
      "text/plain": [
       "<matplotlib.collections.PathCollection at 0x7f5379ae3b10>"
      ]
     },
     "execution_count": 332,
     "metadata": {},
     "output_type": "execute_result"
    },
    {
     "data": {
      "image/png": "[encoded data removed]",
      "text/plain": [
       "<Figure size 432x288 with 1 Axes>"
      ]
     },
     "metadata": {
      "needs_background": "light"
     },
     "output_type": "display_data"
    }
   ],
   "source": [
    "plt.scatter(np.argsort(dd2), np.argsort(mc2))"
   ]
  },
  {
   "cell_type": "code",
   "execution_count": 324,
   "metadata": {},
   "outputs": [
    {
     "data": {
      "text/plain": [
       "[95,\n",
       " 85,\n",
       " 87,\n",
       " 60,\n",
       " 46,\n",
       " 62,\n",
       " 49,\n",
       " 58,\n",
       " 16,\n",
       " 52,\n",
       " 60,\n",
       " 27,\n",
       " 80,\n",
       " 82,\n",
       " 82,\n",
       " 57,\n",
       " 28,\n",
       " 82,\n",
       " 67,\n",
       " 59,\n",
       " 75,\n",
       " 114,\n",
       " 69,\n",
       " 50,\n",
       " 22,\n",
       " 23,\n",
       " 43,\n",
       " 72,\n",
       " 52,\n",
       " 91,\n",
       " 70,\n",
       " 49,\n",
       " 47,\n",
       " 34,\n",
       " 61,\n",
       " 24,\n",
       " 72,\n",
       " 53,\n",
       " 70,\n",
       " 91,\n",
       " 57,\n",
       " 25,\n",
       " 48,\n",
       " 57,\n",
       " 98,\n",
       " 15,\n",
       " 94,\n",
       " 23,\n",
       " 55,\n",
       " 101,\n",
       " 49,\n",
       " 70,\n",
       " 41,\n",
       " 19,\n",
       " 71,\n",
       " 59,\n",
       " 69,\n",
       " 59,\n",
       " 36,\n",
       " 76,\n",
       " 66,\n",
       " 81,\n",
       " 86,\n",
       " 45,\n",
       " 46,\n",
       " 48,\n",
       " 70,\n",
       " 35,\n",
       " 66,\n",
       " 45,\n",
       " 50,\n",
       " 35,\n",
       " 80,\n",
       " 63,\n",
       " 64,\n",
       " 80,\n",
       " 57,\n",
       " 66,\n",
       " 82,\n",
       " 90,\n",
       " 53,\n",
       " 35,\n",
       " 55,\n",
       " 21,\n",
       " 57,\n",
       " 67,\n",
       " 82,\n",
       " 46,\n",
       " 55,\n",
       " 49,\n",
       " 43,\n",
       " 24,\n",
       " 48,\n",
       " 23,\n",
       " 57,\n",
       " 39,\n",
       " 51,\n",
       " 35,\n",
       " 44,\n",
       " 44,\n",
       " 46,\n",
       " 54,\n",
       " 66,\n",
       " 48,\n",
       " 69,\n",
       " 66,\n",
       " 48,\n",
       " 81,\n",
       " 72,\n",
       " 65,\n",
       " 29,\n",
       " 51,\n",
       " 60,\n",
       " 66,\n",
       " 69,\n",
       " 54,\n",
       " 72,\n",
       " 30,\n",
       " 58,\n",
       " 56,\n",
       " 80,\n",
       " 28,\n",
       " 32,\n",
       " 20,\n",
       " 101,\n",
       " 59,\n",
       " 44,\n",
       " 28,\n",
       " 71,\n",
       " 90,\n",
       " 84,\n",
       " 60,\n",
       " 43,\n",
       " 49,\n",
       " 49,\n",
       " 71,\n",
       " 57,\n",
       " 70,\n",
       " 55,\n",
       " 44,\n",
       " 28,\n",
       " 75,\n",
       " 50,\n",
       " 29,\n",
       " 24,\n",
       " 58]"
      ]
     },
     "execution_count": 324,
     "metadata": {},
     "output_type": "execute_result"
    }
   ],
   "source": [
    "[d for n, d in G1.degree()]"
   ]
  },
  {
   "cell_type": "code",
   "execution_count": 310,
   "metadata": {},
   "outputs": [
    {
     "data": {
      "text/plain": [
       "[<matplotlib.lines.Line2D at 0x7f5379984d10>]"
      ]
     },
     "execution_count": 310,
     "metadata": {},
     "output_type": "execute_result"
    },
    {
     "data": {
      "image/png": "[encoded data removed]",
      "text/plain": [
       "<Figure size 432x288 with 1 Axes>"
      ]
     },
     "metadata": {
      "needs_background": "light"
     },
     "output_type": "display_data"
    }
   ],
   "source": [
    "plt.scatter(\n",
    "    np.sum((1 - u1**2)[np.newaxis] * np.array(v1)**2, axis=1),\n",
    "    np.sum((1 - u2**2)[np.newaxis] * np.array(v2)**2, axis=1)\n",
    ")\n",
    "plt.xlim([0.5, 1])\n",
    "plt.ylim([0.5, 1])\n",
    "plt.plot([0.5, 1], [0.5, 1])"
   ]
  },
  {
   "cell_type": "code",
   "execution_count": 318,
   "metadata": {},
   "outputs": [
    {
     "data": {
      "text/plain": [
       "array([1., 1., 1., 1., 1., 1., 1., 1., 1., 1., 1., 1., 1., 1., 1., 1., 1.,\n",
       "       1., 1., 1., 1., 1., 1., 1., 1., 1., 1., 1., 1., 1., 1., 1., 1., 1.,\n",
       "       1., 1., 1., 1., 1., 1., 1., 1., 1., 1., 1., 1., 1., 1., 1., 1., 1.,\n",
       "       1., 1., 1., 1., 1., 1., 1., 1., 1., 1., 1., 1., 1., 1., 1., 1., 1.,\n",
       "       1., 1., 1., 1., 1., 1., 1., 1., 1., 1., 1., 1., 1., 1., 1., 1., 1.,\n",
       "       1., 1., 1., 1., 1., 1., 1., 1., 1., 1., 1., 1., 1., 1., 1., 1., 1.,\n",
       "       1., 1., 1., 1., 1., 1., 1., 1., 1., 1., 1., 1., 1., 1., 1., 1., 1.,\n",
       "       1., 1., 1., 1., 1., 1., 1., 1., 1., 1., 1., 1., 1., 1., 1., 1., 1.,\n",
       "       1., 1., 1., 1., 1., 1., 1., 1., 1., 1.])"
      ]
     },
     "execution_count": 318,
     "metadata": {},
     "output_type": "execute_result"
    }
   ],
   "source": [
    "np.sum(np.array(v2)**2, axis=1)"
   ]
  },
  {
   "cell_type": "code",
   "execution_count": 320,
   "metadata": {},
   "outputs": [
    {
     "data": {
      "text/plain": [
       "array([0.96903352, 0.96570428, 0.95493976, 0.9697659 , 0.96789676,\n",
       "       0.98756145, 0.98424168, 0.95428595, 0.97055967, 0.95444795,\n",
       "       0.96769635, 0.96926041, 0.9756477 , 0.96798454, 0.96811427,\n",
       "       0.97401577, 0.97683519, 0.96896944, 0.97232283, 0.97705111,\n",
       "       0.9783243 , 0.97385806, 0.96357896, 0.97813598, 0.97332984,\n",
       "       0.9884434 , 0.98521537, 0.97767368, 0.9745685 , 0.98265132,\n",
       "       0.98501724, 0.96878736, 0.98210964, 0.96512362, 0.97063642,\n",
       "       0.97695431, 0.96616798, 0.96588881, 0.95975903, 0.97103594,\n",
       "       0.97324852, 0.9813705 , 0.96752995, 0.98068257, 0.96934688,\n",
       "       0.97833317, 0.97195299, 0.95391564, 0.97703115, 0.93831275,\n",
       "       0.96760011, 0.96330235, 0.93411843, 0.9776726 , 0.94333537,\n",
       "       0.97721914, 0.97173666, 0.9438007 , 0.96840295, 0.95706439,\n",
       "       0.96664002, 0.94894542, 0.95629462, 0.95678188, 0.96189766,\n",
       "       0.97217863, 0.94189087, 0.95976532, 0.92598713, 0.92054825,\n",
       "       0.84504615, 0.95644963, 0.97563326, 0.96984894, 0.96085721,\n",
       "       0.98398479, 0.96274859, 0.97139331, 0.83482867, 0.92849794,\n",
       "       0.59669969, 0.96285385, 0.92363152, 0.95552288, 0.97629048,\n",
       "       0.9641957 , 0.96573695, 0.97387655, 0.95572293, 0.93076564,\n",
       "       0.91484914, 0.97165157, 0.96870306, 0.92262834, 0.96876738,\n",
       "       0.97553931, 0.96387251, 0.94754701, 0.97099368, 0.95497826,\n",
       "       0.93746979, 0.97682338, 0.97414914, 0.96969207, 0.95979169,\n",
       "       0.96722999, 0.94393397, 0.97242955, 0.95512184, 0.97208591,\n",
       "       0.9765818 , 0.97295999, 0.98098801, 0.9756372 , 0.9338233 ,\n",
       "       0.97276345, 0.97022195, 0.97354175, 0.96674895, 0.9767071 ,\n",
       "       0.97261563, 0.97028877, 0.97714129, 0.98838666, 0.97955247,\n",
       "       0.96669763, 0.96877783, 0.97197757, 0.96961628, 0.97574218,\n",
       "       0.9647626 , 0.97690048, 0.9701953 , 0.97513452, 0.97662179,\n",
       "       0.98149995, 0.98266584, 0.98008095, 0.98345586, 0.96029251,\n",
       "       0.96721679, 0.97995107, 0.96804258, 0.96196107, 0.95926645,\n",
       "       0.9756763 ])"
      ]
     },
     "execution_count": 320,
     "metadata": {},
     "output_type": "execute_result"
    }
   ],
   "source": [
    "np.sum(((1 - u2**2)[np.newaxis] * np.array(v2).T**2), axis=1)"
   ]
  },
  {
   "cell_type": "code",
   "execution_count": 315,
   "metadata": {},
   "outputs": [
    {
     "data": {
      "text/plain": [
       "array([9.70693386e-05, 6.65943960e-05, 5.27666389e-03, 3.92156069e-04,\n",
       "       9.35576352e-05, 6.70236031e-03, 4.56535725e-03, 2.11986719e-03,\n",
       "       1.71996523e-35, 5.55844687e-03, 1.45604568e-04, 5.78596304e-34,\n",
       "       3.09334721e-03, 4.66095222e-03, 9.81639924e-02, 2.66813466e-03,\n",
       "       4.92042629e-04, 7.23441220e-03, 4.87814538e-03, 3.48453436e-05,\n",
       "       2.67583792e-03, 8.89023591e-04, 9.28600225e-04, 3.74309204e-04,\n",
       "       2.75194437e-34, 9.84749845e-05, 1.95963245e-05, 1.07989410e-03,\n",
       "       1.70027984e-03, 6.86845531e-03, 7.28366335e-04, 3.42010184e-03,\n",
       "       2.94430045e-04, 1.88411993e-06, 4.44850059e-03, 7.27002606e-04,\n",
       "       2.81038835e-03, 6.99052576e-05, 9.30016772e-04, 3.55560910e-03,\n",
       "       6.90354511e-03, 5.69721284e-33, 2.41266729e-04, 1.48551039e-03,\n",
       "       2.74689781e-02, 1.12719642e-32, 1.79275955e-02, 1.12719642e-32,\n",
       "       1.18802952e-02, 4.23541703e-03, 1.03535056e-05, 7.11331771e-03,\n",
       "       6.52982154e-03, 9.30781037e-07, 1.75533828e-02, 3.13293418e-03,\n",
       "       1.21255652e-02, 7.78119761e-02, 7.14123718e-04, 9.65433144e-02,\n",
       "       2.37672212e-02, 6.53907465e-05, 1.86029795e-02, 3.22643714e-04,\n",
       "       2.84727345e-05, 6.43401400e-05, 2.63472534e-02, 1.18994509e-03,\n",
       "       6.15870265e-04, 6.61012077e-04, 8.27196449e-03, 3.66971694e-05,\n",
       "       4.22675584e-04, 2.14367837e-04, 1.73141501e-03, 6.51196574e-02,\n",
       "       1.97578145e-04, 2.62799697e-03, 5.53728417e-03, 2.58195181e-02,\n",
       "       2.44616549e-04, 3.25191174e-07, 7.98841720e-03, 3.41986424e-07,\n",
       "       9.51763869e-04, 5.20597542e-03, 1.85233250e-02, 3.88857256e-04,\n",
       "       4.37252861e-04, 6.75664283e-03, 1.19825997e-06, 4.53150992e-07,\n",
       "       1.55024187e-03, 1.29784170e-05, 2.05548958e-03, 4.60010506e-04,\n",
       "       1.44037803e-03, 2.03083176e-03, 1.85481143e-05, 2.43029946e-04,\n",
       "       1.32513737e-04, 3.31177189e-04, 5.61578003e-04, 4.92149814e-04,\n",
       "       8.85437536e-03, 9.18618650e-03, 1.11739701e-03, 1.75111763e-03,\n",
       "       5.27263641e-03, 8.95495980e-03, 9.62534500e-04, 4.90914330e-05,\n",
       "       1.82608291e-02, 3.94023991e-05, 8.12086625e-03, 1.35301558e-02,\n",
       "       2.08809326e-03, 3.71849677e-05, 1.46287411e-03, 3.48854158e-03,\n",
       "       3.50348001e-03, 4.68395866e-05, 2.11859730e-04, 1.69335893e-06,\n",
       "       3.40169786e-02, 4.39497877e-03, 3.57882385e-04, 6.90328280e-06,\n",
       "       2.32410880e-04, 3.12447610e-03, 6.09028978e-02, 9.04121918e-04,\n",
       "       4.01978442e-05, 9.38575225e-05, 3.01935522e-04, 9.98461139e-04,\n",
       "       1.58339754e-03, 5.94577208e-04, 2.51556312e-03, 1.45182109e-04,\n",
       "       6.55071368e-05, 2.73786090e-03, 4.67291814e-05, 5.41111405e-05,\n",
       "       2.23899455e-06, 1.34150538e-02])"
      ]
     },
     "execution_count": 315,
     "metadata": {},
     "output_type": "execute_result"
    }
   ],
   "source": [
    "((1 - u2**2)[np.newaxis] * np.array(v2)**2)[:, 8]"
   ]
  },
  {
   "cell_type": "code",
   "execution_count": 314,
   "metadata": {},
   "outputs": [
    {
     "data": {
      "text/plain": [
       "array([0.89556552, 0.93268378, 0.94685069, 0.9722252 , 0.9962241 ,\n",
       "       0.95147609, 0.95290519, 0.97010935, 1.        , 0.9849414 ,\n",
       "       0.97086157, 1.        , 0.95234023, 0.96401249, 0.91711285,\n",
       "       0.96645955, 0.98400044, 0.95746071, 0.97097243, 0.98342995,\n",
       "       0.92234115, 0.78602379, 0.98445108, 0.97092931, 1.        ,\n",
       "       0.99951736, 0.99919654, 0.94797955, 0.97035862, 0.8517075 ,\n",
       "       0.9512795 , 0.95859808, 0.98786812, 0.98929088, 0.98963418,\n",
       "       0.99621291, 0.94198452, 0.97940201, 0.98507268, 0.91316259,\n",
       "       0.97881226, 1.        , 0.96580517, 0.94651481, 0.9066239 ,\n",
       "       1.        , 0.86796915, 1.        , 0.96036772, 0.86318082,\n",
       "       0.99853443, 0.95793876, 0.95418959, 0.99998121, 0.92437323,\n",
       "       0.93511805, 0.95791915, 0.91989284, 0.98673699, 0.90303498,\n",
       "       0.9158182 , 0.98395401, 0.87307342, 0.9899474 , 0.96974481,\n",
       "       0.97426225, 0.9566377 , 0.9743082 , 0.97186927, 0.99430759,\n",
       "       0.98018183, 0.99654399, 0.92745925, 0.94298644, 0.95407691,\n",
       "       0.92402156, 0.92565099, 0.96885896, 0.88249477, 0.97044391,\n",
       "       0.96503216, 0.99996779, 0.96999167, 0.99998097, 0.95986555,\n",
       "       0.9201655 , 0.93632131, 0.98918382, 0.98271819, 0.96428767,\n",
       "       0.99324802, 0.97711721, 0.99704599, 0.9925677 , 0.96827307,\n",
       "       0.9370346 , 0.98892234, 0.98374311, 0.99545106, 0.99001919,\n",
       "       0.9937149 , 0.99074676, 0.89497062, 0.98476436, 0.96020568,\n",
       "       0.95618856, 0.96064239, 0.97648068, 0.95971158, 0.96496515,\n",
       "       0.99195643, 0.98737998, 0.9855053 , 0.96337446, 0.93265001,\n",
       "       0.97593146, 0.93661983, 0.99600117, 0.98264267, 0.97686052,\n",
       "       0.89148055, 0.99978015, 0.98581466, 0.97711421, 0.91589939,\n",
       "       0.98970099, 0.99451175, 0.9999776 , 0.93409262, 0.87129894,\n",
       "       0.86878307, 0.96078239, 0.99968045, 0.98972534, 0.98109453,\n",
       "       0.93020915, 0.9616758 , 0.94332835, 0.99408872, 0.99824823,\n",
       "       0.99984414, 0.94385186, 0.99479622, 0.99966715, 0.99998124,\n",
       "       0.97188365])"
      ]
     },
     "execution_count": 314,
     "metadata": {},
     "output_type": "execute_result"
    }
   ],
   "source": [
    "np.sum((1 - u2**2)[np.newaxis] * np.array(v2)**2, axis=1)"
   ]
  },
  {
   "cell_type": "code",
   "execution_count": 307,
   "metadata": {},
   "outputs": [
    {
     "data": {
      "text/plain": [
       "array([0.89556552, 0.93268378, 0.94685069, 0.9722252 , 0.9962241 ,\n",
       "       0.95147609, 0.95290519, 0.97010935, 1.        , 0.9849414 ,\n",
       "       0.97086157, 1.        , 0.95234023, 0.96401249, 0.91711285,\n",
       "       0.96645955, 0.98400044, 0.95746071, 0.97097243, 0.98342995,\n",
       "       0.92234115, 0.78602379, 0.98445108, 0.97092931, 1.        ,\n",
       "       0.99951736, 0.99919654, 0.94797955, 0.97035862, 0.8517075 ,\n",
       "       0.9512795 , 0.95859808, 0.98786812, 0.98929088, 0.98963418,\n",
       "       0.99621291, 0.94198452, 0.97940201, 0.98507268, 0.91316259,\n",
       "       0.97881226, 1.        , 0.96580517, 0.94651481, 0.9066239 ,\n",
       "       1.        , 0.86796915, 1.        , 0.96036772, 0.86318082,\n",
       "       0.99853443, 0.95793876, 0.95418959, 0.99998121, 0.92437323,\n",
       "       0.93511805, 0.95791915, 0.91989284, 0.98673699, 0.90303498,\n",
       "       0.9158182 , 0.98395401, 0.87307342, 0.9899474 , 0.96974481,\n",
       "       0.97426225, 0.9566377 , 0.9743082 , 0.97186927, 0.99430759,\n",
       "       0.98018183, 0.99654399, 0.92745925, 0.94298644, 0.95407691,\n",
       "       0.92402156, 0.92565099, 0.96885896, 0.88249477, 0.97044391,\n",
       "       0.96503216, 0.99996779, 0.96999167, 0.99998097, 0.95986555,\n",
       "       0.9201655 , 0.93632131, 0.98918382, 0.98271819, 0.96428767,\n",
       "       0.99324802, 0.97711721, 0.99704599, 0.9925677 , 0.96827307,\n",
       "       0.9370346 , 0.98892234, 0.98374311, 0.99545106, 0.99001919,\n",
       "       0.9937149 , 0.99074676, 0.89497062, 0.98476436, 0.96020568,\n",
       "       0.95618856, 0.96064239, 0.97648068, 0.95971158, 0.96496515,\n",
       "       0.99195643, 0.98737998, 0.9855053 , 0.96337446, 0.93265001,\n",
       "       0.97593146, 0.93661983, 0.99600117, 0.98264267, 0.97686052,\n",
       "       0.89148055, 0.99978015, 0.98581466, 0.97711421, 0.91589939,\n",
       "       0.98970099, 0.99451175, 0.9999776 , 0.93409262, 0.87129894,\n",
       "       0.86878307, 0.96078239, 0.99968045, 0.98972534, 0.98109453,\n",
       "       0.93020915, 0.9616758 , 0.94332835, 0.99408872, 0.99824823,\n",
       "       0.99984414, 0.94385186, 0.99479622, 0.99966715, 0.99998124,\n",
       "       0.97188365])"
      ]
     },
     "execution_count": 307,
     "metadata": {},
     "output_type": "execute_result"
    }
   ],
   "source": [
    "np.sum((1 - u2**2)[np.newaxis] * np.array(v2)**2, axis=1)"
   ]
  },
  {
   "cell_type": "code",
   "execution_count": 284,
   "metadata": {},
   "outputs": [
    {
     "data": {
      "text/plain": [
       "matrix([[-3.86898166]])"
      ]
     },
     "execution_count": 284,
     "metadata": {},
     "output_type": "execute_result"
    }
   ],
   "source": [
    "np.sum((1 - lam**2)[np.newaxis] * v**2, axis=1)"
   ]
  },
  {
   "cell_type": "code",
   "execution_count": 295,
   "metadata": {},
   "outputs": [
    {
     "data": {
      "text/plain": [
       "array([[-0.19508598, -0.08580506,  0.07634584, ..., -0.30065955,\n",
       "         0.06428926,  0.057792  ],\n",
       "       [ 0.0258513 , -0.00378416,  0.01689219, ..., -0.10125169,\n",
       "         0.05314987,  0.0946899 ],\n",
       "       [ 0.01195323,  0.0095172 ,  0.01668249, ...,  0.07412936,\n",
       "        -0.15917312,  0.01727664],\n",
       "       ...,\n",
       "       [ 0.00383844, -0.00347847,  0.00829626, ..., -0.00352765,\n",
       "        -0.001308  ,  0.01555912],\n",
       "       [ 0.01215165,  0.00306283, -0.00858733, ..., -0.02839161,\n",
       "        -0.00315693,  0.03345465],\n",
       "       [-0.12501347, -0.01016776,  0.06839982, ..., -0.04484684,\n",
       "        -0.14356857,  0.04677096]])"
      ]
     },
     "execution_count": 295,
     "metadata": {},
     "output_type": "execute_result"
    }
   ],
   "source": [
    "np.array(v)"
   ]
  },
  {
   "cell_type": "code",
   "execution_count": 277,
   "metadata": {},
   "outputs": [
    {
     "data": {
      "text/plain": [
       "matrix([[-3.86898166]])"
      ]
     },
     "execution_count": 277,
     "metadata": {},
     "output_type": "execute_result"
    }
   ],
   "source": [
    "lam, v = np.linalg.eigh(A)\n",
    "np.sum((1 - lam**2) * v**2, axis=1)"
   ]
  },
  {
   "cell_type": "code",
   "execution_count": 273,
   "metadata": {},
   "outputs": [
    {
     "name": "stdout",
     "output_type": "stream",
     "text": [
      "[0.03414624 0.23654435 1.00000224 1.00000569 1.00000799 1.00001136\n",
      " 1.00003455 1.0000416  1.00005288 1.00005975 1.00006768 1.00007312\n",
      " 1.00009426 1.00010584 1.00014993 1.00016492 1.00022144 1.00023474\n",
      " 1.0002746  1.00031499 1.00038954 1.00042783 1.00046825 1.00050487\n",
      " 1.00056065 1.0006471  1.00069176 1.00071329 1.00074835 1.00098894\n",
      " 1.00104178 1.00115123 1.00118606 1.00134151 1.00160454 1.00163982\n",
      " 1.00181591 1.00186447 1.00189542 1.00207644 1.00211705 1.00233802\n",
      " 1.00245025 1.00257259 1.00274946 1.00278899 1.00293187 1.00313506\n",
      " 1.0032631  1.00340239 1.00373865 1.00389029 1.00403071 1.00429813\n",
      " 1.00440328 1.00457367 1.00486858 1.00542287 1.00556861 1.00605563\n",
      " 1.00606598 1.00624464 1.00629322 1.00673966 1.00712815 1.00731447\n",
      " 1.00779886 1.00803591 1.00825078 1.00873523 1.00929031 1.00952814\n",
      " 1.01034255 1.01038013 1.01084084 1.01131177 1.01152095 1.01202359\n",
      " 1.01235627 1.01277761 1.01356033 1.01410114 1.01418884 1.01527256\n",
      " 1.01537851 1.01584746 1.01704289 1.01830443 1.01982193 1.02017685\n",
      " 1.02039947 1.02105813 1.02123214 1.02246148 1.02383469 1.02447549\n",
      " 1.02644978 1.0270616  1.02864484 1.0290985  1.03033844 1.0303981\n",
      " 1.03224731 1.03633351 1.03666378 1.03725621 1.03904259 1.04040409\n",
      " 1.04111795 1.04320743 1.04427094 1.04502965 1.04830294 1.0519163\n",
      " 1.05258947 1.05524316 1.05774965 1.06237241 1.06907124 1.071942\n",
      " 1.07477947 1.08008648 1.08020568 1.08249875 1.08640368 1.09096032\n",
      " 1.09332284 1.10084041 1.10262437 1.10897592 1.117504   1.14715782\n",
      " 1.15370191 1.15493257 1.20197413 1.22700836 1.30415551 1.36859178\n",
      " 1.49666824 1.51421964 1.59663744 1.71245192 2.26402641 2.42532286\n",
      " 2.69599265 4.89160918]\n",
      "159.05850472700322\n"
     ]
    }
   ],
   "source": [
    "print(np.linalg.eigh(W)[0])\n",
    "print(np.trace(W))"
   ]
  },
  {
   "cell_type": "code",
   "execution_count": 59,
   "metadata": {},
   "outputs": [
    {
     "name": "stderr",
     "output_type": "stream",
     "text": [
      "/home/psachdeva/anaconda3/envs/neuro/lib/python3.7/site-packages/numpy/linalg/linalg.py:2125: RuntimeWarning: overflow encountered in det\n",
      "  r = _umath_linalg.det(a, signature=signature)\n",
      "/home/psachdeva/anaconda3/envs/neuro/lib/python3.7/site-packages/numpy/linalg/linalg.py:2125: RuntimeWarning: overflow encountered in det\n",
      "  r = _umath_linalg.det(a, signature=signature)\n",
      "/home/psachdeva/anaconda3/envs/neuro/lib/python3.7/site-packages/numpy/linalg/linalg.py:2125: RuntimeWarning: overflow encountered in det\n",
      "  r = _umath_linalg.det(a, signature=signature)\n"
     ]
    }
   ],
   "source": [
    "controllability = np.zeros((7, 2, 4, 25))\n",
    "\n",
    "for idx, (baseline, uoi) in enumerate(zip(lasso_ccs, uoi_lasso_ccs)):\n",
    "    control_baseline = compute_controllability_curves(\n",
    "        create_symmetrized_graph(coupling_coefs=baseline)[0]\n",
    "    )\n",
    "    control_uoi = compute_controllability_curves(\n",
    "        create_symmetrized_graph(coupling_coefs=uoi)[0],\n",
    "    )\n",
    "    controllability[idx, 0] = control_baseline.T\n",
    "    controllability[idx, 1] = control_uoi.T"
   ]
  },
  {
   "cell_type": "code",
   "execution_count": 69,
   "metadata": {},
   "outputs": [
    {
     "data": {
      "text/plain": [
       "<networkx.classes.graph.Graph at 0x7f3401049150>"
      ]
     },
     "execution_count": 69,
     "metadata": {},
     "output_type": "execute_result"
    }
   ],
   "source": [
    "nx.create_create_symmetrized_graph(coupling_coefs=baseline)[0]"
   ]
  },
  {
   "cell_type": "code",
   "execution_count": 75,
   "metadata": {},
   "outputs": [
    {
     "data": {
      "text/plain": [
       "784"
      ]
     },
     "execution_count": 75,
     "metadata": {},
     "output_type": "execute_result"
    }
   ],
   "source": []
  },
  {
   "cell_type": "code",
   "execution_count": 60,
   "metadata": {},
   "outputs": [
    {
     "data": {
      "image/png": "[encoded data removed]",
      "text/plain": [
       "<Figure size 864x360 with 21 Axes>"
      ]
     },
     "metadata": {
      "needs_background": "light"
     },
     "output_type": "display_data"
    }
   ],
   "source": [
    "fig, axes = plt.subplots(3, 7, figsize=(12, 5), sharex=True)\n",
    "\n",
    "for metric_idx in range(3):\n",
    "    for data_idx in range(7):\n",
    "        ax = axes[metric_idx, data_idx]\n",
    "        ax.plot(np.arange(10, 500, 20), controllability[data_idx, 0, metric_idx, :], color='gray')\n",
    "        ax.plot(np.arange(10, 500, 20), controllability[data_idx, 1, metric_idx, :], color='r')\n",
    "        \n",
    "for ax in axes[0]:\n",
    "    ax.set_ylim([0, 2])\n",
    "    \n",
    "axes[0, 0].set_ylabel(r'\\textbf{Eigenvalue}')\n",
    "axes[1, 0].set_ylabel(r'\\textbf{Trace}')\n",
    "axes[2, 0].set_ylabel(r'\\textbf{Trace Inv}')\n",
    "\n",
    "axes[0, 0].set_title(r'\\textbf{A1}')\n",
    "axes[0, 1].set_title(r'\\textbf{V1}')\n",
    "axes[0, 2].set_title(r'\\textbf{V1}')\n",
    "axes[0, 3].set_title(r'\\textbf{V1}')\n",
    "axes[0, 4].set_title(r'\\textbf{M1}')\n",
    "axes[0, 5].set_title(r'\\textbf{M1}')\n",
    "axes[0, 6].set_title(r'\\textbf{M1}')\n",
    "\n",
    "axes[2, 0].set_xlabel(r'\\textbf{time}')\n",
    "plt.tight_layout()\n",
    "plt.savefig('control.pdf', bbox_inches='tight')"
   ]
  },
  {
   "cell_type": "code",
   "execution_count": 47,
   "metadata": {},
   "outputs": [
    {
     "data": {
      "text/plain": [
       "array([130.24846046, 130.21088162, 130.2097817 , 130.20973968,\n",
       "       130.20973807, 130.20973801, 130.209738  , 130.209738  ,\n",
       "       130.209738  , 130.209738  , 130.209738  , 130.209738  ,\n",
       "       130.209738  , 130.209738  , 130.209738  , 130.209738  ,\n",
       "       130.209738  , 130.209738  , 130.209738  , 130.209738  ,\n",
       "       130.209738  , 130.209738  , 130.209738  , 130.209738  ,\n",
       "       130.209738  ])"
      ]
     },
     "execution_count": 47,
     "metadata": {},
     "output_type": "execute_result"
    }
   ],
   "source": [
    "controllability[0, 1, 2, :]"
   ]
  },
  {
   "cell_type": "code",
   "execution_count": 21,
   "metadata": {},
   "outputs": [
    {
     "data": {
      "text/plain": [
       "[<matplotlib.lines.Line2D at 0x7f4fcc1848d0>]"
      ]
     },
     "execution_count": 21,
     "metadata": {},
     "output_type": "execute_result"
    },
    {
     "data": {
      "image/png": "[encoded data removed]",
      "text/plain": [
       "<Figure size 432x288 with 1 Axes>"
      ]
     },
     "metadata": {
      "needs_background": "light"
     },
     "output_type": "display_data"
    }
   ],
   "source": [
    "plt.plot(np.arange(10, 500, 20), control_baseline, color='k')\n",
    "plt.plot(np.arange(10, 500, 20), control_uoi, color='r')\n",
    "#plt.yscale('log')"
   ]
  },
  {
   "cell_type": "code",
   "execution_count": 59,
   "metadata": {},
   "outputs": [],
   "source": [
    "in_degree = {\n",
    "    key: np.array(list(dict(val.in_degree()).values()))\n",
    "    for key, val in d_graphs.items()\n",
    "}\n",
    "out_degree = {\n",
    "    key: np.array(list(dict(val.out_degree()).values()))\n",
    "    for key, val in d_graphs.items()\n",
    "}\n",
    "modularities = {\n",
    "    key: compute_modularity(val)\n",
    "    for key, val in d_graphs.items()\n",
    "}"
   ]
  },
  {
   "cell_type": "code",
   "execution_count": 60,
   "metadata": {},
   "outputs": [],
   "source": [
    "colors = ['#4986ae', '#ff800e', '#78b26d']"
   ]
  },
  {
   "cell_type": "code",
   "execution_count": 69,
   "metadata": {},
   "outputs": [
    {
     "data": {
      "image/png": "[encoded data removed]",
      "text/plain": [
       "<Figure size 504x288 with 9 Axes>"
      ]
     },
     "metadata": {
      "needs_background": "light"
     },
     "output_type": "display_data"
    }
   ],
   "source": [
    "fig, axes = plt.subplots(3, 3, figsize=(7, 4),\n",
    "                         gridspec_kw={'width_ratios': [1, 1, 0.6]})\n",
    "\n",
    "bins = np.linspace(0, 100, 20)\n",
    "\n",
    "axes[0, 0].hist([in_degree['ac_baseline'], in_degree['ac_uoi']],\n",
    "                alpha=1.,\n",
    "                color=['white', 'white'],\n",
    "                bins=bins,\n",
    "                histtype='step',\n",
    "                stacked=True,\n",
    "                edgecolor='red',\n",
    "                linewidth=3)\n",
    "axes[0, 1].hist(out_degree['ac_baseline'],\n",
    "                alpha=0.5,\n",
    "                color='gray',\n",
    "                bins=bins,\n",
    "                histtype='stepfilled',\n",
    "                edgecolor=colors[0],\n",
    "                linewidth=3)\n",
    "axes[0, 1].hist(out_degree['ac_uoi'],\n",
    "                alpha=0.5,\n",
    "                color='red',\n",
    "                bins=bins,\n",
    "                histtype='stepfilled',\n",
    "                edgecolor=colors[0],\n",
    "                linewidth=3)\n",
    "\n",
    "axes[1, 0].hist(in_degree['vc_monkey1_baseline'],\n",
    "                alpha=0.5,\n",
    "                color='gray',\n",
    "                bins=bins,\n",
    "                histtype='stepfilled',\n",
    "                edgecolor=colors[0],\n",
    "                linewidth=3)\n",
    "axes[1, 0].hist(in_degree['vc_monkey1_uoi'],\n",
    "                alpha=0.25,\n",
    "                color='red',\n",
    "                bins=bins,\n",
    "                histtype='stepfilled',\n",
    "                edgecolor=colors[0],\n",
    "                linewidth=3)\n",
    "axes[1, 0].hist(in_degree['vc_monkey2_baseline'],\n",
    "                alpha=0.5,\n",
    "                color='gray',\n",
    "                bins=bins,\n",
    "                histtype='stepfilled',\n",
    "                edgecolor=colors[1],\n",
    "                linewidth=3)\n",
    "axes[1, 0].hist(in_degree['vc_monkey2_uoi'],\n",
    "                alpha=0.25,\n",
    "                color='red',\n",
    "                bins=bins,\n",
    "                histtype='stepfilled',\n",
    "                edgecolor=colors[1],\n",
    "                linewidth=3)\n",
    "axes[1, 0].hist(in_degree['vc_monkey3_baseline'],\n",
    "                alpha=0.5,\n",
    "                color='gray',\n",
    "                bins=bins,\n",
    "                histtype='stepfilled',\n",
    "                edgecolor=colors[2],\n",
    "                linewidth=3)\n",
    "axes[1, 0].hist(in_degree['vc_monkey3_uoi'],\n",
    "                alpha=0.25,\n",
    "                color='red',\n",
    "                bins=bins,\n",
    "                histtype='stepfilled',\n",
    "                edgecolor=colors[2],\n",
    "                linewidth=3)\n",
    "\n",
    "axes[1, 1].hist(out_degree['vc_monkey1_baseline'],\n",
    "                alpha=0.5,\n",
    "                color='gray',\n",
    "                bins=bins,\n",
    "                histtype='stepfilled',\n",
    "                edgecolor=colors[0],\n",
    "                linewidth=3)\n",
    "axes[1, 1].hist(out_degree['vc_monkey1_uoi'],\n",
    "                alpha=0.25,\n",
    "                color='red',\n",
    "                bins=bins,\n",
    "                histtype='stepfilled',\n",
    "                edgecolor=colors[0],\n",
    "                linewidth=3)\n",
    "axes[1, 1].hist(out_degree['vc_monkey2_baseline'],\n",
    "                alpha=0.5,\n",
    "                color='gray',\n",
    "                bins=bins,\n",
    "                histtype='stepfilled',\n",
    "                edgecolor=colors[1],\n",
    "                linewidth=3)\n",
    "axes[1, 1].hist(out_degree['vc_monkey2_uoi'],\n",
    "                alpha=0.25,\n",
    "                color='red',\n",
    "                bins=bins,\n",
    "                histtype='stepfilled',\n",
    "                edgecolor=colors[1],\n",
    "                linewidth=3)\n",
    "axes[1, 1].hist(out_degree['vc_monkey3_baseline'],\n",
    "                alpha=0.5,\n",
    "                color='gray',\n",
    "                bins=bins,\n",
    "                histtype='stepfilled',\n",
    "                edgecolor=colors[2],\n",
    "                linewidth=3)\n",
    "axes[1, 1].hist(out_degree['vc_monkey3_uoi'],\n",
    "                alpha=0.25,\n",
    "                color='red',\n",
    "                bins=bins,\n",
    "                histtype='stepfilled',\n",
    "                edgecolor=colors[2],\n",
    "                linewidth=3)\n",
    "\n",
    "axes[2, 0].hist(in_degree['mc_monkey1_baseline'],\n",
    "                alpha=0.5,\n",
    "                color='gray',\n",
    "                bins=bins,\n",
    "                histtype='stepfilled',\n",
    "                edgecolor=colors[0],\n",
    "                linewidth=3)\n",
    "axes[2, 0].hist(in_degree['mc_monkey1_uoi'],\n",
    "                alpha=0.25,\n",
    "                color='red',\n",
    "                bins=bins,\n",
    "                histtype='stepfilled',\n",
    "                edgecolor=colors[0],\n",
    "                linewidth=3)\n",
    "axes[2, 0].hist(in_degree['mc_monkey2_baseline'],\n",
    "                alpha=0.5,\n",
    "                color='gray',\n",
    "                bins=bins,\n",
    "                histtype='stepfilled',\n",
    "                edgecolor=colors[1],\n",
    "                linewidth=3)\n",
    "axes[2, 0].hist(in_degree['mc_monkey2_uoi'],\n",
    "                alpha=0.25,\n",
    "                color='red',\n",
    "                bins=bins,\n",
    "                histtype='stepfilled',\n",
    "                edgecolor=colors[1],\n",
    "                linewidth=3)\n",
    "axes[2, 0].hist(in_degree['mc_monkey3_baseline'],\n",
    "                alpha=0.5,\n",
    "                color='gray',\n",
    "                bins=bins,\n",
    "                histtype='stepfilled',\n",
    "                edgecolor=colors[2],\n",
    "                linewidth=3)\n",
    "axes[2, 0].hist(in_degree['mc_monkey3_uoi'],\n",
    "                alpha=0.25,\n",
    "                color='red',\n",
    "                bins=bins,\n",
    "                histtype='stepfilled',\n",
    "                edgecolor=colors[2],\n",
    "                linewidth=3)\n",
    "\n",
    "axes[2, 1].hist(out_degree['mc_monkey1_baseline'],\n",
    "                alpha=0.5,\n",
    "                color='gray',\n",
    "                bins=bins,\n",
    "                histtype='stepfilled',\n",
    "                edgecolor=colors[0],\n",
    "                linewidth=3)\n",
    "axes[2, 1].hist(out_degree['mc_monkey1_uoi'],\n",
    "                alpha=0.25,\n",
    "                color='red',\n",
    "                bins=bins,\n",
    "                histtype='stepfilled',\n",
    "                edgecolor=colors[0],\n",
    "                linewidth=3)\n",
    "axes[2, 1].hist(out_degree['mc_monkey2_baseline'],\n",
    "                alpha=0.5,\n",
    "                color='gray',\n",
    "                bins=bins,\n",
    "                histtype='stepfilled',\n",
    "                edgecolor=colors[1],\n",
    "                linewidth=3)\n",
    "axes[2, 1].hist(out_degree['mc_monkey2_uoi'],\n",
    "                alpha=0.25,\n",
    "                color='red',\n",
    "                bins=bins,\n",
    "                histtype='stepfilled',\n",
    "                edgecolor=colors[1],\n",
    "                linewidth=3)\n",
    "axes[2, 1].hist(out_degree['mc_monkey3_baseline'],\n",
    "                alpha=0.5,\n",
    "                color='gray',\n",
    "                bins=bins,\n",
    "                histtype='stepfilled',\n",
    "                edgecolor=colors[2],\n",
    "                linewidth=3)\n",
    "axes[2, 1].hist(out_degree['mc_monkey3_uoi'],\n",
    "                alpha=0.25,\n",
    "                color='red',\n",
    "                bins=bins,\n",
    "                histtype='stepfilled',\n",
    "                edgecolor=colors[2],\n",
    "                linewidth=3)\n",
    "for ax in axes[:, :2].ravel():\n",
    "    ax.tick_params(labelsize=10)\n",
    "    ax.set_xlim([0, 100])\n",
    "    ax.set_ylim([0, 75])\n",
    "    \n",
    "axes[0, 2].bar(x=[0, 1],\n",
    "               height=[modularities['ac_baseline'], modularities['ac_uoi']],\n",
    "               color=['gray', 'red'])\n",
    "axes[1, 2].bar(x=[0, 1],\n",
    "               height=[np.mean([modularities['vc_monkey1_baseline'],\n",
    "                                modularities['vc_monkey2_baseline'],\n",
    "                                modularities['vc_monkey3_baseline']]),\n",
    "                       np.mean([modularities['vc_monkey1_uoi'],\n",
    "                                modularities['vc_monkey2_uoi'],\n",
    "                                modularities['vc_monkey3_uoi']])],\n",
    "               color=['gray', 'red'])\n",
    "axes[2, 2].bar(x=[0, 1],\n",
    "               height=[np.mean([modularities['mc_monkey1_baseline'],\n",
    "                                modularities['mc_monkey2_baseline'],\n",
    "                                modularities['mc_monkey3_baseline']]),\n",
    "                       np.mean([modularities['mc_monkey1_uoi'],\n",
    "                                modularities['mc_monkey2_uoi'],\n",
    "                                modularities['mc_monkey3_uoi']])],\n",
    "               color=['gray', 'red'])\n",
    "\n",
    "axes[1, 2].axhline(0, color='k', linestyle='--')\n",
    "axes[1, 2].set_yticks([0, 0.03])\n",
    "for ax in axes[:, 2]:\n",
    "    ax.set_xlim([-0.5, 1.5])\n",
    "    ax.tick_params(labelsize=10)\n",
    "    ax.set_xticks([])\n",
    "\n",
    "axes[0, 0].set_title(r'\\textbf{In Degree}', fontsize=12)\n",
    "axes[0, 1].set_title(r'\\textbf{Out Degree}', fontsize=12)\n",
    "axes[0, 2].set_title(r'\\textbf{Modularity}', fontsize=12)\n",
    "axes[0, 0].set_ylabel(r'\\textbf{AC}', fontsize=13)\n",
    "axes[1, 0].set_ylabel(r'\\textbf{VC}', fontsize=13)\n",
    "axes[2, 0].set_ylabel(r'\\textbf{MC}', fontsize=13)\n",
    "\n",
    "plt.subplots_adjust(hspace=0.4, wspace=0.4)"
   ]
  },
  {
   "cell_type": "code",
   "execution_count": null,
   "metadata": {},
   "outputs": [],
   "source": []
  }
 ],
 "metadata": {
  "kernelspec": {
   "display_name": "neuro",
   "language": "python",
   "name": "neuro"
  },
  "language_info": {
   "codemirror_mode": {
    "name": "ipython",
    "version": 3
   },
   "file_extension": ".py",
   "mimetype": "text/x-python",
   "name": "python",
   "nbconvert_exporter": "python",
   "pygments_lexer": "ipython3",
   "version": "3.7.5"
  },
  "varInspector": {
   "cols": {
    "lenName": 16,
    "lenType": 16,
    "lenVar": 40
   },
   "kernels_config": {
    "python": {
     "delete_cmd_postfix": "",
     "delete_cmd_prefix": "del ",
     "library": "var_list.py",
     "varRefreshCmd": "print(var_dic_list())"
    },
    "r": {
     "delete_cmd_postfix": ") ",
     "delete_cmd_prefix": "rm(",
     "library": "var_list.r",
     "varRefreshCmd": "cat(var_dic_list()) "
    }
   },
   "types_to_exclude": [
    "module",
    "function",
    "builtin_function_or_method",
    "instance",
    "_Feature"
   ],
   "window_display": false
  }
 },
 "nbformat": 4,
 "nbformat_minor": 2
}
