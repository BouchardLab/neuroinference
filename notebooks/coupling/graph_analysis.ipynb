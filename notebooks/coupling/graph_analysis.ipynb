{
 "cells": [
  {
   "cell_type": "code",
   "execution_count": 1,
   "metadata": {},
   "outputs": [],
   "source": [
    "import h5py\n",
    "import itertools\n",
    "import glob\n",
    "import matplotlib.pyplot as plt\n",
    "import networkx as nx\n",
    "import numpy as np\n",
    "import os\n",
    "import time\n",
    "\n",
    "from networkx.algorithms import community\n",
    "from neuropacks import PVC11, NHP, ECOG\n",
    "from uoineuro.utils import obtain_tuning_preferences\n",
    "from uoineuro.tuning_utils import calculate_best_frequencies_ecog\n",
    "from uoineuro.coupling_utils import *\n",
    "\n",
    "%matplotlib inline"
   ]
  },
  {
   "cell_type": "code",
   "execution_count": 2,
   "metadata": {},
   "outputs": [],
   "source": [
    "base_path = os.path.join(os.environ['HOME'], 'fits/uoineuro/coupling')"
   ]
  },
  {
   "cell_type": "code",
   "execution_count": 3,
   "metadata": {},
   "outputs": [],
   "source": [
    "# consolidate AC results\n",
    "ac_results_path = os.path.join(base_path, 'ecog/ecog_coupling.h5')\n",
    "ac_results = h5py.File(ac_results_path, 'r')\n",
    "ac_lasso_ccs = np.median(ac_results['lasso/coupling_coefs'], axis=0)\n",
    "ac_uoi_lasso_ccs = np.median(ac_results['uoi_lasso_bic/coupling_coefs'], axis=0)"
   ]
  },
  {
   "cell_type": "code",
   "execution_count": 4,
   "metadata": {},
   "outputs": [],
   "source": [
    "# consolidate VC results\n",
    "vc_results_paths = [os.path.join(base_path, 'pvc11/pvc11_monkey1_coupling.h5'),\n",
    "                    os.path.join(base_path, 'pvc11/pvc11_monkey2_coupling.h5'),\n",
    "                    os.path.join(base_path, 'pvc11/pvc11_monkey3_coupling.h5')]\n",
    "n_vc_fits = len(vc_results_paths)\n",
    "vc_results = [h5py.File(vc_results_path, 'r')\n",
    "              for vc_results_path in vc_results_paths]\n",
    "# extract coupling coefficients\n",
    "vc_lasso_ccs = [np.median(vc_result['lasso/coupling_coefs'], axis=0)\n",
    "                for vc_result in vc_results]\n",
    "vc_uoi_lasso_ccs = [np.median(vc_result['uoi_lasso_bic/coupling_coefs'], axis=0)\n",
    "              for vc_result in vc_results]\n",
    "vc_glmnet_ccs = [np.median(vc_result['glmnet_poisson/coupling_coefs'], axis=0)\n",
    "                for vc_result in vc_results]\n",
    "vc_uoi_poisson_ccs = [np.median(vc_result['uoi_poisson_bic/coupling_coefs'], axis=0)\n",
    "              for vc_result in vc_results]"
   ]
  },
  {
   "cell_type": "code",
   "execution_count": 5,
   "metadata": {},
   "outputs": [],
   "source": [
    "# consolidate MC results\n",
    "mc_results_paths = [os.path.join(base_path, 'nhp/nhp_indy_20160407_02_coupling.h5'),\n",
    "                    os.path.join(base_path, 'nhp/nhp_indy_20160411_01_coupling.h5'),\n",
    "                    os.path.join(base_path, 'nhp/nhp_indy_20160411_02_coupling.h5')]\n",
    "n_mc_fits = len(mc_results_paths)\n",
    "mc_results = [h5py.File(mc_results_path, 'r')\n",
    "              for mc_results_path in mc_results_paths]\n",
    "# extract coupling coefficients\n",
    "mc_lasso_ccs = [np.median(mc_result['lasso/coupling_coefs'], axis=0)\n",
    "                for mc_result in mc_results]\n",
    "mc_uoi_lasso_ccs = [np.median(mc_result['uoi_lasso_bic/coupling_coefs'], axis=0)\n",
    "              for mc_result in mc_results]\n",
    "mc_glmnet_ccs = [np.median(mc_result['glmnet_poisson/coupling_coefs'], axis=0)\n",
    "                for mc_result in mc_results]\n",
    "mc_uoi_poisson_ccs = [np.median(mc_result['uoi_poisson_bic/coupling_coefs'], axis=0)\n",
    "              for mc_result in mc_results]"
   ]
  },
  {
   "cell_type": "code",
   "execution_count": 6,
   "metadata": {},
   "outputs": [],
   "source": [
    "lasso_ccs = [ac_lasso_ccs] + vc_lasso_ccs + mc_lasso_ccs\n",
    "uoi_lasso_ccs = [ac_uoi_lasso_ccs] + vc_uoi_lasso_ccs + mc_uoi_lasso_ccs\n",
    "glmnet_ccs = vc_glmnet_ccs + mc_glmnet_ccs\n",
    "uoi_poisson_ccs = vc_uoi_poisson_ccs + mc_uoi_poisson_ccs"
   ]
  },
  {
   "cell_type": "code",
   "execution_count": 7,
   "metadata": {},
   "outputs": [],
   "source": [
    "lasso_sgraphs = [create_symmetrized_graph(lasso_ccs[idx])[0]\n",
    "                for idx in range(len(lasso_ccs))]\n",
    "uoi_lasso_sgraphs = [create_symmetrized_graph(uoi_lasso_ccs[idx])[0]\n",
    "                    for idx in range(len(uoi_lasso_ccs))]\n",
    "glmnet_sgraphs = [create_symmetrized_graph(glmnet_ccs[idx])[0]\n",
    "                 for idx in range(len(glmnet_ccs))]\n",
    "uoi_poisson_sgraphs = [create_symmetrized_graph(uoi_poisson_ccs[idx])[0]\n",
    "                      for idx in range(len(uoi_poisson_ccs))]"
   ]
  },
  {
   "cell_type": "code",
   "execution_count": 8,
   "metadata": {},
   "outputs": [],
   "source": [
    "lasso_dgraphs = [create_directed_graph(lasso_ccs[idx], weighted=True)\n",
    "                for idx in range(len(lasso_ccs))]\n",
    "uoi_lasso_dgraphs = [create_directed_graph(uoi_lasso_ccs[idx], weighted=True)\n",
    "                    for idx in range(len(uoi_lasso_ccs))]\n",
    "glmnet_dgraphs = [create_directed_graph(glmnet_ccs[idx], weighted=True)\n",
    "                 for idx in range(len(glmnet_ccs))]\n",
    "uoi_poisson_dgraphs = [create_directed_graph(uoi_poisson_ccs[idx], weighted=True)\n",
    "                      for idx in range(len(uoi_poisson_ccs))]"
   ]
  },
  {
   "cell_type": "code",
   "execution_count": 9,
   "metadata": {},
   "outputs": [],
   "source": [
    "d_graphs = {\n",
    "    'ac_baseline': lasso_dgraphs[0],\n",
    "    'ac_uoi': uoi_lasso_dgraphs[0],\n",
    "    'vc_monkey1_baseline': glmnet_dgraphs[0],\n",
    "    'vc_monkey2_baseline': glmnet_dgraphs[1],\n",
    "    'vc_monkey3_baseline': glmnet_dgraphs[2],\n",
    "    'mc_monkey1_baseline': glmnet_dgraphs[3],\n",
    "    'mc_monkey2_baseline': glmnet_dgraphs[4],\n",
    "    'mc_monkey3_baseline': glmnet_dgraphs[5],\n",
    "    'vc_monkey1_uoi': uoi_poisson_dgraphs[0],\n",
    "    'vc_monkey2_uoi': uoi_poisson_dgraphs[1],\n",
    "    'vc_monkey3_uoi': uoi_poisson_dgraphs[2],\n",
    "    'mc_monkey1_uoi': uoi_poisson_dgraphs[3],\n",
    "    'mc_monkey2_uoi': uoi_poisson_dgraphs[4],\n",
    "    'mc_monkey3_uoi': uoi_poisson_dgraphs[5],\n",
    "}"
   ]
  },
  {
   "cell_type": "code",
   "execution_count": 10,
   "metadata": {},
   "outputs": [],
   "source": [
    "s_graphs = {\n",
    "    'ac_baseline': lasso_sgraphs[0],\n",
    "    'ac_uoi': uoi_lasso_sgraphs[0],\n",
    "    'vc_monkey1_baseline': glmnet_sgraphs[0],\n",
    "    'vc_monkey2_baseline': glmnet_sgraphs[1],\n",
    "    'vc_monkey3_baseline': glmnet_sgraphs[2],\n",
    "    'mc_monkey1_baseline': glmnet_sgraphs[3],\n",
    "    'mc_monkey2_baseline': glmnet_sgraphs[4],\n",
    "    'mc_monkey3_baseline': glmnet_sgraphs[5],\n",
    "    'vc_monkey1_uoi': uoi_poisson_sgraphs[0],\n",
    "    'vc_monkey2_uoi': uoi_poisson_sgraphs[1],\n",
    "    'vc_monkey3_uoi': uoi_poisson_sgraphs[2],\n",
    "    'mc_monkey1_uoi': uoi_poisson_sgraphs[3],\n",
    "    'mc_monkey2_uoi': uoi_poisson_sgraphs[4],\n",
    "    'mc_monkey3_uoi': uoi_poisson_sgraphs[5],\n",
    "}"
   ]
  },
  {
   "cell_type": "markdown",
   "metadata": {
    "heading_collapsed": true
   },
   "source": [
    "## In-degree / out-degree"
   ]
  },
  {
   "cell_type": "code",
   "execution_count": 11,
   "metadata": {
    "hidden": true
   },
   "outputs": [],
   "source": [
    "in_degrees = {\n",
    "    key: np.array(list(dict(val.in_degree()).values()))\n",
    "    for key, val in d_graphs.items()\n",
    "}\n",
    "\n",
    "out_degrees = {\n",
    "    key: np.array(list(dict(val.out_degree()).values()))\n",
    "    for key, val in d_graphs.items()\n",
    "}\n",
    "\n",
    "for degrees in [in_degrees, out_degrees]:\n",
    "    degrees['vc_baseline'] = np.concatenate(\n",
    "        (degrees['vc_monkey1_baseline'],\n",
    "         degrees['vc_monkey2_baseline'],\n",
    "         degrees['vc_monkey3_baseline'])\n",
    "    )\n",
    "    degrees['vc_uoi'] = np.concatenate(\n",
    "        (degrees['vc_monkey1_uoi'],\n",
    "         degrees['vc_monkey2_uoi'],\n",
    "         degrees['vc_monkey3_uoi'])\n",
    "    )\n",
    "    degrees['mc_baseline'] = np.concatenate(\n",
    "        (degrees['mc_monkey1_baseline'],\n",
    "         degrees['mc_monkey2_baseline'],\n",
    "         degrees['mc_monkey3_baseline'])\n",
    "    )\n",
    "    degrees['mc_uoi'] = np.concatenate(\n",
    "        (degrees['mc_monkey1_uoi'],\n",
    "         degrees['mc_monkey2_uoi'],\n",
    "         degrees['mc_monkey3_uoi'])\n",
    "    )"
   ]
  },
  {
   "cell_type": "markdown",
   "metadata": {
    "heading_collapsed": true
   },
   "source": [
    "## Modularity"
   ]
  },
  {
   "cell_type": "code",
   "execution_count": 12,
   "metadata": {
    "hidden": true
   },
   "outputs": [],
   "source": [
    "modularities = {\n",
    "    key: compute_modularity(val)\n",
    "    for key, val in d_graphs.items()\n",
    "}"
   ]
  },
  {
   "cell_type": "markdown",
   "metadata": {
    "heading_collapsed": true
   },
   "source": [
    "## Small-worldness"
   ]
  },
  {
   "cell_type": "code",
   "execution_count": 13,
   "metadata": {
    "hidden": true
   },
   "outputs": [],
   "source": [
    "small_world_omega = {}\n",
    "small_world_sigma = {}"
   ]
  },
  {
   "cell_type": "code",
   "execution_count": 19,
   "metadata": {
    "hidden": true
   },
   "outputs": [
    {
     "data": {
      "text/plain": [
       "{}"
      ]
     },
     "execution_count": 19,
     "metadata": {},
     "output_type": "execute_result"
    }
   ],
   "source": [
    "t = time.time()\n",
    "small_world_omega['mc_monkey1_uoi'] = compute_small_worldness(\n",
    "    G=s_graphs['mc_monkey1_uoi'],\n",
    "    metric='omega',\n",
    "    niter=50,\n",
    "    nrand=2,\n",
    "    seed=2332\n",
    ")\n",
    "print(time.time() - t)\n",
    "t = time.time()\n",
    "G = s_graphs['mc_monkey1_baseline']\n",
    "G = max(nx.connected_component_subgraphs(G), key=len)\n",
    "small_world_omega['mc_monkey1_baseline'] = nx.algorithms.smallworld.omega(G, niter=50, nrand=2, seed=2332)\n"
   ]
  },
  {
   "cell_type": "code",
   "execution_count": null,
   "metadata": {
    "hidden": true
   },
   "outputs": [],
   "source": [
    "for key, graph in s_graphs.items():\n",
    "    G = graph.copy()\n",
    "    G = max(nx.connected_component_subgraphs(G), key=len)\n",
    "    t = time.time()\n",
    "    small_world_omega[key] = nx.algorithms.smallworld.omega(G, nrand=5, seed=2332)\n",
    "    print(key, ' omega: ', time.time() - t)\n",
    "    \n",
    "    small_world_sigma[key] = nx.algorithms.smallworld.sigma(G, nrand=5, seed=2332)\n",
    "    print(key, ' sigma: ', time.time() - t)"
   ]
  },
  {
   "cell_type": "markdown",
   "metadata": {},
   "source": [
    "## Tuning Preferences"
   ]
  },
  {
   "cell_type": "code",
   "execution_count": 12,
   "metadata": {},
   "outputs": [],
   "source": [
    "pvc_base_path = os.path.join(os.environ['HOME'],\n",
    "                         'data/pvc11/data/spikes_gratings')\n",
    "pvc_monkey_paths = sorted(glob.glob(os.path.join(base_path, '*.mat')))"
   ]
  },
  {
   "cell_type": "code",
   "execution_count": 14,
   "metadata": {},
   "outputs": [],
   "source": [
    "pvcs = [PVC11(data_path=monkey_path)\n",
    "        for monkey_path in monkey_paths]\n",
    "pvc_prefs = [obtain_tuning_preferences(pvc, 'pvc11')\n",
    "             for pvc in pvcs]"
   ]
  },
  {
   "cell_type": "code",
   "execution_count": 15,
   "metadata": {},
   "outputs": [],
   "source": [
    "pvc_diffs = [np.abs(np.subtract.outer(pvc_pref, pvc_pref))\n",
    "             for pvc_pref in pvc_prefs]"
   ]
  },
  {
   "cell_type": "code",
   "execution_count": 68,
   "metadata": {},
   "outputs": [],
   "source": [
    "pvc_As = [nx.adjacency_matrix(s_graphs['vc_monkey1_baseline']),\n",
    "          nx.adjacency_matrix(s_graphs['vc_monkey2_baseline']),\n",
    "          nx.adjacency_matrix(s_graphs['vc_monkey3_baseline'])]\n",
    "pvc_As = [np.array(pvc_A.todense()) for pvc_A in pvc_As]"
   ]
  },
  {
   "cell_type": "code",
   "execution_count": 69,
   "metadata": {},
   "outputs": [
    {
     "name": "stdout",
     "output_type": "stream",
     "text": [
      "[[ 1.         -0.14683193]\n",
      " [-0.14683193  1.        ]]\n",
      "[[ 1.         -0.06788401]\n",
      " [-0.06788401  1.        ]]\n",
      "[[ 1.         -0.13426531]\n",
      " [-0.13426531  1.        ]]\n",
      "[[ 1.         -0.05824703]\n",
      " [-0.05824703  1.        ]]\n",
      "[[ 1.         -0.15386935]\n",
      " [-0.15386935  1.        ]]\n",
      "[[ 1.         -0.02264153]\n",
      " [-0.02264153  1.        ]]\n"
     ]
    },
    {
     "data": {
      "image/png": "[encoded data removed]",
      "text/plain": [
       "<Figure size 648x216 with 3 Axes>"
      ]
     },
     "metadata": {
      "needs_background": "light"
     },
     "output_type": "display_data"
    }
   ],
   "source": [
    "fig, axes = plt.subplots(1, 3, figsize=(9, 3))\n",
    "\n",
    "for idx, ax in enumerate(axes):\n",
    "    tridx = np.tril_indices(pvc_diffs[idx].shape[0], -1)\n",
    "    ax.scatter(\n",
    "        pvc_diffs[idx][tridx],\n",
    "        pvc_As[idx][tridx],\n",
    "        color='k',\n",
    "        alpha=0.25\n",
    "    )\n",
    "    print(np.corrcoef(pvc_diffs[idx][tridx], pvc_As[idx][tridx]))\n",
    "    print(np.corrcoef(pvc_diffs[idx][tridx], np.abs(pvc_As[idx][tridx])))\n",
    "    ax.set_xlabel('$|$Pref tuning diff.$|$', fontsize=15)\n",
    "    ax.set_ylabel('Sym. coupling coef', fontsize=15)\n",
    "    ax.set_title(r'Monkey %s' %(idx+1), fontsize=15)\n",
    "plt.tight_layout()\n",
    "# plt.savefig('pvc_diff.pdf')"
   ]
  },
  {
   "cell_type": "code",
   "execution_count": 45,
   "metadata": {},
   "outputs": [],
   "source": [
    "ecog_fits_path = os.path.join(os.environ['HOME'],\n",
    "                         'fits/uoineuro/tuning/ecog/ecog_tuning.h5')\n",
    "ecog_data_path = os.path.join(os.environ['HOME'], 'data/ecog/r32_b7.mat')\n",
    "ecog_grid_path = os.path.join(os.environ['HOME'], 'data/ecog/grdid.mat')\n",
    "ecog = ECOG(data_path=ecog_data_path, grid_path=ecog_grid_path)\n",
    "ecog_fits = h5py.File(ecog_fits_path, 'r')"
   ]
  },
  {
   "cell_type": "code",
   "execution_count": 48,
   "metadata": {},
   "outputs": [],
   "source": [
    "ecog_uoi_coefs = np.mean(ecog_fits['uoi_lasso_bic/tuning_coefs'], axis=0)\n",
    "ecog_diffs = np.zeros((128, 128))"
   ]
  },
  {
   "cell_type": "code",
   "execution_count": 50,
   "metadata": {},
   "outputs": [],
   "source": [
    "for e1, e2 in itertools.combinations(np.arange(128), 2):\n",
    "    v1, v2 = ecog_uoi_coefs[e1], ecog_uoi_coefs[e2]\n",
    "    cd = np.dot(v1, v2) / np.sqrt(np.sum(v1**2) * np.sum(v2**2))\n",
    "    ecog_diffs[e1, e2] = cd\n",
    "    ecog_diffs[e2, e1] = cd"
   ]
  },
  {
   "cell_type": "code",
   "execution_count": 51,
   "metadata": {},
   "outputs": [],
   "source": [
    "ecog_diffs = np.nan_to_num(ecog_diffs)"
   ]
  },
  {
   "cell_type": "code",
   "execution_count": 66,
   "metadata": {},
   "outputs": [
    {
     "data": {
      "image/png": "[encoded data removed]",
      "text/plain": [
       "<Figure size 432x288 with 1 Axes>"
      ]
     },
     "metadata": {
      "needs_background": "light"
     },
     "output_type": "display_data"
    }
   ],
   "source": [
    "fig, ax = plt.subplots(1, 1)\n",
    "ecog_A = np.array(nx.adjacency_matrix(s_graphs['ac_baseline']).todense())\n",
    "idxs = np.tril_indices(ecog_diffs.shape[0], -1)\n",
    "nz_idxs = np.argwhere(ecog_A[idxs] != 0).ravel()\n",
    "\n",
    "ax.scatter(\n",
    "    ecog_diffs[idxs],\n",
    "    ecog_A[idxs],\n",
    "    color='k',\n",
    "    alpha=0.25\n",
    ")\n",
    "ax.set_xlabel('Cosine sim. of tuning curve', fontsize=15)\n",
    "ax.set_ylabel('Sym. coupling coef', fontsize=15)\n",
    "ax.set_title(r'ECOG', fontsize=15)\n",
    "plt.savefig('ecog.pdf', bbox_inches='tight')"
   ]
  },
  {
   "cell_type": "code",
   "execution_count": 61,
   "metadata": {},
   "outputs": [
    {
     "data": {
      "text/plain": [
       "array([[1.        , 0.22658386],\n",
       "       [0.22658386, 1.        ]])"
      ]
     },
     "execution_count": 61,
     "metadata": {},
     "output_type": "execute_result"
    }
   ],
   "source": [
    "np.corrcoef(\n",
    "    ecog_diffs[idxs][nz_idxs],\n",
    "    ecog_A[idxs][nz_idxs])"
   ]
  },
  {
   "cell_type": "code",
   "execution_count": 76,
   "metadata": {},
   "outputs": [
    {
     "data": {
      "text/plain": [
       "array([[ 1., nan],\n",
       "       [nan, nan]])"
      ]
     },
     "execution_count": 76,
     "metadata": {},
     "output_type": "execute_result"
    }
   ],
   "source": [
    "np.corrcoef(\n",
    "    np.abs(A[idxs]),\n",
    "    cosine_diffs[idxs]\n",
    ")"
   ]
  },
  {
   "cell_type": "markdown",
   "metadata": {},
   "source": [
    "## Figure Plot"
   ]
  },
  {
   "cell_type": "code",
   "execution_count": 86,
   "metadata": {},
   "outputs": [
    {
     "data": {
      "image/png": "[encoded data removed]",
      "text/plain": [
       "<Figure size 576x288 with 9 Axes>"
      ]
     },
     "metadata": {
      "needs_background": "light"
     },
     "output_type": "display_data"
    }
   ],
   "source": [
    "fig, axes = plt.subplots(3, 3, figsize=(8, 4),\n",
    "                         gridspec_kw={'width_ratios': [1, 1, 0.5]})\n",
    "\n",
    "bins = np.linspace(0, 100, 20)\n",
    "\n",
    "ac_in = axes[0, 0]\n",
    "ac_out = axes[0, 1]\n",
    "\n",
    "ac_in.hist(\n",
    "    [in_degrees['ac_baseline'], in_degrees['ac_uoi']],\n",
    "    color=['gray', 'red'],\n",
    "    alpha=0.5,\n",
    "    bins=bins,\n",
    "    histtype='stepfilled')\n",
    "ac_out.hist(\n",
    "    [out_degrees['ac_baseline'], out_degrees['ac_uoi']],\n",
    "    alpha=0.5,\n",
    "    color=['gray', 'red'],\n",
    "    bins=bins,\n",
    "    histtype='stepfilled')\n",
    "\n",
    "vc_in = axes[1, 0]\n",
    "vc_out = axes[1, 1]\n",
    "\n",
    "vc_in.hist(\n",
    "    [in_degrees['vc_baseline'], in_degrees['vc_uoi']],\n",
    "    color=['gray', 'red'],\n",
    "    alpha=0.5,\n",
    "    bins=bins,\n",
    "    histtype='stepfilled')\n",
    "vc_out.hist(\n",
    "    [out_degrees['vc_baseline'], out_degrees['vc_uoi']],\n",
    "    alpha=0.5,\n",
    "    color=['gray', 'red'],\n",
    "    bins=bins,\n",
    "    histtype='stepfilled')\n",
    "\n",
    "mc_in = axes[2, 0]\n",
    "mc_out = axes[2, 1]\n",
    "\n",
    "mc_in.hist(\n",
    "    [in_degrees['mc_baseline'], in_degrees['mc_uoi']],\n",
    "    color=['gray', 'red'],\n",
    "    alpha=0.5,\n",
    "    bins=bins,\n",
    "    histtype='stepfilled')\n",
    "mc_out.hist(\n",
    "    [out_degrees['mc_baseline'], out_degrees['mc_uoi']],\n",
    "    alpha=0.5,\n",
    "    color=['gray', 'red'],\n",
    "    bins=bins,\n",
    "    histtype='stepfilled')\n",
    "\n",
    "for ax in axes[:, :2].ravel():\n",
    "    ax.tick_params(labelsize=10)\n",
    "    ax.set_xlim([0, 100])\n",
    "    ax.set_ylim([0, 200])\n",
    "    \n",
    "# modularities\n",
    "axes[0, 2].bar(x=[0, 1],\n",
    "               height=[modularities['ac_baseline'], modularities['ac_uoi']],\n",
    "               color=['gray', 'red'],\n",
    "               width=0.75)\n",
    "\n",
    "axes[1, 2].bar(x=[0, 1],\n",
    "               height=[np.mean([modularities['vc_monkey1_baseline'],\n",
    "                                modularities['vc_monkey2_baseline'],\n",
    "                                modularities['vc_monkey3_baseline']]),\n",
    "                       np.mean([modularities['vc_monkey1_uoi'],\n",
    "                                modularities['vc_monkey2_uoi'],\n",
    "                                modularities['vc_monkey3_uoi']])],\n",
    "               color=['gray', 'red'],\n",
    "               width=0.75)\n",
    "axes[2, 2].bar(x=[0, 1],\n",
    "               height=[np.mean([modularities['mc_monkey1_baseline'],\n",
    "                                modularities['mc_monkey2_baseline'],\n",
    "                                modularities['mc_monkey3_baseline']]),\n",
    "                       np.mean([modularities['mc_monkey1_uoi'],\n",
    "                                modularities['mc_monkey2_uoi'],\n",
    "                                modularities['mc_monkey3_uoi']])],\n",
    "               color=['gray', 'red'],\n",
    "               width=0.75)\n",
    "\n",
    "axes[1, 2].axhline(0, color='k', linestyle='--')\n",
    "\n",
    "for ax in axes[:, 2]:\n",
    "    ax.set_xlim([-0.5, 1.5])\n",
    "    ax.tick_params(labelsize=10)\n",
    "    ax.set_xticks([])\n",
    "\n",
    "axes[0, 2].set_yticks([0, 0.2, 0.4])\n",
    "axes[1, 2].set_yticks([0, 0.1])\n",
    "axes[2, 2].set_yticks([0, 0.2, 0.4])\n",
    "\n",
    "axes[0, 0].set_title(r'\\textbf{In Degree}', fontsize=12)\n",
    "axes[0, 1].set_title(r'\\textbf{Out Degree}', fontsize=12)\n",
    "axes[0, 2].set_title(r'\\textbf{Modularity}', fontsize=12)\n",
    "axes[0, 0].set_ylabel(r'\\textbf{AC}', fontsize=13)\n",
    "axes[1, 0].set_ylabel(r'\\textbf{VC}', fontsize=13)\n",
    "axes[2, 0].set_ylabel(r'\\textbf{MC}', fontsize=13)\n",
    "\n",
    "plt.subplots_adjust(hspace=0.80, wspace=0.4)\n",
    "plt.savefig('graph_analysis.pdf', bbox_inches='tight')"
   ]
  },
  {
   "cell_type": "markdown",
   "metadata": {},
   "source": [
    "## Controllability"
   ]
  },
  {
   "cell_type": "code",
   "execution_count": 338,
   "metadata": {},
   "outputs": [],
   "source": [
    "A = nx.adjacency_matrix(create_symmetrized_graph(coupling_coefs=vc_lasso_ccs[1])[0]).todense()\n",
    "B = np.zeros((A.shape[0], A.shape[0]))\n",
    "# B = np.identity(A.shape[0])\n",
    "B[0, 0] = 1\n",
    "\n",
    "W = np.zeros(A.shape)\n",
    "T = 500\n",
    "Apow2 = np.zeros(A.shape)\n",
    "\n",
    "for ii in range(T):\n",
    "    Apow2 += np.linalg.matrix_power(A, 2*ii)\n",
    "    \n",
    "for ii in range(T):\n",
    "    Apow = np.linalg.matrix_power(A, ii)\n",
    "    W += Apow @ B @ Apow"
   ]
  },
  {
   "cell_type": "code",
   "execution_count": 328,
   "metadata": {},
   "outputs": [],
   "source": [
    "G1 = create_symmetrized_graph(coupling_coefs=mc_lasso_ccs[1])[0]\n",
    "G2 = create_symmetrized_graph(coupling_coefs=mc_uoi_lasso_ccs[1])[0]\n",
    "\n",
    "A1 = nx.adjacency_matrix(G1).todense()\n",
    "A2 = nx.adjacency_matrix(G2).todense()\n",
    "\n",
    "u1, v1 = np.linalg.eigh(A1)\n",
    "u2, v2 = np.linalg.eigh(A2)\n",
    "\n",
    "mc1 = np.sum((1 - u1**2)[np.newaxis] * np.array(v1)**2, axis=1)\n",
    "mc2 = np.sum(((1 - u2**2)[np.newaxis] * np.array(v2).T**2), axis=1)\n",
    "\n",
    "dd1 = np.array([d for n,d in G1.degree()])\n",
    "dd2 = np.array([d for n,d in G2.degree()])"
   ]
  },
  {
   "cell_type": "code",
   "execution_count": 332,
   "metadata": {},
   "outputs": [
    {
     "data": {
      "text/plain": [
       "<matplotlib.collections.PathCollection at 0x7f5379ae3b10>"
      ]
     },
     "execution_count": 332,
     "metadata": {},
     "output_type": "execute_result"
    },
    {
     "data": {
      "image/png": "[encoded data removed]",
      "text/plain": [
       "<Figure size 432x288 with 1 Axes>"
      ]
     },
     "metadata": {
      "needs_background": "light"
     },
     "output_type": "display_data"
    }
   ],
   "source": [
    "plt.scatter(np.argsort(dd2), np.argsort(mc2))"
   ]
  },
  {
   "cell_type": "code",
   "execution_count": 277,
   "metadata": {},
   "outputs": [
    {
     "data": {
      "text/plain": [
       "matrix([[-3.86898166]])"
      ]
     },
     "execution_count": 277,
     "metadata": {},
     "output_type": "execute_result"
    }
   ],
   "source": [
    "lam, v = np.linalg.eigh(A)\n",
    "np.sum((1 - lam**2) * v**2, axis=1)"
   ]
  },
  {
   "cell_type": "code",
   "execution_count": 59,
   "metadata": {},
   "outputs": [
    {
     "name": "stderr",
     "output_type": "stream",
     "text": [
      "/home/psachdeva/anaconda3/envs/neuro/lib/python3.7/site-packages/numpy/linalg/linalg.py:2125: RuntimeWarning: overflow encountered in det\n",
      "  r = _umath_linalg.det(a, signature=signature)\n",
      "/home/psachdeva/anaconda3/envs/neuro/lib/python3.7/site-packages/numpy/linalg/linalg.py:2125: RuntimeWarning: overflow encountered in det\n",
      "  r = _umath_linalg.det(a, signature=signature)\n",
      "/home/psachdeva/anaconda3/envs/neuro/lib/python3.7/site-packages/numpy/linalg/linalg.py:2125: RuntimeWarning: overflow encountered in det\n",
      "  r = _umath_linalg.det(a, signature=signature)\n"
     ]
    }
   ],
   "source": [
    "controllability = np.zeros((7, 2, 4, 25))\n",
    "\n",
    "for idx, (baseline, uoi) in enumerate(zip(lasso_ccs, uoi_lasso_ccs)):\n",
    "    control_baseline = compute_controllability_curves(\n",
    "        create_symmetrized_graph(coupling_coefs=baseline)[0]\n",
    "    )\n",
    "    control_uoi = compute_controllability_curves(\n",
    "        create_symmetrized_graph(coupling_coefs=uoi)[0],\n",
    "    )\n",
    "    controllability[idx, 0] = control_baseline.T\n",
    "    controllability[idx, 1] = control_uoi.T"
   ]
  },
  {
   "cell_type": "code",
   "execution_count": null,
   "metadata": {},
   "outputs": [],
   "source": []
  }
 ],
 "metadata": {
  "kernelspec": {
   "display_name": "neuro",
   "language": "python",
   "name": "neuro"
  },
  "language_info": {
   "codemirror_mode": {
    "name": "ipython",
    "version": 3
   },
   "file_extension": ".py",
   "mimetype": "text/x-python",
   "name": "python",
   "nbconvert_exporter": "python",
   "pygments_lexer": "ipython3",
   "version": "3.7.5"
  },
  "varInspector": {
   "cols": {
    "lenName": 16,
    "lenType": 16,
    "lenVar": 40
   },
   "kernels_config": {
    "python": {
     "delete_cmd_postfix": "",
     "delete_cmd_prefix": "del ",
     "library": "var_list.py",
     "varRefreshCmd": "print(var_dic_list())"
    },
    "r": {
     "delete_cmd_postfix": ") ",
     "delete_cmd_prefix": "rm(",
     "library": "var_list.r",
     "varRefreshCmd": "cat(var_dic_list()) "
    }
   },
   "types_to_exclude": [
    "module",
    "function",
    "builtin_function_or_method",
    "instance",
    "_Feature"
   ],
   "window_display": false
  }
 },
 "nbformat": 4,
 "nbformat_minor": 2
}
