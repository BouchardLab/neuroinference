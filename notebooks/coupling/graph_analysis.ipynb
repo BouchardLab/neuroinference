{
 "cells": [
  {
   "cell_type": "markdown",
   "metadata": {
    "heading_collapsed": true
   },
   "source": [
    "# Additional graph theoretic analysis on functional coupling models"
   ]
  },
  {
   "cell_type": "code",
   "execution_count": 1,
   "metadata": {
    "hidden": true
   },
   "outputs": [],
   "source": [
    "import h5py\n",
    "import itertools\n",
    "import glob\n",
    "import matplotlib.pyplot as plt\n",
    "import networkx as nx\n",
    "import numpy as np\n",
    "import os\n",
    "import time\n",
    "\n",
    "from networkx.algorithms import community\n",
    "from neuropacks import PVC11, NHP, ECOG\n",
    "from sklearn.neighbors import KernelDensity\n",
    "from uoineuro.utils import obtain_tuning_preferences\n",
    "from uoineuro.tuning_utils import calculate_best_frequencies_ecog\n",
    "from uoineuro.coupling_utils import *\n",
    "\n",
    "%matplotlib inline"
   ]
  },
  {
   "cell_type": "code",
   "execution_count": 2,
   "metadata": {
    "hidden": true
   },
   "outputs": [],
   "source": [
    "base_path = os.path.join(os.environ['HOME'], 'fits/uoineuro/coupling')"
   ]
  },
  {
   "cell_type": "code",
   "execution_count": 3,
   "metadata": {
    "hidden": true
   },
   "outputs": [],
   "source": [
    "# consolidate AC results\n",
    "ac_results_path = os.path.join(base_path, 'ecog/ecog_coupling.h5')\n",
    "ac_results = h5py.File(ac_results_path, 'r')\n",
    "ac_lasso_ccs = np.median(ac_results['lasso/coupling_coefs'], axis=0)\n",
    "ac_uoi_lasso_ccs = np.median(ac_results['uoi_lasso_bic/coupling_coefs'], axis=0)"
   ]
  },
  {
   "cell_type": "code",
   "execution_count": 4,
   "metadata": {
    "hidden": true
   },
   "outputs": [],
   "source": [
    "# consolidate VC results\n",
    "vc_results_paths = [os.path.join(base_path, 'pvc11/pvc11_monkey1_coupling.h5'),\n",
    "                    os.path.join(base_path, 'pvc11/pvc11_monkey2_coupling.h5'),\n",
    "                    os.path.join(base_path, 'pvc11/pvc11_monkey3_coupling.h5')]\n",
    "n_vc_fits = len(vc_results_paths)\n",
    "vc_results = [h5py.File(vc_results_path, 'r')\n",
    "              for vc_results_path in vc_results_paths]\n",
    "# extract coupling coefficients\n",
    "vc_lasso_ccs = [np.median(vc_result['lasso/coupling_coefs'], axis=0)\n",
    "                for vc_result in vc_results]\n",
    "vc_uoi_lasso_ccs = [np.median(vc_result['uoi_lasso_bic/coupling_coefs'], axis=0)\n",
    "              for vc_result in vc_results]\n",
    "vc_glmnet_ccs = [np.median(vc_result['glmnet_poisson/coupling_coefs'], axis=0)\n",
    "                for vc_result in vc_results]\n",
    "vc_uoi_poisson_ccs = [np.median(vc_result['uoi_poisson_bic/coupling_coefs'], axis=0)\n",
    "              for vc_result in vc_results]"
   ]
  },
  {
   "cell_type": "code",
   "execution_count": 5,
   "metadata": {
    "hidden": true
   },
   "outputs": [],
   "source": [
    "# consolidate MC results\n",
    "mc_results_paths = [os.path.join(base_path, 'nhp/nhp_indy_20160407_02_coupling.h5'),\n",
    "                    os.path.join(base_path, 'nhp/nhp_indy_20160411_01_coupling.h5'),\n",
    "                    os.path.join(base_path, 'nhp/nhp_indy_20160411_02_coupling.h5')]\n",
    "n_mc_fits = len(mc_results_paths)\n",
    "mc_results = [h5py.File(mc_results_path, 'r')\n",
    "              for mc_results_path in mc_results_paths]\n",
    "# extract coupling coefficients\n",
    "mc_lasso_ccs = [np.median(mc_result['lasso/coupling_coefs'], axis=0)\n",
    "                for mc_result in mc_results]\n",
    "mc_uoi_lasso_ccs = [np.median(mc_result['uoi_lasso_bic/coupling_coefs'], axis=0)\n",
    "              for mc_result in mc_results]\n",
    "mc_glmnet_ccs = [np.median(mc_result['glmnet_poisson/coupling_coefs'], axis=0)\n",
    "                for mc_result in mc_results]\n",
    "mc_uoi_poisson_ccs = [np.median(mc_result['uoi_poisson_bic/coupling_coefs'], axis=0)\n",
    "              for mc_result in mc_results]"
   ]
  },
  {
   "cell_type": "code",
   "execution_count": 6,
   "metadata": {
    "hidden": true
   },
   "outputs": [],
   "source": [
    "lasso_ccs = [ac_lasso_ccs] + vc_lasso_ccs + mc_lasso_ccs\n",
    "uoi_lasso_ccs = [ac_uoi_lasso_ccs] + vc_uoi_lasso_ccs + mc_uoi_lasso_ccs\n",
    "glmnet_ccs = vc_glmnet_ccs + mc_glmnet_ccs\n",
    "uoi_poisson_ccs = vc_uoi_poisson_ccs + mc_uoi_poisson_ccs"
   ]
  },
  {
   "cell_type": "code",
   "execution_count": 7,
   "metadata": {
    "hidden": true
   },
   "outputs": [],
   "source": [
    "lasso_sgraphs = [create_symmetrized_graph(lasso_ccs[idx])[0]\n",
    "                for idx in range(len(lasso_ccs))]\n",
    "uoi_lasso_sgraphs = [create_symmetrized_graph(uoi_lasso_ccs[idx])[0]\n",
    "                    for idx in range(len(uoi_lasso_ccs))]\n",
    "glmnet_sgraphs = [create_symmetrized_graph(glmnet_ccs[idx])[0]\n",
    "                 for idx in range(len(glmnet_ccs))]\n",
    "uoi_poisson_sgraphs = [create_symmetrized_graph(uoi_poisson_ccs[idx])[0]\n",
    "                      for idx in range(len(uoi_poisson_ccs))]"
   ]
  },
  {
   "cell_type": "code",
   "execution_count": 8,
   "metadata": {
    "hidden": true
   },
   "outputs": [],
   "source": [
    "lasso_dgraphs = [create_directed_graph(lasso_ccs[idx], weighted=True)\n",
    "                for idx in range(len(lasso_ccs))]\n",
    "uoi_lasso_dgraphs = [create_directed_graph(uoi_lasso_ccs[idx], weighted=True)\n",
    "                    for idx in range(len(uoi_lasso_ccs))]\n",
    "glmnet_dgraphs = [create_directed_graph(glmnet_ccs[idx], weighted=True)\n",
    "                 for idx in range(len(glmnet_ccs))]\n",
    "uoi_poisson_dgraphs = [create_directed_graph(uoi_poisson_ccs[idx], weighted=True)\n",
    "                      for idx in range(len(uoi_poisson_ccs))]"
   ]
  },
  {
   "cell_type": "code",
   "execution_count": 9,
   "metadata": {
    "hidden": true
   },
   "outputs": [],
   "source": [
    "d_graphs = {\n",
    "    'ac_baseline': lasso_dgraphs[0],\n",
    "    'ac_uoi': uoi_lasso_dgraphs[0],\n",
    "    'vc_monkey1_baseline': glmnet_dgraphs[0],\n",
    "    'vc_monkey2_baseline': glmnet_dgraphs[1],\n",
    "    'vc_monkey3_baseline': glmnet_dgraphs[2],\n",
    "    'mc_monkey1_baseline': glmnet_dgraphs[3],\n",
    "    'mc_monkey2_baseline': glmnet_dgraphs[4],\n",
    "    'mc_monkey3_baseline': glmnet_dgraphs[5],\n",
    "    'vc_monkey1_uoi': uoi_poisson_dgraphs[0],\n",
    "    'vc_monkey2_uoi': uoi_poisson_dgraphs[1],\n",
    "    'vc_monkey3_uoi': uoi_poisson_dgraphs[2],\n",
    "    'mc_monkey1_uoi': uoi_poisson_dgraphs[3],\n",
    "    'mc_monkey2_uoi': uoi_poisson_dgraphs[4],\n",
    "    'mc_monkey3_uoi': uoi_poisson_dgraphs[5],\n",
    "}"
   ]
  },
  {
   "cell_type": "code",
   "execution_count": 10,
   "metadata": {
    "hidden": true
   },
   "outputs": [],
   "source": [
    "s_graphs = {\n",
    "    'ac_baseline': lasso_sgraphs[0],\n",
    "    'ac_uoi': uoi_lasso_sgraphs[0],\n",
    "    'vc_monkey1_baseline': glmnet_sgraphs[0],\n",
    "    'vc_monkey2_baseline': glmnet_sgraphs[1],\n",
    "    'vc_monkey3_baseline': glmnet_sgraphs[2],\n",
    "    'mc_monkey1_baseline': glmnet_sgraphs[3],\n",
    "    'mc_monkey2_baseline': glmnet_sgraphs[4],\n",
    "    'mc_monkey3_baseline': glmnet_sgraphs[5],\n",
    "    'vc_monkey1_uoi': uoi_poisson_sgraphs[0],\n",
    "    'vc_monkey2_uoi': uoi_poisson_sgraphs[1],\n",
    "    'vc_monkey3_uoi': uoi_poisson_sgraphs[2],\n",
    "    'mc_monkey1_uoi': uoi_poisson_sgraphs[3],\n",
    "    'mc_monkey2_uoi': uoi_poisson_sgraphs[4],\n",
    "    'mc_monkey3_uoi': uoi_poisson_sgraphs[5],\n",
    "}"
   ]
  },
  {
   "cell_type": "markdown",
   "metadata": {
    "heading_collapsed": true,
    "hidden": true
   },
   "source": [
    "## In-degree / out-degree"
   ]
  },
  {
   "cell_type": "code",
   "execution_count": 11,
   "metadata": {
    "hidden": true
   },
   "outputs": [],
   "source": [
    "in_degrees = {\n",
    "    key: np.array(list(dict(val.in_degree()).values()))\n",
    "    for key, val in d_graphs.items()\n",
    "}\n",
    "\n",
    "out_degrees = {\n",
    "    key: np.array(list(dict(val.out_degree()).values()))\n",
    "    for key, val in d_graphs.items()\n",
    "}\n",
    "\n",
    "for degrees in [in_degrees, out_degrees]:\n",
    "    degrees['vc_baseline'] = np.concatenate(\n",
    "        (degrees['vc_monkey1_baseline'],\n",
    "         degrees['vc_monkey2_baseline'],\n",
    "         degrees['vc_monkey3_baseline'])\n",
    "    )\n",
    "    degrees['vc_uoi'] = np.concatenate(\n",
    "        (degrees['vc_monkey1_uoi'],\n",
    "         degrees['vc_monkey2_uoi'],\n",
    "         degrees['vc_monkey3_uoi'])\n",
    "    )\n",
    "    degrees['mc_baseline'] = np.concatenate(\n",
    "        (degrees['mc_monkey1_baseline'],\n",
    "         degrees['mc_monkey2_baseline'],\n",
    "         degrees['mc_monkey3_baseline'])\n",
    "    )\n",
    "    degrees['mc_uoi'] = np.concatenate(\n",
    "        (degrees['mc_monkey1_uoi'],\n",
    "         degrees['mc_monkey2_uoi'],\n",
    "         degrees['mc_monkey3_uoi'])\n",
    "    )"
   ]
  },
  {
   "cell_type": "code",
   "execution_count": 12,
   "metadata": {
    "hidden": true
   },
   "outputs": [],
   "source": [
    "in_degree_densities = {}\n",
    "out_degree_densities = {}\n",
    "\n",
    "bandwidths = [4.0, 5.0, 8.0]\n",
    "baselines = ['ac_baseline', 'vc_baseline', 'mc_baseline']\n",
    "uois = ['ac_uoi', 'vc_uoi', 'mc_uoi']\n",
    "\n",
    "for bandwidth, baseline, uoi in zip(bandwidths, baselines, uois):\n",
    "    kde = KernelDensity(bandwidth=bandwidth, kernel='gaussian')\n",
    "    kde.fit(in_degrees[baseline].reshape(-1, 1))\n",
    "    in_degree_densities[baseline] = kde\n",
    "\n",
    "    kde = KernelDensity(bandwidth=bandwidth, kernel='gaussian')\n",
    "    kde.fit(in_degrees[uoi].reshape(-1, 1))\n",
    "    in_degree_densities[uoi] = kde\n",
    "\n",
    "    kde = KernelDensity(bandwidth=bandwidth, kernel='gaussian')\n",
    "    kde.fit(out_degrees[baseline].reshape(-1, 1))\n",
    "    out_degree_densities[baseline] = kde\n",
    "\n",
    "    kde = KernelDensity(bandwidth=bandwidth, kernel='gaussian')\n",
    "    kde.fit(in_degrees[uoi].reshape(-1, 1))\n",
    "    out_degree_densities[uoi] = kde"
   ]
  },
  {
   "cell_type": "markdown",
   "metadata": {
    "heading_collapsed": true,
    "hidden": true
   },
   "source": [
    "## Modularity"
   ]
  },
  {
   "cell_type": "code",
   "execution_count": 26,
   "metadata": {
    "hidden": true
   },
   "outputs": [],
   "source": [
    "modularities = {\n",
    "    key: compute_modularity(val)\n",
    "    for key, val in d_graphs.items()\n",
    "}"
   ]
  },
  {
   "cell_type": "markdown",
   "metadata": {
    "heading_collapsed": true,
    "hidden": true
   },
   "source": [
    "## Small-worldness"
   ]
  },
  {
   "cell_type": "code",
   "execution_count": 15,
   "metadata": {
    "hidden": true
   },
   "outputs": [],
   "source": [
    "small_world = h5py.File(os.path.join(os.environ['HOME'], 'fits/uoineuro/coupling/graphs/small_world.h5'))"
   ]
  },
  {
   "cell_type": "code",
   "execution_count": 13,
   "metadata": {
    "hidden": true
   },
   "outputs": [],
   "source": [
    "small_world_omega = {}\n",
    "small_world_sigma = {}"
   ]
  },
  {
   "cell_type": "code",
   "execution_count": 19,
   "metadata": {
    "hidden": true
   },
   "outputs": [
    {
     "data": {
      "text/plain": [
       "{}"
      ]
     },
     "execution_count": 19,
     "metadata": {},
     "output_type": "execute_result"
    }
   ],
   "source": [
    "t = time.time()\n",
    "small_world_omega['mc_monkey1_uoi'] = compute_small_worldness(\n",
    "    G=s_graphs['mc_monkey1_uoi'],\n",
    "    metric='omega',\n",
    "    niter=50,\n",
    "    nrand=2,\n",
    "    seed=2332\n",
    ")\n",
    "print(time.time() - t)\n",
    "t = time.time()\n",
    "G = s_graphs['mc_monkey1_baseline']\n",
    "G = max(nx.connected_component_subgraphs(G), key=len)\n",
    "small_world_omega['mc_monkey1_baseline'] = nx.algorithms.smallworld.omega(G, niter=50, nrand=2, seed=2332)\n"
   ]
  },
  {
   "cell_type": "code",
   "execution_count": null,
   "metadata": {
    "hidden": true
   },
   "outputs": [],
   "source": [
    "for key, graph in s_graphs.items():\n",
    "    G = graph.copy()\n",
    "    G = max(nx.connected_component_subgraphs(G), key=len)\n",
    "    t = time.time()\n",
    "    small_world_omega[key] = nx.algorithms.smallworld.omega(G, nrand=5, seed=2332)\n",
    "    print(key, ' omega: ', time.time() - t)\n",
    "    \n",
    "    small_world_sigma[key] = nx.algorithms.smallworld.sigma(G, nrand=5, seed=2332)\n",
    "    print(key, ' sigma: ', time.time() - t)"
   ]
  },
  {
   "cell_type": "markdown",
   "metadata": {
    "hidden": true
   },
   "source": [
    "## Tuning Preferences"
   ]
  },
  {
   "cell_type": "markdown",
   "metadata": {
    "heading_collapsed": true,
    "hidden": true
   },
   "source": [
    "## Figure Plot"
   ]
  },
  {
   "cell_type": "code",
   "execution_count": 16,
   "metadata": {
    "hidden": true
   },
   "outputs": [
    {
     "data": {
      "image/png": "[encoded data removed]",
      "text/plain": [
       "<Figure size 864x360 with 18 Axes>"
      ]
     },
     "metadata": {
      "needs_background": "light"
     },
     "output_type": "display_data"
    }
   ],
   "source": [
    "fig, axes = plt.subplots(3, 6, figsize=(12, 5),\n",
    "                         gridspec_kw={'width_ratios': [1, 1, 0.1, 0.5, 0.1, 0.5]})\n",
    "\n",
    "bins = np.linspace(0, 100, 20)\n",
    "x_samples = np.linspace(0, 120, 1000)[..., np.newaxis]\n",
    "colors = ['gray','red']\n",
    "datasets = ['ac', 'vc', 'mc']\n",
    "\n",
    "for idx, dataset in enumerate(datasets):\n",
    "    in_ax = axes[idx, 0]\n",
    "    out_ax = axes[idx, 1]\n",
    "    baseline_key = dataset + '_baseline'\n",
    "    uoi_key = dataset + '_uoi'\n",
    "    \n",
    "    for ax, degree_density in zip([in_ax, out_ax], [in_degree_densities, out_degree_densities]):\n",
    "        for key, color in zip([baseline_key, uoi_key], colors):\n",
    "            ax.plot(\n",
    "                x_samples,\n",
    "                np.exp(degree_density[key].score_samples(x_samples)),\n",
    "                color=color,\n",
    "                alpha=0.75,\n",
    "                linewidth=3)\n",
    "            ax.fill_between(\n",
    "                x_samples.ravel(),\n",
    "                np.exp(degree_density[key].score_samples(x_samples)),\n",
    "                color=color,\n",
    "                alpha=0.25)\n",
    "\n",
    "for ax in axes[:, :2].ravel():\n",
    "    ax.tick_params(labelsize=10)\n",
    "    ax.set_xlim([0, 120])\n",
    "    ax.set_ylim([0, 0.05])\n",
    "    ax.set_yticks([0, 0.05])\n",
    "    \n",
    "axes[0, 0].set_ylim([0, 0.07])\n",
    "axes[0, 1].set_ylim([0, 0.07])\n",
    "    \n",
    "# modularities\n",
    "axes[0, 3].bar(x=[0, 1],\n",
    "               height=[modularities['ac_baseline'], modularities['ac_uoi']],\n",
    "               color=['gray', 'red'],\n",
    "               width=0.75)\n",
    "\n",
    "axes[1, 3].bar(x=[0, 1],\n",
    "               height=[np.mean([modularities['vc_monkey1_baseline'],\n",
    "                                modularities['vc_monkey2_baseline'],\n",
    "                                modularities['vc_monkey3_baseline']]),\n",
    "                       np.mean([modularities['vc_monkey1_uoi'],\n",
    "                                modularities['vc_monkey2_uoi'],\n",
    "                                modularities['vc_monkey3_uoi']])],\n",
    "               color=['gray', 'red'],\n",
    "               width=0.75)\n",
    "axes[2, 3].bar(x=[0, 1],\n",
    "               height=[np.mean([modularities['mc_monkey1_baseline'],\n",
    "                                modularities['mc_monkey2_baseline'],\n",
    "                                modularities['mc_monkey3_baseline']]),\n",
    "                       np.mean([modularities['mc_monkey1_uoi'],\n",
    "                                modularities['mc_monkey2_uoi'],\n",
    "                                modularities['mc_monkey3_uoi']])],\n",
    "               color=['gray', 'red'],\n",
    "               width=0.75)\n",
    "\n",
    "axes[1, 3].axhline(0, color='k', linestyle='--')\n",
    "\n",
    "for ax in axes[:, 3]:\n",
    "    ax.set_xlim([-0.5, 1.5])\n",
    "    ax.tick_params(labelsize=10)\n",
    "    ax.set_xticks([])\n",
    "\n",
    "axes[0, 3].set_yticks([0, 0.2, 0.4])\n",
    "axes[1, 3].set_yticks([0, 0.1])\n",
    "axes[2, 3].set_yticks([0, 0.2, 0.4])\n",
    "\n",
    "# small-worldness\n",
    "axes[0, 5].bar(x=[0, 1],\n",
    "               height=[small_world['ac_baseline'][:][0], small_world['ac_uoi'][:][0]],\n",
    "               color=['gray', 'red'],\n",
    "               width=0.75)\n",
    "\n",
    "axes[1, 5].bar(x=[0, 1],\n",
    "               height=[np.mean([small_world['vc_baseline'][:]]),\n",
    "                       np.mean([small_world['vc_uoi'][:]])],\n",
    "               color=['gray', 'red'],\n",
    "               width=0.75)\n",
    "axes[2, 5].bar(x=[0, 1],\n",
    "               height=[np.mean([small_world['mc_baseline'][:]]),\n",
    "                       np.mean([small_world['mc_uoi'][:]])],\n",
    "               color=['gray', 'red'],\n",
    "               width=0.75)\n",
    "\n",
    "for ax in axes[:, 5]:\n",
    "    ax.set_xlim([-0.5, 1.5])\n",
    "    ax.tick_params(labelsize=10)\n",
    "    ax.set_xticks([])\n",
    "\n",
    "axes[0, 5].set_yticks([0, 0.25, 0.5])\n",
    "axes[0, 5].set_yticklabels([0, 0.25, 0.5])\n",
    "axes[1, 5].set_yticks([0, 0.05, 0.1])\n",
    "axes[1, 5].set_yticklabels([0, 0.05, 0.1])\n",
    "axes[2, 5].set_yticks([0, 0.25, 0.5])\n",
    "\n",
    "for ax in axes[:, 0]:\n",
    "    ax.set_xlabel(r'\\textbf{In Degree}', fontsize=12)\n",
    "    \n",
    "for ax in axes[:, 1]:\n",
    "    ax.set_xlabel(r'\\textbf{Out Degree}', fontsize=12)\n",
    "\n",
    "for ax in axes[:, 3]:\n",
    "    ax.grid(axis='y')\n",
    "    ax.set_axisbelow(True)\n",
    "    ax.set_ylabel(r'\\textbf{Modularity}', fontsize=12)\n",
    "    \n",
    "for ax in axes[:, 5]:\n",
    "    ax.grid(axis='y')\n",
    "    ax.set_axisbelow(True)\n",
    "    ax.set_ylabel(r'$\\omega$', fontsize=20)\n",
    "    \n",
    "for ax in axes[:, 2]:\n",
    "    ax.axis('off')\n",
    "for ax in axes[:, 4]:\n",
    "    ax.axis('off')\n",
    "\n",
    "axes[0, 0].set_ylabel(r'\\textbf{Density}', fontsize=14, labelpad=5)\n",
    "axes[1, 0].set_ylabel(r'\\textbf{Density}', fontsize=14, labelpad=5)\n",
    "axes[2, 0].set_ylabel(r'\\textbf{Density}', fontsize=14, labelpad=5)\n",
    "\n",
    "axes[2, 4].plot([], [], color='gray', label=r'\\textbf{Baseline}', linewidth=5)\n",
    "axes[2, 4].plot([], [], color='r', label=r'\\textbf{UoI}', linewidth=5)\n",
    "axes[2, 4].legend(\n",
    "    loc='center',\n",
    "    bbox_to_anchor=(0, -0.45),\n",
    "    ncol=2,\n",
    "    prop={'size': 15})\n",
    "plt.subplots_adjust(hspace=0.80, wspace=0.4)\n",
    "#plt.savefig('graph_analysis.pdf', bbox_inches='tight')"
   ]
  }
 ],
 "metadata": {
  "kernelspec": {
   "display_name": "neuro",
   "language": "python",
   "name": "neuro"
  },
  "language_info": {
   "codemirror_mode": {
    "name": "ipython",
    "version": 3
   },
   "file_extension": ".py",
   "mimetype": "text/x-python",
   "name": "python",
   "nbconvert_exporter": "python",
   "pygments_lexer": "ipython3",
   "version": "3.7.4"
  },
  "varInspector": {
   "cols": {
    "lenName": 16,
    "lenType": 16,
    "lenVar": 40
   },
   "kernels_config": {
    "python": {
     "delete_cmd_postfix": "",
     "delete_cmd_prefix": "del ",
     "library": "var_list.py",
     "varRefreshCmd": "print(var_dic_list())"
    },
    "r": {
     "delete_cmd_postfix": ") ",
     "delete_cmd_prefix": "rm(",
     "library": "var_list.r",
     "varRefreshCmd": "cat(var_dic_list()) "
    }
   },
   "types_to_exclude": [
    "module",
    "function",
    "builtin_function_or_method",
    "instance",
    "_Feature"
   ],
   "window_display": false
  }
 },
 "nbformat": 4,
 "nbformat_minor": 2
}
