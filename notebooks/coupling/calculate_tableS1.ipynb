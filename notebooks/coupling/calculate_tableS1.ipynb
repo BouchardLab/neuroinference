{
 "cells": [
  {
   "cell_type": "markdown",
   "metadata": {
    "heading_collapsed": true
   },
   "source": [
    "# Table S1"
   ]
  },
  {
   "cell_type": "code",
   "execution_count": 1,
   "metadata": {
    "hidden": true
   },
   "outputs": [],
   "source": [
    "import h5py\n",
    "import matplotlib\n",
    "import matplotlib.pyplot as plt\n",
    "import numpy as np\n",
    "import os\n",
    "import scipy.stats as ss\n",
    "\n",
    "from neuroinference.coupling_utils import read_coupling_coefs\n",
    "from neuroinference.utils import (calculate_selection_ratio,\n",
    "                                  cohens_d)\n",
    "                            \n",
    "%matplotlib inline"
   ]
  },
  {
   "cell_type": "code",
   "execution_count": 2,
   "metadata": {
    "hidden": true
   },
   "outputs": [],
   "source": [
    "base_path = os.path.join(os.environ['HOME'], 'fits/uoineuro/coupling')"
   ]
  },
  {
   "cell_type": "code",
   "execution_count": 3,
   "metadata": {
    "hidden": true
   },
   "outputs": [],
   "source": [
    "# ac results path\n",
    "ac_results_paths = [os.path.join(base_path, 'ecog/ecog_coupling.h5')]\n",
    "n_ac_fits = len(ac_results_paths) \n",
    "# extract coupling coefficients\n",
    "ac_baseline_ccs, ac_uoi_ccs = read_coupling_coefs(ac_results_paths, linear=True, poisson=False)\n",
    "# read in results files\n",
    "ac_results = [h5py.File(ac_results_path, 'r') for ac_results_path in ac_results_paths]"
   ]
  },
  {
   "cell_type": "code",
   "execution_count": 4,
   "metadata": {
    "hidden": true
   },
   "outputs": [],
   "source": [
    "# consolidate v1 results paths\n",
    "v1_results_paths = [os.path.join(base_path, 'pvc11/pvc11_monkey1_coupling.h5'),\n",
    "                    os.path.join(base_path, 'pvc11/pvc11_monkey2_coupling.h5'),\n",
    "                    os.path.join(base_path, 'pvc11/pvc11_monkey3_coupling.h5')]\n",
    "n_v1_fits = len(v1_results_paths)\n",
    "# read in v1 coupling coefficients\n",
    "v1_baseline_ccs, v1_uoi_ccs = read_coupling_coefs(v1_results_paths, linear=False, poisson=True)\n",
    "# read in results files\n",
    "v1_results = [h5py.File(v1_results_path, 'r') for v1_results_path in v1_results_paths]"
   ]
  },
  {
   "cell_type": "code",
   "execution_count": 5,
   "metadata": {
    "hidden": true
   },
   "outputs": [],
   "source": [
    "# consolidate m1 results\n",
    "m1_results_paths = [os.path.join(base_path, 'nhp/nhp_indy_20160407_02_coupling.h5'),\n",
    "                    os.path.join(base_path, 'nhp/nhp_indy_20160411_01_coupling.h5'),\n",
    "                    os.path.join(base_path, 'nhp/nhp_indy_20160411_02_coupling.h5')]\n",
    "n_m1_fits = len(m1_results_paths)\n",
    "# read in m1 coupling coefficients\n",
    "m1_baseline_ccs, m1_uoi_ccs = read_coupling_coefs(m1_results_paths, linear=False)\n",
    "# read in results files\n",
    "m1_results = [h5py.File(m1_results_path, 'r') for m1_results_path in m1_results_paths]"
   ]
  },
  {
   "cell_type": "markdown",
   "metadata": {
    "heading_collapsed": true,
    "hidden": true
   },
   "source": [
    "## Dataset Details"
   ]
  },
  {
   "cell_type": "code",
   "execution_count": 6,
   "metadata": {
    "hidden": true
   },
   "outputs": [
    {
     "name": "stdout",
     "output_type": "stream",
     "text": [
      "AC\n",
      "---------------\n",
      "Dataset  1\n",
      "Number of samples:  4200\n",
      "Number of units:  128\n",
      "---------------\n",
      "Note: 3 units were not used due to faulty channels\n"
     ]
    }
   ],
   "source": [
    "print('AC')\n",
    "print('---------------')\n",
    "for idx, ac_result in enumerate(ac_results):\n",
    "    n_samples, n_units = ac_result['lasso/Y'].shape\n",
    "    print('Dataset ', idx + 1)\n",
    "    print('Number of samples: ', n_samples)\n",
    "    print('Number of units: ', n_units)\n",
    "    print('---------------')\n",
    "print('Note: 3 units were not used due to faulty channels')"
   ]
  },
  {
   "cell_type": "code",
   "execution_count": 7,
   "metadata": {
    "hidden": true
   },
   "outputs": [
    {
     "name": "stdout",
     "output_type": "stream",
     "text": [
      "V1\n",
      "---------------\n",
      "Dataset  1\n",
      "Number of samples:  2400\n",
      "Number of units:  106\n",
      "---------------\n",
      "Dataset  2\n",
      "Number of samples:  2400\n",
      "Number of units:  88\n",
      "---------------\n",
      "Dataset  3\n",
      "Number of samples:  2400\n",
      "Number of units:  112\n",
      "---------------\n"
     ]
    }
   ],
   "source": [
    "print('V1')\n",
    "print('---------------')\n",
    "for idx, v1_result in enumerate(v1_results):\n",
    "    n_samples, n_units = v1_result['lasso/Y'].shape\n",
    "    print('Dataset ', idx + 1)\n",
    "    print('Number of samples: ', n_samples)\n",
    "    print('Number of units: ', n_units)\n",
    "    print('---------------')"
   ]
  },
  {
   "cell_type": "code",
   "execution_count": 8,
   "metadata": {
    "hidden": true
   },
   "outputs": [
    {
     "name": "stdout",
     "output_type": "stream",
     "text": [
      "M1\n",
      "---------------\n",
      "Dataset  1\n",
      "Number of samples:  4089\n",
      "Number of units:  136\n",
      "---------------\n",
      "Dataset  2\n",
      "Number of samples:  4767\n",
      "Number of units:  146\n",
      "---------------\n",
      "Dataset  3\n",
      "Number of samples:  4400\n",
      "Number of units:  147\n",
      "---------------\n"
     ]
    }
   ],
   "source": [
    "print('M1')\n",
    "print('---------------')\n",
    "for idx, m1_result in enumerate(m1_results):\n",
    "    n_samples, n_units = m1_result['lasso/Y'].shape\n",
    "    print('Dataset ', idx + 1)\n",
    "    print('Number of samples: ', n_samples)\n",
    "    print('Number of units: ', n_units)\n",
    "    print('---------------')"
   ]
  },
  {
   "cell_type": "markdown",
   "metadata": {
    "heading_collapsed": true,
    "hidden": true
   },
   "source": [
    "## Selection Ratio"
   ]
  },
  {
   "cell_type": "code",
   "execution_count": 9,
   "metadata": {
    "hidden": true
   },
   "outputs": [
    {
     "name": "stdout",
     "output_type": "stream",
     "text": [
      "AC\n",
      "---------------\n",
      "Dataset  1\n",
      "Baseline:  0.2992 +/- 0.0679\n",
      "UoI:  0.1339 +/- 0.0285\n",
      "Reduction in features:  2.235294117647059\n",
      "p-value:  5.440169988567301e-23\n",
      "Cohen's d:  1.7496657199225092\n",
      "---------------\n"
     ]
    }
   ],
   "source": [
    "# calculate selection ratios\n",
    "ac_baseline_srs = [calculate_selection_ratio(ac_baseline_cc)\n",
    "                   for ac_baseline_cc in ac_baseline_ccs]\n",
    "ac_uoi_srs = [calculate_selection_ratio(ac_uoi_cc)\n",
    "              for ac_uoi_cc in ac_uoi_ccs]\n",
    "\n",
    "print('AC')\n",
    "print('---------------')\n",
    "for idx, (baseline, uoi) in enumerate(zip(ac_baseline_srs, ac_uoi_srs)):\n",
    "    print('Dataset ', idx + 1)\n",
    "    print('Baseline: ', format(np.median(baseline), '0.4f'),\n",
    "          '+/-', format(ss.iqr(baseline) / 2, '0.4f'))\n",
    "    print('UoI: ', format(np.median(uoi), '0.4f'),\n",
    "          '+/-', format(ss.iqr(uoi) / 2, '0.4f'))\n",
    "    print('Reduction in features: ', np.median(baseline) / np.median(uoi))\n",
    "    print('p-value: ', ss.wilcoxon(baseline, uoi, alternative='greater').pvalue)\n",
    "    print(\"Cohen's d: \", cohens_d(baseline, uoi))\n",
    "    print('---------------')"
   ]
  },
  {
   "cell_type": "code",
   "execution_count": 10,
   "metadata": {
    "hidden": true
   },
   "outputs": [
    {
     "name": "stdout",
     "output_type": "stream",
     "text": [
      "V1\n",
      "---------------\n",
      "Dataset  1\n",
      "Baseline:  0.5905 +/- 0.1071\n",
      "UoI:  0.2667 +/- 0.0667\n",
      "Reduction in features:  2.2142857142857144\n",
      "p-value:  2.039433446953991e-19\n",
      "Cohen's d:  2.260925169928966\n",
      "---------------\n",
      "Dataset  2\n",
      "Baseline:  0.6609 +/- 0.1710\n",
      "UoI:  0.2586 +/- 0.1149\n",
      "Reduction in features:  2.5555555555555554\n",
      "p-value:  1.922729679230268e-16\n",
      "Cohen's d:  1.8711483851770927\n",
      "---------------\n",
      "Dataset  3\n",
      "Baseline:  0.5946 +/- 0.1002\n",
      "UoI:  0.2793 +/- 0.0732\n",
      "Reduction in features:  2.1290322580645165\n",
      "p-value:  2.0343190660141697e-20\n",
      "Cohen's d:  2.572482453165233\n",
      "---------------\n"
     ]
    }
   ],
   "source": [
    "v1_baseline_srs = [calculate_selection_ratio(v1_baseline_cc)\n",
    "                   for v1_baseline_cc in v1_baseline_ccs]\n",
    "v1_uoi_srs = [calculate_selection_ratio(v1_uoi_cc)\n",
    "              for v1_uoi_cc in v1_uoi_ccs]\n",
    "\n",
    "print('V1')\n",
    "print('---------------')\n",
    "for idx, (baseline, uoi) in enumerate(zip(v1_baseline_srs, v1_uoi_srs)):\n",
    "    print('Dataset ', idx + 1)\n",
    "    print('Baseline: ', format(np.median(baseline), '0.4f'),\n",
    "          '+/-', format(ss.iqr(baseline) / 2, '0.4f'))\n",
    "    print('UoI: ', format(np.median(uoi), '0.4f'),\n",
    "          '+/-', format(ss.iqr(uoi) / 2, '0.4f'))\n",
    "    print('Reduction in features: ', np.median(baseline) / np.median(uoi))\n",
    "    print('p-value: ', ss.wilcoxon(baseline, uoi, alternative='greater').pvalue)\n",
    "    print(\"Cohen's d: \", cohens_d(baseline, uoi))\n",
    "    print('---------------')"
   ]
  },
  {
   "cell_type": "code",
   "execution_count": 11,
   "metadata": {
    "hidden": true
   },
   "outputs": [
    {
     "name": "stdout",
     "output_type": "stream",
     "text": [
      "M1\n",
      "---------------\n",
      "Dataset  1\n",
      "Baseline:  0.4333 +/- 0.1222\n",
      "UoI:  0.0741 +/- 0.0380\n",
      "Reduction in features:  5.8500000000000005\n",
      "p-value:  3.334541525940367e-24\n",
      "Cohen's d:  2.489856015080524\n",
      "---------------\n",
      "Dataset  2\n",
      "Baseline:  0.4552 +/- 0.1198\n",
      "UoI:  0.0828 +/- 0.0414\n",
      "Reduction in features:  5.5\n",
      "p-value:  3.439136319482036e-25\n",
      "Cohen's d:  2.374615090034304\n",
      "---------------\n",
      "Dataset  3\n",
      "Baseline:  0.4589 +/- 0.1062\n",
      "UoI:  0.0890 +/- 0.0411\n",
      "Reduction in features:  5.153846153846154\n",
      "p-value:  1.1034971078766716e-25\n",
      "Cohen's d:  2.5801521951484627\n",
      "---------------\n"
     ]
    }
   ],
   "source": [
    "m1_baseline_srs = [calculate_selection_ratio(m1_baseline_cc)\n",
    "                   for m1_baseline_cc in m1_baseline_ccs]\n",
    "m1_uoi_srs = [calculate_selection_ratio(m1_uoi_cc)\n",
    "              for m1_uoi_cc in m1_uoi_ccs]\n",
    "\n",
    "print('M1')\n",
    "print('---------------')\n",
    "for idx, (baseline, uoi) in enumerate(zip(m1_baseline_srs, m1_uoi_srs)):\n",
    "    print('Dataset ', idx + 1)\n",
    "    print('Baseline: ', format(np.median(baseline), '0.4f'),\n",
    "          '+/-', format(ss.iqr(baseline) / 2, '0.4f'))\n",
    "    print('UoI: ', format(np.median(uoi), '0.4f'),\n",
    "          '+/-', format(ss.iqr(uoi) / 2, '0.4f'))\n",
    "    print('Reduction in features: ', np.median(baseline) / np.median(uoi))\n",
    "    print('p-value: ', ss.wilcoxon(baseline, uoi, alternative='greater').pvalue)\n",
    "    print(\"Cohen's d: \", cohens_d(baseline, uoi))\n",
    "    print('---------------')"
   ]
  },
  {
   "cell_type": "markdown",
   "metadata": {
    "heading_collapsed": true,
    "hidden": true
   },
   "source": [
    "## Predictive Performance"
   ]
  },
  {
   "cell_type": "code",
   "execution_count": 12,
   "metadata": {
    "hidden": true
   },
   "outputs": [
    {
     "name": "stdout",
     "output_type": "stream",
     "text": [
      "AC\n",
      "---------------\n",
      "Dataset  1\n",
      "Baseline:  0.98 +/- 0.02\n",
      "UoI:  0.98 +/- 0.02\n",
      "Median Difference:  0.00\n",
      "p-value:  0.0005070182068858921\n",
      "Cohen's d:  0.0049282371808172095\n",
      "---------------\n"
     ]
    }
   ],
   "source": [
    "ac_baseline_pp = [np.median(ac_result['lasso/r2s_test'][:], axis=0)\n",
    "                  for ac_result in ac_results]\n",
    "ac_uoi_pp = [np.median(ac_result['uoi_lasso_bic/r2s_test'][:], axis=0)\n",
    "             for ac_result in ac_results]\n",
    "\n",
    "print('AC')\n",
    "print('---------------')\n",
    "for idx, (baseline, uoi) in enumerate(zip(ac_baseline_pp, ac_uoi_pp)):\n",
    "    print('Dataset ', idx + 1)\n",
    "    print('Baseline: ', format(np.median(baseline), '0.2f'), '+/-', format(ss.iqr(baseline) / 2, '0.2f'))\n",
    "    print('UoI: ', format(np.median(uoi), '0.2f'), '+/-', format(ss.iqr(uoi) / 2, '0.2f'))\n",
    "    print('Median Difference: ', format(np.median(baseline - uoi), '0.2f'))\n",
    "    print('p-value: ', ss.wilcoxon(x=baseline, y=uoi, alternative='greater').pvalue)\n",
    "    print(\"Cohen's d: \", cohens_d(baseline, uoi))\n",
    "    print('---------------')"
   ]
  },
  {
   "cell_type": "code",
   "execution_count": 13,
   "metadata": {
    "hidden": true
   },
   "outputs": [
    {
     "name": "stdout",
     "output_type": "stream",
     "text": [
      "V1\n",
      "---------------\n",
      "Dataset  1\n",
      "Baseline:  202.89 +/- 34.69\n",
      "UoI:  205.06 +/- 35.52\n",
      "Median Difference:  -2.99\n",
      "p-value:  3.078441458594466e-16\n",
      "Cohen's d:  -0.045805755435526584\n",
      "---------------\n",
      "Dataset  2\n",
      "Baseline:  165.69 +/- 43.52\n",
      "UoI:  167.87 +/- 43.40\n",
      "Median Difference:  -1.97\n",
      "p-value:  1.7385837090928222e-12\n",
      "Cohen's d:  -0.03256344320526021\n",
      "---------------\n",
      "Dataset  3\n",
      "Baseline:  212.86 +/- 41.48\n",
      "UoI:  217.40 +/- 41.20\n",
      "Median Difference:  -3.31\n",
      "p-value:  7.827677519817016e-19\n",
      "Cohen's d:  -0.04658866498012063\n",
      "---------------\n"
     ]
    }
   ],
   "source": [
    "v1_baseline_pp = [np.median(v1_results[idx]['glmnet_poisson/deviances_test'][:], axis=0)\n",
    "                  for idx in range(n_v1_fits)]\n",
    "v1_uoi_pp = [np.median(v1_results[idx]['uoi_poisson_log/deviances_test'][:], axis=0)\n",
    "             for idx in range(n_v1_fits)]\n",
    "\n",
    "print('V1')\n",
    "print('---------------')\n",
    "for idx, (baseline, uoi) in enumerate(zip(v1_baseline_pp, v1_uoi_pp)):\n",
    "    print('Dataset ', idx + 1)\n",
    "    print('Baseline: ', format(np.median(baseline), '0.2f'), '+/-', format(ss.iqr(baseline) / 2, '0.2f'))\n",
    "    print('UoI: ', format(np.median(uoi), '0.2f'), '+/-', format(ss.iqr(uoi) / 2, '0.2f'))\n",
    "    print('Median Difference: ', format(np.median(baseline - uoi), '0.2f'))\n",
    "    print('p-value: ', ss.wilcoxon(x=baseline, y=uoi, alternative='less').pvalue)\n",
    "    print(\"Cohen's d: \", cohens_d(baseline, uoi))\n",
    "    print('---------------')"
   ]
  },
  {
   "cell_type": "code",
   "execution_count": 15,
   "metadata": {
    "hidden": true
   },
   "outputs": [
    {
     "name": "stdout",
     "output_type": "stream",
     "text": [
      "M1\n",
      "---------------\n",
      "Dataset  1\n",
      "Baseline:  231.66 +/- 64.56\n",
      "UoI:  233.28 +/- 64.58\n",
      "Median Difference:  -2.47\n",
      "p-value:  9.842495405296869e-24\n",
      "Cohen's d:  -0.030129136430232135\n",
      "---------------\n",
      "Dataset  2\n",
      "Baseline:  263.01 +/- 60.03\n",
      "UoI:  266.26 +/- 58.64\n",
      "Median Difference:  -2.27\n",
      "p-value:  1.4861628764062627e-23\n",
      "Cohen's d:  -0.02505348742578228\n",
      "---------------\n",
      "Dataset  3\n",
      "Baseline:  248.21 +/- 56.89\n",
      "UoI:  249.80 +/- 57.66\n",
      "Median Difference:  -2.72\n",
      "p-value:  1.8285777741230783e-25\n",
      "Cohen's d:  -0.029846250699989963\n",
      "---------------\n"
     ]
    }
   ],
   "source": [
    "m1_baseline_pp = [np.median(m1_results[idx]['glmnet_poisson/deviances_test'][:], axis=0)\n",
    "                  for idx in range(n_m1_fits)]\n",
    "m1_uoi_pp = [np.median(m1_results[idx]['uoi_poisson_log/deviances_test'][:], axis=0)\\\n",
    "             for idx in range(n_m1_fits)]\n",
    "\n",
    "\n",
    "print('M1')\n",
    "print('---------------')\n",
    "for idx, (baseline, uoi) in enumerate(zip(m1_baseline_pp, m1_uoi_pp)):\n",
    "    baseline = np.nan_to_num(baseline)\n",
    "    uoi = np.nan_to_num(uoi)\n",
    "    print('Dataset ', idx + 1)\n",
    "    print('Baseline: ', format(np.median(baseline), '0.2f'), '+/-', format(ss.iqr(baseline) / 2, '0.2f'))\n",
    "    print('UoI: ', format(np.median(uoi), '0.2f'), '+/-', format(ss.iqr(uoi) / 2, '0.2f'))\n",
    "    print('Median Difference: ', format(np.median(baseline - uoi), '0.2f'))\n",
    "    print('p-value: ', ss.wilcoxon(x=baseline, y=uoi, alternative='less').pvalue)\n",
    "    print(\"Cohen's d: \", cohens_d(baseline, uoi))\n",
    "    print('---------------')"
   ]
  },
  {
   "cell_type": "markdown",
   "metadata": {
    "heading_collapsed": true,
    "hidden": true
   },
   "source": [
    "## Bayesian Information Criterion"
   ]
  },
  {
   "cell_type": "code",
   "execution_count": 16,
   "metadata": {
    "hidden": true,
    "hide_input": false
   },
   "outputs": [
    {
     "name": "stdout",
     "output_type": "stream",
     "text": [
      "AC\n",
      "---------------\n",
      "Dataset  1\n",
      "Baseline:  -6239.96 +/- 1884.42\n",
      "UoI:  -6490.60 +/- 1859.09\n",
      "Median Difference:  170.01\n",
      "---------------\n"
     ]
    }
   ],
   "source": [
    "ac_baseline_bics = [np.median(ac_result['lasso/bics'][:], axis=0)\n",
    "                  for ac_result in ac_results]\n",
    "ac_uoi_bics = [np.median(ac_result['uoi_lasso_bic/bics'][:], axis=0)\n",
    "             for ac_result in ac_results]\n",
    "\n",
    "print('AC')\n",
    "print('---------------')\n",
    "for idx, (baseline, uoi) in enumerate(zip(ac_baseline_bics, ac_uoi_bics)):\n",
    "    print('Dataset ', idx + 1)\n",
    "    print('Baseline: ', format(np.median(baseline), '0.2f'), '+/-', format(ss.iqr(baseline) / 2, '0.2f'))\n",
    "    print('UoI: ', format(np.median(uoi), '0.2f'), '+/-', format(ss.iqr(uoi) / 2, '0.2f'))\n",
    "    print('Median Difference: ', format(np.median(baseline - uoi), '0.2f'))\n",
    "    print('---------------')"
   ]
  },
  {
   "cell_type": "code",
   "execution_count": 17,
   "metadata": {
    "hidden": true
   },
   "outputs": [
    {
     "name": "stdout",
     "output_type": "stream",
     "text": [
      "V1\n",
      "---------------\n",
      "Dataset  1\n",
      "Baseline:  -15349.34 +/- 20946.67\n",
      "UoI:  -15516.19 +/- 20970.74\n",
      "Median Difference:  149.14\n",
      "---------------\n",
      "Dataset  2\n",
      "Baseline:  -2864.02 +/- 11046.87\n",
      "UoI:  -3007.10 +/- 11087.03\n",
      "Median Difference:  131.25\n",
      "---------------\n",
      "Dataset  3\n",
      "Baseline:  -35164.55 +/- 34069.33\n",
      "UoI:  -35309.01 +/- 34066.44\n",
      "Median Difference:  161.33\n",
      "---------------\n"
     ]
    }
   ],
   "source": [
    "v1_baseline_bics = [np.median(v1_results[idx]['glmnet_poisson/bics'][:], axis=0)\n",
    "                    for idx in range(n_v1_fits)]\n",
    "v1_uoi_bics = [np.median(v1_results[idx]['uoi_poisson_log/bics'][:], axis=0)\n",
    "               for idx in range(n_v1_fits)]\n",
    "\n",
    "print('V1')\n",
    "print('---------------')\n",
    "for idx, (baseline, uoi) in enumerate(zip(v1_baseline_bics, v1_uoi_bics)):\n",
    "    print('Dataset ', idx + 1)\n",
    "    print('Baseline: ', format(np.median(baseline), '0.2f'), '+/-', format(ss.iqr(baseline) / 2, '0.2f'))\n",
    "    print('UoI: ', format(np.median(uoi), '0.2f'), '+/-', format(ss.iqr(uoi) / 2, '0.2f'))\n",
    "    print('Median Difference: ', format(np.median(baseline - uoi), '0.2f'))\n",
    "    print('---------------')"
   ]
  },
  {
   "cell_type": "code",
   "execution_count": 18,
   "metadata": {
    "hidden": true
   },
   "outputs": [
    {
     "name": "stdout",
     "output_type": "stream",
     "text": [
      "Dataset 0:\n",
      "-----------\n",
      "Baseline BIC:  480.98 +/- 124.05\n",
      "UoI BIC:  321.75 +/- 59.49\n",
      "Median del BIC:  162.17\n",
      "Wilcoxon Sign Rank Test:  WilcoxonResult(statistic=422.0, pvalue=3.535529653947251e-20)\n",
      "Cohens D:  0.7248418316419467\n",
      "\n",
      "Dataset 1:\n",
      "-----------\n",
      "Baseline BIC:  542.79 +/- 150.17\n",
      "UoI BIC:  354.80 +/- 75.35\n",
      "Median del BIC:  186.10\n",
      "Wilcoxon Sign Rank Test:  WilcoxonResult(statistic=355.0, pvalue=2.948033801789911e-22)\n",
      "Cohens D:  0.7246654657934493\n",
      "\n",
      "Dataset 2:\n",
      "-----------\n",
      "Baseline BIC:  564.84 +/- 120.39\n",
      "UoI BIC:  362.11 +/- 67.42\n",
      "Median del BIC:  190.53\n",
      "Wilcoxon Sign Rank Test:  WilcoxonResult(statistic=180.0, pvalue=6.058087006705419e-24)\n",
      "Cohens D:  0.8389497875457887\n",
      "\n"
     ]
    }
   ],
   "source": [
    "mc_baseline_bics = [np.median(m1_results[idx]['glmnet_poisson/bics'][:], axis=0) for idx in range(n_m1_fits)]\n",
    "mc_uoi_bics = [np.median(m1_results[idx]['uoi_poisson_log/bics'][:], axis=0) for idx in range(n_m1_fits)]\n",
    "\n",
    "for dataset in range(n_m1_fits):\n",
    "    baseline = mc_baseline_bics[dataset]\n",
    "    uoi = mc_uoi_bics[dataset]\n",
    "    \n",
    "    print('Dataset %s:' %dataset)\n",
    "    print('-----------')\n",
    "    print('Baseline BIC: ', format(np.median(baseline), '0.2f'), '+/-', format(ss.iqr(baseline) / 2, '0.2f'))\n",
    "    print('UoI BIC: ', format(np.median(uoi), '0.2f'), '+/-', format(ss.iqr(uoi) / 2, '0.2f'))\n",
    "    print('Median del BIC: ', format(np.median(baseline - uoi), '0.2f'))\n",
    "    print('Wilcoxon Sign Rank Test: ',\n",
    "          ss.wilcoxon(x=baseline,\n",
    "                      y=uoi))\n",
    "    print('Cohens D: ', np.mean(baseline - uoi) / np.std(baseline))\n",
    "    print('')"
   ]
  },
  {
   "cell_type": "markdown",
   "metadata": {
    "heading_collapsed": true,
    "hidden": true
   },
   "source": [
    "## Non-zero Parameters"
   ]
  },
  {
   "cell_type": "code",
   "execution_count": 19,
   "metadata": {
    "hidden": true
   },
   "outputs": [
    {
     "name": "stdout",
     "output_type": "stream",
     "text": [
      "Auditory Cortex\n",
      "---------------\n",
      "KS 2-sample test:  5.88596274373403e-69\n"
     ]
    }
   ],
   "source": [
    "ac_baseline_ccs_all = np.concatenate(\n",
    "    [ac_baseline_ccs[idx].ravel()\n",
    "     for idx in range(n_ac_fits)])\n",
    "ac_uoi_ccs_all = np.concatenate(\n",
    "    [ac_uoi_ccs[idx].ravel()\n",
    "     for idx in range(n_ac_fits)])\n",
    "\n",
    "# calculate non-zero coefficients\n",
    "ac_baseline_nz_ccs = ac_baseline_ccs_all[ac_baseline_ccs_all != 0]\n",
    "ac_uoi_nz_ccs = ac_uoi_ccs_all[ac_uoi_ccs_all != 0]\n",
    "\n",
    "# perform KS test\n",
    "print('AC')\n",
    "print('---------------')\n",
    "print('KS 2-sample test: ', ss.ks_2samp(ac_baseline_nz_ccs, ac_uoi_nz_ccs).pvalue)"
   ]
  },
  {
   "cell_type": "code",
   "execution_count": 22,
   "metadata": {
    "code_folding": [],
    "hidden": true
   },
   "outputs": [
    {
     "name": "stdout",
     "output_type": "stream",
     "text": [
      "V1\n",
      "---------------\n",
      "KS 2-sample test:  6.013057238389484e-293\n"
     ]
    }
   ],
   "source": [
    "v1_baseline_ccs_all = np.concatenate(\n",
    "    [v1_baseline_ccs[idx].ravel()\n",
    "     for idx in range(n_v1_fits)])\n",
    "v1_uoi_ccs_all = np.concatenate(\n",
    "    [v1_uoi_ccs[idx].ravel()\n",
    "     for idx in range(n_v1_fits)])\n",
    "\n",
    "v1_baseline_nz_ccs = v1_baseline_ccs_all[v1_baseline_ccs_all != 0]\n",
    "v1_uoi_nz_ccs = v1_uoi_ccs_all[v1_uoi_ccs_all != 0]\n",
    "\n",
    "# perform KS test\n",
    "print('V1')\n",
    "print('---------------')\n",
    "print('KS 2-sample test: ', ss.ks_2samp(v1_baseline_nz_ccs, v1_uoi_nz_ccs).pvalue)"
   ]
  },
  {
   "cell_type": "code",
   "execution_count": 23,
   "metadata": {
    "hidden": true
   },
   "outputs": [
    {
     "name": "stdout",
     "output_type": "stream",
     "text": [
      "M1\n",
      "---------------\n",
      "KS 2-sample test:  0.0\n"
     ]
    }
   ],
   "source": [
    "m1_baseline_ccs_all = np.concatenate(\n",
    "    [m1_baseline_ccs[idx].ravel()\n",
    "     for idx in range(n_v1_fits)])\n",
    "m1_uoi_ccs_all = np.concatenate(\n",
    "    [m1_uoi_ccs[idx].ravel()\n",
    "     for idx in range(n_v1_fits)])\n",
    "\n",
    "m1_baseline_nz_ccs = m1_baseline_ccs_all[m1_baseline_ccs_all != 0]\n",
    "m1_uoi_nz_ccs = m1_uoi_ccs_all[m1_uoi_ccs_all != 0]\n",
    "\n",
    "# perform KS test\n",
    "print('M1')\n",
    "print('---------------')\n",
    "print('KS 2-sample test: ', ss.ks_2samp(m1_baseline_nz_ccs, m1_uoi_nz_ccs).pvalue)"
   ]
  }
 ],
 "metadata": {
  "kernelspec": {
   "display_name": "neuro",
   "language": "python",
   "name": "neuro"
  },
  "language_info": {
   "codemirror_mode": {
    "name": "ipython",
    "version": 3
   },
   "file_extension": ".py",
   "mimetype": "text/x-python",
   "name": "python",
   "nbconvert_exporter": "python",
   "pygments_lexer": "ipython3",
   "version": "3.7.4"
  },
  "varInspector": {
   "cols": {
    "lenName": 16,
    "lenType": 16,
    "lenVar": 40
   },
   "kernels_config": {
    "python": {
     "delete_cmd_postfix": "",
     "delete_cmd_prefix": "del ",
     "library": "var_list.py",
     "varRefreshCmd": "print(var_dic_list())"
    },
    "r": {
     "delete_cmd_postfix": ") ",
     "delete_cmd_prefix": "rm(",
     "library": "var_list.r",
     "varRefreshCmd": "cat(var_dic_list()) "
    }
   },
   "types_to_exclude": [
    "module",
    "function",
    "builtin_function_or_method",
    "instance",
    "_Feature"
   ],
   "window_display": false
  }
 },
 "nbformat": 4,
 "nbformat_minor": 2
}
