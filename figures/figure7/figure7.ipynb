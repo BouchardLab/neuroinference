{
 "cells": [
  {
   "cell_type": "markdown",
   "metadata": {
    "heading_collapsed": true
   },
   "source": [
    "# Figure 7: Decoding models of behavioral condition from basal ganglia"
   ]
  },
  {
   "cell_type": "code",
   "execution_count": 10,
   "metadata": {
    "hidden": true
   },
   "outputs": [],
   "source": [
    "import h5py\n",
    "import matplotlib.pyplot as plt\n",
    "import numpy as np\n",
    "import os\n",
    "\n",
    "from scipy.stats import iqr"
   ]
  },
  {
   "cell_type": "markdown",
   "metadata": {
    "heading_collapsed": true,
    "hidden": true
   },
   "source": [
    "## Read in model fits"
   ]
  },
  {
   "cell_type": "code",
   "execution_count": 3,
   "metadata": {
    "hidden": true
   },
   "outputs": [],
   "source": [
    "results_path = os.path.join(os.environ['HOME'], 'fits/uoineuro/classification/lr_bg.h5')\n",
    "results = h5py.File(results_path, 'r')"
   ]
  },
  {
   "cell_type": "code",
   "execution_count": 4,
   "metadata": {
    "hidden": true
   },
   "outputs": [],
   "source": [
    "baseline_gp = results['logistic_0.0_0.1_gp']\n",
    "baseline_snr = results['logistic_0.0_0.1_snr']\n",
    "uoi_gp = results['uoi_logistic_bic_0.0_0.1_gp']\n",
    "uoi_snr = results['uoi_logistic_bic_0.0_0.1_snr']"
   ]
  },
  {
   "cell_type": "code",
   "execution_count": 5,
   "metadata": {
    "hidden": true
   },
   "outputs": [],
   "source": [
    "baselines = [baseline_gp, baseline_snr]\n",
    "uois = [uoi_gp, uoi_snr]"
   ]
  },
  {
   "cell_type": "code",
   "execution_count": 6,
   "metadata": {
    "hidden": true
   },
   "outputs": [],
   "source": [
    "# extract coefficients\n",
    "baseline_coefs = [baseline['coefs'][:] for baseline in baselines]\n",
    "uoi_coefs = [uoi['coefs'][:] for uoi in uois]"
   ]
  },
  {
   "cell_type": "code",
   "execution_count": 7,
   "metadata": {
    "hidden": true
   },
   "outputs": [],
   "source": [
    "# extract selection ratios\n",
    "baseline_srs = [np.count_nonzero(baseline_coef, axis=1) / baseline_coef.shape[1]\n",
    "                for baseline_coef in baseline_coefs]\n",
    "uoi_srs = [np.count_nonzero(uoi_coef, axis=1) / uoi_coef.shape[1]\n",
    "           for uoi_coef in uoi_coefs]"
   ]
  },
  {
   "cell_type": "code",
   "execution_count": 8,
   "metadata": {
    "hidden": true
   },
   "outputs": [],
   "source": [
    "# extract accuracy\n",
    "baseline_acc = [baseline['scores'][:] for baseline in baselines]\n",
    "uoi_acc = [uoi['scores'][:] for uoi in uois]"
   ]
  },
  {
   "cell_type": "markdown",
   "metadata": {
    "heading_collapsed": true,
    "hidden": true
   },
   "source": [
    "## Figure 7a-b: Performance measures of linear decoders"
   ]
  },
  {
   "cell_type": "code",
   "execution_count": 14,
   "metadata": {
    "hidden": true
   },
   "outputs": [
    {
     "data": {
      "image/png": "[encoded data removed]",
      "text/plain": [
       "<Figure size 864x360 with 2 Axes>"
      ]
     },
     "metadata": {
      "needs_background": "light"
     },
     "output_type": "display_data"
    }
   ],
   "source": [
    "# plot the results\n",
    "fig, axes = plt.subplots(1, 2, figsize=(12, 5))\n",
    "\n",
    "# selection ratio plot\n",
    "axes[0].bar(\n",
    "    x=[0, 1, 2, 3],\n",
    "    height=[np.median(baseline_srs[0]),\n",
    "            np.median(uoi_srs[0]),\n",
    "            np.median(baseline_srs[1]),\n",
    "            np.median(uoi_srs[1])],\n",
    "    width=0.8,\n",
    "    color=['gray', 'red', 'gray', 'red'],\n",
    "    yerr=[iqr(baseline_srs[0]) / 2.,\n",
    "          iqr(uoi_srs[0]) / 2.,\n",
    "          iqr(baseline_srs[1]) / 2.,\n",
    "          iqr(uoi_srs[1]) / 2.],\n",
    "    error_kw={'capsize': 5, 'elinewidth': 2, 'capthick': 2})\n",
    "\n",
    "# accuracy plot\n",
    "axes[1].bar(\n",
    "    x=[0, 1, 2, 3],\n",
    "    height=[np.median(baseline_acc[0]),\n",
    "            np.median(uoi_acc[0]),\n",
    "            np.median(baseline_acc[1]),\n",
    "            np.median(uoi_acc[1])],\n",
    "    width=0.8,\n",
    "    color=['gray', 'red', 'gray', 'red'],\n",
    "    yerr=[iqr(baseline_acc[0]) / 2.,\n",
    "          iqr(uoi_acc[0]) / 2.,\n",
    "          iqr(baseline_acc[1]) / 2.,\n",
    "          iqr(uoi_acc[1]) / 2.],\n",
    "    error_kw={'capsize': 5, 'elinewidth': 2, 'capthick': 2})\n",
    "\n",
    "# chance\n",
    "axes[1].axhline(y=106./186, xmin=0, xmax=1,\n",
    "                linestyle='--',\n",
    "                linewidth=2,\n",
    "                color='black')\n",
    "\n",
    "# plot labels\n",
    "axes[0].set_ylabel(r'\\textbf{Selection Ratio}', fontsize=20)\n",
    "axes[1].set_ylabel(r'\\textbf{Accuracy (\\% correct)}', fontsize=20)\n",
    "\n",
    "# cosmetic + legend\n",
    "for ax in axes:\n",
    "    # limits\n",
    "    ax.set_ylim([0, 1.05])\n",
    "    \n",
    "    # ticks\n",
    "    ax.set_xticks([0.5, 2.5])\n",
    "    ax.set_xticklabels([r'\\textbf{GPe}', r'\\textbf{SNr}'])\n",
    "    ax.set_yticks([0, 0.25, 0.50, 0.75, 1.])\n",
    "    ax.tick_params(axis='x', labelsize=25)\n",
    "    ax.tick_params(axis='y', labelsize=18)\n",
    "\n",
    "    \n",
    "    # legend labels\n",
    "    ax.plot([], color='gray', label=r'\\textbf{Baseline}')\n",
    "    ax.plot([], color='r', label=r'\\textbf{UoI}')\n",
    "    lgd = ax.legend(loc='best', prop={'size': 18},\n",
    "                    handletextpad=0.7,\n",
    "                    handlelength=1.3)\n",
    "    for line in lgd.get_lines():\n",
    "        line.set_linewidth(6.0)\n",
    "\n",
    "    # gridlines\n",
    "    ax.grid('on', axis='y')\n",
    "    ax.set_axisbelow(True)\n",
    "    \n",
    "axes[1].set_yticklabels(['0', '25', '50', '75', '100'])\n",
    "\n",
    "plt.subplots_adjust(wspace=0.3)\n",
    "plt.savefig('bg_metrics.pdf', bbox_inches='tight')"
   ]
  },
  {
   "cell_type": "markdown",
   "metadata": {
    "heading_collapsed": true,
    "hidden": true
   },
   "source": [
    "## Figure 7c: Decoder coefficient values"
   ]
  },
  {
   "cell_type": "code",
   "execution_count": 17,
   "metadata": {
    "hidden": true
   },
   "outputs": [
    {
     "data": {
      "image/png": "[encoded data removed]",
      "text/plain": [
       "<Figure size 432x360 with 2 Axes>"
      ]
     },
     "metadata": {
      "needs_background": "light"
     },
     "output_type": "display_data"
    }
   ],
   "source": [
    "fig, axes = plt.subplots(1, 2, figsize=(6, 5))\n",
    "\n",
    "# calculate median coefficient values\n",
    "baseline_gp_ccs = np.median(baseline_coefs[0], axis=0)\n",
    "uoi_gp_ccs = np.median(uoi_coefs[0], axis=0)\n",
    "baseline_snr_ccs = np.median(baseline_coefs[1], axis=0)\n",
    "uoi_snr_ccs = np.median(uoi_coefs[1], axis=0)\n",
    "\n",
    "# plot coefficient values in GPe\n",
    "for baseline_gp_cc, uoi_gp_cc in zip(baseline_gp_ccs, uoi_gp_ccs):\n",
    "    # plot lines\n",
    "    axes[0].plot(\n",
    "        [0, 1], [baseline_gp_cc, uoi_gp_cc],\n",
    "        color='k')\n",
    "    # plot scatter points\n",
    "    axes[0].scatter(\n",
    "        0, baseline_gp_cc,\n",
    "        color='gray',\n",
    "        edgecolor='white',\n",
    "        alpha=1.0,\n",
    "        s=70,\n",
    "        zorder=1000)\n",
    "    axes[0].scatter(\n",
    "        1, uoi_gp_cc,\n",
    "        color='red',\n",
    "        edgecolor='white',\n",
    "        alpha=1.0,\n",
    "        s=70,\n",
    "        zorder=1000)\n",
    "    \n",
    "# plot coefficient values in SNr\n",
    "for baseline_snr_cc, uoi_snr_cc in zip(baseline_snr_ccs, uoi_snr_ccs):\n",
    "    # plot lines\n",
    "    axes[1].plot(\n",
    "        [0, 1], [baseline_snr_cc, uoi_snr_cc],\n",
    "        color='k')\n",
    "    # plot scatter points\n",
    "    axes[1].scatter(\n",
    "        0, baseline_snr_cc,\n",
    "        color='gray',\n",
    "        edgecolor='white',\n",
    "        alpha=1.0,\n",
    "        s=70,\n",
    "        zorder=1000)\n",
    "    axes[1].scatter(\n",
    "        1, uoi_snr_cc,\n",
    "        color='red',\n",
    "        edgecolor='white',\n",
    "        alpha=1.0,\n",
    "        s=70,\n",
    "        zorder=1000)\n",
    "\n",
    "\n",
    "for ax in axes:\n",
    "    ax.set_xlim([-0.40, 1.40])\n",
    "    ax.set_xticks([0, 1])\n",
    "    ax.set_xticklabels([r'\\textbf{Baseline}', r'\\textbf{UoI}'])\n",
    "    ax.tick_params(labelsize=18)\n",
    "    ax.set_ylabel(r'\\textbf{Coefficient Value}', fontsize=18)\n",
    "    \n",
    "axes[0].set_ylim([-1.25, 0.25])\n",
    "axes[0].set_yticks([-1, -0.5, 0, 0.5])\n",
    "\n",
    "axes[1].set_ylim([-4.5, 1.])\n",
    "axes[0].set_title(r'\\textbf{GPe}', fontsize=24)\n",
    "axes[1].set_title(r'\\textbf{SNr}', fontsize=24)\n",
    "\n",
    "for ax in axes:\n",
    "    ax.grid('on', axis='y')\n",
    "    \n",
    "plt.subplots_adjust(wspace=0.45)\n",
    "plt.savefig('bg_coefficient_lineplot.pdf', bbox_inches='tight')"
   ]
  }
 ],
 "metadata": {
  "kernelspec": {
   "display_name": "neuro",
   "language": "python",
   "name": "neuro"
  },
  "language_info": {
   "codemirror_mode": {
    "name": "ipython",
    "version": 3
   },
   "file_extension": ".py",
   "mimetype": "text/x-python",
   "name": "python",
   "nbconvert_exporter": "python",
   "pygments_lexer": "ipython3",
   "version": "3.7.4"
  },
  "varInspector": {
   "cols": {
    "lenName": 16,
    "lenType": 16,
    "lenVar": 40
   },
   "kernels_config": {
    "python": {
     "delete_cmd_postfix": "",
     "delete_cmd_prefix": "del ",
     "library": "var_list.py",
     "varRefreshCmd": "print(var_dic_list())"
    },
    "r": {
     "delete_cmd_postfix": ") ",
     "delete_cmd_prefix": "rm(",
     "library": "var_list.r",
     "varRefreshCmd": "cat(var_dic_list()) "
    }
   },
   "types_to_exclude": [
    "module",
    "function",
    "builtin_function_or_method",
    "instance",
    "_Feature"
   ],
   "window_display": false
  }
 },
 "nbformat": 4,
 "nbformat_minor": 4
}
