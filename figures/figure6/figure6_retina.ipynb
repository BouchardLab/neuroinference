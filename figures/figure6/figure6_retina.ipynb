{
 "cells": [
  {
   "cell_type": "markdown",
   "metadata": {
    "heading_collapsed": true
   },
   "source": [
    "# Figure 6a-e: Encoding models for retinal ganglion cell recordings"
   ]
  },
  {
   "cell_type": "code",
   "execution_count": 1,
   "metadata": {
    "hidden": true
   },
   "outputs": [],
   "source": [
    "import h5py\n",
    "import matplotlib\n",
    "import matplotlib.pyplot as plt\n",
    "import numpy as np\n",
    "import os\n",
    "\n",
    "from neuropacks import RET1\n",
    "from sklearn.gaussian_process import GaussianProcessRegressor\n",
    "from sklearn.gaussian_process.kernels import RBF, WhiteKernel\n",
    "%matplotlib inline"
   ]
  },
  {
   "cell_type": "code",
   "execution_count": 2,
   "metadata": {
    "hidden": true
   },
   "outputs": [],
   "source": [
    "data_path = os.path.join(os.environ['HOME'], 'fits/uoineuro/tuning/ret1')"
   ]
  },
  {
   "cell_type": "markdown",
   "metadata": {
    "heading_collapsed": true,
    "hidden": true
   },
   "source": [
    "## Figure 6a: Example fitted STRFs from retina"
   ]
  },
  {
   "cell_type": "code",
   "execution_count": 3,
   "metadata": {
    "hidden": true
   },
   "outputs": [],
   "source": [
    "# read in example retinal STRF\n",
    "ret1_path = os.path.join(data_path, '20080628_R4.h5')\n",
    "results = h5py.File(ret1_path, 'r')"
   ]
  },
  {
   "cell_type": "code",
   "execution_count": 4,
   "metadata": {
    "hidden": true
   },
   "outputs": [],
   "source": [
    "cell = 2\n",
    "recording = 0\n",
    "cell_recording = results['cell' + str(cell) + '_recording' + str(recording)]"
   ]
  },
  {
   "cell_type": "code",
   "execution_count": 5,
   "metadata": {
    "hidden": true
   },
   "outputs": [
    {
     "data": {
      "image/png": "[encoded data removed]",
      "text/plain": [
       "<Figure size 432x324 with 3 Axes>"
      ]
     },
     "metadata": {
      "needs_background": "light"
     },
     "output_type": "display_data"
    }
   ],
   "source": [
    "fig, axes = plt.subplots(1, 2, figsize=(6, 4.5))\n",
    "\n",
    "baseline_strf = np.flip(cell_recording['lasso/strfs'][:].T,\n",
    "                     axis=(0, 1))\n",
    "uoi_strf = np.flip(cell_recording['uoi_lasso_bic/strfs'][:].T,\n",
    "                   axis=(0, 1))\n",
    "\n",
    "# plot baseline and uoi strfs\n",
    "axes[0].imshow(\n",
    "    baseline_strf,\n",
    "    cmap=plt.get_cmap('RdGy'),\n",
    "    vmin=-1e-06, vmax=1e-06)\n",
    "img = axes[1].imshow(\n",
    "    uoi_strf,\n",
    "    cmap=plt.get_cmap('RdGy'),\n",
    "    vmin=-1e-06, vmax=1e-06)\n",
    "\n",
    "# create colorbar\n",
    "ax_bottom_right_x, ax_bottom_right_y = \\\n",
    "    fig.transFigure.inverted().transform(axes[1].transAxes.transform([1.0, 0.]))\n",
    "ax_top_right_x, ax_top_right_y = \\\n",
    "    fig.transFigure.inverted().transform(axes[1].transAxes.transform([1.0, 1.0]))\n",
    "cax = fig.add_axes([ax_bottom_right_x + 0.025,\n",
    "                    ax_bottom_right_y,\n",
    "                    0.05,\n",
    "                    ax_top_right_y - ax_bottom_right_y])\n",
    "cb = fig.colorbar(img, cax)\n",
    "cb.set_ticks([-1e-06, 0, 1e-06])\n",
    "cb.set_ticklabels([r'\\textbf{min}', 0, r'\\textbf{max}'])\n",
    "cb.ax.set_ylabel(r'$\\beta$',\n",
    "                 rotation=0,\n",
    "                 labelpad=-10,\n",
    "                 horizontalalignment='left',\n",
    "                 verticalalignment='center')\n",
    "cb.ax.tick_params(labelsize=16)\n",
    "\n",
    "# titles\n",
    "axes[0].set_title(r'\\textbf{Baseline}', fontsize=18)\n",
    "axes[1].set_title(r'\\textbf{UoI}', fontsize=18)\n",
    "axes[0].set_ylabel(r'\\textbf{Positions (mm)}', fontsize=16)\n",
    "\n",
    "# set y ticks\n",
    "axes[0].set_yticks([320 * (5.312 - 3) / (5.312 - 0.0083),\n",
    "                    320 * (5.312 - 2.5) / (5.312 - 0.0083),\n",
    "                    320 * (5.312 - 2) / (5.312 - 0.0083)])\n",
    "axes[0].set_yticklabels([2.0, 2.5, 3.0])\n",
    "axes[1].set_yticks([])\n",
    "\n",
    "# stylistic plot changes\n",
    "for ax in axes:\n",
    "    ax.set_aspect('auto')\n",
    "    ax.set_xticks([0, 24])\n",
    "    ax.set_xticklabels(['-0.4', '0'])\n",
    "    ax.set_ylim([125, 225])\n",
    "    ax.tick_params(labelsize=15)\n",
    "    ax.set_xlabel(r'\\textbf{Time (s)}', fontsize=16, labelpad=-3)\n",
    "    \n",
    "plt.savefig('example_ret_strf.pdf', bbox_inches='tight')"
   ]
  },
  {
   "cell_type": "code",
   "execution_count": 6,
   "metadata": {
    "hidden": true
   },
   "outputs": [],
   "source": [
    "results.close()"
   ]
  },
  {
   "cell_type": "markdown",
   "metadata": {
    "heading_collapsed": true,
    "hidden": true
   },
   "source": [
    "## Figure 6b-e: Comparison of STRF performances and coefficients"
   ]
  },
  {
   "cell_type": "code",
   "execution_count": 7,
   "metadata": {
    "hidden": true
   },
   "outputs": [],
   "source": [
    "retinas = {\n",
    "    '20080516_R1': ['cell0_recording0',\n",
    "                    'cell0_recording2',\n",
    "                    'cell2_recording0',\n",
    "                    'cell3_recording0',\n",
    "                    'cell4_recording0',\n",
    "                    'cell5_recording0'],\n",
    "    '20080628_R4': ['cell0_recording0',\n",
    "                    'cell2_recording0',\n",
    "                    'cell3_recording0',\n",
    "                    'cell5_recording0',\n",
    "                    'cell6_recording0',\n",
    "                    'cell7_recording0',\n",
    "                    'cell9_recording0',\n",
    "                    'cell12_recording0',\n",
    "                    'cell13_recording0'],\n",
    "    '20080628_R6': ['cell1_recording0',\n",
    "                    'cell2_recording0',\n",
    "                    'cell4_recording0',\n",
    "                    'cell5_recording0',\n",
    "                    'cell6_recording0',\n",
    "                    'cell7_recording0',\n",
    "                    'cell8_recording0',\n",
    "                    'cell10_recording0']\n",
    "}"
   ]
  },
  {
   "cell_type": "code",
   "execution_count": 8,
   "metadata": {
    "hidden": true
   },
   "outputs": [],
   "source": [
    "baseline_srs = []\n",
    "uoi_srs = []\n",
    "baseline_r2s = []\n",
    "uoi_r2s = []\n",
    "baseline_bics = []\n",
    "uoi_bics = []\n",
    "baseline_coefs = []\n",
    "uoi_coefs = []\n",
    "\n",
    "# iterate over retina files\n",
    "for retina, recordings in retinas.items():\n",
    "    results = h5py.File(os.path.join(data_path, retina + '.h5'), 'r')\n",
    "    # iterate over recordings\n",
    "    for cell_recording in recordings:\n",
    "        # calculate selection ratios\n",
    "        baseline_strf = results[cell_recording]['lasso/strfs'][:]\n",
    "        baseline_coefs.append(baseline_strf.ravel())\n",
    "        baseline_srs.append(np.count_nonzero(baseline_strf) / baseline_strf.size)\n",
    "        uoi_strf = results[cell_recording]['uoi_lasso_bic/strfs'][:]\n",
    "        uoi_coefs.append(uoi_strf.ravel())\n",
    "        uoi_srs.append(np.count_nonzero(uoi_strf) / uoi_strf.size)\n",
    "\n",
    "        # extract predictive performance\n",
    "        baseline_r2s.append(results[cell_recording]['lasso/r2s_test'][:].max())\n",
    "        uoi_r2s.append(results[cell_recording]['uoi_lasso_bic/r2s_test'][:].max())\n",
    "\n",
    "        # extract model parsimony\n",
    "        baseline_bics.append(results[cell_recording]['lasso/bics'][:].min())\n",
    "        uoi_bics.append(results[cell_recording]['uoi_lasso_bic/bics'][:].min())\n",
    "\n",
    "    results.close()"
   ]
  },
  {
   "cell_type": "code",
   "execution_count": 9,
   "metadata": {
    "hidden": true
   },
   "outputs": [],
   "source": [
    "baseline_srs = np.array(baseline_srs)\n",
    "uoi_srs = np.array(uoi_srs)\n",
    "baseline_r2s = np.array(baseline_r2s)\n",
    "uoi_r2s = np.array(uoi_r2s)\n",
    "baseline_bics = np.array(baseline_bics)\n",
    "uoi_bics = np.array(uoi_bics)\n",
    "baseline_coefs = np.concatenate(baseline_coefs)\n",
    "uoi_coefs = np.concatenate(uoi_coefs)"
   ]
  },
  {
   "cell_type": "code",
   "execution_count": 10,
   "metadata": {
    "hidden": true
   },
   "outputs": [
    {
     "data": {
      "image/png": "[encoded data removed]",
      "text/plain": [
       "<Figure size 432x432 with 6 Axes>"
      ]
     },
     "metadata": {
      "needs_background": "light"
     },
     "output_type": "display_data"
    }
   ],
   "source": [
    "# figure and subplot dimensions\n",
    "figsize = 6 # inches\n",
    "subplotsize = 2 # inches\n",
    "v_spacing = 1. # inches\n",
    "h_spacing = 1.5\n",
    "\n",
    "# create figure and subplots\n",
    "fig = plt.figure(figsize=(6, 6))\n",
    "# selection ratios\n",
    "srs = fig.add_axes([0, (subplotsize + v_spacing) / figsize,\n",
    "                    subplotsize / figsize, subplotsize / figsize])\n",
    "# predictive performance\n",
    "pp = fig.add_axes([(subplotsize + h_spacing) / figsize, (subplotsize + v_spacing) / figsize,\n",
    "                   subplotsize / figsize, subplotsize / figsize])\n",
    "# bayesian information criterion\n",
    "bics = fig.add_axes([0, 0,\n",
    "                     subplotsize / figsize, subplotsize / figsize])\n",
    "\n",
    "# split plot requires three separate axes\n",
    "lower_size = 1.30 # inches\n",
    "gap_spacing = 0.1 # inches\n",
    "upper_size = subplotsize - lower_size - gap_spacing\n",
    "coefs_lower = fig.add_axes([(subplotsize + h_spacing) / figsize, 0,\n",
    "                            subplotsize / figsize, lower_size / figsize])\n",
    "coefs_upper = fig.add_axes([(subplotsize + h_spacing) / figsize,  (lower_size + gap_spacing) / figsize,\n",
    "                            subplotsize / figsize, upper_size / figsize])\n",
    "in_between = fig.add_axes([(subplotsize + h_spacing) / figsize, lower_size / figsize,\n",
    "                           subplotsize / figsize, gap_spacing / figsize])\n",
    "# selection ratios\n",
    "srs.scatter(\n",
    "    baseline_srs, uoi_srs,\n",
    "    s=50,\n",
    "    alpha=0.6,\n",
    "    color='k',\n",
    "    edgecolor='white')\n",
    "# stylize selection ratio plot\n",
    "srs.set_xlim([0, 0.2])\n",
    "srs.set_xticks([0, 0.05,  0.10, 0.15, 0.20])\n",
    "srs.set_xticklabels(['0', '', '0.1', '', '0.2'])\n",
    "\n",
    "# plot r2 values\n",
    "pp.scatter(baseline_r2s, uoi_r2s,\n",
    "                s=50,\n",
    "                alpha=0.6,\n",
    "                color='k',\n",
    "                edgecolor='white')\n",
    "pp.set_xlim([0, 0.1])\n",
    "pp.set_xticks([0, 0.025, 0.05, 0.075, 0.1])\n",
    "pp.set_xticklabels(['0', '', '0.05', '', '0.1'])\n",
    "\n",
    "# top row: make scatter plots uniform\n",
    "for ax in [srs, pp]:\n",
    "    ax.set_ylim(ax.get_xlim())\n",
    "    ax.set_yticks(ax.get_xticks())\n",
    "    ax.set_yticklabels(ax.get_xticklabels())\n",
    "    ax.plot(\n",
    "        ax.get_xlim(), ax.get_ylim(),\n",
    "        color='gray',\n",
    "        linewidth=1.2,\n",
    "        zorder=-1)\n",
    "\n",
    "# histogram of BIC difference distributions\n",
    "bics.hist(np.array(baseline_bics) - np.array(uoi_bics),\n",
    "             color='black')\n",
    "bics.set_xlim([-1000, 1000])\n",
    "bics.set_xticks([-1000, -500, 0, 500, 1000])\n",
    "bics.set_xticklabels(['$-1000$', '', 0, '', '$1000$'])\n",
    "bics.axvline(0, color='gray', linestyle='--')\n",
    "\n",
    "# plot coefficient distribution\n",
    "bins = np.linspace(-2e-6, 2e-6, 41)\n",
    "coefs_lower.hist(uoi_coefs[uoi_coefs != 0],\n",
    "                 bins=bins,\n",
    "                 alpha=0.75,\n",
    "                 color='red')\n",
    "coefs_lower.hist(baseline_coefs[baseline_coefs != 0],\n",
    "                 bins=bins,\n",
    "                 alpha=0.5,\n",
    "                 color='gray')\n",
    "coefs_lower.bar(x=0,\n",
    "                height=6000,\n",
    "                width=1e-7,\n",
    "                color='red')\n",
    "coefs_lower.bar(x=0,\n",
    "                height=6000,\n",
    "                width=1e-7,\n",
    "                alpha=0.95,\n",
    "                color='gray')\n",
    "coefs_lower.set_yscale('log')\n",
    "coefs_lower.set_xlim([-2e-6, 2e-6])\n",
    "coefs_lower.set_xticks([-2e-6, 0, 2e-6])\n",
    "coefs_lower.set_xticklabels(['-2e-6', '0', '2e-6'])\n",
    "coefs_lower.set_yscale('log')\n",
    "coefs_lower.set_ylim([1, 6000])\n",
    "coefs_lower.set_yticks([1, 10, 100, 1000])\n",
    "coefs_lower.spines['top'].set_visible(False)\n",
    "# split graph - upper portion\n",
    "lower_y = 1.95e5\n",
    "upper_y = 2.2e5\n",
    "n_zero_baseline = baseline_coefs[baseline_coefs == 0].size \n",
    "n_zero_uoi = uoi_coefs[uoi_coefs == 0].size\n",
    "coefs_upper.bar(x=0,\n",
    "        height=(n_zero_uoi - lower_y) / (upper_y - lower_y),\n",
    "        width=1e-7,\n",
    "        color='red')\n",
    "coefs_upper.bar(x=0,\n",
    "        height=(n_zero_baseline - lower_y) / (upper_y - lower_y),\n",
    "        width=1e-7,\n",
    "        alpha=0.95,\n",
    "        color='gray')\n",
    "coefs_upper.set_xlim(coefs_lower.get_xlim())\n",
    "coefs_upper.set_xticks([])\n",
    "coefs_upper.set_ylim([0, 1])\n",
    "coefs_upper.set_yticks([(2e5 - lower_y) / (upper_y - lower_y),\n",
    "                        (2.1e5 - lower_y) / (upper_y - lower_y),\n",
    "                        (2.2e5 - lower_y) / (upper_y - lower_y)])\n",
    "coefs_upper.set_yticklabels(['2.0e5', '2.1e5', '2.2e5'])\n",
    "coefs_upper.spines['bottom'].set_visible(False)\n",
    "\n",
    "# make diagonal lines for split bar\n",
    "d = .5  # how big to make the diagonal lines in axes coordinates\n",
    "# arguments to pass to plot, just so we don't keep repeating them\n",
    "kwargs = dict(transform=in_between.transAxes, color='k', clip_on=False)\n",
    "in_between.set_xlim([0, 1])\n",
    "in_between.set_ylim([0, 1])\n",
    "# handle aspect ratio to make lines diagonal\n",
    "ratio = subplotsize / gap_spacing\n",
    "in_between.plot((-d / ratio, d / ratio), (-d, d), **kwargs)        # top-left diagonal\n",
    "in_between.plot((1 - d / ratio, 1 + d / ratio), (-d, +d), **kwargs)  # top-right diagonal\n",
    "in_between.plot((-d / ratio, d / ratio), (1 - d, 1 + d), **kwargs)  # bottom-left diagonal\n",
    "in_between.plot((1 - d / ratio, 1 + d / ratio), (1 - d, 1 + d), **kwargs)  # bottom-right diagonal\n",
    "in_between.axis('off')\n",
    "\n",
    "# stylize plots\n",
    "for ax in [srs, pp, bics, coefs_lower, coefs_upper]:\n",
    "    ax.grid('on')\n",
    "    ax.set_axisbelow(True)\n",
    "    ax.tick_params(labelsize=13)\n",
    "\n",
    "# labels\n",
    "srs.set_xlabel(r'\\textbf{Baseline}', fontsize=16)\n",
    "srs.set_ylabel(r'\\textbf{UoI}', fontsize=16)\n",
    "pp.set_xlabel(r'\\textbf{Baseline}', fontsize=16)\n",
    "pp.set_ylabel(r'\\textbf{UoI}', fontsize=16)\n",
    "bics.set_xlabel(\n",
    "    r'$\\textbf{BIC}_{\\normalsize\\textbf{Baseline}} - \\textbf{BIC}_{\\normalsize\\textbf{UoI}}$',\n",
    "    fontsize=16,\n",
    "    labelpad=10)\n",
    "bics.set_ylabel(\n",
    "    r'\\textbf{Frequency}',\n",
    "    fontsize=16)\n",
    "coefs_lower.set_xlabel(\n",
    "    r'\\textbf{Coefficient Value}',\n",
    "    labelpad=10,\n",
    "    fontsize=16)\n",
    "fig.text(\n",
    "    x=(subplotsize + 0.55 * h_spacing) / figsize,\n",
    "    y=0.5 * subplotsize / figsize,\n",
    "    s=r'\\textbf{Frequency}',\n",
    "    horizontalalignment='center',\n",
    "    verticalalignment='center',\n",
    "    rotation=90,\n",
    "    fontsize=16)\n",
    "\n",
    "# titles\n",
    "srs.set_title(r'\\textbf{Selection Ratio}', fontsize=16)\n",
    "pp.set_title(r'$\\mathbf{R^2}$', fontsize=16)\n",
    "\n",
    "plt.savefig('ret1_tuning_metrics.pdf', bbox_inches='tight')"
   ]
  }
 ],
 "metadata": {
  "kernelspec": {
   "display_name": "neuro",
   "language": "python",
   "name": "neuro"
  },
  "language_info": {
   "codemirror_mode": {
    "name": "ipython",
    "version": 3
   },
   "file_extension": ".py",
   "mimetype": "text/x-python",
   "name": "python",
   "nbconvert_exporter": "python",
   "pygments_lexer": "ipython3",
   "version": "3.7.4"
  },
  "varInspector": {
   "cols": {
    "lenName": 16,
    "lenType": 16,
    "lenVar": 40
   },
   "kernels_config": {
    "python": {
     "delete_cmd_postfix": "",
     "delete_cmd_prefix": "del ",
     "library": "var_list.py",
     "varRefreshCmd": "print(var_dic_list())"
    },
    "r": {
     "delete_cmd_postfix": ") ",
     "delete_cmd_prefix": "rm(",
     "library": "var_list.r",
     "varRefreshCmd": "cat(var_dic_list()) "
    }
   },
   "types_to_exclude": [
    "module",
    "function",
    "builtin_function_or_method",
    "instance",
    "_Feature"
   ],
   "window_display": false
  }
 },
 "nbformat": 4,
 "nbformat_minor": 2
}
