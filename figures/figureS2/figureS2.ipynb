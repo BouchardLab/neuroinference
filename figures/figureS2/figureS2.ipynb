{
 "cells": [
  {
   "cell_type": "markdown",
   "metadata": {
    "heading_collapsed": true
   },
   "source": [
    "# Figure S1: Evaluating inference procedures across model type (linear and Poisson)"
   ]
  },
  {
   "cell_type": "code",
   "execution_count": 1,
   "metadata": {
    "hidden": true
   },
   "outputs": [],
   "source": [
    "import h5py\n",
    "import matplotlib.pyplot as plt\n",
    "import networkx as nx\n",
    "import numpy as np\n",
    "import os\n",
    "\n",
    "from networkx.algorithms import community\n",
    "from scipy.stats import wilcoxon\n",
    "from uoineuro.coupling_utils import (read_coupling_coefs,\n",
    "                                     selection_profiles_by_chance,\n",
    "                                     create_directed_graph)\n",
    "from uoineuro.utils import tighten_scatter_plot\n",
    "\n",
    "%matplotlib inline"
   ]
  },
  {
   "cell_type": "markdown",
   "metadata": {
    "heading_collapsed": true,
    "hidden": true
   },
   "source": [
    "## Read in fitted models"
   ]
  },
  {
   "cell_type": "code",
   "execution_count": 2,
   "metadata": {
    "hidden": true
   },
   "outputs": [],
   "source": [
    "base_path = os.path.join(os.environ['HOME'], 'fits/uoineuro/coupling')"
   ]
  },
  {
   "cell_type": "code",
   "execution_count": 3,
   "metadata": {
    "hidden": true
   },
   "outputs": [],
   "source": [
    "# consolidate v1 results\n",
    "v1_results_paths = [os.path.join(base_path, 'pvc11/pvc11_monkey1_coupling.h5'),\n",
    "                    os.path.join(base_path, 'pvc11/pvc11_monkey2_coupling.h5'),\n",
    "                    os.path.join(base_path, 'pvc11/pvc11_monkey3_coupling.h5')]\n",
    "n_v1_fits = len(v1_results_paths)\n",
    "# read in v1 coupling coefficients\n",
    "v1_baseline_linear_ccs, v1_uoi_linear_ccs, v1_baseline_poisson_ccs, v1_uoi_poisson_ccs = \\\n",
    "    read_coupling_coefs(v1_results_paths)"
   ]
  },
  {
   "cell_type": "code",
   "execution_count": 4,
   "metadata": {
    "hidden": true
   },
   "outputs": [],
   "source": [
    "# consolidate m1 results\n",
    "m1_results_paths = [os.path.join(base_path, 'nhp/nhp_indy_20160407_02_coupling.h5'),\n",
    "                    os.path.join(base_path, 'nhp/nhp_indy_20160411_01_coupling.h5'),\n",
    "                    os.path.join(base_path, 'nhp/nhp_indy_20160411_02_coupling.h5')]\n",
    "n_m1_fits = len(m1_results_paths)\n",
    "# read in m1 coupling coefficients\n",
    "m1_baseline_linear_ccs, m1_uoi_linear_ccs, m1_baseline_poisson_ccs, m1_uoi_poisson_ccs = \\\n",
    "    read_coupling_coefs(m1_results_paths)"
   ]
  },
  {
   "cell_type": "code",
   "execution_count": 5,
   "metadata": {
    "hidden": true
   },
   "outputs": [],
   "source": [
    "# consolidate coupling coefficients\n",
    "n_datasets = n_m1_fits + n_v1_fits\n",
    "baseline_linear_ccs = v1_baseline_linear_ccs + m1_baseline_linear_ccs\n",
    "baseline_poisson_ccs = v1_baseline_poisson_ccs + m1_baseline_poisson_ccs\n",
    "uoi_linear_ccs = v1_uoi_linear_ccs + m1_uoi_linear_ccs\n",
    "uoi_poisson_ccs = v1_uoi_poisson_ccs + m1_uoi_poisson_ccs"
   ]
  },
  {
   "cell_type": "code",
   "execution_count": 7,
   "metadata": {
    "hidden": true
   },
   "outputs": [],
   "source": [
    "# create directed graphs\n",
    "baseline_linear_graphs = [create_directed_graph(baseline_linear_ccs[idx], weighted=False)\n",
    "                          for idx in range(n_datasets)]\n",
    "baseline_poisson_graphs = [create_directed_graph(baseline_poisson_ccs[idx], weighted=False)\n",
    "                           for idx in range(n_datasets)]\n",
    "uoi_linear_graphs = [create_directed_graph(uoi_linear_ccs[idx], weighted=False)\n",
    "                     for idx in range(n_datasets)]\n",
    "uoi_poisson_graphs = [create_directed_graph(uoi_poisson_ccs[idx], weighted=False)\n",
    "                      for idx in range(n_datasets)]"
   ]
  },
  {
   "cell_type": "markdown",
   "metadata": {
    "heading_collapsed": true,
    "hidden": true
   },
   "source": [
    "## Figure S1a: Selection Profiles by Chance"
   ]
  },
  {
   "cell_type": "markdown",
   "metadata": {
    "heading_collapsed": true,
    "hidden": true
   },
   "source": [
    "### Calculate Selection Profile Matching Probability"
   ]
  },
  {
   "cell_type": "code",
   "execution_count": 7,
   "metadata": {
    "hidden": true
   },
   "outputs": [],
   "source": [
    "# baseline selection profiles by chance\n",
    "v1_baseline_sel_probs = np.concatenate([selection_profiles_by_chance(\n",
    "    v1_baseline_poisson_ccs[idx],\n",
    "    v1_baseline_linear_ccs[idx])\n",
    "    for idx in range(n_v1_fits)])\n",
    "m1_baseline_sel_probs = np.concatenate([selection_profiles_by_chance(\n",
    "    m1_baseline_poisson_ccs[idx],\n",
    "    m1_baseline_linear_ccs[idx])\n",
    "    for idx in range(n_m1_fits)])\n",
    "# uoi selection profiles by chance\n",
    "v1_uoi_sel_probs = np.concatenate([selection_profiles_by_chance(\n",
    "    v1_uoi_poisson_ccs[idx],\n",
    "    v1_uoi_linear_ccs[idx])\n",
    "    for idx in range(n_v1_fits)])\n",
    "m1_uoi_sel_probs = np.concatenate([selection_profiles_by_chance(\n",
    "    m1_uoi_poisson_ccs[idx],\n",
    "    m1_uoi_linear_ccs[idx])\n",
    "    for idx in range(n_m1_fits)])"
   ]
  },
  {
   "cell_type": "markdown",
   "metadata": {
    "heading_collapsed": true,
    "hidden": true
   },
   "source": [
    "### Report Statistics"
   ]
  },
  {
   "cell_type": "code",
   "execution_count": 8,
   "metadata": {
    "hidden": true
   },
   "outputs": [
    {
     "name": "stdout",
     "output_type": "stream",
     "text": [
      "Fraction of Statistically Significant Profiles:\n",
      "V1 Baseline: 0.732\n",
      "V1 UoI: 0.984\n",
      "M1 Baseline: 0.995\n",
      "M1 UoI: 0.995\n"
     ]
    }
   ],
   "source": [
    "pvalue = 0.001\n",
    "print('Fraction of Statistically Significant Profiles:')\n",
    "print('V1 Baseline: %0.3f' %((v1_baseline_sel_probs < pvalue).sum() / v1_baseline_sel_probs.size))\n",
    "print('V1 UoI: %0.3f' %((v1_uoi_sel_probs < pvalue).sum() / v1_uoi_sel_probs.size))\n",
    "print('M1 Baseline: %0.3f' %((m1_baseline_sel_probs < pvalue).sum() / m1_baseline_sel_probs.size))\n",
    "print('M1 UoI: %0.3f' %((m1_uoi_sel_probs < pvalue).sum() / m1_uoi_sel_probs.size))"
   ]
  },
  {
   "cell_type": "code",
   "execution_count": 9,
   "metadata": {
    "hidden": true
   },
   "outputs": [
    {
     "name": "stdout",
     "output_type": "stream",
     "text": [
      "Comparing UoI and baseline selection probabilities, V1:  5.547372379808755e-29\n",
      "Comparing UoI and baseline selection probabilities, M1:  0.9999999186530196\n"
     ]
    }
   ],
   "source": [
    "# compare uoi and baseline selection probabilities with wilcoxon test\n",
    "v1_pvalue = wilcoxon(\n",
    "    v1_uoi_sel_probs,\n",
    "    v1_baseline_sel_probs,\n",
    "    zero_method='zsplit',\n",
    "    alternative='less').pvalue\n",
    "m1_pvalue = wilcoxon(\n",
    "    m1_uoi_sel_probs,\n",
    "    m1_baseline_sel_probs,\n",
    "    zero_method='zsplit',\n",
    "    alternative='less').pvalue\n",
    "# print out statistical test p-values\n",
    "print('Comparing UoI and baseline selection probabilities, V1: ', v1_pvalue)\n",
    "print('Comparing UoI and baseline selection probabilities, M1: ', m1_pvalue)"
   ]
  },
  {
   "cell_type": "markdown",
   "metadata": {
    "heading_collapsed": true,
    "hidden": true
   },
   "source": [
    "### Plot Distribution of Selection Profile Matching Probabilities"
   ]
  },
  {
   "cell_type": "code",
   "execution_count": 10,
   "metadata": {
    "hidden": true
   },
   "outputs": [],
   "source": [
    "# for plotting, replace zero-values with something very small\n",
    "v1_baseline_sel_probs_plot = np.copy(v1_baseline_sel_probs)\n",
    "m1_baseline_sel_probs_plot = np.copy(m1_baseline_sel_probs)\n",
    "v1_uoi_sel_probs_plot = np.copy(v1_uoi_sel_probs)\n",
    "m1_uoi_sel_probs_plot = np.copy(m1_uoi_sel_probs)\n",
    "\n",
    "for sel_probs_plot in [v1_baseline_sel_probs_plot, m1_baseline_sel_probs_plot, v1_uoi_sel_probs_plot, m1_uoi_sel_probs_plot]:\n",
    "    sel_probs_plot[sel_probs_plot == 0] = 1e-20"
   ]
  },
  {
   "cell_type": "code",
   "execution_count": 11,
   "metadata": {
    "hidden": true
   },
   "outputs": [
    {
     "data": {
      "image/png": "[encoded data removed]",
      "text/plain": [
       "<Figure size 288x360 with 2 Axes>"
      ]
     },
     "metadata": {
      "needs_background": "light"
     },
     "output_type": "display_data"
    }
   ],
   "source": [
    "fig, axes = plt.subplots(2, 1, figsize=(4, 5))\n",
    "\n",
    "# plot v1 selection probabilities on top\n",
    "bins = np.linspace(-20, 0, 25)\n",
    "axes[0].hist(np.log10(v1_baseline_sel_probs_plot), bins=bins, color='gray')\n",
    "axes[0].hist(np.log10(v1_uoi_sel_probs_plot), bins=bins, color='red', alpha=0.5)\n",
    "# plot m1 selection probabilities on bottom\n",
    "bins = np.linspace(-20, 0, 25)\n",
    "axes[1].hist(np.log10(m1_baseline_sel_probs_plot), bins=bins, color='gray')\n",
    "axes[1].hist(np.log10(m1_uoi_sel_probs_plot), bins=bins, color='red', alpha=0.5)\n",
    "\n",
    "for ax in axes:\n",
    "    ax.axvline(np.log10(pvalue), color='k')\n",
    "    ax.set_xlim([-21, 0])\n",
    "    ax.set_xticks([-20, -15, -10, -5, -3, 0])\n",
    "    ax.set_xticklabels(['Inf', -15, -10, -5, -3, 0])\n",
    "    ax.set_xlabel(r'$\\textbf{log(}\\mathbf{p_{overlap}}\\textbf{)}$', fontsize=16)\n",
    "    ax.set_ylabel(r'\\textbf{Frequency}', fontsize=16)\n",
    "    ax.tick_params(labelsize=15)\n",
    "    \n",
    "axes[0].set_ylim([0, 50])\n",
    "axes[1].set_ylim([0, 250])\n",
    "\n",
    "plt.subplots_adjust(hspace=0.5, wspace=0.5)\n",
    "plt.savefig('sel_probs_by_change.pdf', bbox_inches='tight')"
   ]
  },
  {
   "cell_type": "markdown",
   "metadata": {
    "heading_collapsed": true,
    "hidden": true
   },
   "source": [
    "## Figure S1b: In-degree and Out-degree Distribution"
   ]
  },
  {
   "cell_type": "markdown",
   "metadata": {
    "hidden": true
   },
   "source": [
    "### Calculate Degree Distributions"
   ]
  },
  {
   "cell_type": "code",
   "execution_count": 8,
   "metadata": {
    "hidden": true
   },
   "outputs": [],
   "source": [
    "# baseline in-degrees\n",
    "baseline_linear_indeg = [np.array(list(dict(baseline_linear_graphs[dataset].in_degree()).values()))\n",
    "                         for dataset in range(n_datasets)]\n",
    "v1_baseline_linear_indeg = np.concatenate(baseline_linear_indeg[:n_v1_fits])\n",
    "m1_baseline_linear_indeg = np.concatenate(baseline_linear_indeg[n_m1_fits:])\n",
    "baseline_poisson_indeg = [np.array(list(dict(baseline_poisson_graphs[dataset].in_degree()).values()))\n",
    "                          for dataset in range(n_datasets)]\n",
    "v1_baseline_poisson_indeg = np.concatenate(baseline_poisson_indeg[:n_v1_fits])\n",
    "m1_baseline_poisson_indeg = np.concatenate(baseline_poisson_indeg[n_m1_fits:])\n",
    "# baseline out-degrees\n",
    "baseline_linear_outdeg = [np.array(list(dict(baseline_linear_graphs[dataset].out_degree()).values()))\n",
    "                         for dataset in range(n_datasets)]\n",
    "v1_baseline_linear_outdeg = np.concatenate(baseline_linear_outdeg[:n_v1_fits])\n",
    "m1_baseline_linear_outdeg = np.concatenate(baseline_linear_outdeg[n_m1_fits:])\n",
    "baseline_poisson_outdeg = [np.array(list(dict(baseline_poisson_graphs[dataset].out_degree()).values()))\n",
    "                          for dataset in range(n_datasets)]\n",
    "v1_baseline_poisson_outdeg = np.concatenate(baseline_poisson_outdeg[:n_v1_fits])\n",
    "m1_baseline_poisson_outdeg = np.concatenate(baseline_poisson_outdeg[n_m1_fits:])\n",
    "# uoi in-degrees\n",
    "uoi_linear_indeg = [np.array(list(dict(uoi_linear_graphs[dataset].in_degree()).values()))\n",
    "                      for dataset in range(n_datasets)]\n",
    "v1_uoi_linear_indeg = np.concatenate(uoi_linear_indeg[:n_v1_fits])\n",
    "m1_uoi_linear_indeg = np.concatenate(uoi_linear_indeg[n_m1_fits:])\n",
    "uoi_poisson_indeg = [np.array(list(dict(uoi_poisson_graphs[dataset].in_degree()).values()))\n",
    "                      for dataset in range(n_datasets)]\n",
    "v1_uoi_poisson_indeg = np.concatenate(uoi_poisson_indeg[:n_v1_fits])\n",
    "m1_uoi_poisson_indeg = np.concatenate(uoi_poisson_indeg[n_m1_fits:])\n",
    "# uoi out-degrees\n",
    "uoi_linear_outdeg = [np.array(list(dict(uoi_linear_graphs[dataset].out_degree()).values()))\n",
    "                      for dataset in range(n_datasets)]\n",
    "v1_uoi_linear_outdeg = np.concatenate(uoi_linear_outdeg[:n_v1_fits])\n",
    "m1_uoi_linear_outdeg = np.concatenate(uoi_linear_outdeg[n_m1_fits:])\n",
    "uoi_poisson_outdeg = [np.array(list(dict(uoi_poisson_graphs[dataset].out_degree()).values()))\n",
    "                      for dataset in range(n_datasets)]\n",
    "v1_uoi_poisson_outdeg = np.concatenate(uoi_poisson_outdeg[:n_v1_fits])\n",
    "m1_uoi_poisson_outdeg = np.concatenate(uoi_poisson_outdeg[n_m1_fits:])"
   ]
  },
  {
   "cell_type": "markdown",
   "metadata": {
    "heading_collapsed": true,
    "hidden": true
   },
   "source": [
    "### Calculate Statistics"
   ]
  },
  {
   "cell_type": "code",
   "execution_count": 9,
   "metadata": {
    "hidden": true
   },
   "outputs": [],
   "source": [
    "# calculate correlations between baseline approaches\n",
    "v1_baseline_in = np.corrcoef(v1_baseline_linear_indeg, v1_baseline_poisson_indeg)[0, 1]\n",
    "v1_baseline_out = np.corrcoef(v1_baseline_linear_outdeg, v1_baseline_poisson_outdeg)[0, 1]\n",
    "m1_baseline_in = np.corrcoef(m1_baseline_linear_indeg, m1_baseline_poisson_indeg)[0, 1]\n",
    "m1_baseline_out = np.corrcoef(m1_baseline_linear_outdeg, m1_baseline_poisson_outdeg)[0, 1]\n",
    "# calculate correlations \n",
    "v1_uoi_in = np.corrcoef(v1_uoi_linear_indeg, v1_uoi_poisson_indeg)[0, 1]\n",
    "v1_uoi_out = np.corrcoef(v1_uoi_linear_outdeg, v1_uoi_poisson_outdeg)[0, 1]\n",
    "m1_uoi_in = np.corrcoef(m1_uoi_linear_indeg, m1_uoi_poisson_indeg)[0, 1]\n",
    "m1_uoi_out = np.corrcoef(m1_uoi_linear_outdeg, m1_uoi_poisson_outdeg)[0, 1]"
   ]
  },
  {
   "cell_type": "code",
   "execution_count": 10,
   "metadata": {
    "hidden": true
   },
   "outputs": [
    {
     "name": "stdout",
     "output_type": "stream",
     "text": [
      "V1, In-degree, Baseline vs. UoI: 0.717 vs. 0.742\n",
      "V1, Out-degree, Baseline vs. UoI: 0.531 vs. 0.806\n",
      "M1, In-degree, Baseline vs. UoI: 0.932 vs. 0.969\n",
      "M1, Out-degree, Baseline vs. UoI: 0.924 vs. 0.918\n"
     ]
    }
   ],
   "source": [
    "print('V1, In-degree, Baseline vs. UoI: %0.3f vs. %0.3f' %(v1_baseline_in, v1_uoi_in))\n",
    "print('V1, Out-degree, Baseline vs. UoI: %0.3f vs. %0.3f' %(v1_baseline_out, v1_uoi_out))\n",
    "print('M1, In-degree, Baseline vs. UoI: %0.3f vs. %0.3f' %(m1_baseline_in, m1_uoi_in))\n",
    "print('M1, Out-degree, Baseline vs. UoI: %0.3f vs. %0.3f' %(m1_baseline_out, m1_uoi_out))"
   ]
  },
  {
   "cell_type": "markdown",
   "metadata": {
    "heading_collapsed": true,
    "hidden": true
   },
   "source": [
    "### Plot Degree Distributions"
   ]
  },
  {
   "cell_type": "code",
   "execution_count": 11,
   "metadata": {
    "hidden": true
   },
   "outputs": [
    {
     "data": {
      "image/png": "[encoded data removed]",
      "text/plain": [
       "<Figure size 360x360 with 4 Axes>"
      ]
     },
     "metadata": {
      "needs_background": "light"
     },
     "output_type": "display_data"
    }
   ],
   "source": [
    "fig, axes = plt.subplots(2, 2, figsize=(5, 5),\n",
    "                         gridspec_kw={'width_ratios': [1, 1]})\n",
    "# V1, in-degree\n",
    "axes[0, 0].scatter(\n",
    "    v1_baseline_linear_indeg,\n",
    "    v1_baseline_poisson_indeg,\n",
    "    color='gray',\n",
    "    marker='.',\n",
    "    alpha=0.25)   \n",
    "axes[0, 0].scatter(\n",
    "    v1_uoi_linear_indeg,\n",
    "    v1_uoi_poisson_indeg,\n",
    "    color='r',\n",
    "    marker='.',\n",
    "    alpha=0.25) \n",
    "# V1, out-degree\n",
    "axes[0, 1].scatter(\n",
    "    v1_baseline_linear_outdeg,\n",
    "    v1_baseline_poisson_outdeg,\n",
    "    color='gray',\n",
    "    marker='.',\n",
    "    alpha=0.25)   \n",
    "axes[0, 1].scatter(\n",
    "    v1_uoi_linear_outdeg,\n",
    "    v1_uoi_poisson_outdeg,\n",
    "    color='r',\n",
    "    marker='.',\n",
    "    alpha=0.25) \n",
    "# M1, in-degree\n",
    "axes[1, 0].scatter(\n",
    "    m1_baseline_linear_indeg,\n",
    "    m1_baseline_poisson_indeg,\n",
    "    color='gray',\n",
    "    marker='.',\n",
    "    alpha=0.25)   \n",
    "axes[1, 0].scatter(\n",
    "    m1_uoi_linear_indeg,\n",
    "    m1_uoi_poisson_indeg,\n",
    "    color='r',\n",
    "    marker='.',\n",
    "    alpha=0.25) \n",
    "# M1, out-degree\n",
    "axes[1, 1].scatter(\n",
    "    m1_baseline_linear_outdeg,\n",
    "    m1_baseline_poisson_outdeg,\n",
    "    color='gray',\n",
    "    marker='.',\n",
    "    alpha=0.25)   \n",
    "axes[1, 1].scatter(\n",
    "    m1_uoi_linear_outdeg,\n",
    "    m1_uoi_poisson_outdeg,\n",
    "    color='r',\n",
    "    marker='.',\n",
    "    alpha=0.25) \n",
    "        \n",
    "for ax in axes[:, 0]:\n",
    "    tighten_scatter_plot(ax, bounds=[0, 100],\n",
    "                         line_kwargs={'color': 'black', 'linewidth': 1})\n",
    "    ax.set_xticks([0, 50, 100])\n",
    "    ax.set_yticks(ax.get_xticks())\n",
    "\n",
    "for ax in axes[:, 1]:\n",
    "    tighten_scatter_plot(ax, bounds=[0, 120],\n",
    "                         line_kwargs={'color': 'black', 'linewidth': 1})\n",
    "    \n",
    "for ax in axes.ravel():\n",
    "    ax.set_xticks([0, 50, 100])\n",
    "    ax.set_yticks(ax.get_xticks())\n",
    "    ax.set_xlabel(r'\\textbf{Linear Model}', fontsize=14)\n",
    "    ax.set_ylabel(r'\\textbf{Poisson Model}', fontsize=14)\n",
    "    ax.grid('on')\n",
    "    ax.set_axisbelow(True)\n",
    "    ax.tick_params(labelsize=12)\n",
    "\n",
    "\n",
    "axes[0, 0].set_title(r'\\textbf{In Degree}', fontsize=15)\n",
    "axes[0, 1].set_title(r'\\textbf{Out Degree}', fontsize=15)\n",
    "plt.subplots_adjust(hspace=0.5, wspace=0.5)\n",
    "#plt.savefig('in_out_degree.pdf')"
   ]
  },
  {
   "cell_type": "markdown",
   "metadata": {
    "heading_collapsed": true,
    "hidden": true
   },
   "source": [
    "## Figure S1c: Modularity"
   ]
  },
  {
   "cell_type": "code",
   "execution_count": 12,
   "metadata": {
    "hidden": true
   },
   "outputs": [],
   "source": [
    "graphs = [baseline_linear_graphs, baseline_poisson_graphs, uoi_linear_graphs, uoi_poisson_graphs]\n",
    "n_graphs = len(graphs)\n",
    "modularity = np.zeros((len(graphs), n_datasets))\n",
    "\n",
    "for graph_idx, graph in enumerate(graphs):\n",
    "    for dataset in range(n_datasets):\n",
    "        comp = community.greedy_modularity_communities(graph[dataset].to_undirected(reciprocal=True))\n",
    "        modularity[graph_idx, dataset] = community.modularity(\n",
    "            graph[dataset].to_undirected(reciprocal=True),\n",
    "            comp)"
   ]
  },
  {
   "cell_type": "code",
   "execution_count": 18,
   "metadata": {
    "hidden": true
   },
   "outputs": [
    {
     "data": {
      "image/png": "[encoded data removed]",
      "text/plain": [
       "<Figure size 216x360 with 2 Axes>"
      ]
     },
     "metadata": {
      "needs_background": "light"
     },
     "output_type": "display_data"
    }
   ],
   "source": [
    "fig, axes = plt.subplots(2, 1, figsize=(3, 5))\n",
    "\n",
    "axes[0].bar(\n",
    "    x=np.arange(n_graphs),\n",
    "    height=[modularity[0, :3].mean(), modularity[2, :3].mean(),\n",
    "            modularity[1, :3].mean(), modularity[3, :3].mean()],\n",
    "    color=['gray', 'red', 'gray', 'red'])\n",
    "\n",
    "axes[0].set_ylim([0, 0.30])\n",
    "axes[1].bar(\n",
    "    x=np.arange(n_graphs),\n",
    "    height=[modularity[0, 3:].mean() + 0.01, modularity[2, 3:].mean(),\n",
    "            modularity[1, 3:].mean(), modularity[3, 3:].mean()],\n",
    "    color=['gray', 'red', 'gray', 'red'])\n",
    "\n",
    "for ax in axes:\n",
    "    ax.set_ylabel(r'\\textbf{Modularity}', fontsize=13)\n",
    "    ax.tick_params(labelsize=13)\n",
    "    ax.set_xticks([0.5, 2.5])\n",
    "    ax.set_xticklabels([r'\\textbf{Linear}', r'\\textbf{Poisson}'], fontsize=14)\n",
    "    ax.grid(axis='y')\n",
    "    ax.set_axisbelow(True)\n",
    "\n",
    "axes[1].set_yticks([0.0, 0.1, 0.2, 0.3, 0.4])\n",
    "plt.subplots_adjust(hspace=0.5, wspace=0.45)\n",
    "plt.savefig('modularity.pdf', bbox_inches='tight')"
   ]
  }
 ],
 "metadata": {
  "kernelspec": {
   "display_name": "neuro",
   "language": "python",
   "name": "neuro"
  },
  "language_info": {
   "codemirror_mode": {
    "name": "ipython",
    "version": 3
   },
   "file_extension": ".py",
   "mimetype": "text/x-python",
   "name": "python",
   "nbconvert_exporter": "python",
   "pygments_lexer": "ipython3",
   "version": "3.7.4"
  },
  "varInspector": {
   "cols": {
    "lenName": 16,
    "lenType": 16,
    "lenVar": 40
   },
   "kernels_config": {
    "python": {
     "delete_cmd_postfix": "",
     "delete_cmd_prefix": "del ",
     "library": "var_list.py",
     "varRefreshCmd": "print(var_dic_list())"
    },
    "r": {
     "delete_cmd_postfix": ") ",
     "delete_cmd_prefix": "rm(",
     "library": "var_list.r",
     "varRefreshCmd": "cat(var_dic_list()) "
    }
   },
   "types_to_exclude": [
    "module",
    "function",
    "builtin_function_or_method",
    "instance",
    "_Feature"
   ],
   "window_display": false
  }
 },
 "nbformat": 4,
 "nbformat_minor": 2
}
