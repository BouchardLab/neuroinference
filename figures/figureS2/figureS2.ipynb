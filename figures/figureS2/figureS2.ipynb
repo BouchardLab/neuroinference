{
 "cells": [
  {
   "cell_type": "markdown",
   "metadata": {
    "heading_collapsed": true
   },
   "source": [
    "# Figure S2: Frequency-response areas for tuned and non-tuned electrodes"
   ]
  },
  {
   "cell_type": "code",
   "execution_count": 1,
   "metadata": {
    "hidden": true
   },
   "outputs": [],
   "source": [
    "import h5py\n",
    "import matplotlib.pyplot as plt\n",
    "import numpy as np\n",
    "import os\n",
    "\n",
    "from neuropacks import ECOG\n",
    "\n",
    "%matplotlib inline"
   ]
  },
  {
   "cell_type": "code",
   "execution_count": 2,
   "metadata": {
    "hidden": true
   },
   "outputs": [],
   "source": [
    "# read in data\n",
    "data_path = os.path.join(os.environ['HOME'], 'data/ecog/r32_b7.mat')\n",
    "grid_path = os.path.join(os.environ['HOME'], 'data/ecog/grdid.mat')\n",
    "ecog = ECOG(data_path=data_path, grid_path=grid_path)"
   ]
  },
  {
   "cell_type": "code",
   "execution_count": 3,
   "metadata": {
    "hidden": true
   },
   "outputs": [],
   "source": [
    "# read in model fits\n",
    "fits_path = os.path.join(os.environ['HOME'], 'fits/uoineuro/tuning/ecog/ecog_tuning.h5')\n",
    "fits = h5py.File(fits_path, 'r')"
   ]
  },
  {
   "cell_type": "code",
   "execution_count": 4,
   "metadata": {
    "hidden": true
   },
   "outputs": [],
   "source": [
    "# indices of models for which we calculate FRAs\n",
    "intercept_models = np.array([44, 46, 47, 63])\n",
    "control_models = np.array([76, 23]) # randomly chosen\n",
    "all_models = np.concatenate((intercept_models, control_models))"
   ]
  },
  {
   "cell_type": "code",
   "execution_count": 5,
   "metadata": {
    "hidden": true
   },
   "outputs": [],
   "source": [
    "# get design and response matrices from AC recordings\n",
    "X = ecog.get_design_matrix(form='id', n_gaussians=8)\n",
    "Y = ecog.get_response_matrix(bounds=[40, 60], band='HG')\n",
    "n_amps = ecog.amp_set.size\n",
    "n_freqs = ecog.freq_set.size"
   ]
  },
  {
   "cell_type": "code",
   "execution_count": 6,
   "metadata": {
    "hidden": true
   },
   "outputs": [],
   "source": [
    "fras = np.zeros((all_models.size, n_amps, n_freqs))"
   ]
  },
  {
   "cell_type": "code",
   "execution_count": 7,
   "metadata": {
    "hidden": true
   },
   "outputs": [],
   "source": [
    "# iterate over electrodes, calculating their FRAs\n",
    "for e_idx, electrode in enumerate(all_models):\n",
    "    for amp_idx, amp in enumerate(ecog.amp_set):\n",
    "        for freq_idx, freq in enumerate(ecog.freq_set):\n",
    "            X_id = 100 * amp_idx + freq_idx\n",
    "            mean_resp = np.mean(Y[np.argwhere(X == X_id).ravel(), electrode])\n",
    "            fras[e_idx, amp_idx, freq_idx] = mean_resp"
   ]
  },
  {
   "cell_type": "code",
   "execution_count": 8,
   "metadata": {
    "hidden": true
   },
   "outputs": [
    {
     "data": {
      "image/png": "[encoded data removed]",
      "text/plain": [
       "<Figure size 684x288 with 9 Axes>"
      ]
     },
     "metadata": {
      "needs_background": "light"
     },
     "output_type": "display_data"
    }
   ],
   "source": [
    "# plot FRAs\n",
    "fig, axes = plt.subplots(\n",
    "    2, 4,\n",
    "    figsize=(9.5, 4),\n",
    "    gridspec_kw={'width_ratios': [1, 1, 0.001, 1]}\n",
    ")\n",
    "\n",
    "# FRAs for intercept models\n",
    "for idx, ax in enumerate(axes[:2, :2].ravel()):\n",
    "    # normalize FRA and visualize it\n",
    "    ax.imshow(fras[idx] / np.abs(fras[idx].max()), vmin=-0.02, vmax=1)\n",
    "\n",
    "# FRAs for tuned models\n",
    "img = axes[0, 3].imshow(fras[4] / np.abs(fras[4].max()), vmin=-0.02, vmax=1)\n",
    "axes[1, 3].imshow(fras[5] / np.abs(fras[5].max()), vmin=-0.02, vmax=1)\n",
    "\n",
    "# these two axes are for spacing\n",
    "axes[0, 2].axis('off')\n",
    "axes[1, 2].axis('off')\n",
    "\n",
    "# stylize imshow plots\n",
    "for ax in axes.ravel():\n",
    "    ax.set_aspect(2.)\n",
    "    ax.set_xticks([5, 21])\n",
    "    ax.set_xticklabels([r'$10^3$', r'$10^4$'])\n",
    "    ax.tick_params(labelsize=12)\n",
    "    ax.set_xlabel(r'\\textbf{Frequency}', fontsize=13)\n",
    "    ax.set_ylabel(r'\\textbf{Attenuation}', fontsize=13)\n",
    "    ax.set_yticks([0, 6])\n",
    "    ax.set_yticklabels([r'\\textbf{min}', r'\\textbf{max}'], fontsize=10, rotation=90)\n",
    "\n",
    "# titles\n",
    "fig.text(x=0.27, y=0.96, s=r'\\textbf{Non-tuned}', fontsize=16)\n",
    "fig.text(x=0.825, y=0.96, s=r'\\textbf{Tuned}', fontsize=16)    \n",
    "\n",
    "# colorbar\n",
    "cax = fig.add_axes([1.01, 0.165, 0.02, 0.74])\n",
    "cb = fig.colorbar(img, cax=cax)\n",
    "cb.set_ticks([0, 1])\n",
    "cb.set_ticklabels([r'\\textbf{min}', r'\\textbf{max}'])\n",
    "cb.ax.tick_params(labelsize=15)\n",
    "cb.set_label(r'\\textbf{Response}', fontsize=16, rotation=270, labelpad=-15)\n",
    "\n",
    "plt.tight_layout()\n",
    "plt.savefig('FRAs.pdf', bbox_inches='tight')"
   ]
  }
 ],
 "metadata": {
  "kernelspec": {
   "display_name": "neuro",
   "language": "python",
   "name": "neuro"
  },
  "language_info": {
   "codemirror_mode": {
    "name": "ipython",
    "version": 3
   },
   "file_extension": ".py",
   "mimetype": "text/x-python",
   "name": "python",
   "nbconvert_exporter": "python",
   "pygments_lexer": "ipython3",
   "version": "3.7.4"
  },
  "varInspector": {
   "cols": {
    "lenName": 16,
    "lenType": 16,
    "lenVar": 40
   },
   "kernels_config": {
    "python": {
     "delete_cmd_postfix": "",
     "delete_cmd_prefix": "del ",
     "library": "var_list.py",
     "varRefreshCmd": "print(var_dic_list())"
    },
    "r": {
     "delete_cmd_postfix": ") ",
     "delete_cmd_prefix": "rm(",
     "library": "var_list.r",
     "varRefreshCmd": "cat(var_dic_list()) "
    }
   },
   "types_to_exclude": [
    "module",
    "function",
    "builtin_function_or_method",
    "instance",
    "_Feature"
   ],
   "window_display": false
  }
 },
 "nbformat": 4,
 "nbformat_minor": 2
}
